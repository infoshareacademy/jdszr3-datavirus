{
  "nbformat": 4,
  "nbformat_minor": 0,
  "metadata": {
    "colab": {
      "name": "DL_project.ipynb",
      "provenance": [],
      "collapsed_sections": []
    },
    "kernelspec": {
      "name": "python3",
      "display_name": "Python 3"
    },
    "language_info": {
      "name": "python"
    }
  },
  "cells": [
    {
      "cell_type": "code",
      "metadata": {
        "colab": {
          "base_uri": "https://localhost:8080/"
        },
        "id": "QWtyW-D1WHzL",
        "outputId": "f95e7c06-51d6-46c1-a20f-6e12c1ff5716"
      },
      "source": [
        "from google.colab import drive\n",
        "drive.mount('/content/drive')"
      ],
      "execution_count": null,
      "outputs": [
        {
          "output_type": "stream",
          "text": [
            "Mounted at /content/drive\n"
          ],
          "name": "stdout"
        }
      ]
    },
    {
      "cell_type": "code",
      "metadata": {
        "id": "Ifso9PfUzIwA"
      },
      "source": [
        "import pandas as pd\n",
        "import csv\n",
        "import numpy as np\n",
        "import tensorflow as tf\n",
        "from tensorflow.keras.preprocessing.image import ImageDataGenerator\n",
        "import matplotlib.pyplot as plt\n",
        "import os\n"
      ],
      "execution_count": null,
      "outputs": []
    },
    {
      "cell_type": "code",
      "metadata": {
        "colab": {
          "base_uri": "https://localhost:8080/"
        },
        "id": "RJa626WEBTut",
        "outputId": "6e7b28b6-3bb9-41ef-efb4-123e8eddfde1"
      },
      "source": [
        "from google.colab import drive\n",
        "drive.mount('/content/drive', force_remount=True)"
      ],
      "execution_count": null,
      "outputs": [
        {
          "output_type": "stream",
          "text": [
            "Mounted at /content/drive\n"
          ],
          "name": "stdout"
        }
      ]
    },
    {
      "cell_type": "markdown",
      "metadata": {
        "id": "PHm-Mcgg1aTR"
      },
      "source": [
        "struktura folderów w google drive, żeby zaczytało dane\n",
        "\n",
        "![Screenshot from 2021-07-16 08-48-53.png](data:image/png;base64,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)"
      ]
    },
    {
      "cell_type": "code",
      "metadata": {
        "id": "wwkCX6qsbO-K"
      },
      "source": [
        "class Model():\n",
        "  '''\n",
        "  Each successive line contians 785 comma separated values between 0 and 255\n",
        "  The first value is the label\n",
        "  The rest are the pixel values for that picture\n",
        "  The function, that will return 2 np.array types.\n",
        "  One with all the labels and other with all the images\n",
        "  '''\n",
        "\n",
        "  def __init__(self):\n",
        "    def get_data(filename):\n",
        "      with open(filename) as training_file:\n",
        "        training_reader = csv.reader(training_file, delimiter=',')\n",
        "        image = []\n",
        "        labels = []\n",
        "        line_count = 0\n",
        "        for row in training_reader:\n",
        "            if line_count == 0:\n",
        "                line_count +=1\n",
        "            else:\n",
        "                labels.append(row[0])\n",
        "                temp_image = row[1:785]\n",
        "                image_data_as_array = np.array_split(temp_image, 28)\n",
        "                image.append(image_data_as_array)\n",
        "                line_count += 1\n",
        "        images = np.array(image).astype('float')\n",
        "        labels = np.array(labels).astype('float')\n",
        "        print(f'Processed {line_count} lines.')\n",
        "      return images, labels\n",
        "\n",
        "    self.training_images, self.training_labels = get_data(\"/content/drive/MyDrive/DL-project/sign_mnist_train.csv\")\n",
        "    self.testing_images, self.testing_labels = get_data(\"/content/drive/MyDrive/DL-project/sign_mnist_test.csv\")\n",
        "\n",
        "    print(\"Total Training images\", self.training_images.shape)\n",
        "    print(\"Total Training labels\",self.training_labels.shape)\n",
        "    print(\"Total Testing images\",self.testing_images.shape)\n",
        "    print(\"Total Testing labels\",self.testing_labels.shape)\n",
        "\n",
        "    #Data Augmentation\n",
        "    self.training_images = np.expand_dims(self.training_images, axis = 3)\n",
        "    self.testing_images = np.expand_dims(self.testing_images, axis = 3)\n",
        "\n",
        "    # Create an ImageDataGenerator and do Image Augmentation\n",
        "    self.train_datagen = ImageDataGenerator(rescale=1. / 255,\n",
        "      rotation_range=40,\n",
        "      width_shift_range=0.2,\n",
        "      height_shift_range=0.2,\n",
        "      shear_range=0.2,\n",
        "      zoom_range=0.2,\n",
        "      horizontal_flip=True,\n",
        "      fill_mode='nearest'\n",
        "      )\n",
        "\n",
        "    self.validation_datagen = ImageDataGenerator(rescale=1. / 255 )\n",
        "\n",
        "    self.train_gen = self.train_datagen.flow(\n",
        "      self.training_images,\n",
        "      self.training_labels,\n",
        "      batch_size=20\n",
        "    )\n",
        "\n",
        "    self.val_gen = self.validation_datagen.flow(\n",
        "      self.testing_images,\n",
        "      self.testing_labels,\n",
        "      batch_size=20\n",
        "    )\n",
        "\n",
        "  #function which plots sign using row number    \n",
        "  def show_image(self, row_number):\n",
        "    img = self.training_images[row_number][:].reshape(28,28)\n",
        "    fig = plt.figure(figsize=(8,8))\n",
        "    plt.imshow(img)\n",
        "    plt.title(\"Picture of sign\")\n",
        "    plt.show()\n",
        "  \n",
        "  #function which plots accuracy and loss\n",
        "  def show_results(self):\n",
        "\n",
        "\n",
        "    #function for creating model with some hiperparametrs\n",
        "    #def create_model():\n",
        "\n",
        "    #complite the model\n",
        "    #model.compile(...)\n",
        "\n",
        "    #use the train_gen and val_gen when fiting the model\n",
        "    # Train the Model\n",
        "    '''\n",
        "    self.history = model.fit_generator(train_gen,\n",
        "        epochs=20,\n",
        "        validation_data=val_gen)\n",
        "\n",
        "    model.evaluate(testing_images, testing_labels, verbose=0)\n",
        "    '''\n",
        "\n",
        "    "
      ],
      "execution_count": null,
      "outputs": []
    },
    {
      "cell_type": "code",
      "metadata": {
        "colab": {
          "base_uri": "https://localhost:8080/"
        },
        "id": "_TzxJcVhbYa9",
        "outputId": "6cdc1765-4f64-483a-de66-e7f72db19d39"
      },
      "source": [
        "model=Model()"
      ],
      "execution_count": null,
      "outputs": [
        {
          "output_type": "stream",
          "text": [
            "Processed 27456 lines.\n",
            "Processed 7173 lines.\n",
            "Total Training images (27455, 28, 28)\n",
            "Total Training labels (27455,)\n",
            "Total Testing images (7172, 28, 28)\n",
            "Total Testing labels (7172,)\n"
          ],
          "name": "stdout"
        }
      ]
    },
    {
      "cell_type": "code",
      "metadata": {
        "id": "_xdUoIIRz9p4"
      },
      "source": [
        "model.show_image(18)"
      ],
      "execution_count": null,
      "outputs": []
    },
    {
      "cell_type": "code",
      "metadata": {
        "id": "e7MmZGKDES3a"
      },
      "source": [
        ""
      ],
      "execution_count": null,
      "outputs": []
    }
  ]
}