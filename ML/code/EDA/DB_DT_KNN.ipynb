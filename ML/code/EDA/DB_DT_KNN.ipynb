{
 "cells": [
  {
   "cell_type": "code",
   "execution_count": 40,
   "id": "a0dffa40",
   "metadata": {},
   "outputs": [],
   "source": [
    "#import modules needed to handle data and encoding\n",
    "import pandas as pd\n",
    "import numpy as np\n",
    "from sklearn.preprocessing import OneHotEncoder, OrdinalEncoder, LabelEncoder\n",
    "from sklearn.preprocessing import MinMaxScaler, StandardScaler, RobustScaler\n",
    "from sklearn.model_selection import train_test_split\n",
    "from sklearn.ensemble import RandomForestRegressor, RandomForestClassifier\n",
    "from sklearn.linear_model import LogisticRegression\n",
    "from sklearn.tree import DecisionTreeClassifier\n",
    "from sklearn.svm import SVC\n",
    "from sklearn.neighbors import KNeighborsClassifier\n",
    "from sklearn.metrics import confusion_matrix, classification_report\n",
    "\n",
    "class Model:\n",
    "    def __init__(self, model_type=None):\n",
    "        if model_type=='rf':\n",
    "            self.user_defined_model = RandomForestClassifier(oob_score=True)\n",
    "        elif model_type=='SVC':\n",
    "            self.user_defined_model = SVC(kernel='rbf')\n",
    "        elif model_type=='dt':\n",
    "            self.user_defined_model = DecisionTreeClassifier(max_depth=4 , min_samples_leaf=3)\n",
    "        elif model_type=='KNN':\n",
    "            self.user_defined_model = KNeighborsClassifier(n_neighbors=2,leaf_size=20, algorithm='kd_tree',p=1)\n",
    "        else:\n",
    "            self.user_defined_model = LogisticRegression(random_state=42)\n",
    "    \n",
    "    #read data from file, create data frame\n",
    "    def df(self, datafile):\n",
    "        self.df = pd.read_csv(datafile)\n",
    "    \n",
    "    #create target, encode categories\n",
    "    def create_target(self, column):\n",
    "        self.y = self.df[column]\n",
    "        encoder = LabelEncoder()\n",
    "        encoder.fit(self.y)\n",
    "        new_data = encoder.transform(self.y)\n",
    "        new_data.reshape(-1,1)\n",
    "    \n",
    "    #create data frame with features, drop columns which are unnecessary or are target\n",
    "    def create_X(self, column):\n",
    "        self.X = self.df.drop(columns=column)\n",
    "    \n",
    "    #function which normalize categories number; for more than 4 categories in one column \n",
    "    #it calculates percentage value and for less than 5.5% category name is replaced with 'other'\n",
    "    def categories_normalization(self):\n",
    "        for column in self.X.columns:\n",
    "            if self.X[column].nunique()>4:\n",
    "                cat = self.X[column].unique()\n",
    "                number_for_cat = self.X[column].value_counts()\n",
    "                data_len = len(self.X[column])\n",
    "                list_to_replace = []\n",
    "                for i in range(len(cat)):\n",
    "                    cat_in_perc = round(number_for_cat[i]/data_len*100, 2)\n",
    "                    if cat_in_perc <= 5.5:\n",
    "                        list_to_replace.append(cat[i])\n",
    "                    else:\n",
    "                        pass\n",
    "                self.X[column].replace(to_replace=list_to_replace, value='other', inplace=True)\n",
    "            else:\n",
    "                pass\n",
    "\n",
    "    #function which takes data frame, column name and scaler name and return data frame \n",
    "    #with encoded column using specified scaler        \n",
    "    def data_scaler(self, column_header, scaler_name):\n",
    "        column = np.array(self.X[column_header]).reshape(-1,1)\n",
    "        scaler = scaler_name()\n",
    "        scaler.fit(column)\n",
    "        new_data = scaler.transform(column)\n",
    "        self.X[column_header + \"_scal\"] = pd.Series(new_data[:,0])\n",
    "        self.X.drop(columns=column_header, inplace=True)\n",
    "    \n",
    "    #function which takes data frame, column name and encoder name and return data frame \n",
    "    #with encoded column using specified encoder\n",
    "    def data_encoder(self, encoding_function_name):\n",
    "        for column in self.X.columns:\n",
    "            if encoding_function_name==OneHotEncoder:\n",
    "                column_ = np.array(self.X[column]).reshape(-1,1)\n",
    "                encoder = encoding_function_name(sparse=False)\n",
    "                encoder.fit(column_)\n",
    "                categories = encoder.categories_\n",
    "                new_data = encoder.transform(column_)\n",
    "                for i in range(len(categories[0])):\n",
    "                    self.X[column + \"_\" + categories[0][i]] = pd.Series(new_data[:,i])\n",
    "                self.X.drop(columns=column, inplace=True)\n",
    "            elif encoding_function_name==LabelEncoder:\n",
    "                column_ = self.X[column]\n",
    "                encoder = encoding_function_name()\n",
    "                encoder.fit(column_)\n",
    "                new_data = encoder.transform(column_)\n",
    "                new_data.reshape(-1,1)\n",
    "                self.X[column + \"_enc\"] = pd.Series(new_data)\n",
    "                self.X.drop(columns=column, inplace=True)\n",
    "            elif encoding_function_name==OrdinalEncoder:\n",
    "                column_ = np.array(self.X[column]).reshape(-1,1)\n",
    "                encoder = encoding_function_name()\n",
    "                encoder.fit(column_)\n",
    "                new_data = encoder.transform(column_)\n",
    "                self.X[column + \"_enc\"] = pd.Series(new_data[:,0])\n",
    "                self.X.drop(columns=column, inplace=True)\n",
    "            else:\n",
    "                print(\"Encoder is not specified in function\")\n",
    "        \n",
    "    def split(self, test_size):\n",
    "        self.X_train, self.X_test, self.y_train, self.y_test = train_test_split(self.X, self.y, test_size = test_size, random_state = 42, shuffle=True)\n",
    "\n",
    "    def fit(self):\n",
    "        self.model = self.user_defined_model.fit(self.X_train, self.y_train)\n",
    "    \n",
    "    def predict(self):\n",
    "        result = self.user_defined_model.predict(self.X_test)\n",
    "        return result\n",
    "    \n",
    "    #checking score of chosen model on test data\n",
    "    def score(self):\n",
    "        m_score = self.model.score(self.X_test, self.y_test)\n",
    "        return f\"Accuracy score for model is {m_score}\""
   ]
  },
  {
   "cell_type": "code",
   "execution_count": 34,
   "id": "39df55be",
   "metadata": {},
   "outputs": [
    {
     "data": {
      "text/plain": [
       "'Accuracy score for model is 1.0'"
      ]
     },
     "execution_count": 34,
     "metadata": {},
     "output_type": "execute_result"
    }
   ],
   "source": [
    "#Random forest model\n",
    "model_instance = Model(model_type='rf')\n",
    "model_instance.df(\"mushrooms.csv\")\n",
    "model_instance.create_target(\"class\")\n",
    "model_instance.create_X([\"class\", \"gill-attachment\", \"stalk-root\", \"stalk-surface-above-ring\", \"stalk-surface-below-ring\", \n",
    "                      \"stalk-color-above-ring\", \"stalk-color-below-ring\", \"veil-type\", \"veil-color\", \"spore-print-color\"])\n",
    "model_instance.categories_normalization()\n",
    "model_instance.data_encoder(OneHotEncoder)\n",
    "model_instance.split(0.2)\n",
    "model_instance.fit()\n",
    "model_instance.predict()\n",
    "model_instance.score()"
   ]
  },
  {
   "cell_type": "code",
   "execution_count": 35,
   "id": "41077f61",
   "metadata": {},
   "outputs": [
    {
     "data": {
      "text/plain": [
       "'Accuracy score for model is 0.9981538461538462'"
      ]
     },
     "execution_count": 35,
     "metadata": {},
     "output_type": "execute_result"
    }
   ],
   "source": [
    "#Logistic regression model\n",
    "model_instance2 = Model()\n",
    "model_instance2.df(\"mushrooms.csv\")\n",
    "model_instance2.create_target(\"class\")\n",
    "model_instance2.create_X([\"class\", \"gill-attachment\", \"stalk-root\", \"stalk-surface-above-ring\", \"stalk-surface-below-ring\", \n",
    "                      \"stalk-color-above-ring\", \"stalk-color-below-ring\", \"veil-type\", \"veil-color\", \"spore-print-color\"])\n",
    "model_instance2.categories_normalization()\n",
    "model_instance2.data_encoder(OneHotEncoder)\n",
    "model_instance2.split(0.2)\n",
    "model_instance2.fit()\n",
    "model_instance2.predict()\n",
    "model_instance2.score()"
   ]
  },
  {
   "cell_type": "code",
   "execution_count": 36,
   "id": "0bb279af",
   "metadata": {},
   "outputs": [
    {
     "data": {
      "text/plain": [
       "'Accuracy score for model is 1.0'"
      ]
     },
     "execution_count": 36,
     "metadata": {},
     "output_type": "execute_result"
    }
   ],
   "source": [
    "#SVC rbf model\n",
    "model_instance3 = Model(\"SVC\")\n",
    "model_instance3.df(\"mushrooms.csv\")\n",
    "model_instance3.create_target(\"class\")\n",
    "model_instance3.create_X([\"class\", \"gill-attachment\", \"stalk-root\", \"stalk-surface-above-ring\", \"stalk-surface-below-ring\", \n",
    "                      \"stalk-color-above-ring\", \"stalk-color-below-ring\", \"veil-type\", \"veil-color\", \"spore-print-color\"])\n",
    "model_instance3.categories_normalization()\n",
    "model_instance3.data_encoder(OneHotEncoder)\n",
    "model_instance3.split(0.2)\n",
    "model_instance3.fit()\n",
    "model_instance3.predict()\n",
    "model_instance3.score()"
   ]
  },
  {
   "cell_type": "code",
   "execution_count": 37,
   "id": "bb417eab",
   "metadata": {},
   "outputs": [
    {
     "data": {
      "text/plain": [
       "'Accuracy score for model is 0.9993846153846154'"
      ]
     },
     "execution_count": 37,
     "metadata": {},
     "output_type": "execute_result"
    }
   ],
   "source": [
    "#KNN model\n",
    "model_instance4 = Model(\"KNN\")\n",
    "model_instance4.df(\"mushrooms.csv\")\n",
    "model_instance4.create_target(\"class\")\n",
    "model_instance4.create_X([\"class\", \"gill-attachment\", \"stalk-root\", \"stalk-surface-above-ring\", \"stalk-surface-below-ring\", \n",
    "                      \"stalk-color-above-ring\", \"stalk-color-below-ring\", \"veil-type\", \"veil-color\", \"spore-print-color\"])\n",
    "model_instance4.categories_normalization()\n",
    "model_instance4.data_encoder(OneHotEncoder)\n",
    "model_instance4.split(0.2)\n",
    "model_instance4.fit()\n",
    "model_instance4.predict()\n",
    "model_instance4.score()"
   ]
  },
  {
   "cell_type": "code",
   "execution_count": 42,
   "id": "c1480db5",
   "metadata": {},
   "outputs": [
    {
     "data": {
      "text/plain": [
       "'Accuracy score for model is 0.9895384615384616'"
      ]
     },
     "execution_count": 42,
     "metadata": {},
     "output_type": "execute_result"
    }
   ],
   "source": [
    "#Decision Tree model\n",
    "model_instance5 = Model(\"dt\")\n",
    "model_instance5.df(\"mushrooms.csv\")\n",
    "model_instance5.create_target(\"class\")\n",
    "model_instance5.create_X([\"class\", \"gill-attachment\", \"stalk-root\", \"stalk-surface-above-ring\", \"stalk-surface-below-ring\", \n",
    "                      \"stalk-color-above-ring\", \"stalk-color-below-ring\", \"veil-type\", \"veil-color\", \"spore-print-color\"])\n",
    "model_instance5.categories_normalization()\n",
    "model_instance5.data_encoder(OneHotEncoder)\n",
    "model_instance5.split(0.2)\n",
    "model_instance5.fit()\n",
    "model_instance5.predict()\n",
    "model_instance5.score()"
   ]
  }
 ],
 "metadata": {
  "kernelspec": {
   "display_name": "Python 3",
   "language": "python",
   "name": "python3"
  },
  "language_info": {
   "codemirror_mode": {
    "name": "ipython",
    "version": 3
   },
   "file_extension": ".py",
   "mimetype": "text/x-python",
   "name": "python",
   "nbconvert_exporter": "python",
   "pygments_lexer": "ipython3",
   "version": "3.7.10"
  }
 },
 "nbformat": 4,
 "nbformat_minor": 5
}
