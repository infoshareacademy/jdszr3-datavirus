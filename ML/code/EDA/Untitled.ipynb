{
 "cells": [
  {
   "cell_type": "code",
   "execution_count": null,
   "id": "5728bf10",
   "metadata": {},
   "outputs": [],
   "source": []
  },
  {
   "cell_type": "code",
   "execution_count": null,
   "id": "c9e179b8",
   "metadata": {},
   "outputs": [],
   "source": [
    "# from sklearn.ensemble import RandomForestClassifier, GradientBoostingClassifier\n",
    "# from sklearn.svm import LinearSVC, SVC,NuSVC\n",
    "# from sklearn.tree import DecisionTreeClassifier\n",
    "\n",
    "# models = {\n",
    "#     \"RandomForestClassifier\":{\"model\":RandomForestClassifier() },\n",
    "#     \"LogisticRegression\":{\"model\":LogisticRegression() },\n",
    "#     \"SVC\":{\"model\":SVC() }, \n",
    "#     \"DecisionTreeClassifier\":{\"model\":DecisionTreeClassifier() },\n",
    "#     \"KNeighborsClassifier\":{\"model\":KNeighborsClassifier() }\n",
    "# }"
   ]
  },
  {
   "cell_type": "code",
   "execution_count": null,
   "id": "e06cf74e",
   "metadata": {},
   "outputs": [],
   "source": [
    "# from sklearn.model_selection import cross_validate\n",
    "# # 10-fold cross validation for each model\n",
    "# # to get the mean validation accuracy and the mean training time\n",
    "# for name, m in models.items():\n",
    "#     # Cross validation of the model\n",
    "#     model = m['model']\n",
    "#     result = cross_validate(model, X_train,y_train,cv = 10)\n",
    "    \n",
    "#     # Mean accuracy and mean training time\n",
    "#     mean_val_accuracy = round( sum(result['test_score']) / len(result['test_score']), 4)\n",
    "#     mean_fit_time = round( sum(result['fit_time']) / len(result['fit_time']), 4)\n",
    "    \n",
    "#     # Add the result to the dictionary witht he models\n",
    "#     m['val_accuracy'] = mean_val_accuracy\n",
    "#     m['Training time (sec)'] = mean_fit_time\n",
    "    \n",
    "#     # Display the result\n",
    "#     print(f\"{name:17} mean accuracy using 10-fold cross validation: {mean_val_accuracy*100:.2f}% - mean training time {mean_fit_time} sec\")"
   ]
  },
  {
   "cell_type": "code",
   "execution_count": null,
   "id": "e98cd7ec",
   "metadata": {},
   "outputs": [],
   "source": []
  },
  {
   "cell_type": "code",
   "execution_count": null,
   "id": "3f0031af",
   "metadata": {},
   "outputs": [],
   "source": []
  }
 ],
 "metadata": {
  "kernelspec": {
   "display_name": "Python 3",
   "language": "python",
   "name": "python3"
  },
  "language_info": {
   "codemirror_mode": {
    "name": "ipython",
    "version": 3
   },
   "file_extension": ".py",
   "mimetype": "text/x-python",
   "name": "python",
   "nbconvert_exporter": "python",
   "pygments_lexer": "ipython3",
   "version": "3.7.10"
  }
 },
 "nbformat": 4,
 "nbformat_minor": 5
}
