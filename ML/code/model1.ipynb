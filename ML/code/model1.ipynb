{
 "metadata": {
  "language_info": {
   "codemirror_mode": {
    "name": "ipython",
    "version": 3
   },
   "file_extension": ".py",
   "mimetype": "text/x-python",
   "name": "python",
   "nbconvert_exporter": "python",
   "pygments_lexer": "ipython3",
   "version": "3.8.3"
  },
  "orig_nbformat": 2,
  "kernelspec": {
   "name": "python383jvsc74a57bd00062e047125ebb5108b603169bc21de4af15d4941600a121f270f5b23dba400b",
   "display_name": "Python 3.8.3 64-bit ('base': conda)"
  }
 },
 "nbformat": 4,
 "nbformat_minor": 2,
 "cells": [
  {
   "cell_type": "code",
   "execution_count": 5,
   "metadata": {},
   "outputs": [
    {
     "output_type": "stream",
     "name": "stdout",
     "text": [
      "   class_e  class_p  cap-shape_b  cap-shape_f  cap-shape_other  cap-shape_s  \\\n0      0.0      1.0          0.0          0.0              0.0          0.0   \n1      1.0      0.0          0.0          0.0              0.0          0.0   \n2      1.0      0.0          1.0          0.0              0.0          0.0   \n3      0.0      1.0          0.0          0.0              0.0          0.0   \n4      1.0      0.0          0.0          0.0              0.0          0.0   \n\n   cap-shape_x  cap-surface_f  cap-surface_g  cap-surface_s  ...  \\\n0          1.0            0.0            0.0            1.0  ...   \n1          1.0            0.0            0.0            1.0  ...   \n2          0.0            0.0            0.0            1.0  ...   \n3          1.0            0.0            0.0            0.0  ...   \n4          1.0            0.0            0.0            1.0  ...   \n\n   spore-print-color_u  population_a  population_n  population_other  \\\n0                  0.0           0.0           0.0               0.0   \n1                  0.0           0.0           1.0               0.0   \n2                  0.0           0.0           1.0               0.0   \n3                  0.0           0.0           0.0               0.0   \n4                  0.0           1.0           0.0               0.0   \n\n   population_s  habitat_d  habitat_g  habitat_m  habitat_other  habitat_u  \n0           1.0        0.0        0.0        0.0            0.0        1.0  \n1           0.0        0.0        1.0        0.0            0.0        0.0  \n2           0.0        0.0        0.0        1.0            0.0        0.0  \n3           1.0        0.0        0.0        0.0            0.0        1.0  \n4           0.0        0.0        1.0        0.0            0.0        0.0  \n\n[5 rows x 89 columns]\n"
     ]
    }
   ],
   "source": [
    "import pandas as pd\n",
    "from sklearn.model_selection import train_test_split\n",
    "import numpy as np\n",
    "\n",
    "class Model:\n",
    "    def __init__(self, datafile, model_type):\n",
    "        self.df = pd.read_csv(datafile)\n",
    "\n",
    "\n",
    "if __name__ == '__main__':\n",
    "    model_instance = Model(\"data.csv\")\n",
    "    print(model_instance.df.head())"
   ]
  },
  {
   "cell_type": "code",
   "execution_count": null,
   "metadata": {},
   "outputs": [],
   "source": []
  }
 ]
}