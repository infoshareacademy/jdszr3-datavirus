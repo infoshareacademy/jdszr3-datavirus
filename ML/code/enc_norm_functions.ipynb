{
 "cells": [
  {
   "cell_type": "code",
   "execution_count": 1,
   "metadata": {},
   "outputs": [],
   "source": [
    "#import modules needed to handle data and encoding\n",
    "import pandas as pd\n",
    "import numpy as np\n",
    "from sklearn.preprocessing import OneHotEncoder, OrdinalEncoder, LabelEncoder\n",
    "from sklearn.preprocessing import MinMaxScaler, StandardScaler, RobustScaler\n",
    "from sklearn.model_selection import train_test_split\n",
    "from sklearn.ensemble import RandomForestRegressor, RandomForestClassifier\n",
    "from sklearn.linear_model import LogisticRegression\n",
    "from sklearn.metrics import confusion_matrix, classification_report"
   ]
  },
  {
   "cell_type": "code",
   "execution_count": 2,
   "metadata": {},
   "outputs": [],
   "source": [
    "#ml project read data from csv file\n",
    "df = pd.read_csv(\"mushrooms.csv\")"
   ]
  },
  {
   "cell_type": "code",
   "execution_count": 3,
   "metadata": {},
   "outputs": [
    {
     "name": "stdout",
     "output_type": "stream",
     "text": [
      "<class 'pandas.core.frame.DataFrame'>\n",
      "RangeIndex: 8124 entries, 0 to 8123\n",
      "Data columns (total 23 columns):\n",
      " #   Column                    Non-Null Count  Dtype \n",
      "---  ------                    --------------  ----- \n",
      " 0   class                     8124 non-null   object\n",
      " 1   cap-shape                 8124 non-null   object\n",
      " 2   cap-surface               8124 non-null   object\n",
      " 3   cap-color                 8124 non-null   object\n",
      " 4   bruises                   8124 non-null   object\n",
      " 5   odor                      8124 non-null   object\n",
      " 6   gill-attachment           8124 non-null   object\n",
      " 7   gill-spacing              8124 non-null   object\n",
      " 8   gill-size                 8124 non-null   object\n",
      " 9   gill-color                8124 non-null   object\n",
      " 10  stalk-shape               8124 non-null   object\n",
      " 11  stalk-root                8124 non-null   object\n",
      " 12  stalk-surface-above-ring  8124 non-null   object\n",
      " 13  stalk-surface-below-ring  8124 non-null   object\n",
      " 14  stalk-color-above-ring    8124 non-null   object\n",
      " 15  stalk-color-below-ring    8124 non-null   object\n",
      " 16  veil-type                 8124 non-null   object\n",
      " 17  veil-color                8124 non-null   object\n",
      " 18  ring-number               8124 non-null   object\n",
      " 19  ring-type                 8124 non-null   object\n",
      " 20  spore-print-color         8124 non-null   object\n",
      " 21  population                8124 non-null   object\n",
      " 22  habitat                   8124 non-null   object\n",
      "dtypes: object(23)\n",
      "memory usage: 1.4+ MB\n"
     ]
    }
   ],
   "source": [
    "#check general info for data frame\n",
    "df.info()"
   ]
  },
  {
   "cell_type": "code",
   "execution_count": 4,
   "metadata": {},
   "outputs": [
    {
     "data": {
      "text/plain": [
       "class                        2\n",
       "cap-shape                    6\n",
       "cap-surface                  4\n",
       "cap-color                   10\n",
       "bruises                      2\n",
       "odor                         9\n",
       "gill-attachment              2\n",
       "gill-spacing                 2\n",
       "gill-size                    2\n",
       "gill-color                  12\n",
       "stalk-shape                  2\n",
       "stalk-root                   5\n",
       "stalk-surface-above-ring     4\n",
       "stalk-surface-below-ring     4\n",
       "stalk-color-above-ring       9\n",
       "stalk-color-below-ring       9\n",
       "veil-type                    1\n",
       "veil-color                   4\n",
       "ring-number                  3\n",
       "ring-type                    5\n",
       "spore-print-color            9\n",
       "population                   6\n",
       "habitat                      7\n",
       "dtype: int64"
      ]
     },
     "execution_count": 4,
     "metadata": {},
     "output_type": "execute_result"
    }
   ],
   "source": [
    "#check number of unique categories for each column\n",
    "df.nunique()"
   ]
  },
  {
   "cell_type": "code",
   "execution_count": 5,
   "metadata": {},
   "outputs": [],
   "source": [
    "#prepare data for ml, removing columns which can be confusing for user to set proper values for\n",
    "X = df.drop(columns=[\"class\", \"gill-attachment\", \"stalk-root\", \"stalk-surface-above-ring\", \"stalk-surface-below-ring\", \n",
    "                      \"stalk-color-above-ring\", \"stalk-color-below-ring\", \"veil-type\", \"veil-color\", \"spore-print-color\"])"
   ]
  },
  {
   "cell_type": "code",
   "execution_count": 6,
   "metadata": {},
   "outputs": [],
   "source": [
    "#function which normalize categories number; for more than 4 categories in one column \n",
    "#it calculates percentage value and for less than 5.5% category name is replaced with 'other'\n",
    "def categories_normalization(data, column):\n",
    "    if data[column].nunique()>4:\n",
    "        cat = data[column].unique()\n",
    "        number_for_cat = data[column].value_counts()\n",
    "        data_len = len(data[column])\n",
    "        list_to_replace = []\n",
    "        for i in range(len(cat)):\n",
    "            cat_in_perc = round(number_for_cat[i]/data_len*100, 2)\n",
    "            if cat_in_perc <= 5.5:\n",
    "                list_to_replace.append(cat[i])\n",
    "            else:\n",
    "                pass\n",
    "        data[column].replace(to_replace=list_to_replace, value='other', inplace=True)\n",
    "    else:\n",
    "        pass\n",
    "    return data"
   ]
  },
  {
   "cell_type": "code",
   "execution_count": 7,
   "metadata": {},
   "outputs": [],
   "source": [
    "#function which takes data frame, column name and scaler name and return data frame \n",
    "#with encoded column using specified scaler\n",
    "def data_scaler(data, column_header, scaler_name):\n",
    "    column = np.array(data[column_header]).reshape(-1,1)\n",
    "    scaler = scaler_name()\n",
    "    scaler.fit(column)\n",
    "    new_data = scaler.transform(column)\n",
    "    data[column_header + \"_scal\"] = pd.Series(new_data[:,0])\n",
    "    data.drop(columns=column_header, inplace=True)\n",
    "    return data"
   ]
  },
  {
   "cell_type": "code",
   "execution_count": 8,
   "metadata": {},
   "outputs": [],
   "source": [
    "#function which takes data frame, column name and encoder name and return data frame \n",
    "#with encoded column using specified encoder\n",
    "def data_encoder(data, column_header, encoding_function_name):\n",
    "    if encoding_function_name==OneHotEncoder:\n",
    "        column = np.array(data[column_header]).reshape(-1,1)\n",
    "        encoder = encoding_function_name(sparse=False)\n",
    "        encoder.fit(column)\n",
    "        categories = encoder.categories_\n",
    "        new_data = encoder.transform(column)\n",
    "        for i in range(len(categories[0])):\n",
    "            data[column_header + \"_\" + categories[0][i]] = pd.Series(new_data[:,i])\n",
    "        data.drop(columns=column_header, inplace=True)\n",
    "    elif encoding_function_name==LabelEncoder:\n",
    "        column = data[column_header]\n",
    "        encoder = encoding_function_name()\n",
    "        encoder.fit(column)\n",
    "        new_data = encoder.transform(column)\n",
    "        new_data.reshape(-1,1)\n",
    "        data[column_header + \"_enc\"] = pd.Series(new_data)\n",
    "        data.drop(columns=column_header, inplace=True)\n",
    "    elif encoding_function_name==OrdinalEncoder:\n",
    "        column = np.array(data[column_header]).reshape(-1,1)\n",
    "        encoder = encoding_function_name()\n",
    "        encoder.fit(column)\n",
    "        new_data = encoder.transform(column)\n",
    "        data[column_header + \"_enc\"] = pd.Series(new_data[:,0])\n",
    "        data.drop(columns=column_header, inplace=True)\n",
    "    else:\n",
    "        print(\"Encoder is not specified in function\")\n",
    "    return data"
   ]
  },
  {
   "cell_type": "code",
   "execution_count": 9,
   "metadata": {},
   "outputs": [],
   "source": [
    "#encoder original categories and create target for ml with LabelEncoder\n",
    "data_encoder(df, \"class\", LabelEncoder)\n",
    "y = df[\"class_enc\"]"
   ]
  },
  {
   "cell_type": "code",
   "execution_count": 10,
   "metadata": {},
   "outputs": [],
   "source": [
    "#change categories if they're very low in percentage for whole data frame\n",
    "for column in X.columns:\n",
    "    categories_normalization(X, column)"
   ]
  },
  {
   "cell_type": "code",
   "execution_count": 11,
   "metadata": {},
   "outputs": [],
   "source": [
    "#encode whole df with OneHotEncoder as we only have categorical data\n",
    "for column in X.columns:\n",
    "    data_encoder(X, column, OneHotEncoder)"
   ]
  },
  {
   "cell_type": "code",
   "execution_count": 12,
   "metadata": {},
   "outputs": [],
   "source": [
    "#create an instance of a logistic regression\n",
    "log_reg = LogisticRegression()"
   ]
  },
  {
   "cell_type": "code",
   "execution_count": 13,
   "metadata": {},
   "outputs": [],
   "source": [
    "#split into training and test\n",
    "X_train, X_test, y_train, y_test = train_test_split(X, y, test_size=.2)"
   ]
  },
  {
   "cell_type": "code",
   "execution_count": 14,
   "metadata": {},
   "outputs": [
    {
     "name": "stdout",
     "output_type": "stream",
     "text": [
      "Mean accuracy for train set: \n",
      " 0.9987692307692307\n",
      "Confusion matrix: \n",
      "  [[870   0]\n",
      " [  2 753]]\n",
      "Classification report: \n",
      "               precision    recall  f1-score   support\n",
      "\n",
      "           0       1.00      1.00      1.00       870\n",
      "           1       1.00      1.00      1.00       755\n",
      "\n",
      "    accuracy                           1.00      1625\n",
      "   macro avg       1.00      1.00      1.00      1625\n",
      "weighted avg       1.00      1.00      1.00      1625\n",
      "\n"
     ]
    }
   ],
   "source": [
    "#fit the data\n",
    "log_reg.fit(X_train, y_train)\n",
    "predictions = log_reg.predict(X_test)\n",
    "\n",
    "# Calculate predictions confusion matrix\n",
    "print(\"Mean accuracy for train set: \\n\", log_reg.score(X_test, y_test))\n",
    "print(\"Confusion matrix: \\n \", confusion_matrix(y_test, predictions))\n",
    "print(\"Classification report: \\n\", classification_report(y_test, predictions))"
   ]
  },
  {
   "cell_type": "code",
   "execution_count": 15,
   "metadata": {},
   "outputs": [
    {
     "name": "stdout",
     "output_type": "stream",
     "text": [
      "0.992\n"
     ]
    }
   ],
   "source": [
    "from sklearn.model_selection import cross_val_score\n",
    "print(cross_val_score(LogisticRegression(), X_test, y_test).mean())"
   ]
  }
 ],
 "metadata": {
  "kernelspec": {
   "display_name": "Python 3",
   "language": "python",
   "name": "python3"
  },
  "language_info": {
   "codemirror_mode": {
    "name": "ipython",
    "version": 3
   },
   "file_extension": ".py",
   "mimetype": "text/x-python",
   "name": "python",
   "nbconvert_exporter": "python",
   "pygments_lexer": "ipython3",
   "version": "3.8.5"
  }
 },
 "nbformat": 4,
 "nbformat_minor": 4
}
