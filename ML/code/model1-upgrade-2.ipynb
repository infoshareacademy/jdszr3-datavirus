{
 "cells": [
  {
   "cell_type": "code",
   "execution_count": 171,
   "metadata": {},
   "outputs": [],
   "source": [
    "#import modules needed to handle data and encoding\n",
    "import pandas as pd\n",
    "import numpy as np\n",
    "import seaborn as sns\n",
    "from sklearn.preprocessing import OneHotEncoder, OrdinalEncoder, LabelEncoder, MinMaxScaler, StandardScaler, RobustScaler\n",
    "from sklearn.model_selection import train_test_split, GridSearchCV\n",
    "from sklearn.ensemble import RandomForestRegressor, RandomForestClassifier\n",
    "from sklearn.tree import DecisionTreeClassifier\n",
    "from sklearn.linear_model import LogisticRegression\n",
    "from sklearn.svm import SVC\n",
    "from sklearn.neighbors import KNeighborsClassifier\n",
    "from sklearn.metrics import confusion_matrix, classification_report, f1_score, accuracy_score\n",
    "from openpyxl import load_workbook\n",
    "\n",
    "class Model:\n",
    "    def __init__(self, datafile, target):\n",
    "        #inicialization class object, and also creating the target dataset\n",
    "        self.df = pd.read_csv(datafile)\n",
    "        self.y=self.df[target]\n",
    "        encoder = LabelEncoder()\n",
    "        encoder.fit(self.y)\n",
    "        new_data = encoder.transform(self.y)\n",
    "        new_data.reshape(-1,1)\n",
    "        self.y=new_data\n",
    "            \n",
    "    \n",
    "    #create data frame with features, drop columns which are unnecessary or are target\n",
    "    def create_X(self, column):\n",
    "        self.X = self.df.drop(columns=column)\n",
    "    \n",
    "    #function which normalize categories number; for more than 4 categories in one column \n",
    "    #it calculates percentage value and for less than 5.5% category name is replaced with 'other'\n",
    "    def categories_normalization(self):\n",
    "        for column in self.X.columns:\n",
    "            if self.X[column].nunique()>4:\n",
    "                cat = self.X[column].unique()\n",
    "                number_for_cat = self.X[column].value_counts()\n",
    "                data_len = len(self.X[column])\n",
    "                list_to_replace = []\n",
    "                for i in range(len(cat)):\n",
    "                    cat_in_perc = round(number_for_cat[i]/data_len*100, 2)\n",
    "                    if cat_in_perc <= 5.5:\n",
    "                        list_to_replace.append(cat[i])\n",
    "                    else:\n",
    "                        pass\n",
    "                self.X[column].replace(to_replace=list_to_replace, value='other', inplace=True)\n",
    "            else:\n",
    "                pass\n",
    "\n",
    "    #function which takes data frame, column name and scaler name and return data frame \n",
    "    #with encoded column using specified scaler        \n",
    "    def data_scaler(self, column_header, scaler_name):\n",
    "        column = np.array(self.X[column_header]).reshape(-1,1)\n",
    "        scaler = scaler_name()\n",
    "        scaler.fit(column)\n",
    "        new_data = scaler.transform(column)\n",
    "        self.X[column_header + \"_scal\"] = pd.Series(new_data[:,0])\n",
    "        self.X.drop(columns=column_header, inplace=True)\n",
    "    \n",
    "    #function which takes data frame, column name and encoder name and return data frame \n",
    "    #with encoded column using specified encoder\n",
    "    def data_encoder(self, encoding_function_name):\n",
    "        for column in self.X.columns:\n",
    "            if encoding_function_name==OneHotEncoder:\n",
    "                column_ = np.array(self.X[column]).reshape(-1,1)\n",
    "                encoder = encoding_function_name(sparse=False)\n",
    "                encoder.fit(column_)\n",
    "                categories = encoder.categories_\n",
    "                new_data = encoder.transform(column_)\n",
    "                for i in range(len(categories[0])):\n",
    "                    self.X[column + \"_\" + categories[0][i]] = pd.Series(new_data[:,i])\n",
    "                self.X.drop(columns=column, inplace=True)\n",
    "            elif encoding_function_name==LabelEncoder:\n",
    "                column_ = self.X[column]\n",
    "                encoder = encoding_function_name()\n",
    "                encoder.fit(column_)\n",
    "                new_data = encoder.transform(column_)\n",
    "                new_data.reshape(-1,1)\n",
    "                self.X[column + \"_enc\"] = pd.Series(new_data)\n",
    "                self.X.drop(columns=column, inplace=True)\n",
    "            elif encoding_function_name==OrdinalEncoder:\n",
    "                column_ = np.array(self.X[column]).reshape(-1,1)\n",
    "                encoder = encoding_function_name()\n",
    "                encoder.fit(column_)\n",
    "                new_data = encoder.transform(column_)\n",
    "                self.X[column + \"_enc\"] = pd.Series(new_data[:,0])\n",
    "                self.X.drop(columns=column, inplace=True)\n",
    "            else:\n",
    "                print(\"Encoder is not specified in function\")\n",
    "    \n",
    "\n",
    "    #function for chossing type of model and inicialization of model\n",
    "    def choose_model(self, model_type=None, params={}): #params dict with key, values, we trust user to use proper\n",
    "        if model_type=='rf':\n",
    "            self.user_defined_model = RandomForestClassifier(**params)\n",
    "        elif model_type=='lg':\n",
    "            self.user_defined_model = LogisticRegression(**params)\n",
    "        elif model_type=='svc':\n",
    "            self.user_defined_model = SVC(kernel='rbf', **params)\n",
    "        elif model_type=='dt':\n",
    "            self.user_defined_model = DecisionTreeClassifier(**params)\n",
    "        elif model_type=='knn':\n",
    "            self.user_defined_model = KNeighborsClassifier(**params)\n",
    "        else:\n",
    "            self.user_defined_model = RandomForestClassifier(**params)\n",
    "    \n",
    "\n",
    "    #function which split the target and features into test and training datasets, as inputs it get target, features and test_size\n",
    "    def split(self, test_size):\n",
    "        self.X_train, self.X_test, self.y_train, self.y_test = train_test_split(self.X, self.y, test_size = test_size, random_state = 42, shuffle=True)\n",
    "\n",
    "    #function for training model, which takes the training datasets\n",
    "    def fit(self):\n",
    "        self.model = self.user_defined_model.fit(self.X_train, self.y_train)\n",
    "        \n",
    "    \n",
    "    #function for predictions, takes the test datasets\n",
    "    def predict(self):\n",
    "        self.result = self.model.predict(self.X_test)\n",
    "\n",
    "    #function which allows identifying best parameters for specified model\n",
    "    def grid_search_best(self, params={}):\n",
    "        grid_search = GridSearchCV(self.user_defined_model, param_grid=params, cv=5, verbose=1)\n",
    "        grid_search.fit(self.X_train, self.y_train)\n",
    "        return grid_search.best_params_\n",
    "    \n",
    "    #function which added the rest function used for modeling, fit, predict and score - run one function instead of 3\n",
    "    def run_model(self):\n",
    "        self.fit()\n",
    "        self.predict()\n",
    "        self.score()\n",
    "    \n",
    "    #checking score of chosen model for test data\n",
    "    def score(self):\n",
    "        m_score_train= self.model.score(self.X_train,self.y_train)\n",
    "        m_score_test = self.model.score(self.X_test, self.y_test)\n",
    "        f1_score_train = f1_score(self.y_train,self.model.predict(self.X_train))\n",
    "        f1_score_test = f1_score(self.y_test,self.model.predict(self.X_test))\n",
    "        return print( f\"Accuracy score for train set is {m_score_train}\\nAccuracy score for test set is {m_score_test}\\nF1 score for train set is {f1_score_train}\\nF1 score for test set is {f1_score_test}\\n\")  \n",
    "\n",
    "    #function for confusion matrix and  classification report\n",
    "    def matrix(self):\n",
    "        conf_matrix=confusion_matrix(self.y_test,self.result)\n",
    "        class_report=classification_report(self.y_test,self.result)\n",
    "        sns.heatmap(confusion_matrix(self.y_test, self.result), annot = True)\n",
    "        return print(f\"Confusion matrix: \\n {conf_matrix} \\nClassification report: \\n{class_report}\")\n",
    "    \n",
    "    #function which allows saving parameters and model information to external file\n",
    "    def save_model(self, header=False):\n",
    "        model_name = self.user_defined_model\n",
    "        model_params = self.model.get_params()\n",
    "        model_acc_scores = (self.model.score(self.X_train,self.y_train), self.model.score(self.X_test,self.y_test))\n",
    "        model_f1_scores = (f1_score(self.y_train,self.model.predict(self.X_train)), f1_score(self.y_test,self.model.predict(self.X_test)))\n",
    "        results = pd.DataFrame({'model': [model_name], 'model_params': [model_params], 'accuracy':[model_acc_scores],'f1':[model_f1_scores]})\n",
    "        return results.to_csv(\"model_results.csv\", mode='a', index=False, header=header)\n"
   ]
  },
  {
   "cell_type": "code",
   "execution_count": 172,
   "metadata": {
    "scrolled": true
   },
   "outputs": [
    {
     "name": "stdout",
     "output_type": "stream",
     "text": [
      "Accuracy score for train set is 0.9787659639944607\n",
      "Accuracy score for test set is 0.9667692307692307\n",
      "F1 score for train set is 0.9776554404145078\n",
      "F1 score for test set is 0.9648437500000001\n",
      "\n",
      "Confusion matrix: \n",
      " [[830  13]\n",
      " [ 41 741]] \n",
      "Classification report: \n",
      "              precision    recall  f1-score   support\n",
      "\n",
      "           0       0.95      0.98      0.97       843\n",
      "           1       0.98      0.95      0.96       782\n",
      "\n",
      "    accuracy                           0.97      1625\n",
      "   macro avg       0.97      0.97      0.97      1625\n",
      "weighted avg       0.97      0.97      0.97      1625\n",
      "\n"
     ]
    },
    {
     "data": {
      "image/png": "[encoded data removed]",
      "text/plain": [
       "<Figure size 432x288 with 2 Axes>"
      ]
     },
     "metadata": {
      "needs_background": "light"
     },
     "output_type": "display_data"
    }
   ],
   "source": [
    "#Random forest model\n",
    "model_rf=Model(\"mushrooms.csv\",\"class\")\n",
    "model_rf.create_X([\"class\", \"gill-attachment\", \"gill-color\", \"gill-size\", \"habitat\", \"ring-type\", \"stalk-root\", \"stalk-surface-above-ring\", \"stalk-surface-below-ring\", \n",
    "                      \"stalk-color-above-ring\", \"stalk-color-below-ring\", \"veil-type\", \"veil-color\", \"spore-print-color\", \"odor\", \"population\"])\n",
    "model_rf.categories_normalization()\n",
    "model_rf.data_encoder(OneHotEncoder)\n",
    "model_rf.choose_model('rf')\n",
    "model_rf.split(0.2)\n",
    "model_rf.run_model()\n",
    "model_rf.matrix()"
   ]
  },
  {
   "cell_type": "code",
   "execution_count": 103,
   "metadata": {},
   "outputs": [
    {
     "name": "stdout",
     "output_type": "stream",
     "text": [
      "Fitting 5 folds for each of 81 candidates, totalling 405 fits\n"
     ]
    },
    {
     "name": "stderr",
     "output_type": "stream",
     "text": [
      "[Parallel(n_jobs=1)]: Using backend SequentialBackend with 1 concurrent workers.\n",
      "[Parallel(n_jobs=1)]: Done 405 out of 405 | elapsed:  2.2min finished\n"
     ]
    },
    {
     "data": {
      "text/plain": [
       "{'max_depth': 12,\n",
       " 'max_features': 'auto',\n",
       " 'min_samples_leaf': 1,\n",
       " 'n_estimators': 100}"
      ]
     },
     "execution_count": 103,
     "metadata": {},
     "output_type": "execute_result"
    }
   ],
   "source": [
    "model_rf.grid_search_best(params={\"max_depth\": [3, 10, 12],\n",
    "               \"n_estimators\":[10, 50, 100],\n",
    "               \"min_samples_leaf\":[1, 2, 25],\n",
    "               \"max_features\":[2, 4, 'auto']})"
   ]
  },
  {
   "cell_type": "code",
   "execution_count": 173,
   "metadata": {},
   "outputs": [],
   "source": [
    "model_rf.save_model(header=True)"
   ]
  },
  {
   "cell_type": "code",
   "execution_count": 174,
   "metadata": {
    "scrolled": false
   },
   "outputs": [
    {
     "name": "stdout",
     "output_type": "stream",
     "text": [
      "Accuracy score for train set is 0.8837495603236019\n",
      "Accuracy score for test set is 0.8748974569319115\n",
      "F1 score for train set is 0.8746919431279621\n",
      "F1 score for test set is 0.8647450110864745\n",
      "\n",
      "Confusion matrix: \n",
      " [[1158   99]\n",
      " [ 206  975]] \n",
      "Classification report: \n",
      "              precision    recall  f1-score   support\n",
      "\n",
      "           0       0.85      0.92      0.88      1257\n",
      "           1       0.91      0.83      0.86      1181\n",
      "\n",
      "    accuracy                           0.87      2438\n",
      "   macro avg       0.88      0.87      0.87      2438\n",
      "weighted avg       0.88      0.87      0.87      2438\n",
      "\n"
     ]
    },
    {
     "data": {
      "image/png": "[encoded data removed]",
      "text/plain": [
       "<Figure size 432x288 with 2 Axes>"
      ]
     },
     "metadata": {
      "needs_background": "light"
     },
     "output_type": "display_data"
    }
   ],
   "source": [
    "#Logistic regression model\n",
    "model_lr=Model(\"mushrooms.csv\",\"class\")\n",
    "model_lr.create_X([\"class\", \"gill-attachment\", \"gill-color\", \"gill-size\", \"habitat\", \"ring-type\", \"stalk-root\", \"stalk-surface-above-ring\", \"stalk-surface-below-ring\", \n",
    "                      \"stalk-color-above-ring\", \"stalk-color-below-ring\", \"veil-type\", \"veil-color\", \"spore-print-color\", \"odor\", \"population\"])\n",
    "model_lr.categories_normalization()\n",
    "model_lr.data_encoder(OneHotEncoder)\n",
    "model_lr.choose_model('lg', params={'C': 0.03})\n",
    "model_lr.split(0.3)\n",
    "model_lr.run_model()\n",
    "model_lr.matrix()"
   ]
  },
  {
   "cell_type": "code",
   "execution_count": 175,
   "metadata": {},
   "outputs": [],
   "source": [
    "model_lr.save_model()"
   ]
  },
  {
   "cell_type": "code",
   "execution_count": 19,
   "metadata": {},
   "outputs": [
    {
     "name": "stdout",
     "output_type": "stream",
     "text": [
      "Accuracy score for train set is 0.8709110094970102\n",
      "Accuracy score for test set is 0.8638228055783429\n",
      "Confuction matrix: \n",
      " [[1154  103]\n",
      " [ 229  952]] \n",
      "Classification report: \n",
      "              precision    recall  f1-score   support\n",
      "\n",
      "           0       0.83      0.92      0.87      1257\n",
      "           1       0.90      0.81      0.85      1181\n",
      "\n",
      "    accuracy                           0.86      2438\n",
      "   macro avg       0.87      0.86      0.86      2438\n",
      "weighted avg       0.87      0.86      0.86      2438\n",
      "\n"
     ]
    },
    {
     "data": {
      "image/png": "[encoded data removed]",
      "text/plain": [
       "<Figure size 432x288 with 2 Axes>"
      ]
     },
     "metadata": {
      "needs_background": "light"
     },
     "output_type": "display_data"
    }
   ],
   "source": [
    "#SVC rbf model\n",
    "model_svc=Model(\"mushrooms.csv\",\"class\")\n",
    "model_svc.create_X([\"class\", \"gill-attachment\", \"gill-color\", \"gill-size\", \"habitat\", \"ring-type\", \"stalk-root\", \"stalk-surface-above-ring\", \"stalk-surface-below-ring\", \n",
    "                      \"stalk-color-above-ring\", \"stalk-color-below-ring\", \"veil-type\", \"veil-color\", \"spore-print-color\", \"odor\"])\n",
    "model_svc.categories_normalization()\n",
    "model_svc.data_encoder(OneHotEncoder)\n",
    "model_svc.choose_model('svc', params={'C': 0.01})\n",
    "model_svc.split(0.3)\n",
    "model_svc.run_model()\n",
    "model_svc.matrix()"
   ]
  },
  {
   "cell_type": "code",
   "execution_count": 22,
   "metadata": {},
   "outputs": [
    {
     "name": "stdout",
     "output_type": "stream",
     "text": [
      "Accuracy score for train set is 0.9785437917692579\n",
      "Accuracy score for test set is 0.9671862182116489\n",
      "Confuction matrix: \n",
      " [[1214   43]\n",
      " [  37 1144]] \n",
      "Classification report: \n",
      "              precision    recall  f1-score   support\n",
      "\n",
      "           0       0.97      0.97      0.97      1257\n",
      "           1       0.96      0.97      0.97      1181\n",
      "\n",
      "    accuracy                           0.97      2438\n",
      "   macro avg       0.97      0.97      0.97      2438\n",
      "weighted avg       0.97      0.97      0.97      2438\n",
      "\n"
     ]
    },
    {
     "data": {
      "image/png": "[encoded data removed]",
      "text/plain": [
       "<Figure size 432x288 with 2 Axes>"
      ]
     },
     "metadata": {
      "needs_background": "light"
     },
     "output_type": "display_data"
    }
   ],
   "source": [
    "#KNN  model\n",
    "model_knn=Model(\"mushrooms.csv\",\"class\")\n",
    "model_knn.create_X([\"class\", \"gill-attachment\", \"gill-color\", \"gill-size\", \"habitat\", \"ring-type\", \"stalk-root\", \"stalk-surface-above-ring\", \"stalk-surface-below-ring\", \n",
    "                      \"stalk-color-above-ring\", \"stalk-color-below-ring\", \"veil-type\", \"veil-color\", \"spore-print-color\", \"odor\"])\n",
    "model_knn.categories_normalization()\n",
    "model_knn.data_encoder(OneHotEncoder)\n",
    "model_knn.choose_model('knn')\n",
    "model_knn.split(0.3)\n",
    "model_knn.run_model()\n",
    "model_knn.matrix()"
   ]
  },
  {
   "cell_type": "code",
   "execution_count": 23,
   "metadata": {},
   "outputs": [
    {
     "name": "stdout",
     "output_type": "stream",
     "text": [
      "Accuracy score for train set is 0.9843475202251143\n",
      "Accuracy score for test set is 0.9708777686628384\n",
      "Confuction matrix: \n",
      " [[1241   16]\n",
      " [  55 1126]] \n",
      "Classification report: \n",
      "              precision    recall  f1-score   support\n",
      "\n",
      "           0       0.96      0.99      0.97      1257\n",
      "           1       0.99      0.95      0.97      1181\n",
      "\n",
      "    accuracy                           0.97      2438\n",
      "   macro avg       0.97      0.97      0.97      2438\n",
      "weighted avg       0.97      0.97      0.97      2438\n",
      "\n"
     ]
    },
    {
     "data": {
      "image/png": "[encoded data removed]",
      "text/plain": [
       "<Figure size 432x288 with 2 Axes>"
      ]
     },
     "metadata": {
      "needs_background": "light"
     },
     "output_type": "display_data"
    }
   ],
   "source": [
    "#Decision Tree  model\n",
    "model_dt=Model(\"mushrooms.csv\",\"class\")\n",
    "model_dt.create_X([\"class\", \"gill-attachment\", \"gill-color\", \"gill-size\", \"habitat\", \"ring-type\", \"stalk-root\", \"stalk-surface-above-ring\", \"stalk-surface-below-ring\", \n",
    "                      \"stalk-color-above-ring\", \"stalk-color-below-ring\", \"veil-type\", \"veil-color\", \"spore-print-color\", \"odor\"])\n",
    "model_dt.categories_normalization()\n",
    "model_dt.data_encoder(OneHotEncoder)\n",
    "model_dt.choose_model('dt')\n",
    "model_dt.split(0.3)\n",
    "model_dt.run_model()\n",
    "model_dt.matrix()"
   ]
  }
 ],
 "metadata": {
  "interpreter": {
   "hash": "0062e047125ebb5108b603169bc21de4af15d4941600a121f270f5b23dba400b"
  },
  "kernelspec": {
   "display_name": "Python 3",
   "language": "python",
   "name": "python3"
  },
  "language_info": {
   "codemirror_mode": {
    "name": "ipython",
    "version": 3
   },
   "file_extension": ".py",
   "mimetype": "text/x-python",
   "name": "python",
   "nbconvert_exporter": "python",
   "pygments_lexer": "ipython3",
   "version": "3.8.5"
  }
 },
 "nbformat": 4,
 "nbformat_minor": 2
}
