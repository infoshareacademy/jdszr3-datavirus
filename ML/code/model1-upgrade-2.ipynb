{
 "cells": [
  {
   "cell_type": "code",
   "execution_count": 23,
   "metadata": {},
   "outputs": [],
   "source": [
    "#import modules needed to handle data and encoding\n",
    "import pandas as pd\n",
    "import numpy as np\n",
    "import seaborn as sns\n",
    "from sklearn.preprocessing import OneHotEncoder, OrdinalEncoder, LabelEncoder, MinMaxScaler, StandardScaler, RobustScaler\n",
    "from sklearn.model_selection import train_test_split, GridSearchCV\n",
    "from sklearn.ensemble import RandomForestRegressor, RandomForestClassifier\n",
    "from sklearn.tree import DecisionTreeClassifier\n",
    "from sklearn.linear_model import LogisticRegression\n",
    "from sklearn.svm import SVC\n",
    "from sklearn.neighbors import KNeighborsClassifier\n",
    "from sklearn.metrics import confusion_matrix, classification_report, f1_score, accuracy_score\n",
    "import pickle\n",
    "import dalex as dx\n",
    "\n",
    "class Model:\n",
    "    def __init__(self, datafile, target):\n",
    "        #initialization class object, and also creating the target dataset\n",
    "        self.df = pd.read_csv(datafile)\n",
    "        self.y=self.df[target]\n",
    "        encoder = LabelEncoder()\n",
    "        encoder.fit(self.y)\n",
    "        new_data = encoder.transform(self.y)\n",
    "        new_data.reshape(-1,1)\n",
    "        self.y=new_data\n",
    "            \n",
    "    #create data frame with features, drop columns which are unnecessary or are target\n",
    "    def create_X(self, column):\n",
    "        self.X = self.df.drop(columns=column)\n",
    "    \n",
    "    #function which normalize categories number; for more than 4 categories in one column \n",
    "    #it calculates percentage value and for less than 5.5% category name is replaced with 'other'\n",
    "    def categories_normalization(self):\n",
    "        for column in self.X.columns:\n",
    "            if self.X[column].nunique()>4:\n",
    "                cat = self.X[column].unique()\n",
    "                number_for_cat = self.X[column].value_counts()\n",
    "                data_len = len(self.X[column])\n",
    "                list_to_replace = []\n",
    "                for i in range(len(cat)):\n",
    "                    cat_in_perc = round(number_for_cat[i]/data_len*100, 2)\n",
    "                    if cat_in_perc <= 5.5:\n",
    "                        list_to_replace.append(cat[i])\n",
    "                    else:\n",
    "                        pass\n",
    "                self.X[column].replace(to_replace=list_to_replace, value='other', inplace=True)\n",
    "            else:\n",
    "                pass\n",
    "\n",
    "    #function which takes data frame, column name and scaler name and return data frame \n",
    "    #with encoded column using specified scaler, dropping original column        \n",
    "    def data_scaler(self, column_header, scaler_name):\n",
    "        column = np.array(self.X[column_header]).reshape(-1,1)\n",
    "        scaler = scaler_name()\n",
    "        scaler.fit(column)\n",
    "        new_data = scaler.transform(column)\n",
    "        self.X[column_header + \"_scal\"] = pd.Series(new_data[:,0])\n",
    "        self.X.drop(columns=column_header, inplace=True)\n",
    "    \n",
    "    #function which takes data frame, column name and encoder name and return data frame \n",
    "    #with encoded column using specified encoder, dropping original column  \n",
    "    def data_encoder(self, encoding_function_name):\n",
    "        for column in self.X.columns:\n",
    "            if encoding_function_name==OneHotEncoder:\n",
    "                column_ = np.array(self.X[column]).reshape(-1,1)\n",
    "                encoder = encoding_function_name(sparse=False)\n",
    "                encoder.fit(column_)\n",
    "                categories = encoder.categories_\n",
    "                new_data = encoder.transform(column_)\n",
    "                for i in range(len(categories[0])):\n",
    "                    self.X[column + \"_\" + categories[0][i]] = pd.Series(new_data[:,i])\n",
    "                self.X.drop(columns=column, inplace=True)\n",
    "            elif encoding_function_name==LabelEncoder:\n",
    "                column_ = self.X[column]\n",
    "                encoder = encoding_function_name()\n",
    "                encoder.fit(column_)\n",
    "                new_data = encoder.transform(column_)\n",
    "                new_data.reshape(-1,1)\n",
    "                self.X[column + \"_enc\"] = pd.Series(new_data)\n",
    "                self.X.drop(columns=column, inplace=True)\n",
    "            elif encoding_function_name==OrdinalEncoder:\n",
    "                column_ = np.array(self.X[column]).reshape(-1,1)\n",
    "                encoder = encoding_function_name()\n",
    "                encoder.fit(column_)\n",
    "                new_data = encoder.transform(column_)\n",
    "                self.X[column + \"_enc\"] = pd.Series(new_data[:,0])\n",
    "                self.X.drop(columns=column, inplace=True)\n",
    "            else:\n",
    "                print(\"Encoder is not specified in function\")\n",
    "    \n",
    "\n",
    "    #function for choosing type of model and initialization of model\n",
    "    #optionally params dict with key, values can be used for specific model\n",
    "    def choose_model(self, model_type=None, params={}): \n",
    "        if model_type=='rf':\n",
    "            self.user_defined_model = RandomForestClassifier(**params)\n",
    "        elif model_type=='lg':\n",
    "            self.user_defined_model = LogisticRegression(**params)\n",
    "        elif model_type=='svc':\n",
    "            self.user_defined_model = SVC(kernel='rbf', **params)\n",
    "        elif model_type=='dt':\n",
    "            self.user_defined_model = DecisionTreeClassifier(**params)\n",
    "        elif model_type=='knn':\n",
    "            self.user_defined_model = KNeighborsClassifier(**params)\n",
    "        else:\n",
    "            self.user_defined_model = RandomForestClassifier(**params)\n",
    "    \n",
    "\n",
    "    #function which split the target and features into test and training datasets, as inputs it get target, features and test_size\n",
    "    def split(self, test_size):\n",
    "        self.X_train, self.X_test, self.y_train, self.y_test = train_test_split(self.X, self.y, test_size = test_size, random_state = 42, shuffle=True)\n",
    "\n",
    "    #function for training model, which takes the training datasets\n",
    "    def fit(self):\n",
    "        self.model = self.user_defined_model.fit(self.X_train, self.y_train)\n",
    "        \n",
    "    \n",
    "    #function for predictions, takes the test datasets\n",
    "    def predict(self):\n",
    "        self.result = self.model.predict(self.X_test)\n",
    "\n",
    "    #function which allows identifying best parameters for specified model\n",
    "    def grid_search_best(self, params={}):\n",
    "        grid_search = GridSearchCV(self.user_defined_model, param_grid=params, cv=5, verbose=1)\n",
    "        grid_search.fit(self.X_train, self.y_train)\n",
    "        return grid_search.best_params_\n",
    "    \n",
    "    #function which incorporates other functions used for modelling: fit, predict and score - run one function instead of 3\n",
    "    def run_model(self):\n",
    "        self.fit()\n",
    "        self.predict()\n",
    "        self.score()\n",
    "    \n",
    "    #checking score of chosen model for test and train data\n",
    "    def score(self):\n",
    "        m_score_train= self.model.score(self.X_train,self.y_train)\n",
    "        m_score_test = self.model.score(self.X_test, self.y_test)\n",
    "        f1_score_train = f1_score(self.y_train,self.model.predict(self.X_train))\n",
    "        f1_score_test = f1_score(self.y_test,self.model.predict(self.X_test))\n",
    "        return print( f\"Accuracy score for train set is {m_score_train}\\nAccuracy score for test set is {m_score_test}\\nF1 score for train set is {f1_score_train}\\nF1 score for test set is {f1_score_test}\\n\")  \n",
    "\n",
    "    #function for confusion matrix and classification report\n",
    "    def matrix(self):\n",
    "        conf_matrix=confusion_matrix(self.y_test,self.result)\n",
    "        class_report=classification_report(self.y_test,self.result)\n",
    "        sns.heatmap(confusion_matrix(self.y_test, self.result), annot = True)\n",
    "        return print(f\"Confusion matrix: \\n {conf_matrix} \\nClassification report: \\n{class_report}\")\n",
    "    \n",
    "    #function which allows saving parameters and model information to external csv file also packs model info into \n",
    "    #pickle file and store is under 'pickles' folder\n",
    "    def save_model(self, header=False):\n",
    "        model_name = self.user_defined_model\n",
    "        model_params = self.model.get_params()\n",
    "        model_acc_scores = (self.model.score(self.X_train, self.y_train), self.model.score(self.X_test, self.y_test))\n",
    "        model_f1_scores = (f1_score(self.y_train, self.model.predict(self.X_train)), f1_score(self.y_test, self.model.predict(self.X_test)))\n",
    "        results = pd.DataFrame({'model': [model_name], 'model_params': [model_params], 'accuracy':[model_acc_scores],'f1':[model_f1_scores]})\n",
    "        with open(f'pickles/{model_name}.pkl', 'wb') as handle:\n",
    "            pickle.dump(results, handle, protocol=pickle.HIGHEST_PROTOCOL)\n",
    "        return results.to_csv(\"model_results.csv\", mode='a', index=False, header=header)\n",
    "    \n",
    "    #function which allows visualize feature importance\n",
    "    def model_explore(self):\n",
    "        explainer = dx.Explainer(self.user_defined_model, self.X_train, self.y_train)\n",
    "        explanation = explainer.model_parts()\n",
    "        return explanation.result, explanation.plot()\n",
    "#         explainer.predict_parts(self.model.predict(self.X_train)).result, explainer.predict_parts(self.model.predict(self.X_train)).plot()\n",
    " "
   ]
  },
  {
   "cell_type": "code",
   "execution_count": 40,
   "metadata": {
    "scrolled": true
   },
   "outputs": [
    {
     "name": "stdout",
     "output_type": "stream",
     "text": [
      "Accuracy score for train set is 0.9787659639944607\n",
      "Accuracy score for test set is 0.9667692307692307\n",
      "F1 score for train set is 0.9776554404145078\n",
      "F1 score for test set is 0.9648437500000001\n",
      "\n",
      "Confusion matrix: \n",
      " [[830  13]\n",
      " [ 41 741]] \n",
      "Classification report: \n",
      "              precision    recall  f1-score   support\n",
      "\n",
      "           0       0.95      0.98      0.97       843\n",
      "           1       0.98      0.95      0.96       782\n",
      "\n",
      "    accuracy                           0.97      1625\n",
      "   macro avg       0.97      0.97      0.97      1625\n",
      "weighted avg       0.97      0.97      0.97      1625\n",
      "\n"
     ]
    },
    {
     "data": {
      "image/png": "[encoded data removed]",
      "text/plain": [
       "<Figure size 432x288 with 2 Axes>"
      ]
     },
     "metadata": {
      "needs_background": "light"
     },
     "output_type": "display_data"
    }
   ],
   "source": [
    "#Random forest model\n",
    "model_rf=Model(\"mushrooms.csv\",\"class\")\n",
    "model_rf.create_X([\"class\", \"gill-attachment\", \"gill-color\", \"gill-size\", \"habitat\", \"ring-type\", \"stalk-root\", \"stalk-surface-above-ring\", \"stalk-surface-below-ring\", \n",
    "                      \"stalk-color-above-ring\", \"stalk-color-below-ring\", \"veil-type\", \"veil-color\", \"spore-print-color\", \"odor\", \"population\"])\n",
    "model_rf.categories_normalization()\n",
    "model_rf.data_encoder(OneHotEncoder)\n",
    "model_rf.choose_model('rf', params = {'max_depth': 10, 'max_features': 2, 'min_samples_leaf': 1, 'n_estimators': 50})\n",
    "model_rf.split(0.2)\n",
    "model_rf.run_model()\n",
    "model_rf.matrix()"
   ]
  },
  {
   "cell_type": "code",
   "execution_count": 41,
   "metadata": {},
   "outputs": [
    {
     "name": "stdout",
     "output_type": "stream",
     "text": [
      "Fitting 5 folds for each of 81 candidates, totalling 405 fits\n"
     ]
    },
    {
     "data": {
      "text/plain": [
       "{'max_depth': 10,\n",
       " 'max_features': 2,\n",
       " 'min_samples_leaf': 1,\n",
       " 'n_estimators': 100}"
      ]
     },
     "execution_count": 41,
     "metadata": {},
     "output_type": "execute_result"
    }
   ],
   "source": [
    "model_rf.grid_search_best(params={\"max_depth\": [3, 10, 12],\n",
    "               \"n_estimators\":[10, 50, 100],\n",
    "               \"min_samples_leaf\":[1, 2, 25],\n",
    "               \"max_features\":[2, 4, 'auto']})"
   ]
  },
  {
   "cell_type": "code",
   "execution_count": 42,
   "metadata": {},
   "outputs": [],
   "source": [
    "model_rf.save_model(header=True)"
   ]
  },
  {
   "cell_type": "code",
   "execution_count": 43,
   "metadata": {},
   "outputs": [
    {
     "name": "stdout",
     "output_type": "stream",
     "text": [
      "Preparation of a new explainer is initiated\n",
      "\n",
      "  -> data              : 6499 rows 24 cols\n",
      "  -> target variable   : 6499 values\n",
      "  -> model_class       : sklearn.ensemble._forest.RandomForestClassifier (default)\n",
      "  -> label             : Not specified, model's class short name will be used. (default)\n",
      "  -> predict function  : <function yhat_proba_default at 0x00000294CD69F048> will be used (default)\n",
      "  -> predict function  : Accepts pandas.DataFrame and numpy.ndarray.\n",
      "  -> predicted values  : min = 0.0, mean = 0.482, max = 1.0\n",
      "  -> model type        : classification will be used (default)\n",
      "  -> residual function : difference between y and yhat (default)\n",
      "  -> residuals         : min = -0.924, mean = 0.000351, max = 0.716\n",
      "  -> model_info        : package sklearn\n",
      "\n",
      "A new explainer has been created!\n"
     ]
    },
    {
     "data": {
      "application/vnd.plotly.v1+json": {
       "config": {
        "displaylogo": false,
        "modeBarButtonsToRemove": [
         "sendDataToCloud",
         "lasso2d",
         "autoScale2d",
         "select2d",
         "zoom2d",
         "pan2d",
         "zoomIn2d",
         "zoomOut2d",
         "resetScale2d",
         "toggleSpikelines",
         "hoverCompareCartesian",
         "hoverClosestCartesian"
        ],
        "plotlyServerURL": "https://plot.ly",
        "staticPlot": false,
        "toImageButtonOptions": {
         "height": null,
         "width": null
        }
       },
       "data": [
        {
         "base": 0.0024899437318453344,
         "hoverinfo": "text",
         "hoverlabel": {
          "bgcolor": "rgba(0,0,0,0.8)"
         },
         "hovertext": [
          "Model: RandomForestClassifier loss after<br>variable: bruises_t is permuted: 0.031<br>Drop-out loss change: +0.028",
          "Model: RandomForestClassifier loss after<br>variable: cap-surface_s is permuted: 0.011<br>Drop-out loss change: +0.009",
          "Model: RandomForestClassifier loss after<br>variable: stalk-shape_t is permuted: 0.01<br>Drop-out loss change: +0.008",
          "Model: RandomForestClassifier loss after<br>variable: bruises_f is permuted: 0.008<br>Drop-out loss change: +0.006",
          "Model: RandomForestClassifier loss after<br>variable: gill-spacing_c is permuted: 0.007<br>Drop-out loss change: +0.005",
          "Model: RandomForestClassifier loss after<br>variable: gill-spacing_w is permuted: 0.007<br>Drop-out loss change: +0.004",
          "Model: RandomForestClassifier loss after<br>variable: stalk-shape_e is permuted: 0.007<br>Drop-out loss change: +0.004",
          "Model: RandomForestClassifier loss after<br>variable: cap-color_n is permuted: 0.006<br>Drop-out loss change: +0.004",
          "Model: RandomForestClassifier loss after<br>variable: cap-color_y is permuted: 0.005<br>Drop-out loss change: +0.003",
          "Model: RandomForestClassifier loss after<br>variable: cap-surface_y is permuted: 0.005<br>Drop-out loss change: +0.003"
         ],
         "marker": {
          "color": "#46bac2"
         },
         "orientation": "h",
         "showlegend": false,
         "text": [
          "+0.028",
          "+0.009",
          "+0.008",
          "+0.006",
          "+0.005",
          "+0.004",
          "+0.004",
          "+0.004",
          "+0.003",
          "+0.003"
         ],
         "textposition": "outside",
         "type": "bar",
         "x": [
          0.028358483278175084,
          0.008606551122457262,
          0.0076599187171959016,
          0.0059781476090978065,
          0.004757699343728805,
          0.004486071991689922,
          0.004068956933239476,
          0.0035353150942134533,
          0.002871188593927976,
          0.0026190229885221686
         ],
         "xaxis": "x",
         "y": [
          "bruises_t",
          "cap-surface_s",
          "stalk-shape_t",
          "bruises_f",
          "gill-spacing_c",
          "gill-spacing_w",
          "stalk-shape_e",
          "cap-color_n",
          "cap-color_y",
          "cap-surface_y"
         ],
         "yaxis": "y"
        }
       ],
       "layout": {
        "annotations": [
         {
          "font": {
           "size": 16
          },
          "showarrow": false,
          "text": "RandomForestClassifier",
          "x": 0.5,
          "xanchor": "center",
          "xref": "paper",
          "y": 1,
          "yanchor": "bottom",
          "yref": "paper"
         },
         {
          "font": {
           "size": 16
          },
          "showarrow": false,
          "text": "drop-out loss",
          "x": 0.5,
          "xanchor": "center",
          "xref": "paper",
          "y": 0,
          "yanchor": "top",
          "yref": "paper",
          "yshift": -30
         }
        ],
        "font": {
         "color": "#371ea3"
        },
        "height": 383,
        "margin": {
         "b": 71,
         "r": 30,
         "t": 78
        },
        "shapes": [
         {
          "line": {
           "color": "#371ea3",
           "dash": "dot",
           "width": 1.5
          },
          "type": "line",
          "x0": 0.0024899437318453344,
          "x1": 0.0024899437318453344,
          "xref": "x",
          "y0": -1,
          "y1": 10,
          "yref": "y"
         }
        ],
        "template": {
         "data": {
          "scatter": [
           {
            "type": "scatter"
           }
          ]
         }
        },
        "title": {
         "text": "Variable Importance",
         "x": 0.15
        },
        "xaxis": {
         "anchor": "y",
         "automargin": true,
         "domain": [
          0,
          1
         ],
         "fixedrange": true,
         "gridwidth": 2,
         "range": [
          -0.001763828759880928,
          0.03510219950174668
         ],
         "tickcolor": "white",
         "ticklen": 3,
         "ticks": "outside",
         "type": "linear",
         "zeroline": false
        },
        "yaxis": {
         "anchor": "x",
         "automargin": true,
         "autorange": "reversed",
         "domain": [
          0,
          1
         ],
         "fixedrange": true,
         "gridwidth": 2,
         "tickcolor": "white",
         "ticklen": 10,
         "ticks": "outside",
         "type": "category"
        }
       }
      },
      "text/html": [
       "<div>                            <div id=\"5e7124a9-36dd-4514-9dff-634021c7e3ae\" class=\"plotly-graph-div\" style=\"height:383.0px; width:100%;\"></div>            <script type=\"text/javascript\">                require([\"plotly\"], function(Plotly) {                    window.PLOTLYENV=window.PLOTLYENV || {};                                    if (document.getElementById(\"5e7124a9-36dd-4514-9dff-634021c7e3ae\")) {                    Plotly.newPlot(                        \"5e7124a9-36dd-4514-9dff-634021c7e3ae\",                        [{\"base\": 0.0024899437318453344, \"hoverinfo\": \"text\", \"hoverlabel\": {\"bgcolor\": \"rgba(0,0,0,0.8)\"}, \"hovertext\": [\"Model: RandomForestClassifier loss after<br>variable: bruises_t is permuted: 0.031<br>Drop-out loss change: +0.028\", \"Model: RandomForestClassifier loss after<br>variable: cap-surface_s is permuted: 0.011<br>Drop-out loss change: +0.009\", \"Model: RandomForestClassifier loss after<br>variable: stalk-shape_t is permuted: 0.01<br>Drop-out loss change: +0.008\", \"Model: RandomForestClassifier loss after<br>variable: bruises_f is permuted: 0.008<br>Drop-out loss change: +0.006\", \"Model: RandomForestClassifier loss after<br>variable: gill-spacing_c is permuted: 0.007<br>Drop-out loss change: +0.005\", \"Model: RandomForestClassifier loss after<br>variable: gill-spacing_w is permuted: 0.007<br>Drop-out loss change: +0.004\", \"Model: RandomForestClassifier loss after<br>variable: stalk-shape_e is permuted: 0.007<br>Drop-out loss change: +0.004\", \"Model: RandomForestClassifier loss after<br>variable: cap-color_n is permuted: 0.006<br>Drop-out loss change: +0.004\", \"Model: RandomForestClassifier loss after<br>variable: cap-color_y is permuted: 0.005<br>Drop-out loss change: +0.003\", \"Model: RandomForestClassifier loss after<br>variable: cap-surface_y is permuted: 0.005<br>Drop-out loss change: +0.003\"], \"marker\": {\"color\": \"#46bac2\"}, \"orientation\": \"h\", \"showlegend\": false, \"text\": [\"+0.028\", \"+0.009\", \"+0.008\", \"+0.006\", \"+0.005\", \"+0.004\", \"+0.004\", \"+0.004\", \"+0.003\", \"+0.003\"], \"textposition\": \"outside\", \"type\": \"bar\", \"x\": [0.028358483278175084, 0.008606551122457262, 0.0076599187171959016, 0.0059781476090978065, 0.004757699343728805, 0.004486071991689922, 0.004068956933239476, 0.0035353150942134533, 0.002871188593927976, 0.0026190229885221686], \"xaxis\": \"x\", \"y\": [\"bruises_t\", \"cap-surface_s\", \"stalk-shape_t\", \"bruises_f\", \"gill-spacing_c\", \"gill-spacing_w\", \"stalk-shape_e\", \"cap-color_n\", \"cap-color_y\", \"cap-surface_y\"], \"yaxis\": \"y\"}],                        {\"annotations\": [{\"font\": {\"size\": 16}, \"showarrow\": false, \"text\": \"RandomForestClassifier\", \"x\": 0.5, \"xanchor\": \"center\", \"xref\": \"paper\", \"y\": 1.0, \"yanchor\": \"bottom\", \"yref\": \"paper\"}, {\"font\": {\"size\": 16}, \"showarrow\": false, \"text\": \"drop-out loss\", \"x\": 0.5, \"xanchor\": \"center\", \"xref\": \"paper\", \"y\": 0, \"yanchor\": \"top\", \"yref\": \"paper\", \"yshift\": -30}], \"font\": {\"color\": \"#371ea3\"}, \"height\": 383.0, \"margin\": {\"b\": 71, \"r\": 30, \"t\": 78}, \"shapes\": [{\"line\": {\"color\": \"#371ea3\", \"dash\": \"dot\", \"width\": 1.5}, \"type\": \"line\", \"x0\": 0.0024899437318453344, \"x1\": 0.0024899437318453344, \"xref\": \"x\", \"y0\": -1, \"y1\": 10, \"yref\": \"y\"}], \"template\": {\"data\": {\"scatter\": [{\"type\": \"scatter\"}]}}, \"title\": {\"text\": \"Variable Importance\", \"x\": 0.15}, \"xaxis\": {\"anchor\": \"y\", \"automargin\": true, \"domain\": [0.0, 1.0], \"fixedrange\": true, \"gridwidth\": 2, \"range\": [-0.001763828759880928, 0.03510219950174668], \"tickcolor\": \"white\", \"ticklen\": 3, \"ticks\": \"outside\", \"type\": \"linear\", \"zeroline\": false}, \"yaxis\": {\"anchor\": \"x\", \"automargin\": true, \"autorange\": \"reversed\", \"domain\": [0.0, 1.0], \"fixedrange\": true, \"gridwidth\": 2, \"tickcolor\": \"white\", \"ticklen\": 10, \"ticks\": \"outside\", \"type\": \"category\"}},                        {\"displaylogo\": false, \"staticPlot\": false, \"toImageButtonOptions\": {\"height\": null, \"width\": null}, \"modeBarButtonsToRemove\": [\"sendDataToCloud\", \"lasso2d\", \"autoScale2d\", \"select2d\", \"zoom2d\", \"pan2d\", \"zoomIn2d\", \"zoomOut2d\", \"resetScale2d\", \"toggleSpikelines\", \"hoverCompareCartesian\", \"hoverClosestCartesian\"], \"responsive\": true}                    ).then(function(){\n",
       "                            \n",
       "var gd = document.getElementById('5e7124a9-36dd-4514-9dff-634021c7e3ae');\n",
       "var x = new MutationObserver(function (mutations, observer) {{\n",
       "        var display = window.getComputedStyle(gd).display;\n",
       "        if (!display || display === 'none') {{\n",
       "            console.log([gd, 'removed!']);\n",
       "            Plotly.purge(gd);\n",
       "            observer.disconnect();\n",
       "        }}\n",
       "}});\n",
       "\n",
       "// Listen for the removal of the full notebook cells\n",
       "var notebookContainer = gd.closest('#notebook-container');\n",
       "if (notebookContainer) {{\n",
       "    x.observe(notebookContainer, {childList: true});\n",
       "}}\n",
       "\n",
       "// Listen for the clearing of the current output cell\n",
       "var outputEl = gd.closest('.output');\n",
       "if (outputEl) {{\n",
       "    x.observe(outputEl, {childList: true});\n",
       "}}\n",
       "\n",
       "                        })                };                });            </script>        </div>"
      ]
     },
     "metadata": {},
     "output_type": "display_data"
    },
    {
     "data": {
      "text/plain": [
       "(           variable  dropout_loss                   label\n",
       " 0      _full_model_      0.002490  RandomForestClassifier\n",
       " 1     cap-surface_g      0.002514  RandomForestClassifier\n",
       " 2     ring-number_n      0.002528  RandomForestClassifier\n",
       " 3       cap-color_g      0.002839  RandomForestClassifier\n",
       " 4       cap-shape_s      0.002925  RandomForestClassifier\n",
       " 5   cap-shape_other      0.002952  RandomForestClassifier\n",
       " 6       cap-shape_x      0.003299  RandomForestClassifier\n",
       " 7   cap-color_other      0.003362  RandomForestClassifier\n",
       " 8       cap-color_e      0.003449  RandomForestClassifier\n",
       " 9       cap-shape_f      0.003859  RandomForestClassifier\n",
       " 10    ring-number_t      0.004074  RandomForestClassifier\n",
       " 11      cap-color_w      0.004230  RandomForestClassifier\n",
       " 12    ring-number_o      0.004289  RandomForestClassifier\n",
       " 13      cap-shape_b      0.004517  RandomForestClassifier\n",
       " 14    cap-surface_f      0.004624  RandomForestClassifier\n",
       " 15    cap-surface_y      0.005109  RandomForestClassifier\n",
       " 16      cap-color_y      0.005361  RandomForestClassifier\n",
       " 17      cap-color_n      0.006025  RandomForestClassifier\n",
       " 18    stalk-shape_e      0.006559  RandomForestClassifier\n",
       " 19   gill-spacing_w      0.006976  RandomForestClassifier\n",
       " 20   gill-spacing_c      0.007248  RandomForestClassifier\n",
       " 21        bruises_f      0.008468  RandomForestClassifier\n",
       " 22    stalk-shape_t      0.010150  RandomForestClassifier\n",
       " 23    cap-surface_s      0.011096  RandomForestClassifier\n",
       " 24        bruises_t      0.030848  RandomForestClassifier\n",
       " 25       _baseline_      0.504033  RandomForestClassifier,\n",
       " None)"
      ]
     },
     "execution_count": 43,
     "metadata": {},
     "output_type": "execute_result"
    }
   ],
   "source": [
    "model_rf.model_explore()"
   ]
  },
  {
   "cell_type": "code",
   "execution_count": 46,
   "metadata": {
    "scrolled": false
   },
   "outputs": [
    {
     "name": "stdout",
     "output_type": "stream",
     "text": [
      "Accuracy score for train set is 0.8965881111501934\n",
      "Accuracy score for test set is 0.8900738310090238\n",
      "F1 score for train set is 0.8915129151291513\n",
      "F1 score for test set is 0.8842832469775476\n",
      "\n",
      "Confusion matrix: \n",
      " [[1146  111]\n",
      " [ 157 1024]] \n",
      "Classification report: \n",
      "              precision    recall  f1-score   support\n",
      "\n",
      "           0       0.88      0.91      0.90      1257\n",
      "           1       0.90      0.87      0.88      1181\n",
      "\n",
      "    accuracy                           0.89      2438\n",
      "   macro avg       0.89      0.89      0.89      2438\n",
      "weighted avg       0.89      0.89      0.89      2438\n",
      "\n"
     ]
    },
    {
     "data": {
      "image/png": "[encoded data removed]",
      "text/plain": [
       "<Figure size 432x288 with 2 Axes>"
      ]
     },
     "metadata": {
      "needs_background": "light"
     },
     "output_type": "display_data"
    }
   ],
   "source": [
    "#Logistic regression model\n",
    "model_lr=Model(\"mushrooms.csv\",\"class\")\n",
    "model_lr.create_X([\"class\", \"gill-attachment\", \"gill-color\", \"gill-size\", \"habitat\", \"ring-type\", \"stalk-root\", \"stalk-surface-above-ring\", \"stalk-surface-below-ring\", \n",
    "                      \"stalk-color-above-ring\", \"stalk-color-below-ring\", \"veil-type\", \"veil-color\", \"spore-print-color\", \"odor\", \"population\"])\n",
    "model_lr.categories_normalization()\n",
    "model_lr.data_encoder(OneHotEncoder)\n",
    "model_lr.choose_model('lg', params={'C': 1, 'penalty': 'l2', 'random_state': 1})\n",
    "model_lr.split(0.3)\n",
    "model_lr.run_model()\n",
    "model_lr.matrix()"
   ]
  },
  {
   "cell_type": "code",
   "execution_count": 45,
   "metadata": {},
   "outputs": [
    {
     "name": "stdout",
     "output_type": "stream",
     "text": [
      "Fitting 5 folds for each of 18 candidates, totalling 90 fits\n"
     ]
    },
    {
     "name": "stderr",
     "output_type": "stream",
     "text": [
      "E:\\Anaconda\\envs\\notebook\\lib\\site-packages\\sklearn\\model_selection\\_validation.py:619: FitFailedWarning:\n",
      "\n",
      "Estimator fit failed. The score on this train-test partition for these parameters will be set to nan. Details: \n",
      "Traceback (most recent call last):\n",
      "  File \"E:\\Anaconda\\envs\\notebook\\lib\\site-packages\\sklearn\\model_selection\\_validation.py\", line 598, in _fit_and_score\n",
      "    estimator.fit(X_train, y_train, **fit_params)\n",
      "  File \"E:\\Anaconda\\envs\\notebook\\lib\\site-packages\\sklearn\\linear_model\\_logistic.py\", line 1306, in fit\n",
      "    solver = _check_solver(self.solver, self.penalty, self.dual)\n",
      "  File \"E:\\Anaconda\\envs\\notebook\\lib\\site-packages\\sklearn\\linear_model\\_logistic.py\", line 444, in _check_solver\n",
      "    \"got %s penalty.\" % (solver, penalty))\n",
      "ValueError: Solver lbfgs supports only 'l2' or 'none' penalties, got l1 penalty.\n",
      "\n",
      "\n",
      "E:\\Anaconda\\envs\\notebook\\lib\\site-packages\\sklearn\\model_selection\\_validation.py:619: FitFailedWarning:\n",
      "\n",
      "Estimator fit failed. The score on this train-test partition for these parameters will be set to nan. Details: \n",
      "Traceback (most recent call last):\n",
      "  File \"E:\\Anaconda\\envs\\notebook\\lib\\site-packages\\sklearn\\model_selection\\_validation.py\", line 598, in _fit_and_score\n",
      "    estimator.fit(X_train, y_train, **fit_params)\n",
      "  File \"E:\\Anaconda\\envs\\notebook\\lib\\site-packages\\sklearn\\linear_model\\_logistic.py\", line 1306, in fit\n",
      "    solver = _check_solver(self.solver, self.penalty, self.dual)\n",
      "  File \"E:\\Anaconda\\envs\\notebook\\lib\\site-packages\\sklearn\\linear_model\\_logistic.py\", line 444, in _check_solver\n",
      "    \"got %s penalty.\" % (solver, penalty))\n",
      "ValueError: Solver lbfgs supports only 'l2' or 'none' penalties, got l1 penalty.\n",
      "\n",
      "\n",
      "E:\\Anaconda\\envs\\notebook\\lib\\site-packages\\sklearn\\model_selection\\_validation.py:619: FitFailedWarning:\n",
      "\n",
      "Estimator fit failed. The score on this train-test partition for these parameters will be set to nan. Details: \n",
      "Traceback (most recent call last):\n",
      "  File \"E:\\Anaconda\\envs\\notebook\\lib\\site-packages\\sklearn\\model_selection\\_validation.py\", line 598, in _fit_and_score\n",
      "    estimator.fit(X_train, y_train, **fit_params)\n",
      "  File \"E:\\Anaconda\\envs\\notebook\\lib\\site-packages\\sklearn\\linear_model\\_logistic.py\", line 1306, in fit\n",
      "    solver = _check_solver(self.solver, self.penalty, self.dual)\n",
      "  File \"E:\\Anaconda\\envs\\notebook\\lib\\site-packages\\sklearn\\linear_model\\_logistic.py\", line 444, in _check_solver\n",
      "    \"got %s penalty.\" % (solver, penalty))\n",
      "ValueError: Solver lbfgs supports only 'l2' or 'none' penalties, got l1 penalty.\n",
      "\n",
      "\n",
      "E:\\Anaconda\\envs\\notebook\\lib\\site-packages\\sklearn\\model_selection\\_validation.py:619: FitFailedWarning:\n",
      "\n",
      "Estimator fit failed. The score on this train-test partition for these parameters will be set to nan. Details: \n",
      "Traceback (most recent call last):\n",
      "  File \"E:\\Anaconda\\envs\\notebook\\lib\\site-packages\\sklearn\\model_selection\\_validation.py\", line 598, in _fit_and_score\n",
      "    estimator.fit(X_train, y_train, **fit_params)\n",
      "  File \"E:\\Anaconda\\envs\\notebook\\lib\\site-packages\\sklearn\\linear_model\\_logistic.py\", line 1306, in fit\n",
      "    solver = _check_solver(self.solver, self.penalty, self.dual)\n",
      "  File \"E:\\Anaconda\\envs\\notebook\\lib\\site-packages\\sklearn\\linear_model\\_logistic.py\", line 444, in _check_solver\n",
      "    \"got %s penalty.\" % (solver, penalty))\n",
      "ValueError: Solver lbfgs supports only 'l2' or 'none' penalties, got l1 penalty.\n",
      "\n",
      "\n",
      "E:\\Anaconda\\envs\\notebook\\lib\\site-packages\\sklearn\\model_selection\\_validation.py:619: FitFailedWarning:\n",
      "\n",
      "Estimator fit failed. The score on this train-test partition for these parameters will be set to nan. Details: \n",
      "Traceback (most recent call last):\n",
      "  File \"E:\\Anaconda\\envs\\notebook\\lib\\site-packages\\sklearn\\model_selection\\_validation.py\", line 598, in _fit_and_score\n",
      "    estimator.fit(X_train, y_train, **fit_params)\n",
      "  File \"E:\\Anaconda\\envs\\notebook\\lib\\site-packages\\sklearn\\linear_model\\_logistic.py\", line 1306, in fit\n",
      "    solver = _check_solver(self.solver, self.penalty, self.dual)\n",
      "  File \"E:\\Anaconda\\envs\\notebook\\lib\\site-packages\\sklearn\\linear_model\\_logistic.py\", line 444, in _check_solver\n",
      "    \"got %s penalty.\" % (solver, penalty))\n",
      "ValueError: Solver lbfgs supports only 'l2' or 'none' penalties, got l1 penalty.\n",
      "\n",
      "\n",
      "E:\\Anaconda\\envs\\notebook\\lib\\site-packages\\sklearn\\model_selection\\_validation.py:619: FitFailedWarning:\n",
      "\n",
      "Estimator fit failed. The score on this train-test partition for these parameters will be set to nan. Details: \n",
      "Traceback (most recent call last):\n",
      "  File \"E:\\Anaconda\\envs\\notebook\\lib\\site-packages\\sklearn\\model_selection\\_validation.py\", line 598, in _fit_and_score\n",
      "    estimator.fit(X_train, y_train, **fit_params)\n",
      "  File \"E:\\Anaconda\\envs\\notebook\\lib\\site-packages\\sklearn\\linear_model\\_logistic.py\", line 1306, in fit\n",
      "    solver = _check_solver(self.solver, self.penalty, self.dual)\n",
      "  File \"E:\\Anaconda\\envs\\notebook\\lib\\site-packages\\sklearn\\linear_model\\_logistic.py\", line 444, in _check_solver\n",
      "    \"got %s penalty.\" % (solver, penalty))\n",
      "ValueError: Solver lbfgs supports only 'l2' or 'none' penalties, got l1 penalty.\n",
      "\n",
      "\n",
      "E:\\Anaconda\\envs\\notebook\\lib\\site-packages\\sklearn\\model_selection\\_validation.py:619: FitFailedWarning:\n",
      "\n",
      "Estimator fit failed. The score on this train-test partition for these parameters will be set to nan. Details: \n",
      "Traceback (most recent call last):\n",
      "  File \"E:\\Anaconda\\envs\\notebook\\lib\\site-packages\\sklearn\\model_selection\\_validation.py\", line 598, in _fit_and_score\n",
      "    estimator.fit(X_train, y_train, **fit_params)\n",
      "  File \"E:\\Anaconda\\envs\\notebook\\lib\\site-packages\\sklearn\\linear_model\\_logistic.py\", line 1306, in fit\n",
      "    solver = _check_solver(self.solver, self.penalty, self.dual)\n",
      "  File \"E:\\Anaconda\\envs\\notebook\\lib\\site-packages\\sklearn\\linear_model\\_logistic.py\", line 444, in _check_solver\n",
      "    \"got %s penalty.\" % (solver, penalty))\n",
      "ValueError: Solver lbfgs supports only 'l2' or 'none' penalties, got l1 penalty.\n",
      "\n",
      "\n",
      "E:\\Anaconda\\envs\\notebook\\lib\\site-packages\\sklearn\\model_selection\\_validation.py:619: FitFailedWarning:\n",
      "\n",
      "Estimator fit failed. The score on this train-test partition for these parameters will be set to nan. Details: \n",
      "Traceback (most recent call last):\n",
      "  File \"E:\\Anaconda\\envs\\notebook\\lib\\site-packages\\sklearn\\model_selection\\_validation.py\", line 598, in _fit_and_score\n",
      "    estimator.fit(X_train, y_train, **fit_params)\n",
      "  File \"E:\\Anaconda\\envs\\notebook\\lib\\site-packages\\sklearn\\linear_model\\_logistic.py\", line 1306, in fit\n",
      "    solver = _check_solver(self.solver, self.penalty, self.dual)\n",
      "  File \"E:\\Anaconda\\envs\\notebook\\lib\\site-packages\\sklearn\\linear_model\\_logistic.py\", line 444, in _check_solver\n",
      "    \"got %s penalty.\" % (solver, penalty))\n",
      "ValueError: Solver lbfgs supports only 'l2' or 'none' penalties, got l1 penalty.\n",
      "\n",
      "\n",
      "E:\\Anaconda\\envs\\notebook\\lib\\site-packages\\sklearn\\model_selection\\_validation.py:619: FitFailedWarning:\n",
      "\n",
      "Estimator fit failed. The score on this train-test partition for these parameters will be set to nan. Details: \n",
      "Traceback (most recent call last):\n",
      "  File \"E:\\Anaconda\\envs\\notebook\\lib\\site-packages\\sklearn\\model_selection\\_validation.py\", line 598, in _fit_and_score\n",
      "    estimator.fit(X_train, y_train, **fit_params)\n",
      "  File \"E:\\Anaconda\\envs\\notebook\\lib\\site-packages\\sklearn\\linear_model\\_logistic.py\", line 1306, in fit\n",
      "    solver = _check_solver(self.solver, self.penalty, self.dual)\n",
      "  File \"E:\\Anaconda\\envs\\notebook\\lib\\site-packages\\sklearn\\linear_model\\_logistic.py\", line 444, in _check_solver\n",
      "    \"got %s penalty.\" % (solver, penalty))\n",
      "ValueError: Solver lbfgs supports only 'l2' or 'none' penalties, got l1 penalty.\n",
      "\n",
      "\n",
      "E:\\Anaconda\\envs\\notebook\\lib\\site-packages\\sklearn\\model_selection\\_validation.py:619: FitFailedWarning:\n",
      "\n",
      "Estimator fit failed. The score on this train-test partition for these parameters will be set to nan. Details: \n",
      "Traceback (most recent call last):\n",
      "  File \"E:\\Anaconda\\envs\\notebook\\lib\\site-packages\\sklearn\\model_selection\\_validation.py\", line 598, in _fit_and_score\n",
      "    estimator.fit(X_train, y_train, **fit_params)\n",
      "  File \"E:\\Anaconda\\envs\\notebook\\lib\\site-packages\\sklearn\\linear_model\\_logistic.py\", line 1306, in fit\n",
      "    solver = _check_solver(self.solver, self.penalty, self.dual)\n",
      "  File \"E:\\Anaconda\\envs\\notebook\\lib\\site-packages\\sklearn\\linear_model\\_logistic.py\", line 444, in _check_solver\n",
      "    \"got %s penalty.\" % (solver, penalty))\n",
      "ValueError: Solver lbfgs supports only 'l2' or 'none' penalties, got l1 penalty.\n",
      "\n",
      "\n",
      "E:\\Anaconda\\envs\\notebook\\lib\\site-packages\\sklearn\\model_selection\\_validation.py:619: FitFailedWarning:\n",
      "\n",
      "Estimator fit failed. The score on this train-test partition for these parameters will be set to nan. Details: \n",
      "Traceback (most recent call last):\n",
      "  File \"E:\\Anaconda\\envs\\notebook\\lib\\site-packages\\sklearn\\model_selection\\_validation.py\", line 598, in _fit_and_score\n",
      "    estimator.fit(X_train, y_train, **fit_params)\n",
      "  File \"E:\\Anaconda\\envs\\notebook\\lib\\site-packages\\sklearn\\linear_model\\_logistic.py\", line 1306, in fit\n",
      "    solver = _check_solver(self.solver, self.penalty, self.dual)\n",
      "  File \"E:\\Anaconda\\envs\\notebook\\lib\\site-packages\\sklearn\\linear_model\\_logistic.py\", line 444, in _check_solver\n",
      "    \"got %s penalty.\" % (solver, penalty))\n",
      "ValueError: Solver lbfgs supports only 'l2' or 'none' penalties, got l1 penalty.\n",
      "\n",
      "\n",
      "E:\\Anaconda\\envs\\notebook\\lib\\site-packages\\sklearn\\model_selection\\_validation.py:619: FitFailedWarning:\n",
      "\n",
      "Estimator fit failed. The score on this train-test partition for these parameters will be set to nan. Details: \n",
      "Traceback (most recent call last):\n",
      "  File \"E:\\Anaconda\\envs\\notebook\\lib\\site-packages\\sklearn\\model_selection\\_validation.py\", line 598, in _fit_and_score\n",
      "    estimator.fit(X_train, y_train, **fit_params)\n",
      "  File \"E:\\Anaconda\\envs\\notebook\\lib\\site-packages\\sklearn\\linear_model\\_logistic.py\", line 1306, in fit\n",
      "    solver = _check_solver(self.solver, self.penalty, self.dual)\n",
      "  File \"E:\\Anaconda\\envs\\notebook\\lib\\site-packages\\sklearn\\linear_model\\_logistic.py\", line 444, in _check_solver\n",
      "    \"got %s penalty.\" % (solver, penalty))\n",
      "ValueError: Solver lbfgs supports only 'l2' or 'none' penalties, got l1 penalty.\n",
      "\n",
      "\n",
      "E:\\Anaconda\\envs\\notebook\\lib\\site-packages\\sklearn\\model_selection\\_validation.py:619: FitFailedWarning:\n",
      "\n",
      "Estimator fit failed. The score on this train-test partition for these parameters will be set to nan. Details: \n",
      "Traceback (most recent call last):\n",
      "  File \"E:\\Anaconda\\envs\\notebook\\lib\\site-packages\\sklearn\\model_selection\\_validation.py\", line 598, in _fit_and_score\n",
      "    estimator.fit(X_train, y_train, **fit_params)\n",
      "  File \"E:\\Anaconda\\envs\\notebook\\lib\\site-packages\\sklearn\\linear_model\\_logistic.py\", line 1306, in fit\n",
      "    solver = _check_solver(self.solver, self.penalty, self.dual)\n",
      "  File \"E:\\Anaconda\\envs\\notebook\\lib\\site-packages\\sklearn\\linear_model\\_logistic.py\", line 444, in _check_solver\n",
      "    \"got %s penalty.\" % (solver, penalty))\n",
      "ValueError: Solver lbfgs supports only 'l2' or 'none' penalties, got l1 penalty.\n",
      "\n",
      "\n",
      "E:\\Anaconda\\envs\\notebook\\lib\\site-packages\\sklearn\\model_selection\\_validation.py:619: FitFailedWarning:\n",
      "\n",
      "Estimator fit failed. The score on this train-test partition for these parameters will be set to nan. Details: \n",
      "Traceback (most recent call last):\n",
      "  File \"E:\\Anaconda\\envs\\notebook\\lib\\site-packages\\sklearn\\model_selection\\_validation.py\", line 598, in _fit_and_score\n",
      "    estimator.fit(X_train, y_train, **fit_params)\n",
      "  File \"E:\\Anaconda\\envs\\notebook\\lib\\site-packages\\sklearn\\linear_model\\_logistic.py\", line 1306, in fit\n",
      "    solver = _check_solver(self.solver, self.penalty, self.dual)\n",
      "  File \"E:\\Anaconda\\envs\\notebook\\lib\\site-packages\\sklearn\\linear_model\\_logistic.py\", line 444, in _check_solver\n",
      "    \"got %s penalty.\" % (solver, penalty))\n",
      "ValueError: Solver lbfgs supports only 'l2' or 'none' penalties, got l1 penalty.\n",
      "\n",
      "\n",
      "E:\\Anaconda\\envs\\notebook\\lib\\site-packages\\sklearn\\model_selection\\_validation.py:619: FitFailedWarning:\n",
      "\n",
      "Estimator fit failed. The score on this train-test partition for these parameters will be set to nan. Details: \n",
      "Traceback (most recent call last):\n",
      "  File \"E:\\Anaconda\\envs\\notebook\\lib\\site-packages\\sklearn\\model_selection\\_validation.py\", line 598, in _fit_and_score\n",
      "    estimator.fit(X_train, y_train, **fit_params)\n",
      "  File \"E:\\Anaconda\\envs\\notebook\\lib\\site-packages\\sklearn\\linear_model\\_logistic.py\", line 1306, in fit\n",
      "    solver = _check_solver(self.solver, self.penalty, self.dual)\n",
      "  File \"E:\\Anaconda\\envs\\notebook\\lib\\site-packages\\sklearn\\linear_model\\_logistic.py\", line 444, in _check_solver\n",
      "    \"got %s penalty.\" % (solver, penalty))\n",
      "ValueError: Solver lbfgs supports only 'l2' or 'none' penalties, got l1 penalty.\n",
      "\n",
      "\n"
     ]
    },
    {
     "name": "stderr",
     "output_type": "stream",
     "text": [
      "E:\\Anaconda\\envs\\notebook\\lib\\site-packages\\sklearn\\model_selection\\_validation.py:619: FitFailedWarning:\n",
      "\n",
      "Estimator fit failed. The score on this train-test partition for these parameters will be set to nan. Details: \n",
      "Traceback (most recent call last):\n",
      "  File \"E:\\Anaconda\\envs\\notebook\\lib\\site-packages\\sklearn\\model_selection\\_validation.py\", line 598, in _fit_and_score\n",
      "    estimator.fit(X_train, y_train, **fit_params)\n",
      "  File \"E:\\Anaconda\\envs\\notebook\\lib\\site-packages\\sklearn\\linear_model\\_logistic.py\", line 1306, in fit\n",
      "    solver = _check_solver(self.solver, self.penalty, self.dual)\n",
      "  File \"E:\\Anaconda\\envs\\notebook\\lib\\site-packages\\sklearn\\linear_model\\_logistic.py\", line 444, in _check_solver\n",
      "    \"got %s penalty.\" % (solver, penalty))\n",
      "ValueError: Solver lbfgs supports only 'l2' or 'none' penalties, got l1 penalty.\n",
      "\n",
      "\n",
      "E:\\Anaconda\\envs\\notebook\\lib\\site-packages\\sklearn\\model_selection\\_validation.py:619: FitFailedWarning:\n",
      "\n",
      "Estimator fit failed. The score on this train-test partition for these parameters will be set to nan. Details: \n",
      "Traceback (most recent call last):\n",
      "  File \"E:\\Anaconda\\envs\\notebook\\lib\\site-packages\\sklearn\\model_selection\\_validation.py\", line 598, in _fit_and_score\n",
      "    estimator.fit(X_train, y_train, **fit_params)\n",
      "  File \"E:\\Anaconda\\envs\\notebook\\lib\\site-packages\\sklearn\\linear_model\\_logistic.py\", line 1306, in fit\n",
      "    solver = _check_solver(self.solver, self.penalty, self.dual)\n",
      "  File \"E:\\Anaconda\\envs\\notebook\\lib\\site-packages\\sklearn\\linear_model\\_logistic.py\", line 444, in _check_solver\n",
      "    \"got %s penalty.\" % (solver, penalty))\n",
      "ValueError: Solver lbfgs supports only 'l2' or 'none' penalties, got l1 penalty.\n",
      "\n",
      "\n",
      "E:\\Anaconda\\envs\\notebook\\lib\\site-packages\\sklearn\\model_selection\\_validation.py:619: FitFailedWarning:\n",
      "\n",
      "Estimator fit failed. The score on this train-test partition for these parameters will be set to nan. Details: \n",
      "Traceback (most recent call last):\n",
      "  File \"E:\\Anaconda\\envs\\notebook\\lib\\site-packages\\sklearn\\model_selection\\_validation.py\", line 598, in _fit_and_score\n",
      "    estimator.fit(X_train, y_train, **fit_params)\n",
      "  File \"E:\\Anaconda\\envs\\notebook\\lib\\site-packages\\sklearn\\linear_model\\_logistic.py\", line 1306, in fit\n",
      "    solver = _check_solver(self.solver, self.penalty, self.dual)\n",
      "  File \"E:\\Anaconda\\envs\\notebook\\lib\\site-packages\\sklearn\\linear_model\\_logistic.py\", line 444, in _check_solver\n",
      "    \"got %s penalty.\" % (solver, penalty))\n",
      "ValueError: Solver lbfgs supports only 'l2' or 'none' penalties, got l1 penalty.\n",
      "\n",
      "\n",
      "E:\\Anaconda\\envs\\notebook\\lib\\site-packages\\sklearn\\model_selection\\_validation.py:619: FitFailedWarning:\n",
      "\n",
      "Estimator fit failed. The score on this train-test partition for these parameters will be set to nan. Details: \n",
      "Traceback (most recent call last):\n",
      "  File \"E:\\Anaconda\\envs\\notebook\\lib\\site-packages\\sklearn\\model_selection\\_validation.py\", line 598, in _fit_and_score\n",
      "    estimator.fit(X_train, y_train, **fit_params)\n",
      "  File \"E:\\Anaconda\\envs\\notebook\\lib\\site-packages\\sklearn\\linear_model\\_logistic.py\", line 1306, in fit\n",
      "    solver = _check_solver(self.solver, self.penalty, self.dual)\n",
      "  File \"E:\\Anaconda\\envs\\notebook\\lib\\site-packages\\sklearn\\linear_model\\_logistic.py\", line 444, in _check_solver\n",
      "    \"got %s penalty.\" % (solver, penalty))\n",
      "ValueError: Solver lbfgs supports only 'l2' or 'none' penalties, got l1 penalty.\n",
      "\n",
      "\n",
      "E:\\Anaconda\\envs\\notebook\\lib\\site-packages\\sklearn\\model_selection\\_validation.py:619: FitFailedWarning:\n",
      "\n",
      "Estimator fit failed. The score on this train-test partition for these parameters will be set to nan. Details: \n",
      "Traceback (most recent call last):\n",
      "  File \"E:\\Anaconda\\envs\\notebook\\lib\\site-packages\\sklearn\\model_selection\\_validation.py\", line 598, in _fit_and_score\n",
      "    estimator.fit(X_train, y_train, **fit_params)\n",
      "  File \"E:\\Anaconda\\envs\\notebook\\lib\\site-packages\\sklearn\\linear_model\\_logistic.py\", line 1306, in fit\n",
      "    solver = _check_solver(self.solver, self.penalty, self.dual)\n",
      "  File \"E:\\Anaconda\\envs\\notebook\\lib\\site-packages\\sklearn\\linear_model\\_logistic.py\", line 444, in _check_solver\n",
      "    \"got %s penalty.\" % (solver, penalty))\n",
      "ValueError: Solver lbfgs supports only 'l2' or 'none' penalties, got l1 penalty.\n",
      "\n",
      "\n",
      "E:\\Anaconda\\envs\\notebook\\lib\\site-packages\\sklearn\\model_selection\\_validation.py:619: FitFailedWarning:\n",
      "\n",
      "Estimator fit failed. The score on this train-test partition for these parameters will be set to nan. Details: \n",
      "Traceback (most recent call last):\n",
      "  File \"E:\\Anaconda\\envs\\notebook\\lib\\site-packages\\sklearn\\model_selection\\_validation.py\", line 598, in _fit_and_score\n",
      "    estimator.fit(X_train, y_train, **fit_params)\n",
      "  File \"E:\\Anaconda\\envs\\notebook\\lib\\site-packages\\sklearn\\linear_model\\_logistic.py\", line 1306, in fit\n",
      "    solver = _check_solver(self.solver, self.penalty, self.dual)\n",
      "  File \"E:\\Anaconda\\envs\\notebook\\lib\\site-packages\\sklearn\\linear_model\\_logistic.py\", line 444, in _check_solver\n",
      "    \"got %s penalty.\" % (solver, penalty))\n",
      "ValueError: Solver lbfgs supports only 'l2' or 'none' penalties, got l1 penalty.\n",
      "\n",
      "\n",
      "E:\\Anaconda\\envs\\notebook\\lib\\site-packages\\sklearn\\model_selection\\_validation.py:619: FitFailedWarning:\n",
      "\n",
      "Estimator fit failed. The score on this train-test partition for these parameters will be set to nan. Details: \n",
      "Traceback (most recent call last):\n",
      "  File \"E:\\Anaconda\\envs\\notebook\\lib\\site-packages\\sklearn\\model_selection\\_validation.py\", line 598, in _fit_and_score\n",
      "    estimator.fit(X_train, y_train, **fit_params)\n",
      "  File \"E:\\Anaconda\\envs\\notebook\\lib\\site-packages\\sklearn\\linear_model\\_logistic.py\", line 1306, in fit\n",
      "    solver = _check_solver(self.solver, self.penalty, self.dual)\n",
      "  File \"E:\\Anaconda\\envs\\notebook\\lib\\site-packages\\sklearn\\linear_model\\_logistic.py\", line 444, in _check_solver\n",
      "    \"got %s penalty.\" % (solver, penalty))\n",
      "ValueError: Solver lbfgs supports only 'l2' or 'none' penalties, got l1 penalty.\n",
      "\n",
      "\n",
      "E:\\Anaconda\\envs\\notebook\\lib\\site-packages\\sklearn\\model_selection\\_validation.py:619: FitFailedWarning:\n",
      "\n",
      "Estimator fit failed. The score on this train-test partition for these parameters will be set to nan. Details: \n",
      "Traceback (most recent call last):\n",
      "  File \"E:\\Anaconda\\envs\\notebook\\lib\\site-packages\\sklearn\\model_selection\\_validation.py\", line 598, in _fit_and_score\n",
      "    estimator.fit(X_train, y_train, **fit_params)\n",
      "  File \"E:\\Anaconda\\envs\\notebook\\lib\\site-packages\\sklearn\\linear_model\\_logistic.py\", line 1306, in fit\n",
      "    solver = _check_solver(self.solver, self.penalty, self.dual)\n",
      "  File \"E:\\Anaconda\\envs\\notebook\\lib\\site-packages\\sklearn\\linear_model\\_logistic.py\", line 444, in _check_solver\n",
      "    \"got %s penalty.\" % (solver, penalty))\n",
      "ValueError: Solver lbfgs supports only 'l2' or 'none' penalties, got l1 penalty.\n",
      "\n",
      "\n",
      "E:\\Anaconda\\envs\\notebook\\lib\\site-packages\\sklearn\\model_selection\\_validation.py:619: FitFailedWarning:\n",
      "\n",
      "Estimator fit failed. The score on this train-test partition for these parameters will be set to nan. Details: \n",
      "Traceback (most recent call last):\n",
      "  File \"E:\\Anaconda\\envs\\notebook\\lib\\site-packages\\sklearn\\model_selection\\_validation.py\", line 598, in _fit_and_score\n",
      "    estimator.fit(X_train, y_train, **fit_params)\n",
      "  File \"E:\\Anaconda\\envs\\notebook\\lib\\site-packages\\sklearn\\linear_model\\_logistic.py\", line 1306, in fit\n",
      "    solver = _check_solver(self.solver, self.penalty, self.dual)\n",
      "  File \"E:\\Anaconda\\envs\\notebook\\lib\\site-packages\\sklearn\\linear_model\\_logistic.py\", line 444, in _check_solver\n",
      "    \"got %s penalty.\" % (solver, penalty))\n",
      "ValueError: Solver lbfgs supports only 'l2' or 'none' penalties, got l1 penalty.\n",
      "\n",
      "\n",
      "E:\\Anaconda\\envs\\notebook\\lib\\site-packages\\sklearn\\model_selection\\_validation.py:619: FitFailedWarning:\n",
      "\n",
      "Estimator fit failed. The score on this train-test partition for these parameters will be set to nan. Details: \n",
      "Traceback (most recent call last):\n",
      "  File \"E:\\Anaconda\\envs\\notebook\\lib\\site-packages\\sklearn\\model_selection\\_validation.py\", line 598, in _fit_and_score\n",
      "    estimator.fit(X_train, y_train, **fit_params)\n",
      "  File \"E:\\Anaconda\\envs\\notebook\\lib\\site-packages\\sklearn\\linear_model\\_logistic.py\", line 1306, in fit\n",
      "    solver = _check_solver(self.solver, self.penalty, self.dual)\n",
      "  File \"E:\\Anaconda\\envs\\notebook\\lib\\site-packages\\sklearn\\linear_model\\_logistic.py\", line 444, in _check_solver\n",
      "    \"got %s penalty.\" % (solver, penalty))\n",
      "ValueError: Solver lbfgs supports only 'l2' or 'none' penalties, got l1 penalty.\n",
      "\n",
      "\n",
      "E:\\Anaconda\\envs\\notebook\\lib\\site-packages\\sklearn\\model_selection\\_validation.py:619: FitFailedWarning:\n",
      "\n",
      "Estimator fit failed. The score on this train-test partition for these parameters will be set to nan. Details: \n",
      "Traceback (most recent call last):\n",
      "  File \"E:\\Anaconda\\envs\\notebook\\lib\\site-packages\\sklearn\\model_selection\\_validation.py\", line 598, in _fit_and_score\n",
      "    estimator.fit(X_train, y_train, **fit_params)\n",
      "  File \"E:\\Anaconda\\envs\\notebook\\lib\\site-packages\\sklearn\\linear_model\\_logistic.py\", line 1306, in fit\n",
      "    solver = _check_solver(self.solver, self.penalty, self.dual)\n",
      "  File \"E:\\Anaconda\\envs\\notebook\\lib\\site-packages\\sklearn\\linear_model\\_logistic.py\", line 444, in _check_solver\n",
      "    \"got %s penalty.\" % (solver, penalty))\n",
      "ValueError: Solver lbfgs supports only 'l2' or 'none' penalties, got l1 penalty.\n",
      "\n",
      "\n",
      "E:\\Anaconda\\envs\\notebook\\lib\\site-packages\\sklearn\\model_selection\\_validation.py:619: FitFailedWarning:\n",
      "\n",
      "Estimator fit failed. The score on this train-test partition for these parameters will be set to nan. Details: \n",
      "Traceback (most recent call last):\n",
      "  File \"E:\\Anaconda\\envs\\notebook\\lib\\site-packages\\sklearn\\model_selection\\_validation.py\", line 598, in _fit_and_score\n",
      "    estimator.fit(X_train, y_train, **fit_params)\n",
      "  File \"E:\\Anaconda\\envs\\notebook\\lib\\site-packages\\sklearn\\linear_model\\_logistic.py\", line 1306, in fit\n",
      "    solver = _check_solver(self.solver, self.penalty, self.dual)\n",
      "  File \"E:\\Anaconda\\envs\\notebook\\lib\\site-packages\\sklearn\\linear_model\\_logistic.py\", line 444, in _check_solver\n",
      "    \"got %s penalty.\" % (solver, penalty))\n",
      "ValueError: Solver lbfgs supports only 'l2' or 'none' penalties, got l1 penalty.\n",
      "\n",
      "\n",
      "E:\\Anaconda\\envs\\notebook\\lib\\site-packages\\sklearn\\model_selection\\_validation.py:619: FitFailedWarning:\n",
      "\n",
      "Estimator fit failed. The score on this train-test partition for these parameters will be set to nan. Details: \n",
      "Traceback (most recent call last):\n",
      "  File \"E:\\Anaconda\\envs\\notebook\\lib\\site-packages\\sklearn\\model_selection\\_validation.py\", line 598, in _fit_and_score\n",
      "    estimator.fit(X_train, y_train, **fit_params)\n",
      "  File \"E:\\Anaconda\\envs\\notebook\\lib\\site-packages\\sklearn\\linear_model\\_logistic.py\", line 1306, in fit\n",
      "    solver = _check_solver(self.solver, self.penalty, self.dual)\n",
      "  File \"E:\\Anaconda\\envs\\notebook\\lib\\site-packages\\sklearn\\linear_model\\_logistic.py\", line 444, in _check_solver\n",
      "    \"got %s penalty.\" % (solver, penalty))\n",
      "ValueError: Solver lbfgs supports only 'l2' or 'none' penalties, got l1 penalty.\n",
      "\n",
      "\n",
      "E:\\Anaconda\\envs\\notebook\\lib\\site-packages\\sklearn\\model_selection\\_validation.py:619: FitFailedWarning:\n",
      "\n",
      "Estimator fit failed. The score on this train-test partition for these parameters will be set to nan. Details: \n",
      "Traceback (most recent call last):\n",
      "  File \"E:\\Anaconda\\envs\\notebook\\lib\\site-packages\\sklearn\\model_selection\\_validation.py\", line 598, in _fit_and_score\n",
      "    estimator.fit(X_train, y_train, **fit_params)\n",
      "  File \"E:\\Anaconda\\envs\\notebook\\lib\\site-packages\\sklearn\\linear_model\\_logistic.py\", line 1306, in fit\n",
      "    solver = _check_solver(self.solver, self.penalty, self.dual)\n",
      "  File \"E:\\Anaconda\\envs\\notebook\\lib\\site-packages\\sklearn\\linear_model\\_logistic.py\", line 444, in _check_solver\n",
      "    \"got %s penalty.\" % (solver, penalty))\n",
      "ValueError: Solver lbfgs supports only 'l2' or 'none' penalties, got l1 penalty.\n",
      "\n",
      "\n",
      "E:\\Anaconda\\envs\\notebook\\lib\\site-packages\\sklearn\\model_selection\\_validation.py:619: FitFailedWarning:\n",
      "\n",
      "Estimator fit failed. The score on this train-test partition for these parameters will be set to nan. Details: \n",
      "Traceback (most recent call last):\n",
      "  File \"E:\\Anaconda\\envs\\notebook\\lib\\site-packages\\sklearn\\model_selection\\_validation.py\", line 598, in _fit_and_score\n",
      "    estimator.fit(X_train, y_train, **fit_params)\n",
      "  File \"E:\\Anaconda\\envs\\notebook\\lib\\site-packages\\sklearn\\linear_model\\_logistic.py\", line 1306, in fit\n",
      "    solver = _check_solver(self.solver, self.penalty, self.dual)\n",
      "  File \"E:\\Anaconda\\envs\\notebook\\lib\\site-packages\\sklearn\\linear_model\\_logistic.py\", line 444, in _check_solver\n",
      "    \"got %s penalty.\" % (solver, penalty))\n",
      "ValueError: Solver lbfgs supports only 'l2' or 'none' penalties, got l1 penalty.\n",
      "\n",
      "\n"
     ]
    },
    {
     "name": "stderr",
     "output_type": "stream",
     "text": [
      "E:\\Anaconda\\envs\\notebook\\lib\\site-packages\\sklearn\\model_selection\\_validation.py:619: FitFailedWarning:\n",
      "\n",
      "Estimator fit failed. The score on this train-test partition for these parameters will be set to nan. Details: \n",
      "Traceback (most recent call last):\n",
      "  File \"E:\\Anaconda\\envs\\notebook\\lib\\site-packages\\sklearn\\model_selection\\_validation.py\", line 598, in _fit_and_score\n",
      "    estimator.fit(X_train, y_train, **fit_params)\n",
      "  File \"E:\\Anaconda\\envs\\notebook\\lib\\site-packages\\sklearn\\linear_model\\_logistic.py\", line 1306, in fit\n",
      "    solver = _check_solver(self.solver, self.penalty, self.dual)\n",
      "  File \"E:\\Anaconda\\envs\\notebook\\lib\\site-packages\\sklearn\\linear_model\\_logistic.py\", line 444, in _check_solver\n",
      "    \"got %s penalty.\" % (solver, penalty))\n",
      "ValueError: Solver lbfgs supports only 'l2' or 'none' penalties, got l1 penalty.\n",
      "\n",
      "\n",
      "E:\\Anaconda\\envs\\notebook\\lib\\site-packages\\sklearn\\model_selection\\_validation.py:619: FitFailedWarning:\n",
      "\n",
      "Estimator fit failed. The score on this train-test partition for these parameters will be set to nan. Details: \n",
      "Traceback (most recent call last):\n",
      "  File \"E:\\Anaconda\\envs\\notebook\\lib\\site-packages\\sklearn\\model_selection\\_validation.py\", line 598, in _fit_and_score\n",
      "    estimator.fit(X_train, y_train, **fit_params)\n",
      "  File \"E:\\Anaconda\\envs\\notebook\\lib\\site-packages\\sklearn\\linear_model\\_logistic.py\", line 1306, in fit\n",
      "    solver = _check_solver(self.solver, self.penalty, self.dual)\n",
      "  File \"E:\\Anaconda\\envs\\notebook\\lib\\site-packages\\sklearn\\linear_model\\_logistic.py\", line 444, in _check_solver\n",
      "    \"got %s penalty.\" % (solver, penalty))\n",
      "ValueError: Solver lbfgs supports only 'l2' or 'none' penalties, got l1 penalty.\n",
      "\n",
      "\n",
      "E:\\Anaconda\\envs\\notebook\\lib\\site-packages\\sklearn\\model_selection\\_validation.py:619: FitFailedWarning:\n",
      "\n",
      "Estimator fit failed. The score on this train-test partition for these parameters will be set to nan. Details: \n",
      "Traceback (most recent call last):\n",
      "  File \"E:\\Anaconda\\envs\\notebook\\lib\\site-packages\\sklearn\\model_selection\\_validation.py\", line 598, in _fit_and_score\n",
      "    estimator.fit(X_train, y_train, **fit_params)\n",
      "  File \"E:\\Anaconda\\envs\\notebook\\lib\\site-packages\\sklearn\\linear_model\\_logistic.py\", line 1306, in fit\n",
      "    solver = _check_solver(self.solver, self.penalty, self.dual)\n",
      "  File \"E:\\Anaconda\\envs\\notebook\\lib\\site-packages\\sklearn\\linear_model\\_logistic.py\", line 444, in _check_solver\n",
      "    \"got %s penalty.\" % (solver, penalty))\n",
      "ValueError: Solver lbfgs supports only 'l2' or 'none' penalties, got l1 penalty.\n",
      "\n",
      "\n",
      "E:\\Anaconda\\envs\\notebook\\lib\\site-packages\\sklearn\\model_selection\\_validation.py:619: FitFailedWarning:\n",
      "\n",
      "Estimator fit failed. The score on this train-test partition for these parameters will be set to nan. Details: \n",
      "Traceback (most recent call last):\n",
      "  File \"E:\\Anaconda\\envs\\notebook\\lib\\site-packages\\sklearn\\model_selection\\_validation.py\", line 598, in _fit_and_score\n",
      "    estimator.fit(X_train, y_train, **fit_params)\n",
      "  File \"E:\\Anaconda\\envs\\notebook\\lib\\site-packages\\sklearn\\linear_model\\_logistic.py\", line 1306, in fit\n",
      "    solver = _check_solver(self.solver, self.penalty, self.dual)\n",
      "  File \"E:\\Anaconda\\envs\\notebook\\lib\\site-packages\\sklearn\\linear_model\\_logistic.py\", line 444, in _check_solver\n",
      "    \"got %s penalty.\" % (solver, penalty))\n",
      "ValueError: Solver lbfgs supports only 'l2' or 'none' penalties, got l1 penalty.\n",
      "\n",
      "\n",
      "E:\\Anaconda\\envs\\notebook\\lib\\site-packages\\sklearn\\model_selection\\_validation.py:619: FitFailedWarning:\n",
      "\n",
      "Estimator fit failed. The score on this train-test partition for these parameters will be set to nan. Details: \n",
      "Traceback (most recent call last):\n",
      "  File \"E:\\Anaconda\\envs\\notebook\\lib\\site-packages\\sklearn\\model_selection\\_validation.py\", line 598, in _fit_and_score\n",
      "    estimator.fit(X_train, y_train, **fit_params)\n",
      "  File \"E:\\Anaconda\\envs\\notebook\\lib\\site-packages\\sklearn\\linear_model\\_logistic.py\", line 1306, in fit\n",
      "    solver = _check_solver(self.solver, self.penalty, self.dual)\n",
      "  File \"E:\\Anaconda\\envs\\notebook\\lib\\site-packages\\sklearn\\linear_model\\_logistic.py\", line 444, in _check_solver\n",
      "    \"got %s penalty.\" % (solver, penalty))\n",
      "ValueError: Solver lbfgs supports only 'l2' or 'none' penalties, got l1 penalty.\n",
      "\n",
      "\n",
      "E:\\Anaconda\\envs\\notebook\\lib\\site-packages\\sklearn\\model_selection\\_validation.py:619: FitFailedWarning:\n",
      "\n",
      "Estimator fit failed. The score on this train-test partition for these parameters will be set to nan. Details: \n",
      "Traceback (most recent call last):\n",
      "  File \"E:\\Anaconda\\envs\\notebook\\lib\\site-packages\\sklearn\\model_selection\\_validation.py\", line 598, in _fit_and_score\n",
      "    estimator.fit(X_train, y_train, **fit_params)\n",
      "  File \"E:\\Anaconda\\envs\\notebook\\lib\\site-packages\\sklearn\\linear_model\\_logistic.py\", line 1306, in fit\n",
      "    solver = _check_solver(self.solver, self.penalty, self.dual)\n",
      "  File \"E:\\Anaconda\\envs\\notebook\\lib\\site-packages\\sklearn\\linear_model\\_logistic.py\", line 444, in _check_solver\n",
      "    \"got %s penalty.\" % (solver, penalty))\n",
      "ValueError: Solver lbfgs supports only 'l2' or 'none' penalties, got l1 penalty.\n",
      "\n",
      "\n",
      "E:\\Anaconda\\envs\\notebook\\lib\\site-packages\\sklearn\\model_selection\\_validation.py:619: FitFailedWarning:\n",
      "\n",
      "Estimator fit failed. The score on this train-test partition for these parameters will be set to nan. Details: \n",
      "Traceback (most recent call last):\n",
      "  File \"E:\\Anaconda\\envs\\notebook\\lib\\site-packages\\sklearn\\model_selection\\_validation.py\", line 598, in _fit_and_score\n",
      "    estimator.fit(X_train, y_train, **fit_params)\n",
      "  File \"E:\\Anaconda\\envs\\notebook\\lib\\site-packages\\sklearn\\linear_model\\_logistic.py\", line 1306, in fit\n",
      "    solver = _check_solver(self.solver, self.penalty, self.dual)\n",
      "  File \"E:\\Anaconda\\envs\\notebook\\lib\\site-packages\\sklearn\\linear_model\\_logistic.py\", line 444, in _check_solver\n",
      "    \"got %s penalty.\" % (solver, penalty))\n",
      "ValueError: Solver lbfgs supports only 'l2' or 'none' penalties, got l1 penalty.\n",
      "\n",
      "\n",
      "E:\\Anaconda\\envs\\notebook\\lib\\site-packages\\sklearn\\model_selection\\_validation.py:619: FitFailedWarning:\n",
      "\n",
      "Estimator fit failed. The score on this train-test partition for these parameters will be set to nan. Details: \n",
      "Traceback (most recent call last):\n",
      "  File \"E:\\Anaconda\\envs\\notebook\\lib\\site-packages\\sklearn\\model_selection\\_validation.py\", line 598, in _fit_and_score\n",
      "    estimator.fit(X_train, y_train, **fit_params)\n",
      "  File \"E:\\Anaconda\\envs\\notebook\\lib\\site-packages\\sklearn\\linear_model\\_logistic.py\", line 1306, in fit\n",
      "    solver = _check_solver(self.solver, self.penalty, self.dual)\n",
      "  File \"E:\\Anaconda\\envs\\notebook\\lib\\site-packages\\sklearn\\linear_model\\_logistic.py\", line 444, in _check_solver\n",
      "    \"got %s penalty.\" % (solver, penalty))\n",
      "ValueError: Solver lbfgs supports only 'l2' or 'none' penalties, got l1 penalty.\n",
      "\n",
      "\n",
      "E:\\Anaconda\\envs\\notebook\\lib\\site-packages\\sklearn\\model_selection\\_validation.py:619: FitFailedWarning:\n",
      "\n",
      "Estimator fit failed. The score on this train-test partition for these parameters will be set to nan. Details: \n",
      "Traceback (most recent call last):\n",
      "  File \"E:\\Anaconda\\envs\\notebook\\lib\\site-packages\\sklearn\\model_selection\\_validation.py\", line 598, in _fit_and_score\n",
      "    estimator.fit(X_train, y_train, **fit_params)\n",
      "  File \"E:\\Anaconda\\envs\\notebook\\lib\\site-packages\\sklearn\\linear_model\\_logistic.py\", line 1306, in fit\n",
      "    solver = _check_solver(self.solver, self.penalty, self.dual)\n",
      "  File \"E:\\Anaconda\\envs\\notebook\\lib\\site-packages\\sklearn\\linear_model\\_logistic.py\", line 444, in _check_solver\n",
      "    \"got %s penalty.\" % (solver, penalty))\n",
      "ValueError: Solver lbfgs supports only 'l2' or 'none' penalties, got l1 penalty.\n",
      "\n",
      "\n",
      "E:\\Anaconda\\envs\\notebook\\lib\\site-packages\\sklearn\\model_selection\\_validation.py:619: FitFailedWarning:\n",
      "\n",
      "Estimator fit failed. The score on this train-test partition for these parameters will be set to nan. Details: \n",
      "Traceback (most recent call last):\n",
      "  File \"E:\\Anaconda\\envs\\notebook\\lib\\site-packages\\sklearn\\model_selection\\_validation.py\", line 598, in _fit_and_score\n",
      "    estimator.fit(X_train, y_train, **fit_params)\n",
      "  File \"E:\\Anaconda\\envs\\notebook\\lib\\site-packages\\sklearn\\linear_model\\_logistic.py\", line 1306, in fit\n",
      "    solver = _check_solver(self.solver, self.penalty, self.dual)\n",
      "  File \"E:\\Anaconda\\envs\\notebook\\lib\\site-packages\\sklearn\\linear_model\\_logistic.py\", line 444, in _check_solver\n",
      "    \"got %s penalty.\" % (solver, penalty))\n",
      "ValueError: Solver lbfgs supports only 'l2' or 'none' penalties, got l1 penalty.\n",
      "\n",
      "\n",
      "E:\\Anaconda\\envs\\notebook\\lib\\site-packages\\sklearn\\model_selection\\_validation.py:619: FitFailedWarning:\n",
      "\n",
      "Estimator fit failed. The score on this train-test partition for these parameters will be set to nan. Details: \n",
      "Traceback (most recent call last):\n",
      "  File \"E:\\Anaconda\\envs\\notebook\\lib\\site-packages\\sklearn\\model_selection\\_validation.py\", line 598, in _fit_and_score\n",
      "    estimator.fit(X_train, y_train, **fit_params)\n",
      "  File \"E:\\Anaconda\\envs\\notebook\\lib\\site-packages\\sklearn\\linear_model\\_logistic.py\", line 1306, in fit\n",
      "    solver = _check_solver(self.solver, self.penalty, self.dual)\n",
      "  File \"E:\\Anaconda\\envs\\notebook\\lib\\site-packages\\sklearn\\linear_model\\_logistic.py\", line 444, in _check_solver\n",
      "    \"got %s penalty.\" % (solver, penalty))\n",
      "ValueError: Solver lbfgs supports only 'l2' or 'none' penalties, got l1 penalty.\n",
      "\n",
      "\n",
      "E:\\Anaconda\\envs\\notebook\\lib\\site-packages\\sklearn\\model_selection\\_validation.py:619: FitFailedWarning:\n",
      "\n",
      "Estimator fit failed. The score on this train-test partition for these parameters will be set to nan. Details: \n",
      "Traceback (most recent call last):\n",
      "  File \"E:\\Anaconda\\envs\\notebook\\lib\\site-packages\\sklearn\\model_selection\\_validation.py\", line 598, in _fit_and_score\n",
      "    estimator.fit(X_train, y_train, **fit_params)\n",
      "  File \"E:\\Anaconda\\envs\\notebook\\lib\\site-packages\\sklearn\\linear_model\\_logistic.py\", line 1306, in fit\n",
      "    solver = _check_solver(self.solver, self.penalty, self.dual)\n",
      "  File \"E:\\Anaconda\\envs\\notebook\\lib\\site-packages\\sklearn\\linear_model\\_logistic.py\", line 444, in _check_solver\n",
      "    \"got %s penalty.\" % (solver, penalty))\n",
      "ValueError: Solver lbfgs supports only 'l2' or 'none' penalties, got l1 penalty.\n",
      "\n",
      "\n",
      "E:\\Anaconda\\envs\\notebook\\lib\\site-packages\\sklearn\\model_selection\\_validation.py:619: FitFailedWarning:\n",
      "\n",
      "Estimator fit failed. The score on this train-test partition for these parameters will be set to nan. Details: \n",
      "Traceback (most recent call last):\n",
      "  File \"E:\\Anaconda\\envs\\notebook\\lib\\site-packages\\sklearn\\model_selection\\_validation.py\", line 598, in _fit_and_score\n",
      "    estimator.fit(X_train, y_train, **fit_params)\n",
      "  File \"E:\\Anaconda\\envs\\notebook\\lib\\site-packages\\sklearn\\linear_model\\_logistic.py\", line 1306, in fit\n",
      "    solver = _check_solver(self.solver, self.penalty, self.dual)\n",
      "  File \"E:\\Anaconda\\envs\\notebook\\lib\\site-packages\\sklearn\\linear_model\\_logistic.py\", line 444, in _check_solver\n",
      "    \"got %s penalty.\" % (solver, penalty))\n",
      "ValueError: Solver lbfgs supports only 'l2' or 'none' penalties, got l1 penalty.\n",
      "\n",
      "\n",
      "E:\\Anaconda\\envs\\notebook\\lib\\site-packages\\sklearn\\model_selection\\_validation.py:619: FitFailedWarning:\n",
      "\n",
      "Estimator fit failed. The score on this train-test partition for these parameters will be set to nan. Details: \n",
      "Traceback (most recent call last):\n",
      "  File \"E:\\Anaconda\\envs\\notebook\\lib\\site-packages\\sklearn\\model_selection\\_validation.py\", line 598, in _fit_and_score\n",
      "    estimator.fit(X_train, y_train, **fit_params)\n",
      "  File \"E:\\Anaconda\\envs\\notebook\\lib\\site-packages\\sklearn\\linear_model\\_logistic.py\", line 1306, in fit\n",
      "    solver = _check_solver(self.solver, self.penalty, self.dual)\n",
      "  File \"E:\\Anaconda\\envs\\notebook\\lib\\site-packages\\sklearn\\linear_model\\_logistic.py\", line 444, in _check_solver\n",
      "    \"got %s penalty.\" % (solver, penalty))\n",
      "ValueError: Solver lbfgs supports only 'l2' or 'none' penalties, got l1 penalty.\n",
      "\n",
      "\n",
      "E:\\Anaconda\\envs\\notebook\\lib\\site-packages\\sklearn\\model_selection\\_validation.py:619: FitFailedWarning:\n",
      "\n",
      "Estimator fit failed. The score on this train-test partition for these parameters will be set to nan. Details: \n",
      "Traceback (most recent call last):\n",
      "  File \"E:\\Anaconda\\envs\\notebook\\lib\\site-packages\\sklearn\\model_selection\\_validation.py\", line 598, in _fit_and_score\n",
      "    estimator.fit(X_train, y_train, **fit_params)\n",
      "  File \"E:\\Anaconda\\envs\\notebook\\lib\\site-packages\\sklearn\\linear_model\\_logistic.py\", line 1306, in fit\n",
      "    solver = _check_solver(self.solver, self.penalty, self.dual)\n",
      "  File \"E:\\Anaconda\\envs\\notebook\\lib\\site-packages\\sklearn\\linear_model\\_logistic.py\", line 444, in _check_solver\n",
      "    \"got %s penalty.\" % (solver, penalty))\n",
      "ValueError: Solver lbfgs supports only 'l2' or 'none' penalties, got l1 penalty.\n",
      "\n",
      "\n"
     ]
    },
    {
     "name": "stderr",
     "output_type": "stream",
     "text": [
      "E:\\Anaconda\\envs\\notebook\\lib\\site-packages\\sklearn\\linear_model\\_logistic.py:765: ConvergenceWarning:\n",
      "\n",
      "lbfgs failed to converge (status=1):\n",
      "STOP: TOTAL NO. of ITERATIONS REACHED LIMIT.\n",
      "\n",
      "Increase the number of iterations (max_iter) or scale the data as shown in:\n",
      "    https://scikit-learn.org/stable/modules/preprocessing.html\n",
      "Please also refer to the documentation for alternative solver options:\n",
      "    https://scikit-learn.org/stable/modules/linear_model.html#logistic-regression\n",
      "\n",
      "E:\\Anaconda\\envs\\notebook\\lib\\site-packages\\sklearn\\linear_model\\_logistic.py:765: ConvergenceWarning:\n",
      "\n",
      "lbfgs failed to converge (status=1):\n",
      "STOP: TOTAL NO. of ITERATIONS REACHED LIMIT.\n",
      "\n",
      "Increase the number of iterations (max_iter) or scale the data as shown in:\n",
      "    https://scikit-learn.org/stable/modules/preprocessing.html\n",
      "Please also refer to the documentation for alternative solver options:\n",
      "    https://scikit-learn.org/stable/modules/linear_model.html#logistic-regression\n",
      "\n",
      "E:\\Anaconda\\envs\\notebook\\lib\\site-packages\\sklearn\\linear_model\\_logistic.py:765: ConvergenceWarning:\n",
      "\n",
      "lbfgs failed to converge (status=1):\n",
      "STOP: TOTAL NO. of ITERATIONS REACHED LIMIT.\n",
      "\n",
      "Increase the number of iterations (max_iter) or scale the data as shown in:\n",
      "    https://scikit-learn.org/stable/modules/preprocessing.html\n",
      "Please also refer to the documentation for alternative solver options:\n",
      "    https://scikit-learn.org/stable/modules/linear_model.html#logistic-regression\n",
      "\n",
      "E:\\Anaconda\\envs\\notebook\\lib\\site-packages\\sklearn\\model_selection\\_search.py:925: UserWarning:\n",
      "\n",
      "One or more of the test scores are non-finite: [       nan        nan        nan 0.89570664 0.89570664 0.89570664\n",
      "        nan        nan        nan 0.89640963 0.89640963 0.89640963\n",
      "        nan        nan        nan 0.89834455 0.89834455 0.89834455]\n",
      "\n"
     ]
    },
    {
     "data": {
      "text/plain": [
       "{'C': 1, 'penalty': 'l2', 'random_state': 1}"
      ]
     },
     "execution_count": 45,
     "metadata": {},
     "output_type": "execute_result"
    }
   ],
   "source": [
    "model_lr.grid_search_best(params={\"penalty\": ['l1', 'l2'],\n",
    "               \"C\":[0.1, 0.3, 1],\n",
    "               \"random_state\":[1, 2, 25]})"
   ]
  },
  {
   "cell_type": "code",
   "execution_count": 47,
   "metadata": {},
   "outputs": [],
   "source": [
    "model_lr.save_model()"
   ]
  },
  {
   "cell_type": "code",
   "execution_count": 48,
   "metadata": {},
   "outputs": [
    {
     "name": "stdout",
     "output_type": "stream",
     "text": [
      "Preparation of a new explainer is initiated\n",
      "\n",
      "  -> data              : 5686 rows 24 cols\n",
      "  -> target variable   : 5686 values\n",
      "  -> model_class       : sklearn.linear_model._logistic.LogisticRegression (default)\n",
      "  -> label             : Not specified, model's class short name will be used. (default)\n",
      "  -> predict function  : <function yhat_proba_default at 0x00000294CD69F048> will be used (default)\n",
      "  -> predict function  : Accepts pandas.DataFrame and numpy.ndarray.\n",
      "  -> predicted values  : min = 0.000362, mean = 0.481, max = 0.997\n",
      "  -> model type        : classification will be used (default)\n",
      "  -> residual function : difference between y and yhat (default)\n",
      "  -> residuals         : min = -0.99, mean = -2.9e-07, max = 1.0\n",
      "  -> model_info        : package sklearn\n",
      "\n",
      "A new explainer has been created!\n"
     ]
    },
    {
     "data": {
      "application/vnd.plotly.v1+json": {
       "config": {
        "displaylogo": false,
        "modeBarButtonsToRemove": [
         "sendDataToCloud",
         "lasso2d",
         "autoScale2d",
         "select2d",
         "zoom2d",
         "pan2d",
         "zoomIn2d",
         "zoomOut2d",
         "resetScale2d",
         "toggleSpikelines",
         "hoverCompareCartesian",
         "hoverClosestCartesian"
        ],
        "plotlyServerURL": "https://plot.ly",
        "staticPlot": false,
        "toImageButtonOptions": {
         "height": null,
         "width": null
        }
       },
       "data": [
        {
         "base": 0.0645746688391588,
         "hoverinfo": "text",
         "hoverlabel": {
          "bgcolor": "rgba(0,0,0,0.8)"
         },
         "hovertext": [
          "Model: LogisticRegression loss after<br>variable: bruises_f is permuted: 0.132<br>Drop-out loss change: +0.068",
          "Model: LogisticRegression loss after<br>variable: bruises_t is permuted: 0.132<br>Drop-out loss change: +0.067",
          "Model: LogisticRegression loss after<br>variable: gill-spacing_c is permuted: 0.11<br>Drop-out loss change: +0.046",
          "Model: LogisticRegression loss after<br>variable: gill-spacing_w is permuted: 0.108<br>Drop-out loss change: +0.044",
          "Model: LogisticRegression loss after<br>variable: cap-color_n is permuted: 0.087<br>Drop-out loss change: +0.023",
          "Model: LogisticRegression loss after<br>variable: cap-surface_f is permuted: 0.081<br>Drop-out loss change: +0.017",
          "Model: LogisticRegression loss after<br>variable: cap-shape_x is permuted: 0.075<br>Drop-out loss change: +0.01",
          "Model: LogisticRegression loss after<br>variable: cap-shape_f is permuted: 0.074<br>Drop-out loss change: +0.01",
          "Model: LogisticRegression loss after<br>variable: cap-color_other is permuted: 0.073<br>Drop-out loss change: +0.008",
          "Model: LogisticRegression loss after<br>variable: cap-color_w is permuted: 0.07<br>Drop-out loss change: +0.006"
         ],
         "marker": {
          "color": "#46bac2"
         },
         "orientation": "h",
         "showlegend": false,
         "text": [
          "+0.068",
          "+0.067",
          "+0.046",
          "+0.044",
          "+0.023",
          "+0.017",
          "+0.01",
          "+0.01",
          "+0.008",
          "+0.006"
         ],
         "textposition": "outside",
         "type": "bar",
         "x": [
          0.06783539442024542,
          0.06713619321364545,
          0.04554706402031447,
          0.043557172295493246,
          0.02289881459768542,
          0.016673401602212604,
          0.010471039997964171,
          0.009671020824762164,
          0.008412821882218091,
          0.005610735231298458
         ],
         "xaxis": "x",
         "y": [
          "bruises_f",
          "bruises_t",
          "gill-spacing_c",
          "gill-spacing_w",
          "cap-color_n",
          "cap-surface_f",
          "cap-shape_x",
          "cap-shape_f",
          "cap-color_other",
          "cap-color_w"
         ],
         "yaxis": "y"
        }
       ],
       "layout": {
        "annotations": [
         {
          "font": {
           "size": 16
          },
          "showarrow": false,
          "text": "LogisticRegression",
          "x": 0.5,
          "xanchor": "center",
          "xref": "paper",
          "y": 1,
          "yanchor": "bottom",
          "yref": "paper"
         },
         {
          "font": {
           "size": 16
          },
          "showarrow": false,
          "text": "drop-out loss",
          "x": 0.5,
          "xanchor": "center",
          "xref": "paper",
          "y": 0,
          "yanchor": "top",
          "yref": "paper",
          "yshift": -30
         }
        ],
        "font": {
         "color": "#371ea3"
        },
        "height": 383,
        "margin": {
         "b": 71,
         "r": 30,
         "t": 78
        },
        "shapes": [
         {
          "line": {
           "color": "#371ea3",
           "dash": "dot",
           "width": 1.5
          },
          "type": "line",
          "x0": 0.0645746688391588,
          "x1": 0.0645746688391588,
          "xref": "x",
          "y0": -1,
          "y1": 10,
          "yref": "y"
         }
        ],
        "template": {
         "data": {
          "scatter": [
           {
            "type": "scatter"
           }
          ]
         }
        },
        "title": {
         "text": "Variable Importance",
         "x": 0.15
        },
        "xaxis": {
         "anchor": "y",
         "automargin": true,
         "domain": [
          0,
          1
         ],
         "fixedrange": true,
         "gridwidth": 2,
         "range": [
          0.05413444467389354,
          0.14261992655316647
         ],
         "tickcolor": "white",
         "ticklen": 3,
         "ticks": "outside",
         "type": "linear",
         "zeroline": false
        },
        "yaxis": {
         "anchor": "x",
         "automargin": true,
         "autorange": "reversed",
         "domain": [
          0,
          1
         ],
         "fixedrange": true,
         "gridwidth": 2,
         "tickcolor": "white",
         "ticklen": 10,
         "ticks": "outside",
         "type": "category"
        }
       }
      },
      "text/html": [
       "<div>                            <div id=\"6e54205a-7187-434d-852f-591f1b8a7f7e\" class=\"plotly-graph-div\" style=\"height:383.0px; width:100%;\"></div>            <script type=\"text/javascript\">                require([\"plotly\"], function(Plotly) {                    window.PLOTLYENV=window.PLOTLYENV || {};                                    if (document.getElementById(\"6e54205a-7187-434d-852f-591f1b8a7f7e\")) {                    Plotly.newPlot(                        \"6e54205a-7187-434d-852f-591f1b8a7f7e\",                        [{\"base\": 0.0645746688391588, \"hoverinfo\": \"text\", \"hoverlabel\": {\"bgcolor\": \"rgba(0,0,0,0.8)\"}, \"hovertext\": [\"Model: LogisticRegression loss after<br>variable: bruises_f is permuted: 0.132<br>Drop-out loss change: +0.068\", \"Model: LogisticRegression loss after<br>variable: bruises_t is permuted: 0.132<br>Drop-out loss change: +0.067\", \"Model: LogisticRegression loss after<br>variable: gill-spacing_c is permuted: 0.11<br>Drop-out loss change: +0.046\", \"Model: LogisticRegression loss after<br>variable: gill-spacing_w is permuted: 0.108<br>Drop-out loss change: +0.044\", \"Model: LogisticRegression loss after<br>variable: cap-color_n is permuted: 0.087<br>Drop-out loss change: +0.023\", \"Model: LogisticRegression loss after<br>variable: cap-surface_f is permuted: 0.081<br>Drop-out loss change: +0.017\", \"Model: LogisticRegression loss after<br>variable: cap-shape_x is permuted: 0.075<br>Drop-out loss change: +0.01\", \"Model: LogisticRegression loss after<br>variable: cap-shape_f is permuted: 0.074<br>Drop-out loss change: +0.01\", \"Model: LogisticRegression loss after<br>variable: cap-color_other is permuted: 0.073<br>Drop-out loss change: +0.008\", \"Model: LogisticRegression loss after<br>variable: cap-color_w is permuted: 0.07<br>Drop-out loss change: +0.006\"], \"marker\": {\"color\": \"#46bac2\"}, \"orientation\": \"h\", \"showlegend\": false, \"text\": [\"+0.068\", \"+0.067\", \"+0.046\", \"+0.044\", \"+0.023\", \"+0.017\", \"+0.01\", \"+0.01\", \"+0.008\", \"+0.006\"], \"textposition\": \"outside\", \"type\": \"bar\", \"x\": [0.06783539442024542, 0.06713619321364545, 0.04554706402031447, 0.043557172295493246, 0.02289881459768542, 0.016673401602212604, 0.010471039997964171, 0.009671020824762164, 0.008412821882218091, 0.005610735231298458], \"xaxis\": \"x\", \"y\": [\"bruises_f\", \"bruises_t\", \"gill-spacing_c\", \"gill-spacing_w\", \"cap-color_n\", \"cap-surface_f\", \"cap-shape_x\", \"cap-shape_f\", \"cap-color_other\", \"cap-color_w\"], \"yaxis\": \"y\"}],                        {\"annotations\": [{\"font\": {\"size\": 16}, \"showarrow\": false, \"text\": \"LogisticRegression\", \"x\": 0.5, \"xanchor\": \"center\", \"xref\": \"paper\", \"y\": 1.0, \"yanchor\": \"bottom\", \"yref\": \"paper\"}, {\"font\": {\"size\": 16}, \"showarrow\": false, \"text\": \"drop-out loss\", \"x\": 0.5, \"xanchor\": \"center\", \"xref\": \"paper\", \"y\": 0, \"yanchor\": \"top\", \"yref\": \"paper\", \"yshift\": -30}], \"font\": {\"color\": \"#371ea3\"}, \"height\": 383.0, \"margin\": {\"b\": 71, \"r\": 30, \"t\": 78}, \"shapes\": [{\"line\": {\"color\": \"#371ea3\", \"dash\": \"dot\", \"width\": 1.5}, \"type\": \"line\", \"x0\": 0.0645746688391588, \"x1\": 0.0645746688391588, \"xref\": \"x\", \"y0\": -1, \"y1\": 10, \"yref\": \"y\"}], \"template\": {\"data\": {\"scatter\": [{\"type\": \"scatter\"}]}}, \"title\": {\"text\": \"Variable Importance\", \"x\": 0.15}, \"xaxis\": {\"anchor\": \"y\", \"automargin\": true, \"domain\": [0.0, 1.0], \"fixedrange\": true, \"gridwidth\": 2, \"range\": [0.05413444467389354, 0.14261992655316647], \"tickcolor\": \"white\", \"ticklen\": 3, \"ticks\": \"outside\", \"type\": \"linear\", \"zeroline\": false}, \"yaxis\": {\"anchor\": \"x\", \"automargin\": true, \"autorange\": \"reversed\", \"domain\": [0.0, 1.0], \"fixedrange\": true, \"gridwidth\": 2, \"tickcolor\": \"white\", \"ticklen\": 10, \"ticks\": \"outside\", \"type\": \"category\"}},                        {\"displaylogo\": false, \"staticPlot\": false, \"toImageButtonOptions\": {\"height\": null, \"width\": null}, \"modeBarButtonsToRemove\": [\"sendDataToCloud\", \"lasso2d\", \"autoScale2d\", \"select2d\", \"zoom2d\", \"pan2d\", \"zoomIn2d\", \"zoomOut2d\", \"resetScale2d\", \"toggleSpikelines\", \"hoverCompareCartesian\", \"hoverClosestCartesian\"], \"responsive\": true}                    ).then(function(){\n",
       "                            \n",
       "var gd = document.getElementById('6e54205a-7187-434d-852f-591f1b8a7f7e');\n",
       "var x = new MutationObserver(function (mutations, observer) {{\n",
       "        var display = window.getComputedStyle(gd).display;\n",
       "        if (!display || display === 'none') {{\n",
       "            console.log([gd, 'removed!']);\n",
       "            Plotly.purge(gd);\n",
       "            observer.disconnect();\n",
       "        }}\n",
       "}});\n",
       "\n",
       "// Listen for the removal of the full notebook cells\n",
       "var notebookContainer = gd.closest('#notebook-container');\n",
       "if (notebookContainer) {{\n",
       "    x.observe(notebookContainer, {childList: true});\n",
       "}}\n",
       "\n",
       "// Listen for the clearing of the current output cell\n",
       "var outputEl = gd.closest('.output');\n",
       "if (outputEl) {{\n",
       "    x.observe(outputEl, {childList: true});\n",
       "}}\n",
       "\n",
       "                        })                };                });            </script>        </div>"
      ]
     },
     "metadata": {},
     "output_type": "display_data"
    },
    {
     "data": {
      "text/plain": [
       "(           variable  dropout_loss               label\n",
       " 0       cap-color_g      0.064344  LogisticRegression\n",
       " 1     ring-number_o      0.064556  LogisticRegression\n",
       " 2       cap-shape_b      0.064569  LogisticRegression\n",
       " 3      _full_model_      0.064575  LogisticRegression\n",
       " 4     cap-surface_s      0.064669  LogisticRegression\n",
       " 5     stalk-shape_e      0.064722  LogisticRegression\n",
       " 6     cap-surface_g      0.064760  LogisticRegression\n",
       " 7       cap-color_y      0.064768  LogisticRegression\n",
       " 8     stalk-shape_t      0.064830  LogisticRegression\n",
       " 9     ring-number_n      0.064878  LogisticRegression\n",
       " 10      cap-shape_s      0.065496  LogisticRegression\n",
       " 11    ring-number_t      0.065775  LogisticRegression\n",
       " 12    cap-surface_y      0.065819  LogisticRegression\n",
       " 13  cap-shape_other      0.067727  LogisticRegression\n",
       " 14      cap-color_e      0.069300  LogisticRegression\n",
       " 15      cap-color_w      0.070185  LogisticRegression\n",
       " 16  cap-color_other      0.072987  LogisticRegression\n",
       " 17      cap-shape_f      0.074246  LogisticRegression\n",
       " 18      cap-shape_x      0.075046  LogisticRegression\n",
       " 19    cap-surface_f      0.081248  LogisticRegression\n",
       " 20      cap-color_n      0.087473  LogisticRegression\n",
       " 21   gill-spacing_w      0.108132  LogisticRegression\n",
       " 22   gill-spacing_c      0.110122  LogisticRegression\n",
       " 23        bruises_t      0.131711  LogisticRegression\n",
       " 24        bruises_f      0.132410  LogisticRegression\n",
       " 25       _baseline_      0.514374  LogisticRegression,\n",
       " None)"
      ]
     },
     "execution_count": 48,
     "metadata": {},
     "output_type": "execute_result"
    }
   ],
   "source": [
    "model_lr.model_explore()"
   ]
  },
  {
   "cell_type": "code",
   "execution_count": 50,
   "metadata": {},
   "outputs": [
    {
     "name": "stdout",
     "output_type": "stream",
     "text": [
      "Accuracy score for train set is 0.9839957791065775\n",
      "Accuracy score for test set is 0.9700574241181296\n",
      "F1 score for train set is 0.9832072338069755\n",
      "F1 score for test set is 0.968548039638087\n",
      "\n",
      "Confusion matrix: \n",
      " [[1241   16]\n",
      " [  57 1124]] \n",
      "Classification report: \n",
      "              precision    recall  f1-score   support\n",
      "\n",
      "           0       0.96      0.99      0.97      1257\n",
      "           1       0.99      0.95      0.97      1181\n",
      "\n",
      "    accuracy                           0.97      2438\n",
      "   macro avg       0.97      0.97      0.97      2438\n",
      "weighted avg       0.97      0.97      0.97      2438\n",
      "\n"
     ]
    },
    {
     "data": {
      "image/png": "[encoded data removed]",
      "text/plain": [
       "<Figure size 432x288 with 2 Axes>"
      ]
     },
     "metadata": {
      "needs_background": "light"
     },
     "output_type": "display_data"
    }
   ],
   "source": [
    "#SVC rbf model\n",
    "model_svc=Model(\"mushrooms.csv\",\"class\")\n",
    "model_svc.create_X([\"class\", \"gill-attachment\", \"gill-color\", \"gill-size\", \"habitat\", \"ring-type\", \"stalk-root\", \"stalk-surface-above-ring\", \"stalk-surface-below-ring\", \n",
    "                      \"stalk-color-above-ring\", \"stalk-color-below-ring\", \"veil-type\", \"veil-color\", \"spore-print-color\", \"odor\"])\n",
    "model_svc.categories_normalization()\n",
    "model_svc.data_encoder(OneHotEncoder)\n",
    "model_svc.choose_model('svc', params={'C': 7, 'gamma': 'scale'})\n",
    "model_svc.split(0.3)\n",
    "model_svc.run_model()\n",
    "model_svc.matrix()"
   ]
  },
  {
   "cell_type": "code",
   "execution_count": 49,
   "metadata": {},
   "outputs": [
    {
     "name": "stdout",
     "output_type": "stream",
     "text": [
      "Fitting 5 folds for each of 18 candidates, totalling 90 fits\n"
     ]
    },
    {
     "data": {
      "text/plain": [
       "{'C': 7, 'gamma': 'scale'}"
      ]
     },
     "execution_count": 49,
     "metadata": {},
     "output_type": "execute_result"
    }
   ],
   "source": [
    "model_svc.grid_search_best(params={'gamma':['scale', 'auto'],\n",
    "            'C':list(range(1,10,1)),\n",
    "           })"
   ]
  },
  {
   "cell_type": "code",
   "execution_count": 51,
   "metadata": {},
   "outputs": [
    {
     "name": "stdout",
     "output_type": "stream",
     "text": [
      "Preparation of a new explainer is initiated\n",
      "\n",
      "  -> data              : 5686 rows 28 cols\n",
      "  -> target variable   : 5686 values\n",
      "  -> model_class       : sklearn.svm._classes.SVC (default)\n",
      "  -> label             : Not specified, model's class short name will be used. (default)\n",
      "  -> predict function  : <function yhat_default at 0x00000294CD69F0D8> will be used (default)\n",
      "  -> predict function  : Accepts pandas.DataFrame and numpy.ndarray.\n",
      "  -> predicted values  : min = 0.0, mean = 0.472, max = 1.0\n",
      "  -> model type        : classification will be used (default)\n",
      "  -> residual function : difference between y and yhat (default)\n",
      "  -> residuals         : min = -1.0, mean = 0.00897, max = 1.0\n",
      "  -> model_info        : package sklearn\n",
      "\n",
      "A new explainer has been created!\n"
     ]
    },
    {
     "data": {
      "application/vnd.plotly.v1+json": {
       "config": {
        "displaylogo": false,
        "modeBarButtonsToRemove": [
         "sendDataToCloud",
         "lasso2d",
         "autoScale2d",
         "select2d",
         "zoom2d",
         "pan2d",
         "zoomIn2d",
         "zoomOut2d",
         "resetScale2d",
         "toggleSpikelines",
         "hoverCompareCartesian",
         "hoverClosestCartesian"
        ],
        "plotlyServerURL": "https://plot.ly",
        "staticPlot": false,
        "toImageButtonOptions": {
         "height": null,
         "width": null
        }
       },
       "data": [
        {
         "base": 0.016011027564270287,
         "hoverinfo": "text",
         "hoverlabel": {
          "bgcolor": "rgba(0,0,0,0.8)"
         },
         "hovertext": [
          "Model: SVC loss after<br>variable: cap-surface_s is permuted: 0.11<br>Drop-out loss change: +0.094",
          "Model: SVC loss after<br>variable: bruises_f is permuted: 0.1<br>Drop-out loss change: +0.084",
          "Model: SVC loss after<br>variable: bruises_t is permuted: 0.096<br>Drop-out loss change: +0.08",
          "Model: SVC loss after<br>variable: cap-color_n is permuted: 0.065<br>Drop-out loss change: +0.049",
          "Model: SVC loss after<br>variable: cap-color_w is permuted: 0.055<br>Drop-out loss change: +0.039",
          "Model: SVC loss after<br>variable: gill-spacing_c is permuted: 0.051<br>Drop-out loss change: +0.035",
          "Model: SVC loss after<br>variable: gill-spacing_w is permuted: 0.05<br>Drop-out loss change: +0.034",
          "Model: SVC loss after<br>variable: ring-number_t is permuted: 0.049<br>Drop-out loss change: +0.033",
          "Model: SVC loss after<br>variable: stalk-shape_t is permuted: 0.045<br>Drop-out loss change: +0.029",
          "Model: SVC loss after<br>variable: stalk-shape_e is permuted: 0.045<br>Drop-out loss change: +0.029"
         ],
         "marker": {
          "color": "#46bac2"
         },
         "orientation": "h",
         "showlegend": false,
         "text": [
          "+0.094",
          "+0.084",
          "+0.08",
          "+0.049",
          "+0.039",
          "+0.035",
          "+0.034",
          "+0.033",
          "+0.029",
          "+0.029"
         ],
         "textposition": "outside",
         "type": "bar",
         "x": [
          0.09415362356642945,
          0.08435447754529296,
          0.07951896499500163,
          0.049331892968053064,
          0.039468096779295234,
          0.034894554880639285,
          0.034459517775938905,
          0.033068605049392685,
          0.02877163851229407,
          0.028683847418494397
         ],
         "xaxis": "x",
         "y": [
          "cap-surface_s",
          "bruises_f",
          "bruises_t",
          "cap-color_n",
          "cap-color_w",
          "gill-spacing_c",
          "gill-spacing_w",
          "ring-number_t",
          "stalk-shape_t",
          "stalk-shape_e"
         ],
         "yaxis": "y"
        }
       ],
       "layout": {
        "annotations": [
         {
          "font": {
           "size": 16
          },
          "showarrow": false,
          "text": "SVC",
          "x": 0.5,
          "xanchor": "center",
          "xref": "paper",
          "y": 1,
          "yanchor": "bottom",
          "yref": "paper"
         },
         {
          "font": {
           "size": 16
          },
          "showarrow": false,
          "text": "drop-out loss",
          "x": 0.5,
          "xanchor": "center",
          "xref": "paper",
          "y": 0,
          "yanchor": "top",
          "yref": "paper",
          "yshift": -30
         }
        ],
        "font": {
         "color": "#371ea3"
        },
        "height": 383,
        "margin": {
         "b": 71,
         "r": 30,
         "t": 78
        },
        "shapes": [
         {
          "line": {
           "color": "#371ea3",
           "dash": "dot",
           "width": 1.5
          },
          "type": "line",
          "x0": 0.016011027564270287,
          "x1": 0.016011027564270287,
          "xref": "x",
          "y0": -1,
          "y1": 10,
          "yref": "y"
         }
        ],
        "template": {
         "data": {
          "scatter": [
           {
            "type": "scatter"
           }
          ]
         }
        },
        "title": {
         "text": "Variable Importance",
         "x": 0.15
        },
        "xaxis": {
         "anchor": "y",
         "automargin": true,
         "domain": [
          0,
          1
         ],
         "fixedrange": true,
         "gridwidth": 2,
         "range": [
          0.0018879840293058708,
          0.12428769466566415
         ],
         "tickcolor": "white",
         "ticklen": 3,
         "ticks": "outside",
         "type": "linear",
         "zeroline": false
        },
        "yaxis": {
         "anchor": "x",
         "automargin": true,
         "autorange": "reversed",
         "domain": [
          0,
          1
         ],
         "fixedrange": true,
         "gridwidth": 2,
         "tickcolor": "white",
         "ticklen": 10,
         "ticks": "outside",
         "type": "category"
        }
       }
      },
      "text/html": [
       "<div>                            <div id=\"1886f14e-6a5e-4c45-abbc-e90b816a3dfa\" class=\"plotly-graph-div\" style=\"height:383.0px; width:100%;\"></div>            <script type=\"text/javascript\">                require([\"plotly\"], function(Plotly) {                    window.PLOTLYENV=window.PLOTLYENV || {};                                    if (document.getElementById(\"1886f14e-6a5e-4c45-abbc-e90b816a3dfa\")) {                    Plotly.newPlot(                        \"1886f14e-6a5e-4c45-abbc-e90b816a3dfa\",                        [{\"base\": 0.016011027564270287, \"hoverinfo\": \"text\", \"hoverlabel\": {\"bgcolor\": \"rgba(0,0,0,0.8)\"}, \"hovertext\": [\"Model: SVC loss after<br>variable: cap-surface_s is permuted: 0.11<br>Drop-out loss change: +0.094\", \"Model: SVC loss after<br>variable: bruises_f is permuted: 0.1<br>Drop-out loss change: +0.084\", \"Model: SVC loss after<br>variable: bruises_t is permuted: 0.096<br>Drop-out loss change: +0.08\", \"Model: SVC loss after<br>variable: cap-color_n is permuted: 0.065<br>Drop-out loss change: +0.049\", \"Model: SVC loss after<br>variable: cap-color_w is permuted: 0.055<br>Drop-out loss change: +0.039\", \"Model: SVC loss after<br>variable: gill-spacing_c is permuted: 0.051<br>Drop-out loss change: +0.035\", \"Model: SVC loss after<br>variable: gill-spacing_w is permuted: 0.05<br>Drop-out loss change: +0.034\", \"Model: SVC loss after<br>variable: ring-number_t is permuted: 0.049<br>Drop-out loss change: +0.033\", \"Model: SVC loss after<br>variable: stalk-shape_t is permuted: 0.045<br>Drop-out loss change: +0.029\", \"Model: SVC loss after<br>variable: stalk-shape_e is permuted: 0.045<br>Drop-out loss change: +0.029\"], \"marker\": {\"color\": \"#46bac2\"}, \"orientation\": \"h\", \"showlegend\": false, \"text\": [\"+0.094\", \"+0.084\", \"+0.08\", \"+0.049\", \"+0.039\", \"+0.035\", \"+0.034\", \"+0.033\", \"+0.029\", \"+0.029\"], \"textposition\": \"outside\", \"type\": \"bar\", \"x\": [0.09415362356642945, 0.08435447754529296, 0.07951896499500163, 0.049331892968053064, 0.039468096779295234, 0.034894554880639285, 0.034459517775938905, 0.033068605049392685, 0.02877163851229407, 0.028683847418494397], \"xaxis\": \"x\", \"y\": [\"cap-surface_s\", \"bruises_f\", \"bruises_t\", \"cap-color_n\", \"cap-color_w\", \"gill-spacing_c\", \"gill-spacing_w\", \"ring-number_t\", \"stalk-shape_t\", \"stalk-shape_e\"], \"yaxis\": \"y\"}],                        {\"annotations\": [{\"font\": {\"size\": 16}, \"showarrow\": false, \"text\": \"SVC\", \"x\": 0.5, \"xanchor\": \"center\", \"xref\": \"paper\", \"y\": 1.0, \"yanchor\": \"bottom\", \"yref\": \"paper\"}, {\"font\": {\"size\": 16}, \"showarrow\": false, \"text\": \"drop-out loss\", \"x\": 0.5, \"xanchor\": \"center\", \"xref\": \"paper\", \"y\": 0, \"yanchor\": \"top\", \"yref\": \"paper\", \"yshift\": -30}], \"font\": {\"color\": \"#371ea3\"}, \"height\": 383.0, \"margin\": {\"b\": 71, \"r\": 30, \"t\": 78}, \"shapes\": [{\"line\": {\"color\": \"#371ea3\", \"dash\": \"dot\", \"width\": 1.5}, \"type\": \"line\", \"x0\": 0.016011027564270287, \"x1\": 0.016011027564270287, \"xref\": \"x\", \"y0\": -1, \"y1\": 10, \"yref\": \"y\"}], \"template\": {\"data\": {\"scatter\": [{\"type\": \"scatter\"}]}}, \"title\": {\"text\": \"Variable Importance\", \"x\": 0.15}, \"xaxis\": {\"anchor\": \"y\", \"automargin\": true, \"domain\": [0.0, 1.0], \"fixedrange\": true, \"gridwidth\": 2, \"range\": [0.0018879840293058708, 0.12428769466566415], \"tickcolor\": \"white\", \"ticklen\": 3, \"ticks\": \"outside\", \"type\": \"linear\", \"zeroline\": false}, \"yaxis\": {\"anchor\": \"x\", \"automargin\": true, \"autorange\": \"reversed\", \"domain\": [0.0, 1.0], \"fixedrange\": true, \"gridwidth\": 2, \"tickcolor\": \"white\", \"ticklen\": 10, \"ticks\": \"outside\", \"type\": \"category\"}},                        {\"displaylogo\": false, \"staticPlot\": false, \"toImageButtonOptions\": {\"height\": null, \"width\": null}, \"modeBarButtonsToRemove\": [\"sendDataToCloud\", \"lasso2d\", \"autoScale2d\", \"select2d\", \"zoom2d\", \"pan2d\", \"zoomIn2d\", \"zoomOut2d\", \"resetScale2d\", \"toggleSpikelines\", \"hoverCompareCartesian\", \"hoverClosestCartesian\"], \"responsive\": true}                    ).then(function(){\n",
       "                            \n",
       "var gd = document.getElementById('1886f14e-6a5e-4c45-abbc-e90b816a3dfa');\n",
       "var x = new MutationObserver(function (mutations, observer) {{\n",
       "        var display = window.getComputedStyle(gd).display;\n",
       "        if (!display || display === 'none') {{\n",
       "            console.log([gd, 'removed!']);\n",
       "            Plotly.purge(gd);\n",
       "            observer.disconnect();\n",
       "        }}\n",
       "}});\n",
       "\n",
       "// Listen for the removal of the full notebook cells\n",
       "var notebookContainer = gd.closest('#notebook-container');\n",
       "if (notebookContainer) {{\n",
       "    x.observe(notebookContainer, {childList: true});\n",
       "}}\n",
       "\n",
       "// Listen for the clearing of the current output cell\n",
       "var outputEl = gd.closest('.output');\n",
       "if (outputEl) {{\n",
       "    x.observe(outputEl, {childList: true});\n",
       "}}\n",
       "\n",
       "                        })                };                });            </script>        </div>"
      ]
     },
     "metadata": {},
     "output_type": "display_data"
    },
    {
     "data": {
      "text/plain": [
       "(            variable  dropout_loss label\n",
       " 0       population_a      0.016011   SVC\n",
       " 1       _full_model_      0.016011   SVC\n",
       " 2      ring-number_o      0.016011   SVC\n",
       " 3       population_n      0.016011   SVC\n",
       " 4        cap-color_e      0.016011   SVC\n",
       " 5        cap-color_g      0.016011   SVC\n",
       " 6      cap-surface_g      0.016011   SVC\n",
       " 7      cap-surface_f      0.016011   SVC\n",
       " 8       population_s      0.016157   SVC\n",
       " 9    cap-shape_other      0.016375   SVC\n",
       " 10       cap-color_y      0.016748   SVC\n",
       " 11       cap-shape_x      0.017029   SVC\n",
       " 12     ring-number_n      0.018125   SVC\n",
       " 13       cap-shape_s      0.018362   SVC\n",
       " 14       cap-shape_b      0.019998   SVC\n",
       " 15     cap-surface_y      0.022859   SVC\n",
       " 16   cap-color_other      0.023419   SVC\n",
       " 17       cap-shape_f      0.023826   SVC\n",
       " 18  population_other      0.039865   SVC\n",
       " 19     stalk-shape_e      0.044695   SVC\n",
       " 20     stalk-shape_t      0.044783   SVC\n",
       " 21     ring-number_t      0.049080   SVC\n",
       " 22    gill-spacing_w      0.050471   SVC\n",
       " 23    gill-spacing_c      0.050906   SVC\n",
       " 24       cap-color_w      0.055479   SVC\n",
       " 25       cap-color_n      0.065343   SVC\n",
       " 26         bruises_t      0.095530   SVC\n",
       " 27         bruises_f      0.100366   SVC\n",
       " 28     cap-surface_s      0.110165   SVC\n",
       " 29        _baseline_      0.500846   SVC,\n",
       " None)"
      ]
     },
     "execution_count": 51,
     "metadata": {},
     "output_type": "execute_result"
    }
   ],
   "source": [
    "model_svc.model_explore()"
   ]
  },
  {
   "cell_type": "code",
   "execution_count": 53,
   "metadata": {},
   "outputs": [
    {
     "name": "stdout",
     "output_type": "stream",
     "text": [
      "Accuracy score for train set is 0.9836440379880408\n",
      "Accuracy score for test set is 0.9700574241181296\n",
      "F1 score for train set is 0.982831825733801\n",
      "F1 score for test set is 0.968548039638087\n",
      "\n",
      "Confusion matrix: \n",
      " [[1241   16]\n",
      " [  57 1124]] \n",
      "Classification report: \n",
      "              precision    recall  f1-score   support\n",
      "\n",
      "           0       0.96      0.99      0.97      1257\n",
      "           1       0.99      0.95      0.97      1181\n",
      "\n",
      "    accuracy                           0.97      2438\n",
      "   macro avg       0.97      0.97      0.97      2438\n",
      "weighted avg       0.97      0.97      0.97      2438\n",
      "\n"
     ]
    },
    {
     "data": {
      "image/png": "[encoded data removed]",
      "text/plain": [
       "<Figure size 432x288 with 2 Axes>"
      ]
     },
     "metadata": {
      "needs_background": "light"
     },
     "output_type": "display_data"
    }
   ],
   "source": [
    "#KNN  model\n",
    "model_knn=Model(\"mushrooms.csv\",\"class\")\n",
    "model_knn.create_X([\"class\", \"gill-attachment\", \"gill-color\", \"gill-size\", \"habitat\", \"ring-type\", \"stalk-root\", \"stalk-surface-above-ring\", \"stalk-surface-below-ring\", \n",
    "                      \"stalk-color-above-ring\", \"stalk-color-below-ring\", \"veil-type\", \"veil-color\", \"spore-print-color\", \"odor\"])\n",
    "model_knn.categories_normalization()\n",
    "model_knn.data_encoder(OneHotEncoder)\n",
    "model_knn.choose_model('knn', params = {'leaf_size': 1, 'n_neighbors': 7})\n",
    "model_knn.split(0.3)\n",
    "model_knn.run_model()\n",
    "model_knn.matrix()"
   ]
  },
  {
   "cell_type": "code",
   "execution_count": 52,
   "metadata": {},
   "outputs": [
    {
     "name": "stdout",
     "output_type": "stream",
     "text": [
      "Fitting 5 folds for each of 90 candidates, totalling 450 fits\n"
     ]
    },
    {
     "data": {
      "text/plain": [
       "{'leaf_size': 1, 'n_neighbors': 7}"
      ]
     },
     "execution_count": 52,
     "metadata": {},
     "output_type": "execute_result"
    }
   ],
   "source": [
    "model_knn.grid_search_best(params={'n_neighbors':list(range(1,10,1)),\n",
    "            'leaf_size':list(range(1,101,10)),\n",
    "           })"
   ]
  },
  {
   "cell_type": "code",
   "execution_count": 54,
   "metadata": {},
   "outputs": [
    {
     "name": "stdout",
     "output_type": "stream",
     "text": [
      "Preparation of a new explainer is initiated\n",
      "\n",
      "  -> data              : 5686 rows 28 cols\n",
      "  -> target variable   : 5686 values\n",
      "  -> model_class       : sklearn.neighbors._classification.KNeighborsClassifier (default)\n",
      "  -> label             : Not specified, model's class short name will be used. (default)\n",
      "  -> predict function  : <function yhat_proba_default at 0x00000294CD69F048> will be used (default)\n",
      "  -> predict function  : Accepts pandas.DataFrame and numpy.ndarray.\n",
      "  -> predicted values  : min = 0.0, mean = 0.481, max = 1.0\n",
      "  -> model type        : classification will be used (default)\n",
      "  -> residual function : difference between y and yhat (default)\n",
      "  -> residuals         : min = -1.0, mean = -0.000151, max = 1.0\n",
      "  -> model_info        : package sklearn\n",
      "\n",
      "A new explainer has been created!\n"
     ]
    },
    {
     "data": {
      "application/vnd.plotly.v1+json": {
       "config": {
        "displaylogo": false,
        "modeBarButtonsToRemove": [
         "sendDataToCloud",
         "lasso2d",
         "autoScale2d",
         "select2d",
         "zoom2d",
         "pan2d",
         "zoomIn2d",
         "zoomOut2d",
         "resetScale2d",
         "toggleSpikelines",
         "hoverCompareCartesian",
         "hoverClosestCartesian"
        ],
        "plotlyServerURL": "https://plot.ly",
        "staticPlot": false,
        "toImageButtonOptions": {
         "height": null,
         "width": null
        }
       },
       "data": [
        {
         "base": 0.004098200783010897,
         "hoverinfo": "text",
         "hoverlabel": {
          "bgcolor": "rgba(0,0,0,0.8)"
         },
         "hovertext": [
          "Model: KNeighborsClassifier loss after<br>variable: bruises_f is permuted: 0.012<br>Drop-out loss change: +0.007",
          "Model: KNeighborsClassifier loss after<br>variable: bruises_t is permuted: 0.011<br>Drop-out loss change: +0.007",
          "Model: KNeighborsClassifier loss after<br>variable: cap-color_other is permuted: 0.009<br>Drop-out loss change: +0.005",
          "Model: KNeighborsClassifier loss after<br>variable: stalk-shape_e is permuted: 0.008<br>Drop-out loss change: +0.004",
          "Model: KNeighborsClassifier loss after<br>variable: cap-surface_s is permuted: 0.008<br>Drop-out loss change: +0.004",
          "Model: KNeighborsClassifier loss after<br>variable: stalk-shape_t is permuted: 0.008<br>Drop-out loss change: +0.004",
          "Model: KNeighborsClassifier loss after<br>variable: cap-surface_y is permuted: 0.007<br>Drop-out loss change: +0.003",
          "Model: KNeighborsClassifier loss after<br>variable: cap-color_w is permuted: 0.007<br>Drop-out loss change: +0.003",
          "Model: KNeighborsClassifier loss after<br>variable: cap-shape_s is permuted: 0.007<br>Drop-out loss change: +0.003",
          "Model: KNeighborsClassifier loss after<br>variable: cap-shape_f is permuted: 0.006<br>Drop-out loss change: +0.002"
         ],
         "marker": {
          "color": "#46bac2"
         },
         "orientation": "h",
         "showlegend": false,
         "text": [
          "+0.007",
          "+0.007",
          "+0.005",
          "+0.004",
          "+0.004",
          "+0.004",
          "+0.003",
          "+0.003",
          "+0.003",
          "+0.002"
         ],
         "textposition": "outside",
         "type": "bar",
         "x": [
          0.007464602588988078,
          0.007200165517054158,
          0.004835339112107383,
          0.004352310196425291,
          0.003841516547550893,
          0.0035295697045480186,
          0.003246898079354965,
          0.002867146800058262,
          0.002699189496725229,
          0.0022660288511666786
         ],
         "xaxis": "x",
         "y": [
          "bruises_f",
          "bruises_t",
          "cap-color_other",
          "stalk-shape_e",
          "cap-surface_s",
          "stalk-shape_t",
          "cap-surface_y",
          "cap-color_w",
          "cap-shape_s",
          "cap-shape_f"
         ],
         "yaxis": "y"
        }
       ],
       "layout": {
        "annotations": [
         {
          "font": {
           "size": 16
          },
          "showarrow": false,
          "text": "KNeighborsClassifier",
          "x": 0.5,
          "xanchor": "center",
          "xref": "paper",
          "y": 1,
          "yanchor": "bottom",
          "yref": "paper"
         },
         {
          "font": {
           "size": 16
          },
          "showarrow": false,
          "text": "drop-out loss",
          "x": 0.5,
          "xanchor": "center",
          "xref": "paper",
          "y": 0,
          "yanchor": "top",
          "yref": "paper",
          "yshift": -30
         }
        ],
        "font": {
         "color": "#371ea3"
        },
        "height": 383,
        "margin": {
         "b": 71,
         "r": 30,
         "t": 78
        },
        "shapes": [
         {
          "line": {
           "color": "#371ea3",
           "dash": "dot",
           "width": 1.5
          },
          "type": "line",
          "x0": 0.004098200783010897,
          "x1": 0.004098200783010897,
          "xref": "x",
          "y0": -1,
          "y1": 10,
          "yref": "y"
         }
        ],
        "template": {
         "data": {
          "scatter": [
           {
            "type": "scatter"
           }
          ]
         }
        },
        "title": {
         "text": "Variable Importance",
         "x": 0.15
        },
        "xaxis": {
         "anchor": "y",
         "automargin": true,
         "domain": [
          0,
          1
         ],
         "fixedrange": true,
         "gridwidth": 2,
         "range": [
          0.002202935746290764,
          0.012783655671004394
         ],
         "tickcolor": "white",
         "ticklen": 3,
         "ticks": "outside",
         "type": "linear",
         "zeroline": false
        },
        "yaxis": {
         "anchor": "x",
         "automargin": true,
         "autorange": "reversed",
         "domain": [
          0,
          1
         ],
         "fixedrange": true,
         "gridwidth": 2,
         "tickcolor": "white",
         "ticklen": 10,
         "ticks": "outside",
         "type": "category"
        }
       }
      },
      "text/html": [
       "<div>                            <div id=\"e84775ae-7036-4a46-ac8c-5a31df3b08ab\" class=\"plotly-graph-div\" style=\"height:383.0px; width:100%;\"></div>            <script type=\"text/javascript\">                require([\"plotly\"], function(Plotly) {                    window.PLOTLYENV=window.PLOTLYENV || {};                                    if (document.getElementById(\"e84775ae-7036-4a46-ac8c-5a31df3b08ab\")) {                    Plotly.newPlot(                        \"e84775ae-7036-4a46-ac8c-5a31df3b08ab\",                        [{\"base\": 0.004098200783010897, \"hoverinfo\": \"text\", \"hoverlabel\": {\"bgcolor\": \"rgba(0,0,0,0.8)\"}, \"hovertext\": [\"Model: KNeighborsClassifier loss after<br>variable: bruises_f is permuted: 0.012<br>Drop-out loss change: +0.007\", \"Model: KNeighborsClassifier loss after<br>variable: bruises_t is permuted: 0.011<br>Drop-out loss change: +0.007\", \"Model: KNeighborsClassifier loss after<br>variable: cap-color_other is permuted: 0.009<br>Drop-out loss change: +0.005\", \"Model: KNeighborsClassifier loss after<br>variable: stalk-shape_e is permuted: 0.008<br>Drop-out loss change: +0.004\", \"Model: KNeighborsClassifier loss after<br>variable: cap-surface_s is permuted: 0.008<br>Drop-out loss change: +0.004\", \"Model: KNeighborsClassifier loss after<br>variable: stalk-shape_t is permuted: 0.008<br>Drop-out loss change: +0.004\", \"Model: KNeighborsClassifier loss after<br>variable: cap-surface_y is permuted: 0.007<br>Drop-out loss change: +0.003\", \"Model: KNeighborsClassifier loss after<br>variable: cap-color_w is permuted: 0.007<br>Drop-out loss change: +0.003\", \"Model: KNeighborsClassifier loss after<br>variable: cap-shape_s is permuted: 0.007<br>Drop-out loss change: +0.003\", \"Model: KNeighborsClassifier loss after<br>variable: cap-shape_f is permuted: 0.006<br>Drop-out loss change: +0.002\"], \"marker\": {\"color\": \"#46bac2\"}, \"orientation\": \"h\", \"showlegend\": false, \"text\": [\"+0.007\", \"+0.007\", \"+0.005\", \"+0.004\", \"+0.004\", \"+0.004\", \"+0.003\", \"+0.003\", \"+0.003\", \"+0.002\"], \"textposition\": \"outside\", \"type\": \"bar\", \"x\": [0.007464602588988078, 0.007200165517054158, 0.004835339112107383, 0.004352310196425291, 0.003841516547550893, 0.0035295697045480186, 0.003246898079354965, 0.002867146800058262, 0.002699189496725229, 0.0022660288511666786], \"xaxis\": \"x\", \"y\": [\"bruises_f\", \"bruises_t\", \"cap-color_other\", \"stalk-shape_e\", \"cap-surface_s\", \"stalk-shape_t\", \"cap-surface_y\", \"cap-color_w\", \"cap-shape_s\", \"cap-shape_f\"], \"yaxis\": \"y\"}],                        {\"annotations\": [{\"font\": {\"size\": 16}, \"showarrow\": false, \"text\": \"KNeighborsClassifier\", \"x\": 0.5, \"xanchor\": \"center\", \"xref\": \"paper\", \"y\": 1.0, \"yanchor\": \"bottom\", \"yref\": \"paper\"}, {\"font\": {\"size\": 16}, \"showarrow\": false, \"text\": \"drop-out loss\", \"x\": 0.5, \"xanchor\": \"center\", \"xref\": \"paper\", \"y\": 0, \"yanchor\": \"top\", \"yref\": \"paper\", \"yshift\": -30}], \"font\": {\"color\": \"#371ea3\"}, \"height\": 383.0, \"margin\": {\"b\": 71, \"r\": 30, \"t\": 78}, \"shapes\": [{\"line\": {\"color\": \"#371ea3\", \"dash\": \"dot\", \"width\": 1.5}, \"type\": \"line\", \"x0\": 0.004098200783010897, \"x1\": 0.004098200783010897, \"xref\": \"x\", \"y0\": -1, \"y1\": 10, \"yref\": \"y\"}], \"template\": {\"data\": {\"scatter\": [{\"type\": \"scatter\"}]}}, \"title\": {\"text\": \"Variable Importance\", \"x\": 0.15}, \"xaxis\": {\"anchor\": \"y\", \"automargin\": true, \"domain\": [0.0, 1.0], \"fixedrange\": true, \"gridwidth\": 2, \"range\": [0.002202935746290764, 0.012783655671004394], \"tickcolor\": \"white\", \"ticklen\": 3, \"ticks\": \"outside\", \"type\": \"linear\", \"zeroline\": false}, \"yaxis\": {\"anchor\": \"x\", \"automargin\": true, \"autorange\": \"reversed\", \"domain\": [0.0, 1.0], \"fixedrange\": true, \"gridwidth\": 2, \"tickcolor\": \"white\", \"ticklen\": 10, \"ticks\": \"outside\", \"type\": \"category\"}},                        {\"displaylogo\": false, \"staticPlot\": false, \"toImageButtonOptions\": {\"height\": null, \"width\": null}, \"modeBarButtonsToRemove\": [\"sendDataToCloud\", \"lasso2d\", \"autoScale2d\", \"select2d\", \"zoom2d\", \"pan2d\", \"zoomIn2d\", \"zoomOut2d\", \"resetScale2d\", \"toggleSpikelines\", \"hoverCompareCartesian\", \"hoverClosestCartesian\"], \"responsive\": true}                    ).then(function(){\n",
       "                            \n",
       "var gd = document.getElementById('e84775ae-7036-4a46-ac8c-5a31df3b08ab');\n",
       "var x = new MutationObserver(function (mutations, observer) {{\n",
       "        var display = window.getComputedStyle(gd).display;\n",
       "        if (!display || display === 'none') {{\n",
       "            console.log([gd, 'removed!']);\n",
       "            Plotly.purge(gd);\n",
       "            observer.disconnect();\n",
       "        }}\n",
       "}});\n",
       "\n",
       "// Listen for the removal of the full notebook cells\n",
       "var notebookContainer = gd.closest('#notebook-container');\n",
       "if (notebookContainer) {{\n",
       "    x.observe(notebookContainer, {childList: true});\n",
       "}}\n",
       "\n",
       "// Listen for the clearing of the current output cell\n",
       "var outputEl = gd.closest('.output');\n",
       "if (outputEl) {{\n",
       "    x.observe(outputEl, {childList: true});\n",
       "}}\n",
       "\n",
       "                        })                };                });            </script>        </div>"
      ]
     },
     "metadata": {},
     "output_type": "display_data"
    },
    {
     "data": {
      "text/plain": [
       "(            variable  dropout_loss                 label\n",
       " 0        cap-color_g      0.003424  KNeighborsClassifier\n",
       " 1       population_s      0.003561  KNeighborsClassifier\n",
       " 2        cap-color_e      0.003962  KNeighborsClassifier\n",
       " 3      cap-surface_f      0.003971  KNeighborsClassifier\n",
       " 4        cap-shape_x      0.003990  KNeighborsClassifier\n",
       " 5    cap-shape_other      0.004016  KNeighborsClassifier\n",
       " 6       population_n      0.004097  KNeighborsClassifier\n",
       " 7       _full_model_      0.004098  KNeighborsClassifier\n",
       " 8      cap-surface_g      0.004101  KNeighborsClassifier\n",
       " 9       population_a      0.004295  KNeighborsClassifier\n",
       " 10    gill-spacing_w      0.004317  KNeighborsClassifier\n",
       " 11    gill-spacing_c      0.004419  KNeighborsClassifier\n",
       " 12     ring-number_n      0.004561  KNeighborsClassifier\n",
       " 13     ring-number_o      0.004600  KNeighborsClassifier\n",
       " 14     ring-number_t      0.004637  KNeighborsClassifier\n",
       " 15  population_other      0.005016  KNeighborsClassifier\n",
       " 16       cap-color_n      0.005283  KNeighborsClassifier\n",
       " 17       cap-color_y      0.006135  KNeighborsClassifier\n",
       " 18       cap-shape_b      0.006135  KNeighborsClassifier\n",
       " 19       cap-shape_f      0.006364  KNeighborsClassifier\n",
       " 20       cap-shape_s      0.006797  KNeighborsClassifier\n",
       " 21       cap-color_w      0.006965  KNeighborsClassifier\n",
       " 22     cap-surface_y      0.007345  KNeighborsClassifier\n",
       " 23     stalk-shape_t      0.007628  KNeighborsClassifier\n",
       " 24     cap-surface_s      0.007940  KNeighborsClassifier\n",
       " 25     stalk-shape_e      0.008451  KNeighborsClassifier\n",
       " 26   cap-color_other      0.008934  KNeighborsClassifier\n",
       " 27         bruises_t      0.011298  KNeighborsClassifier\n",
       " 28         bruises_f      0.011563  KNeighborsClassifier\n",
       " 29        _baseline_      0.505078  KNeighborsClassifier,\n",
       " None)"
      ]
     },
     "execution_count": 54,
     "metadata": {},
     "output_type": "execute_result"
    }
   ],
   "source": [
    "model_knn.model_explore()"
   ]
  },
  {
   "cell_type": "code",
   "execution_count": 57,
   "metadata": {},
   "outputs": [
    {
     "name": "stdout",
     "output_type": "stream",
     "text": [
      "Accuracy score for train set is 0.9843475202251143\n",
      "Accuracy score for test set is 0.9708777686628384\n",
      "F1 score for train set is 0.9835823648773289\n",
      "F1 score for test set is 0.9694360740421869\n",
      "\n",
      "Confusion matrix: \n",
      " [[1241   16]\n",
      " [  55 1126]] \n",
      "Classification report: \n",
      "              precision    recall  f1-score   support\n",
      "\n",
      "           0       0.96      0.99      0.97      1257\n",
      "           1       0.99      0.95      0.97      1181\n",
      "\n",
      "    accuracy                           0.97      2438\n",
      "   macro avg       0.97      0.97      0.97      2438\n",
      "weighted avg       0.97      0.97      0.97      2438\n",
      "\n"
     ]
    },
    {
     "data": {
      "image/png": "[encoded data removed]",
      "text/plain": [
       "<Figure size 432x288 with 2 Axes>"
      ]
     },
     "metadata": {
      "needs_background": "light"
     },
     "output_type": "display_data"
    }
   ],
   "source": [
    "#Decision Tree  model\n",
    "model_dt=Model(\"mushrooms.csv\",\"class\")\n",
    "model_dt.create_X([\"class\", \"gill-attachment\", \"gill-color\", \"gill-size\", \"habitat\", \"ring-type\", \"stalk-root\", \"stalk-surface-above-ring\", \"stalk-surface-below-ring\", \n",
    "                      \"stalk-color-above-ring\", \"stalk-color-below-ring\", \"veil-type\", \"veil-color\", \"spore-print-color\", \"odor\"])\n",
    "model_dt.categories_normalization()\n",
    "model_dt.data_encoder(OneHotEncoder)\n",
    "model_dt.choose_model('dt', params = {'max_depth': 11, 'min_samples_leaf': 1})\n",
    "model_dt.split(0.3)\n",
    "model_dt.run_model()\n",
    "model_dt.matrix()"
   ]
  },
  {
   "cell_type": "code",
   "execution_count": 55,
   "metadata": {},
   "outputs": [
    {
     "name": "stdout",
     "output_type": "stream",
     "text": [
      "Fitting 5 folds for each of 380 candidates, totalling 1900 fits\n"
     ]
    },
    {
     "data": {
      "text/plain": [
       "{'max_depth': 11, 'min_samples_leaf': 1}"
      ]
     },
     "execution_count": 55,
     "metadata": {},
     "output_type": "execute_result"
    }
   ],
   "source": [
    "model_dt.grid_search_best(params={'max_depth':list(range(1,101,5)),\n",
    "            'min_samples_leaf':list(range(1,20,1)),\n",
    "           })"
   ]
  },
  {
   "cell_type": "code",
   "execution_count": 58,
   "metadata": {},
   "outputs": [
    {
     "name": "stdout",
     "output_type": "stream",
     "text": [
      "Preparation of a new explainer is initiated\n",
      "\n",
      "  -> data              : 5686 rows 28 cols\n",
      "  -> target variable   : 5686 values\n",
      "  -> model_class       : sklearn.tree._classes.DecisionTreeClassifier (default)\n",
      "  -> label             : Not specified, model's class short name will be used. (default)\n",
      "  -> predict function  : <function yhat_proba_default at 0x00000294CD69F048> will be used (default)\n",
      "  -> predict function  : Accepts pandas.DataFrame and numpy.ndarray.\n",
      "  -> predicted values  : min = 0.0, mean = 0.481, max = 1.0\n",
      "  -> model type        : classification will be used (default)\n",
      "  -> residual function : difference between y and yhat (default)\n",
      "  -> residuals         : min = -0.932, mean = -1.84e-18, max = 0.923\n",
      "  -> model_info        : package sklearn\n",
      "\n",
      "A new explainer has been created!\n"
     ]
    },
    {
     "data": {
      "application/vnd.plotly.v1+json": {
       "config": {
        "displaylogo": false,
        "modeBarButtonsToRemove": [
         "sendDataToCloud",
         "lasso2d",
         "autoScale2d",
         "select2d",
         "zoom2d",
         "pan2d",
         "zoomIn2d",
         "zoomOut2d",
         "resetScale2d",
         "toggleSpikelines",
         "hoverCompareCartesian",
         "hoverClosestCartesian"
        ],
        "plotlyServerURL": "https://plot.ly",
        "staticPlot": false,
        "toImageButtonOptions": {
         "height": null,
         "width": null
        }
       },
       "data": [
        {
         "base": 0.0009100524924813946,
         "hoverinfo": "text",
         "hoverlabel": {
          "bgcolor": "rgba(0,0,0,0.8)"
         },
         "hovertext": [
          "Model: DecisionTreeClassifier loss after<br>variable: bruises_f is permuted: 0.314<br>Drop-out loss change: +0.313",
          "Model: DecisionTreeClassifier loss after<br>variable: gill-spacing_c is permuted: 0.14<br>Drop-out loss change: +0.139",
          "Model: DecisionTreeClassifier loss after<br>variable: cap-surface_s is permuted: 0.128<br>Drop-out loss change: +0.127",
          "Model: DecisionTreeClassifier loss after<br>variable: stalk-shape_t is permuted: 0.12<br>Drop-out loss change: +0.119",
          "Model: DecisionTreeClassifier loss after<br>variable: population_other is permuted: 0.118<br>Drop-out loss change: +0.118",
          "Model: DecisionTreeClassifier loss after<br>variable: cap-color_n is permuted: 0.04<br>Drop-out loss change: +0.039",
          "Model: DecisionTreeClassifier loss after<br>variable: ring-number_t is permuted: 0.038<br>Drop-out loss change: +0.037",
          "Model: DecisionTreeClassifier loss after<br>variable: cap-color_w is permuted: 0.025<br>Drop-out loss change: +0.024",
          "Model: DecisionTreeClassifier loss after<br>variable: cap-color_other is permuted: 0.024<br>Drop-out loss change: +0.023",
          "Model: DecisionTreeClassifier loss after<br>variable: ring-number_o is permuted: 0.019<br>Drop-out loss change: +0.018"
         ],
         "marker": {
          "color": "#46bac2"
         },
         "orientation": "h",
         "showlegend": false,
         "text": [
          "+0.313",
          "+0.139",
          "+0.127",
          "+0.119",
          "+0.118",
          "+0.039",
          "+0.037",
          "+0.024",
          "+0.023",
          "+0.018"
         ],
         "textposition": "outside",
         "type": "bar",
         "x": [
          0.31334121995251035,
          0.13889064508455734,
          0.12732743235307492,
          0.11912757418190413,
          0.11753464718495536,
          0.03869623768141155,
          0.03694151767864988,
          0.024285782373677112,
          0.02305593051622006,
          0.018471144952245323
         ],
         "xaxis": "x",
         "y": [
          "bruises_f",
          "gill-spacing_c",
          "cap-surface_s",
          "stalk-shape_t",
          "population_other",
          "cap-color_n",
          "ring-number_t",
          "cap-color_w",
          "cap-color_other",
          "ring-number_o"
         ],
         "yaxis": "y"
        }
       ],
       "layout": {
        "annotations": [
         {
          "font": {
           "size": 16
          },
          "showarrow": false,
          "text": "DecisionTreeClassifier",
          "x": 0.5,
          "xanchor": "center",
          "xref": "paper",
          "y": 1,
          "yanchor": "bottom",
          "yref": "paper"
         },
         {
          "font": {
           "size": 16
          },
          "showarrow": false,
          "text": "drop-out loss",
          "x": 0.5,
          "xanchor": "center",
          "xref": "paper",
          "y": 0,
          "yanchor": "top",
          "yref": "paper",
          "yshift": -30
         }
        ],
        "font": {
         "color": "#371ea3"
        },
        "height": 383,
        "margin": {
         "b": 71,
         "r": 30,
         "t": 78
        },
        "shapes": [
         {
          "line": {
           "color": "#371ea3",
           "dash": "dot",
           "width": 1.5
          },
          "type": "line",
          "x0": 0.0009100524924813946,
          "x1": 0.0009100524924813946,
          "xref": "x",
          "y0": -1,
          "y1": 10,
          "yref": "y"
         }
        ],
        "template": {
         "data": {
          "scatter": [
           {
            "type": "scatter"
           }
          ]
         }
        },
        "title": {
         "text": "Variable Importance",
         "x": 0.15
        },
        "xaxis": {
         "anchor": "y",
         "automargin": true,
         "domain": [
          0,
          1
         ],
         "fixedrange": true,
         "gridwidth": 2,
         "range": [
          -0.04609113050039516,
          0.36125245543786827
         ],
         "tickcolor": "white",
         "ticklen": 3,
         "ticks": "outside",
         "type": "linear",
         "zeroline": false
        },
        "yaxis": {
         "anchor": "x",
         "automargin": true,
         "autorange": "reversed",
         "domain": [
          0,
          1
         ],
         "fixedrange": true,
         "gridwidth": 2,
         "tickcolor": "white",
         "ticklen": 10,
         "ticks": "outside",
         "type": "category"
        }
       }
      },
      "text/html": [
       "<div>                            <div id=\"4d108bb4-278d-46c6-b9fb-f2a13fbb9893\" class=\"plotly-graph-div\" style=\"height:383.0px; width:100%;\"></div>            <script type=\"text/javascript\">                require([\"plotly\"], function(Plotly) {                    window.PLOTLYENV=window.PLOTLYENV || {};                                    if (document.getElementById(\"4d108bb4-278d-46c6-b9fb-f2a13fbb9893\")) {                    Plotly.newPlot(                        \"4d108bb4-278d-46c6-b9fb-f2a13fbb9893\",                        [{\"base\": 0.0009100524924813946, \"hoverinfo\": \"text\", \"hoverlabel\": {\"bgcolor\": \"rgba(0,0,0,0.8)\"}, \"hovertext\": [\"Model: DecisionTreeClassifier loss after<br>variable: bruises_f is permuted: 0.314<br>Drop-out loss change: +0.313\", \"Model: DecisionTreeClassifier loss after<br>variable: gill-spacing_c is permuted: 0.14<br>Drop-out loss change: +0.139\", \"Model: DecisionTreeClassifier loss after<br>variable: cap-surface_s is permuted: 0.128<br>Drop-out loss change: +0.127\", \"Model: DecisionTreeClassifier loss after<br>variable: stalk-shape_t is permuted: 0.12<br>Drop-out loss change: +0.119\", \"Model: DecisionTreeClassifier loss after<br>variable: population_other is permuted: 0.118<br>Drop-out loss change: +0.118\", \"Model: DecisionTreeClassifier loss after<br>variable: cap-color_n is permuted: 0.04<br>Drop-out loss change: +0.039\", \"Model: DecisionTreeClassifier loss after<br>variable: ring-number_t is permuted: 0.038<br>Drop-out loss change: +0.037\", \"Model: DecisionTreeClassifier loss after<br>variable: cap-color_w is permuted: 0.025<br>Drop-out loss change: +0.024\", \"Model: DecisionTreeClassifier loss after<br>variable: cap-color_other is permuted: 0.024<br>Drop-out loss change: +0.023\", \"Model: DecisionTreeClassifier loss after<br>variable: ring-number_o is permuted: 0.019<br>Drop-out loss change: +0.018\"], \"marker\": {\"color\": \"#46bac2\"}, \"orientation\": \"h\", \"showlegend\": false, \"text\": [\"+0.313\", \"+0.139\", \"+0.127\", \"+0.119\", \"+0.118\", \"+0.039\", \"+0.037\", \"+0.024\", \"+0.023\", \"+0.018\"], \"textposition\": \"outside\", \"type\": \"bar\", \"x\": [0.31334121995251035, 0.13889064508455734, 0.12732743235307492, 0.11912757418190413, 0.11753464718495536, 0.03869623768141155, 0.03694151767864988, 0.024285782373677112, 0.02305593051622006, 0.018471144952245323], \"xaxis\": \"x\", \"y\": [\"bruises_f\", \"gill-spacing_c\", \"cap-surface_s\", \"stalk-shape_t\", \"population_other\", \"cap-color_n\", \"ring-number_t\", \"cap-color_w\", \"cap-color_other\", \"ring-number_o\"], \"yaxis\": \"y\"}],                        {\"annotations\": [{\"font\": {\"size\": 16}, \"showarrow\": false, \"text\": \"DecisionTreeClassifier\", \"x\": 0.5, \"xanchor\": \"center\", \"xref\": \"paper\", \"y\": 1.0, \"yanchor\": \"bottom\", \"yref\": \"paper\"}, {\"font\": {\"size\": 16}, \"showarrow\": false, \"text\": \"drop-out loss\", \"x\": 0.5, \"xanchor\": \"center\", \"xref\": \"paper\", \"y\": 0, \"yanchor\": \"top\", \"yref\": \"paper\", \"yshift\": -30}], \"font\": {\"color\": \"#371ea3\"}, \"height\": 383.0, \"margin\": {\"b\": 71, \"r\": 30, \"t\": 78}, \"shapes\": [{\"line\": {\"color\": \"#371ea3\", \"dash\": \"dot\", \"width\": 1.5}, \"type\": \"line\", \"x0\": 0.0009100524924813946, \"x1\": 0.0009100524924813946, \"xref\": \"x\", \"y0\": -1, \"y1\": 10, \"yref\": \"y\"}], \"template\": {\"data\": {\"scatter\": [{\"type\": \"scatter\"}]}}, \"title\": {\"text\": \"Variable Importance\", \"x\": 0.15}, \"xaxis\": {\"anchor\": \"y\", \"automargin\": true, \"domain\": [0.0, 1.0], \"fixedrange\": true, \"gridwidth\": 2, \"range\": [-0.04609113050039516, 0.36125245543786827], \"tickcolor\": \"white\", \"ticklen\": 3, \"ticks\": \"outside\", \"type\": \"linear\", \"zeroline\": false}, \"yaxis\": {\"anchor\": \"x\", \"automargin\": true, \"autorange\": \"reversed\", \"domain\": [0.0, 1.0], \"fixedrange\": true, \"gridwidth\": 2, \"tickcolor\": \"white\", \"ticklen\": 10, \"ticks\": \"outside\", \"type\": \"category\"}},                        {\"displaylogo\": false, \"staticPlot\": false, \"toImageButtonOptions\": {\"height\": null, \"width\": null}, \"modeBarButtonsToRemove\": [\"sendDataToCloud\", \"lasso2d\", \"autoScale2d\", \"select2d\", \"zoom2d\", \"pan2d\", \"zoomIn2d\", \"zoomOut2d\", \"resetScale2d\", \"toggleSpikelines\", \"hoverCompareCartesian\", \"hoverClosestCartesian\"], \"responsive\": true}                    ).then(function(){\n",
       "                            \n",
       "var gd = document.getElementById('4d108bb4-278d-46c6-b9fb-f2a13fbb9893');\n",
       "var x = new MutationObserver(function (mutations, observer) {{\n",
       "        var display = window.getComputedStyle(gd).display;\n",
       "        if (!display || display === 'none') {{\n",
       "            console.log([gd, 'removed!']);\n",
       "            Plotly.purge(gd);\n",
       "            observer.disconnect();\n",
       "        }}\n",
       "}});\n",
       "\n",
       "// Listen for the removal of the full notebook cells\n",
       "var notebookContainer = gd.closest('#notebook-container');\n",
       "if (notebookContainer) {{\n",
       "    x.observe(notebookContainer, {childList: true});\n",
       "}}\n",
       "\n",
       "// Listen for the clearing of the current output cell\n",
       "var outputEl = gd.closest('.output');\n",
       "if (outputEl) {{\n",
       "    x.observe(outputEl, {childList: true});\n",
       "}}\n",
       "\n",
       "                        })                };                });            </script>        </div>"
      ]
     },
     "metadata": {},
     "output_type": "display_data"
    },
    {
     "data": {
      "text/plain": [
       "(            variable  dropout_loss                   label\n",
       " 0       _full_model_      0.000910  DecisionTreeClassifier\n",
       " 1          bruises_t      0.000910  DecisionTreeClassifier\n",
       " 2        cap-color_e      0.000910  DecisionTreeClassifier\n",
       " 3       population_a      0.000910  DecisionTreeClassifier\n",
       " 4     gill-spacing_w      0.000910  DecisionTreeClassifier\n",
       " 5      cap-surface_g      0.000910  DecisionTreeClassifier\n",
       " 6       population_n      0.001129  DecisionTreeClassifier\n",
       " 7    cap-shape_other      0.001196  DecisionTreeClassifier\n",
       " 8       population_s      0.002050  DecisionTreeClassifier\n",
       " 9        cap-color_g      0.002788  DecisionTreeClassifier\n",
       " 10       cap-shape_s      0.003142  DecisionTreeClassifier\n",
       " 11       cap-shape_x      0.003976  DecisionTreeClassifier\n",
       " 12     ring-number_n      0.005057  DecisionTreeClassifier\n",
       " 13     cap-surface_f      0.005912  DecisionTreeClassifier\n",
       " 14       cap-color_y      0.006438  DecisionTreeClassifier\n",
       " 15     cap-surface_y      0.010242  DecisionTreeClassifier\n",
       " 16       cap-shape_b      0.016473  DecisionTreeClassifier\n",
       " 17       cap-shape_f      0.017500  DecisionTreeClassifier\n",
       " 18     stalk-shape_e      0.017687  DecisionTreeClassifier\n",
       " 19     ring-number_o      0.019381  DecisionTreeClassifier\n",
       " 20   cap-color_other      0.023966  DecisionTreeClassifier\n",
       " 21       cap-color_w      0.025196  DecisionTreeClassifier\n",
       " 22     ring-number_t      0.037852  DecisionTreeClassifier\n",
       " 23       cap-color_n      0.039606  DecisionTreeClassifier\n",
       " 24  population_other      0.118445  DecisionTreeClassifier\n",
       " 25     stalk-shape_t      0.120038  DecisionTreeClassifier\n",
       " 26     cap-surface_s      0.128237  DecisionTreeClassifier\n",
       " 27    gill-spacing_c      0.139801  DecisionTreeClassifier\n",
       " 28         bruises_f      0.314251  DecisionTreeClassifier\n",
       " 29        _baseline_      0.502212  DecisionTreeClassifier,\n",
       " None)"
      ]
     },
     "execution_count": 58,
     "metadata": {},
     "output_type": "execute_result"
    }
   ],
   "source": [
    "model_dt.model_explore()"
   ]
  }
 ],
 "metadata": {
  "interpreter": {
   "hash": "0062e047125ebb5108b603169bc21de4af15d4941600a121f270f5b23dba400b"
  },
  "kernelspec": {
   "display_name": "Python 3",
   "language": "python",
   "name": "python3"
  },
  "language_info": {
   "codemirror_mode": {
    "name": "ipython",
    "version": 3
   },
   "file_extension": ".py",
   "mimetype": "text/x-python",
   "name": "python",
   "nbconvert_exporter": "python",
   "pygments_lexer": "ipython3",
   "version": "3.7.10"
  }
 },
 "nbformat": 4,
 "nbformat_minor": 2
}
