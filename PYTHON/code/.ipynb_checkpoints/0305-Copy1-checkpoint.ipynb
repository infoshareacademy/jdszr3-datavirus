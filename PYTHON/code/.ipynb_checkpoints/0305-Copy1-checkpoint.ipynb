{
 "cells": [
  {
   "cell_type": "code",
   "execution_count": 1,
   "id": "74588ee2",
   "metadata": {},
   "outputs": [
    {
     "data": {
      "text/html": [
       "<style>.container { width:100% !important; }</style>"
      ],
      "text/plain": [
       "<IPython.core.display.HTML object>"
      ]
     },
     "metadata": {},
     "output_type": "display_data"
    }
   ],
   "source": [
    "import ipywidgets as widgets\n",
    "from ipywidgets import interact, interactive, fixed, interact_manual\n",
    "from IPython.display import display\n",
    "import numpy as np\n",
    "import pandas as pd\n",
    "import matplotlib.pyplot as plt\n",
    "%matplotlib inline\n",
    "import seaborn as sns\n",
    "sns.set_style('whitegrid')\n",
    "import bqplot as bq\n",
    "import os\n",
    "\n",
    "#increasing cell width with Jupyter notebook\n",
    "from IPython.core.display import display, HTML\n",
    "display(HTML(\"<style>.container { width:100% !important; }</style>\"))"
   ]
  },
  {
   "cell_type": "code",
   "execution_count": 2,
   "id": "ce39a29a",
   "metadata": {},
   "outputs": [
    {
     "data": {
      "text/html": [
       "<script>\n",
       "code_show=true; \n",
       "function code_toggle() {\n",
       " if (code_show){\n",
       " $('div.input').hide();\n",
       " } else {\n",
       " $('div.input').show();\n",
       " }\n",
       " code_show = !code_show\n",
       "} \n",
       "$( document ).ready(code_toggle);\n",
       "</script>\n",
       "<form action=\"javascript:code_toggle()\"><input type=\"submit\" value=\"Click here to show the raw code.\"></form>"
      ],
      "text/plain": [
       "<IPython.core.display.HTML object>"
      ]
     },
     "execution_count": 2,
     "metadata": {},
     "output_type": "execute_result"
    }
   ],
   "source": [
    "from IPython.display import HTML\n",
    "\n",
    "HTML('''<script>\n",
    "code_show=true; \n",
    "function code_toggle() {\n",
    " if (code_show){\n",
    " $('div.input').hide();\n",
    " } else {\n",
    " $('div.input').show();\n",
    " }\n",
    " code_show = !code_show\n",
    "} \n",
    "$( document ).ready(code_toggle);\n",
    "</script>\n",
    "<form action=\"javascript:code_toggle()\"><input type=\"submit\" value=\"Click here to show the raw code.\"></form>''')"
   ]
  },
  {
   "cell_type": "code",
   "execution_count": 3,
   "id": "fc81937a",
   "metadata": {},
   "outputs": [
    {
     "data": {
      "text/html": [
       "<div>\n",
       "<style scoped>\n",
       "    .dataframe tbody tr th:only-of-type {\n",
       "        vertical-align: middle;\n",
       "    }\n",
       "\n",
       "    .dataframe tbody tr th {\n",
       "        vertical-align: top;\n",
       "    }\n",
       "\n",
       "    .dataframe thead th {\n",
       "        text-align: right;\n",
       "    }\n",
       "</style>\n",
       "<table border=\"1\" class=\"dataframe\">\n",
       "  <thead>\n",
       "    <tr style=\"text-align: right;\">\n",
       "      <th></th>\n",
       "      <th>age</th>\n",
       "      <th>gender</th>\n",
       "      <th>height</th>\n",
       "      <th>weight</th>\n",
       "      <th>systolic</th>\n",
       "      <th>diastolic</th>\n",
       "      <th>cholesterol</th>\n",
       "      <th>gluc</th>\n",
       "      <th>smoke</th>\n",
       "      <th>alco</th>\n",
       "      <th>active</th>\n",
       "      <th>cardio</th>\n",
       "      <th>bmi</th>\n",
       "    </tr>\n",
       "  </thead>\n",
       "  <tbody>\n",
       "    <tr>\n",
       "      <th>count</th>\n",
       "      <td>69542.00</td>\n",
       "      <td>69542.00</td>\n",
       "      <td>69542.00</td>\n",
       "      <td>69542.00</td>\n",
       "      <td>69542.00</td>\n",
       "      <td>69542.00</td>\n",
       "      <td>69542.00</td>\n",
       "      <td>69542.00</td>\n",
       "      <td>69542.00</td>\n",
       "      <td>69542.00</td>\n",
       "      <td>69542.0</td>\n",
       "      <td>69542.0</td>\n",
       "      <td>69542.00</td>\n",
       "    </tr>\n",
       "    <tr>\n",
       "      <th>mean</th>\n",
       "      <td>53.34</td>\n",
       "      <td>1.35</td>\n",
       "      <td>164.44</td>\n",
       "      <td>74.20</td>\n",
       "      <td>127.02</td>\n",
       "      <td>81.69</td>\n",
       "      <td>1.37</td>\n",
       "      <td>1.23</td>\n",
       "      <td>0.09</td>\n",
       "      <td>0.05</td>\n",
       "      <td>0.8</td>\n",
       "      <td>0.5</td>\n",
       "      <td>27.47</td>\n",
       "    </tr>\n",
       "    <tr>\n",
       "      <th>std</th>\n",
       "      <td>6.76</td>\n",
       "      <td>0.48</td>\n",
       "      <td>7.86</td>\n",
       "      <td>14.25</td>\n",
       "      <td>17.07</td>\n",
       "      <td>9.84</td>\n",
       "      <td>0.68</td>\n",
       "      <td>0.57</td>\n",
       "      <td>0.28</td>\n",
       "      <td>0.23</td>\n",
       "      <td>0.4</td>\n",
       "      <td>0.5</td>\n",
       "      <td>5.18</td>\n",
       "    </tr>\n",
       "    <tr>\n",
       "      <th>min</th>\n",
       "      <td>29.58</td>\n",
       "      <td>1.00</td>\n",
       "      <td>125.00</td>\n",
       "      <td>35.45</td>\n",
       "      <td>70.00</td>\n",
       "      <td>52.00</td>\n",
       "      <td>1.00</td>\n",
       "      <td>1.00</td>\n",
       "      <td>0.00</td>\n",
       "      <td>0.00</td>\n",
       "      <td>0.0</td>\n",
       "      <td>0.0</td>\n",
       "      <td>15.04</td>\n",
       "    </tr>\n",
       "    <tr>\n",
       "      <th>25%</th>\n",
       "      <td>48.41</td>\n",
       "      <td>1.00</td>\n",
       "      <td>159.00</td>\n",
       "      <td>65.00</td>\n",
       "      <td>120.00</td>\n",
       "      <td>80.00</td>\n",
       "      <td>1.00</td>\n",
       "      <td>1.00</td>\n",
       "      <td>0.00</td>\n",
       "      <td>0.00</td>\n",
       "      <td>1.0</td>\n",
       "      <td>0.0</td>\n",
       "      <td>23.88</td>\n",
       "    </tr>\n",
       "    <tr>\n",
       "      <th>50%</th>\n",
       "      <td>53.98</td>\n",
       "      <td>1.00</td>\n",
       "      <td>165.00</td>\n",
       "      <td>72.00</td>\n",
       "      <td>120.00</td>\n",
       "      <td>80.00</td>\n",
       "      <td>1.00</td>\n",
       "      <td>1.00</td>\n",
       "      <td>0.00</td>\n",
       "      <td>0.00</td>\n",
       "      <td>1.0</td>\n",
       "      <td>0.0</td>\n",
       "      <td>26.37</td>\n",
       "    </tr>\n",
       "    <tr>\n",
       "      <th>75%</th>\n",
       "      <td>58.43</td>\n",
       "      <td>2.00</td>\n",
       "      <td>170.00</td>\n",
       "      <td>82.00</td>\n",
       "      <td>140.00</td>\n",
       "      <td>90.00</td>\n",
       "      <td>2.00</td>\n",
       "      <td>1.00</td>\n",
       "      <td>0.00</td>\n",
       "      <td>0.00</td>\n",
       "      <td>1.0</td>\n",
       "      <td>1.0</td>\n",
       "      <td>30.12</td>\n",
       "    </tr>\n",
       "    <tr>\n",
       "      <th>max</th>\n",
       "      <td>64.97</td>\n",
       "      <td>2.00</td>\n",
       "      <td>207.00</td>\n",
       "      <td>200.00</td>\n",
       "      <td>240.00</td>\n",
       "      <td>180.00</td>\n",
       "      <td>3.00</td>\n",
       "      <td>3.00</td>\n",
       "      <td>1.00</td>\n",
       "      <td>1.00</td>\n",
       "      <td>1.0</td>\n",
       "      <td>1.0</td>\n",
       "      <td>59.52</td>\n",
       "    </tr>\n",
       "  </tbody>\n",
       "</table>\n",
       "</div>"
      ],
      "text/plain": [
       "            age    gender    height    weight  systolic  diastolic  \\\n",
       "count  69542.00  69542.00  69542.00  69542.00  69542.00   69542.00   \n",
       "mean      53.34      1.35    164.44     74.20    127.02      81.69   \n",
       "std        6.76      0.48      7.86     14.25     17.07       9.84   \n",
       "min       29.58      1.00    125.00     35.45     70.00      52.00   \n",
       "25%       48.41      1.00    159.00     65.00    120.00      80.00   \n",
       "50%       53.98      1.00    165.00     72.00    120.00      80.00   \n",
       "75%       58.43      2.00    170.00     82.00    140.00      90.00   \n",
       "max       64.97      2.00    207.00    200.00    240.00     180.00   \n",
       "\n",
       "       cholesterol      gluc     smoke      alco   active   cardio       bmi  \n",
       "count     69542.00  69542.00  69542.00  69542.00  69542.0  69542.0  69542.00  \n",
       "mean          1.37      1.23      0.09      0.05      0.8      0.5     27.47  \n",
       "std           0.68      0.57      0.28      0.23      0.4      0.5      5.18  \n",
       "min           1.00      1.00      0.00      0.00      0.0      0.0     15.04  \n",
       "25%           1.00      1.00      0.00      0.00      1.0      0.0     23.88  \n",
       "50%           1.00      1.00      0.00      0.00      1.0      0.0     26.37  \n",
       "75%           2.00      1.00      0.00      0.00      1.0      1.0     30.12  \n",
       "max           3.00      3.00      1.00      1.00      1.0      1.0     59.52  "
      ]
     },
     "execution_count": 3,
     "metadata": {},
     "output_type": "execute_result"
    }
   ],
   "source": [
    "df = file_name='C:\\\\Users\\Konrad\\jdszr3-datavirus\\Python\\code\\eda_final.csv'\n",
    "file_path = os.path.join(os.path.abspath(\"\"), \"PYTHON\", file_name)\n",
    "\n",
    "df = pd.read_csv(file_name,delimiter=',')\n",
    "df = df.drop(columns='Unnamed: 0')\n",
    "\n",
    "df.describe().round(2)"
   ]
  },
  {
   "cell_type": "markdown",
   "id": "fbd368aa",
   "metadata": {},
   "source": [
    "### _Application_"
   ]
  },
  {
   "cell_type": "code",
   "execution_count": 4,
   "id": "a0f549fb",
   "metadata": {},
   "outputs": [],
   "source": [
    "style = {'description_width': 'initial'}\n",
    "#Systolic Blood Pressure - slider\n",
    "style = {'description_width': 'initial'}\n",
    "sys_slider = widgets.IntSlider(value = df['systolic'].mean(), \n",
    "                               min = df['systolic'].min(), \n",
    "                               max = df['systolic'].max(), \n",
    "                               step = 1, \n",
    "                               style=style, \n",
    "                               disabled=False,\n",
    "                               continuous_update=False,\n",
    "                               orientation='vertical',\n",
    "                               readout=True,\n",
    "                               description='Systolic')\n",
    "\n",
    "dias_slider = widgets.IntSlider(value = df['diastolic'].mean(), \n",
    "                                min = df['diastolic'].min(), \n",
    "                                max = df['diastolic'].max(), \n",
    "                                step = 1, \n",
    "                                style=style, \n",
    "                                orientation='vertical',\n",
    "                                description='Diastolic')\n",
    "\n",
    "# def adder(sys, dias):\n",
    "#     print(\"Selected blood pressure is\", sys_slider.value, \"/\", dias_slider.value)\n",
    "#     df['systolic'].plot()\n",
    "    \n",
    "# sys_dias_interact= interact(adder, sys=sys_slider, dias=dias_slider)\n",
    "# sys_dias_interact\n",
    "# pass\n",
    "\n",
    "#BMI - slider and radio buttons\n",
    "bmi_slider=widgets.IntSlider(min=15, max=60, step=1)\n",
    "bmi_radio=widgets.RadioButtons(options=[\"underweight < 18.5\",\n",
    "                                        \"Healthy: 18.5-24.9\", \n",
    "                                        \"Overweight: 25.0-29.9\", \n",
    "                                        \"Obese > 30.0\"])\n",
    "\n",
    "#Gender - radio buttons\n",
    "gender_radio= widgets.RadioButtons(options=[\"Female\",\"Male\", \"None\"],\n",
    "                                   description=\"Gender\")\n",
    "#Smoke - radio buttons\n",
    "smoke_choose = widgets.RadioButtons(\n",
    "    options=['Yes', 'No'],\n",
    "    description='Smoking',\n",
    "    style=style,\n",
    "    disabled=False\n",
    ")\n",
    "\n",
    "#Cardio disease presence - radio buttons\n",
    "cardio_choose = widgets.RadioButtons(\n",
    "    options=['Yes', 'No'],\n",
    "    description='Cardiovascular disease',\n",
    "    style=style,\n",
    "    disabled=False\n",
    ")\n",
    "\n",
    "#Alcohol drinking - radio buttons\n",
    "alco_choose = widgets.RadioButtons(\n",
    "    options=['Yes', 'No'],\n",
    "    description='Alcohol drinking',\n",
    "    style=style,\n",
    "    disabled=False\n",
    ")\n",
    "#Age - slider and radio buttons\n",
    "age_slider=widgets.IntSlider(min=25, max=70, step=1)\n",
    "age_radio=widgets.RadioButtons(options=[\"30\",\"40\",\"50\",\"60\",\"70\"])\n",
    "\n",
    "#Active - radio buttons\n",
    "active_choose = widgets.RadioButtons(\n",
    "    options=['active', 'inactive'],\n",
    "    style=style,\n",
    "    description='Sports activity level: ',\n",
    "    disabled=False\n",
    ")\n",
    "\n",
    "#Glucose - dropdown\n",
    "glucose_choose = widgets.ToggleButtons(\n",
    "    options=['1 - low', '2 - medium', '3 - high'],\n",
    "    style=style,\n",
    "    description='Glucose level: ',\n",
    "    disabled=False,\n",
    "    button_style='primary',\n",
    "    tooltips=['Description of slow', 'Description of regular', 'Description of fast']\n",
    ")\n",
    "\n",
    "#Cholesterol - dropdown\n",
    "cholesterol_choose = widgets.ToggleButtons(\n",
    "    options=['1 - low', '2 - medium', '3 - high'],\n",
    "    style=style,\n",
    "    description='Cholesterol level: ',\n",
    "    disabled=False,\n",
    "    button_style='info', \n",
    "    tooltips=['Description of slow', 'Description of regular', 'Description of fast'],\n",
    ")\n",
    "\n",
    "#Show button\n",
    "show_button=widgets.Button(description=\"Show statistics\", button_style='success')\n",
    "\n",
    "sys_label=widgets.Label(value=\"\")\n",
    "sys_box=widgets.VBox([sys_label, sys_slider])\n",
    "\n",
    "dias_label=widgets.Label(value=\"\")\n",
    "dias_box=widgets.VBox([dias_label, dias_slider])\n",
    "\n",
    "bmi_label=widgets.Label(value=\"BMI\")\n",
    "bmi_box=widgets.VBox([bmi_label,bmi_slider, bmi_radio])\n",
    "\n",
    "age_label=widgets.Label(value=\"Age\")\n",
    "age_box=widgets.VBox([age_label,age_slider,age_radio])\n",
    "\n",
    "# \n",
    "box0=widgets.Box([sys_box, dias_box])\n",
    "\n",
    "box1=widgets.Box([bmi_box ,gender_radio,age_box])\n",
    "box2=widgets.Box([cholesterol_choose])\n",
    "box3=widgets.Box([glucose_choose])\n",
    "box4=widgets.Box([smoke_choose])\n",
    "box5=widgets.Box([alco_choose])\n",
    "box6=widgets.Box([active_choose])\n",
    "box7=widgets.Box([cardio_choose])\n",
    "\n",
    "box21=widgets.VBox([box2, box3, box4, box5, box6, box7])\n",
    "\n",
    "accordition=widgets.Accordion(children=[box0,box1,box21], labels=('Blood Pressure','Based data','Advanced'))\n",
    "\n",
    "vbox=widgets.VBox([accordition, show_button])"
   ]
  },
  {
   "cell_type": "code",
   "execution_count": 5,
   "id": "730f9d12",
   "metadata": {},
   "outputs": [
    {
     "data": {
      "application/vnd.jupyter.widget-view+json": {
       "model_id": "6fbafe80ffef4abf881188f2751f3584",
       "version_major": 2,
       "version_minor": 0
      },
      "text/plain": [
       "Tab(children=(VBox(children=(Accordion(children=(Box(children=(VBox(children=(Label(value=''), IntSlider(value…"
      ]
     },
     "metadata": {},
     "output_type": "display_data"
    }
   ],
   "source": [
    "tab_nest = widgets.Tab()\n",
    "tab_nest.children = [vbox]\n",
    "tab_nest.set_title (0,'Blood Pressure')\n",
    "tab_nest"
   ]
  },
  {
   "cell_type": "code",
   "execution_count": 6,
   "id": "d1aee8c3",
   "metadata": {},
   "outputs": [],
   "source": [
    "#function for button to gather data and show plot\n",
    "def show_stat(bmi, gender, age, smoke):\n",
    "    print(bmi, gender, age, smoke)\n"
   ]
  },
  {
   "cell_type": "code",
   "execution_count": 7,
   "id": "10b54ab5",
   "metadata": {},
   "outputs": [],
   "source": [
    "# show_button.on_click(show_stat(bmi_radio.value, gender_radio.value, age_radio.value, smoke_drop.value))\n"
   ]
  },
  {
   "cell_type": "code",
   "execution_count": 27,
   "id": "ce8a7f23",
   "metadata": {},
   "outputs": [
    {
     "data": {
      "application/vnd.jupyter.widget-view+json": {
       "model_id": "859ff2cb1cab46e4847c1fdbcd062521",
       "version_major": 2,
       "version_minor": 0
      },
      "text/plain": [
       "interactive(children=(IntSlider(value=500, description='x', max=1500, min=-500), Output()), _dom_classes=('wid…"
      ]
     },
     "metadata": {},
     "output_type": "display_data"
    }
   ],
   "source": [
    "#interakcja ze zwykłym sliderem, definiujesz funkcję\n",
    "@widgets.interact\n",
    "def f(x=500):\n",
    "    print(x)"
   ]
  },
  {
   "cell_type": "code",
   "execution_count": 28,
   "id": "30475d35",
   "metadata": {},
   "outputs": [
    {
     "data": {
      "application/vnd.jupyter.widget-view+json": {
       "model_id": "b549f859cf7f4b3d8268feb8168e97c3",
       "version_major": 2,
       "version_minor": 0
      },
      "text/plain": [
       "interactive(children=(FloatSlider(value=155.0, description='x', max=240.0, min=70.0), Output()), _dom_classes=…"
      ]
     },
     "metadata": {},
     "output_type": "display_data"
    }
   ],
   "source": [
    "#alternatywnie - w nawiasie możesz podać przedziały\n",
    "@widgets.interact\n",
    "def f(x=(df['systolic'].min(),df['systolic'].max())):\n",
    "    print(\"Your blood pressure is\", x)\n"
   ]
  },
  {
   "cell_type": "code",
   "execution_count": 67,
   "id": "4895c81f",
   "metadata": {},
   "outputs": [
    {
     "data": {
      "application/vnd.jupyter.widget-view+json": {
       "model_id": "cb04d61a4fb64df492a928250df2be88",
       "version_major": 2,
       "version_minor": 0
      },
      "text/plain": [
       "interactive(children=(IntSlider(value=5, description='freq', max=15, min=-5), Dropdown(description='color', op…"
      ]
     },
     "metadata": {},
     "output_type": "display_data"
    }
   ],
   "source": [
    "#jak dajesz interact_manual to nie aktualizuje się automatycznie, trzeba kliknąć w przycisk\n",
    "@widgets.interact_manual(\n",
    "    color=['black', 'red', 'green'], lw=(1, 10))\n",
    "#jak dasz kropkę za liczbą to robi się float od razu\n",
    "def plot(freq=5, color='blue', lw=5, grid=True):\n",
    "    t = np.linspace(-10., +1., 100000)\n",
    "    fig, ax = plt.subplots(1, 1, figsize=(10, 5))\n",
    "    ax.plot(t, lw=lw, color=color)\n",
    "    ax.grid(grid)"
   ]
  },
  {
   "cell_type": "code",
   "execution_count": 55,
   "id": "f681f137",
   "metadata": {},
   "outputs": [
    {
     "data": {
      "application/vnd.jupyter.widget-view+json": {
       "model_id": "fae959403025483a90fb803fa54d99f7",
       "version_major": 2,
       "version_minor": 0
      },
      "text/plain": [
       "FloatSlider(value=2.0, description='Frequency:', max=10.0, min=1.0)"
      ]
     },
     "metadata": {},
     "output_type": "display_data"
    }
   ],
   "source": [
    "#zwykły slider\n",
    "freq_slider = widgets.FloatSlider(\n",
    "    value=2.,\n",
    "    min=1.,\n",
    "    max=10.0,\n",
    "    step=0.1,\n",
    "    description='Frequency:',\n",
    "    readout_format='.2f',\n",
    ")\n",
    "freq_slider"
   ]
  },
  {
   "cell_type": "code",
   "execution_count": 57,
   "id": "6f621845",
   "metadata": {},
   "outputs": [
    {
     "data": {
      "application/vnd.jupyter.widget-view+json": {
       "model_id": "859422afbe7440aeaf6053dd9b657193",
       "version_major": 2,
       "version_minor": 0
      },
      "text/plain": [
       "FloatRangeSlider(value=(-1.0, 1.0), description='xlim:', max=5.0, min=-5.0, readout_format='.1f')"
      ]
     },
     "metadata": {},
     "output_type": "display_data"
    }
   ],
   "source": [
    "#normalny range slider\n",
    "range_slider = widgets.FloatRangeSlider(\n",
    "    value=[-1., +1.],\n",
    "    min=-5., max=+5., step=0.1,\n",
    "    description='xlim:',\n",
    "    readout_format='.1f',\n",
    ")\n",
    "range_slider"
   ]
  },
  {
   "cell_type": "code",
   "execution_count": 59,
   "id": "8c501a15",
   "metadata": {},
   "outputs": [
    {
     "data": {
      "application/vnd.jupyter.widget-view+json": {
       "model_id": "f26ad9a77c704259975ce55f0a02fd4b",
       "version_major": 2,
       "version_minor": 0
      },
      "text/plain": [
       "ToggleButton(value=False, description='Kliknij!', icon='check')"
      ]
     },
     "metadata": {},
     "output_type": "display_data"
    }
   ],
   "source": [
    "grid_button = widgets.ToggleButton(\n",
    "    value=False,\n",
    "    description='Kliknij!',\n",
    "    icon='check'\n",
    ")\n",
    "grid_button"
   ]
  },
  {
   "cell_type": "code",
   "execution_count": 62,
   "id": "2d1b1ef4",
   "metadata": {},
   "outputs": [
    {
     "data": {
      "application/vnd.jupyter.widget-view+json": {
       "model_id": "caa06d05ccf141489cfbc1d25397a794",
       "version_major": 2,
       "version_minor": 0
      },
      "text/plain": [
       "ToggleButtons(description='Color:', options=('blue', 'red', 'green'), value='blue')"
      ]
     },
     "metadata": {},
     "output_type": "display_data"
    }
   ],
   "source": [
    "color_buttons = widgets.ToggleButtons(\n",
    "    options=['blue', 'red', 'green'],\n",
    "    description='Color:',\n",
    ")\n",
    "color_buttons"
   ]
  },
  {
   "cell_type": "code",
   "execution_count": 63,
   "id": "cd13d7eb",
   "metadata": {},
   "outputs": [
    {
     "data": {
      "application/vnd.jupyter.widget-view+json": {
       "model_id": "38ebf66354a24b40a3e25f4aec18dd77",
       "version_major": 2,
       "version_minor": 0
      },
      "text/plain": [
       "Text(value='Hello World', description='Title:')"
      ]
     },
     "metadata": {},
     "output_type": "display_data"
    }
   ],
   "source": [
    "title_textbox = widgets.Text(\n",
    "    value='Hello World',\n",
    "    description='Title:',\n",
    ")\n",
    "title_textbox"
   ]
  },
  {
   "cell_type": "code",
   "execution_count": 65,
   "id": "f7d10b38",
   "metadata": {},
   "outputs": [
    {
     "data": {
      "application/vnd.jupyter.widget-view+json": {
       "model_id": "e2e0ced53ada4faf8d4e8dfd43a9e925",
       "version_major": 2,
       "version_minor": 0
      },
      "text/plain": [
       "ColorPicker(value='#efefef', concise=True, description='Background color:', style=DescriptionStyle(description…"
      ]
     },
     "metadata": {},
     "output_type": "display_data"
    }
   ],
   "source": [
    "color_picker = widgets.ColorPicker(\n",
    "    concise=True,\n",
    "    description='Background color:',\n",
    "    value='#efefef',\n",
    "    style=style\n",
    ")\n",
    "color_picker"
   ]
  },
  {
   "cell_type": "code",
   "execution_count": 66,
   "id": "7211ac60",
   "metadata": {},
   "outputs": [],
   "source": [
    "def plot2(b=None):\n",
    "    xlim = range_slider.value\n",
    "    freq = freq_slider.value\n",
    "    grid = grid_button.value\n",
    "    color = color_buttons.value\n",
    "    title = title_textbox.value\n",
    "    bgcolor = color_picker.value\n",
    "\n",
    "    t = np.linspace(xlim[0], xlim[1], 1000)\n",
    "    f, ax = plt.subplots(1, 1, figsize=(8, 6))\n",
    "    ax.plot(t, np.sin(2 * np.pi * freq * t),\n",
    "            color=color)\n",
    "    ax.grid(grid)"
   ]
  },
  {
   "cell_type": "code",
   "execution_count": 69,
   "id": "ae5f1414",
   "metadata": {},
   "outputs": [
    {
     "data": {
      "application/vnd.jupyter.widget-view+json": {
       "model_id": "abcc0957ca214354a9f0651820f0cc3c",
       "version_major": 2,
       "version_minor": 0
      },
      "text/plain": [
       "Button(description='Plot', style=ButtonStyle())"
      ]
     },
     "metadata": {},
     "output_type": "display_data"
    }
   ],
   "source": [
    "button = widgets.Button(\n",
    "    description='Plot',\n",
    ")\n",
    "button"
   ]
  },
  {
   "cell_type": "code",
   "execution_count": 71,
   "id": "ce47029d",
   "metadata": {},
   "outputs": [],
   "source": [
    "@button.on_click\n",
    "def plot_on_click(b):\n",
    "    out.clear_output(wait=True)\n",
    "    with out:\n",
    "        plot2()\n",
    "        plt.show()"
   ]
  },
  {
   "cell_type": "code",
   "execution_count": 74,
   "id": "46575cda",
   "metadata": {},
   "outputs": [],
   "source": [
    "from ipywidgets import HBox, VBox"
   ]
  },
  {
   "cell_type": "code",
   "execution_count": 75,
   "id": "f8afa593",
   "metadata": {},
   "outputs": [],
   "source": [
    "tab1 = VBox(children=[freq_slider,\n",
    "                      range_slider,\n",
    "                      ])\n",
    "tab2 = VBox(children=[color_buttons,\n",
    "                      HBox(children=[title_textbox,\n",
    "                                     color_picker,\n",
    "                                     grid_button]),\n",
    "                                     ])"
   ]
  },
  {
   "cell_type": "code",
   "execution_count": 76,
   "id": "22b91fb4",
   "metadata": {},
   "outputs": [
    {
     "data": {
      "application/vnd.jupyter.widget-view+json": {
       "model_id": "aabd3572a5f94a9ea4fac0f6efb6a2b3",
       "version_major": 2,
       "version_minor": 0
      },
      "text/plain": [
       "VBox(children=(Tab(children=(VBox(children=(FloatSlider(value=6.9, description='Frequency:', max=10.0, min=1.0…"
      ]
     },
     "metadata": {},
     "output_type": "display_data"
    }
   ],
   "source": [
    "out = widgets.Output()\n",
    "tab = widgets.Tab(children=[tab1, tab2])\n",
    "tab.set_title(0, 'plot')\n",
    "tab.set_title(1, 'styling')\n",
    "VBox(children=[tab, button, out])"
   ]
  },
  {
   "cell_type": "code",
   "execution_count": null,
   "id": "803d7021",
   "metadata": {},
   "outputs": [],
   "source": []
  }
 ],
 "metadata": {
  "kernelspec": {
   "display_name": "Python 3",
   "language": "python",
   "name": "python3"
  },
  "language_info": {
   "codemirror_mode": {
    "name": "ipython",
    "version": 3
   },
   "file_extension": ".py",
   "mimetype": "text/x-python",
   "name": "python",
   "nbconvert_exporter": "python",
   "pygments_lexer": "ipython3",
   "version": "3.7.10"
  }
 },
 "nbformat": 4,
 "nbformat_minor": 5
}
