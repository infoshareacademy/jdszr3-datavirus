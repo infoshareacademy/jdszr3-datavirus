{
 "metadata": {
  "language_info": {
   "codemirror_mode": {
    "name": "ipython",
    "version": 3
   },
   "file_extension": ".py",
   "mimetype": "text/x-python",
   "name": "python",
   "nbconvert_exporter": "python",
   "pygments_lexer": "ipython3",
   "version": "3.8.3"
  },
  "orig_nbformat": 2,
  "kernelspec": {
   "name": "python383jvsc74a57bd00062e047125ebb5108b603169bc21de4af15d4941600a121f270f5b23dba400b",
   "display_name": "Python 3.8.3 64-bit ('base': conda)"
  }
 },
 "nbformat": 4,
 "nbformat_minor": 2,
 "cells": [
  {
   "cell_type": "code",
<<<<<<< HEAD
   "execution_count": 2,
=======
   "execution_count": 1,
>>>>>>> bcc3c125984cc7ff4f8df0bc1d9f2bd20d7046e6
   "metadata": {},
   "outputs": [],
   "source": [
    "import ipywidgets as widgets\n",
    "from ipywidgets import interact, interactive, fixed, interact_manual\n",
    "from ipywidgets import Layout\n",
    "from IPython.display import display\n",
    "import numpy as np\n",
    "import pandas as pd\n",
    "import matplotlib.pyplot as plt\n",
    "%matplotlib inline\n",
    "import seaborn as sns\n",
    "sns.set_style('whitegrid')"
   ]
  },
  {
   "cell_type": "code",
<<<<<<< HEAD
   "execution_count": 3,
=======
   "execution_count": 2,
>>>>>>> bcc3c125984cc7ff4f8df0bc1d9f2bd20d7046e6
   "metadata": {},
   "outputs": [],
   "source": [
    "df=file_name='eda_final.csv'\n",
    "file_path = os.path.join(os.path.abspath(\"\"), \"PYTHON\", file_name)\n",
    "df = pd.read_csv(file_name,delimiter=',')\n",
    "df = df.drop(columns='Unnamed: 0')"
   ]
  },
  {
   "cell_type": "code",
<<<<<<< HEAD
   "execution_count": 6,
=======
   "execution_count": 3,
>>>>>>> bcc3c125984cc7ff4f8df0bc1d9f2bd20d7046e6
   "metadata": {},
   "outputs": [
    {
     "output_type": "display_data",
     "data": {
      "text/plain": "Tab(children=(VBox(children=(VBox(children=(HBox(children=(Dropdown(description='Gender', options=(('No', 0), …",
      "application/vnd.jupyter.widget-view+json": {
       "version_major": 2,
       "version_minor": 0,
<<<<<<< HEAD
       "model_id": "4b64d5ce39a945148e5adb56531ef4a5"
=======
       "model_id": "9fca777c593e435fa4f0f80305706b87"
>>>>>>> bcc3c125984cc7ff4f8df0bc1d9f2bd20d7046e6
      }
     },
     "metadata": {}
    }
   ],
   "source": [
    "gender_drop= widgets.Dropdown(options=[(\"No\", 0),(\"Yes\",1)],description=\"Gender\")\n",
    "age_drop= widgets.Dropdown(options=[(\"No\", 0),(\"Yes\",1)],description=\"Age\")\n",
    "disease_drop=widgets.Dropdown(options=[(\"No\", 0),(\"Yes\",1)], description=\"Diagnose\")\n",
    "show_button=widgets.Button(description=\"Show statistics\", button_style='success')\n",
    "#funkcja do wyświetlania pierwszego wykresu\n",
    "def print_1(b=None):\n",
    "    gen=gender_drop.value\n",
    "    dise=disease_drop.value\n",
    "    age=age_drop.value\n",
    "\n",
    "    plt.figure(figsize= (4,4))\n",
    "    \n",
    "    if (dise==1 and gen==1 and age==1):\n",
    "        ax=sns.countplot(y= 'bmi_range',  data= df)\n",
    "    elif gen ==1:\n",
    "        ax=sns.countplot(y= 'bmi_range', hue= 'gender', data= df)\n",
    "    elif dise==1:\n",
    "        ax=sns.countplot(y= 'bmi_range', hue= 'cardio', data= df)\n",
    "    elif age==1:\n",
    "        ax=sns.countplot(y= 'bmi_range', hue= 'age_range', data= df)\n",
    "    else:\n",
    "        ax=sns.countplot(y= 'bmi_range',  data= df)\n",
    "    \n",
    "    \n",
    "    plt.title('BMI', fontweight= 'bold', fontsize= 12)\n",
    "    plt.xlabel('No of Patients')\n",
    "    plt.ylabel('Type of BMI')\n",
    "    total = len(df['bmi_range'])\n",
    "    for p in ax.patches:\n",
    "        percentage = '{:.1f}%'.format(100 * p.get_width()/total)\n",
    "        x = p.get_x() + p.get_width() + 0.02\n",
    "        y = p.get_y() + p.get_height()/2\n",
    "        ax.annotate(percentage, (x, y))\n",
    "\n",
    "#funkcja dla ciśnienia\n",
    "def plot_1(b=None):\n",
    "    gen=gender_drop.value\n",
    "    dise=disease_drop.value\n",
    "    age=age_drop.value\n",
    "\n",
    "    plt.figure(figsize= (4,4))\n",
    "    \n",
    "    if (dise==1 and gen==1 and age==1):\n",
    "        ax=sns.countplot(y= 'bmi_range',  data= df)\n",
    "    elif gen ==1:\n",
    "        ax=sns.countplot(y= 'HTN_stage', hue= 'gender', data= df)\n",
    "    elif dise==1:\n",
    "        ax=sns.countplot(y= 'HTN_stage', hue= 'cardio', data= df)\n",
    "    elif age==1:\n",
    "        ax=sns.countplot(y= 'HTN_stage', hue= 'age_range', data= df)\n",
    "    else:\n",
    "        ax=sns.countplot(y= 'HTN_stage', hue= 'bmi_range', data= df)\n",
    "    \n",
    "    plt.title('Blood Pressure Categories' , fontweight= 'bold', fontsize= 20)\n",
    "    plt.xlabel('Blood Pressure Category')\n",
    "    plt.ylabel('# of Patients')\n",
    "\n",
<<<<<<< HEAD
    "\n",
    "def plot_stat(b):\n",
=======
    "@show_button.on_click\n",
    "def plot_on_click(b):\n",
>>>>>>> bcc3c125984cc7ff4f8df0bc1d9f2bd20d7046e6
    "    out.clear_output(wait=True)\n",
    "    with out:\n",
    "        print_1()\n",
    "        plot_1()\n",
    "        plt.show()\n",
    "\n",
<<<<<<< HEAD
    "show_button.on_click(plot_stat)\n",
=======
>>>>>>> bcc3c125984cc7ff4f8df0bc1d9f2bd20d7046e6
    "out=widgets.Output()\n",
    "q0=widgets.HBox([gender_drop,disease_drop, age_drop])\n",
    "q1=widgets.VBox([q0,show_button])\n",
    "bmi_box=widgets.VBox([q1,out])\n",
    "\n",
    "tab_nest = widgets.Tab()\n",
    "tab_nest.children = [bmi_box]\n",
    "tab_nest.set_title (0,'BMI and Age')\n",
    "tab_nest"
   ]
  }
 ]
}