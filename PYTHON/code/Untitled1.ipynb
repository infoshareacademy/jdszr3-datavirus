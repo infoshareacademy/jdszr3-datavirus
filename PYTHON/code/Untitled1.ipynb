{
 "cells": [
  {
   "cell_type": "code",
   "execution_count": 5,
   "metadata": {},
   "outputs": [],
   "source": [
    "\n",
    "name ='Hello World'\n"
   ]
  },
  {
   "cell_type": "code",
   "execution_count": 6,
   "metadata": {},
   "outputs": [
    {
     "data": {
      "text/plain": [
       "'Hello World'"
      ]
     },
     "execution_count": 6,
     "metadata": {},
     "output_type": "execute_result"
    }
   ],
   "source": [
    "name"
   ]
  },
  {
   "cell_type": "code",
   "execution_count": 7,
   "metadata": {},
   "outputs": [
    {
     "name": "stdout",
     "output_type": "stream",
     "text": [
      " Volume in drive C has no label.\n",
      " Volume Serial Number is 2677-9464\n",
      "\n",
      " Directory of C:\\Users\\tomas\\Desktop\\DATA SCIENCE\\jdszr3-datavirus\\PYTHON\\code\n",
      "\n",
      "23.04.2021  19:33    <DIR>          .\n",
      "23.04.2021  19:33    <DIR>          ..\n",
      "23.04.2021  19:21    <DIR>          .ipynb_checkpoints\n",
      "18.04.2021  19:07         2˙212˙923 1.ipynb\n",
      "18.04.2021  19:07         5˙394˙098 eda.csv\n",
      "23.04.2021  16:06         1˙406˙196 EDA.ipynb\n",
      "19.04.2021  23:38         6˙431˙006 eda_final.csv\n",
      "18.04.2021  19:07         5˙396˙926 eda_updated.csv\n",
      "23.04.2021  16:27           459˙614 EDA2.ipynb\n",
      "18.04.2021  19:07                 0 README.md\n",
      "23.04.2021  18:41            22˙247 Untitled.ipynb\n",
      "23.04.2021  19:33             1˙011 Untitled1.ipynb\n",
      "               9 File(s)     21˙324˙021 bytes\n",
      "               3 Dir(s)  105˙969˙840˙128 bytes free\n"
     ]
    }
   ],
   "source": [
    "%ls"
   ]
  },
  {
   "cell_type": "code",
   "execution_count": 9,
   "metadata": {},
   "outputs": [
    {
     "data": {
      "text/plain": [
       "'C:\\\\Users\\\\tomas\\\\Desktop\\\\DATA SCIENCE\\\\jdszr3-datavirus\\\\PYTHON\\\\code'"
      ]
     },
     "execution_count": 9,
     "metadata": {},
     "output_type": "execute_result"
    }
   ],
   "source": [
    "%pwd"
   ]
  }
 ],
 "metadata": {
  "kernelspec": {
   "display_name": "Python 3",
   "language": "python",
   "name": "python3"
  },
  "language_info": {
   "codemirror_mode": {
    "name": "ipython",
    "version": 3
   },
   "file_extension": ".py",
   "mimetype": "text/x-python",
   "name": "python",
   "nbconvert_exporter": "python",
   "pygments_lexer": "ipython3",
   "version": "3.8.5"
  }
 },
 "nbformat": 4,
 "nbformat_minor": 4
}
