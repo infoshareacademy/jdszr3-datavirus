{
 "cells": [
  {
   "cell_type": "code",
   "execution_count": 2,
   "metadata": {},
   "outputs": [
    {
     "ename": "ModuleNotFoundError",
     "evalue": "No module named 'bqplot'",
     "output_type": "error",
     "traceback": [
      "\u001b[1;31m---------------------------------------------------------------------------\u001b[0m",
      "\u001b[1;31mModuleNotFoundError\u001b[0m                       Traceback (most recent call last)",
      "\u001b[1;32m<ipython-input-2-ed1ce1a82941>\u001b[0m in \u001b[0;36m<module>\u001b[1;34m\u001b[0m\n\u001b[0;32m      8\u001b[0m \u001b[1;32mimport\u001b[0m \u001b[0mseaborn\u001b[0m \u001b[1;32mas\u001b[0m \u001b[0msns\u001b[0m\u001b[1;33m\u001b[0m\u001b[1;33m\u001b[0m\u001b[0m\n\u001b[0;32m      9\u001b[0m \u001b[0msns\u001b[0m\u001b[1;33m.\u001b[0m\u001b[0mset_style\u001b[0m\u001b[1;33m(\u001b[0m\u001b[1;34m'whitegrid'\u001b[0m\u001b[1;33m)\u001b[0m\u001b[1;33m\u001b[0m\u001b[1;33m\u001b[0m\u001b[0m\n\u001b[1;32m---> 10\u001b[1;33m \u001b[1;32mimport\u001b[0m \u001b[0mbqplot\u001b[0m \u001b[1;32mas\u001b[0m \u001b[0mbq\u001b[0m\u001b[1;33m\u001b[0m\u001b[1;33m\u001b[0m\u001b[0m\n\u001b[0m",
      "\u001b[1;31mModuleNotFoundError\u001b[0m: No module named 'bqplot'"
     ]
    }
   ],
   "source": [
    "    import ipywidgets as widgets\n",
    "    from ipywidgets import interact, interactive, fixed, interact_manual\n",
    "    from IPython.display import display\n",
    "    import numpy as np\n",
    "    import pandas as pd\n",
    "    import matplotlib.pyplot as plt\n",
    "    %matplotlib inline\n",
    "    import seaborn as sns\n",
    "    sns.set_style('whitegrid')\n",
    "    import bqplot as bq"
   ]
  },
  {
   "cell_type": "code",
   "execution_count": 3,
   "metadata": {},
   "outputs": [
    {
     "ename": "NameError",
     "evalue": "name 'os' is not defined",
     "output_type": "error",
     "traceback": [
      "\u001b[1;31m---------------------------------------------------------------------------\u001b[0m",
      "\u001b[1;31mNameError\u001b[0m                                 Traceback (most recent call last)",
      "\u001b[1;32m<ipython-input-3-44df7f8e8f88>\u001b[0m in \u001b[0;36m<module>\u001b[1;34m\u001b[0m\n\u001b[0;32m      1\u001b[0m \u001b[0mfile_name\u001b[0m\u001b[1;33m=\u001b[0m\u001b[1;34m'eda_final.csv'\u001b[0m\u001b[1;33m\u001b[0m\u001b[1;33m\u001b[0m\u001b[0m\n\u001b[1;32m----> 2\u001b[1;33m \u001b[0mfile_path\u001b[0m \u001b[1;33m=\u001b[0m \u001b[0mos\u001b[0m\u001b[1;33m.\u001b[0m\u001b[0mpath\u001b[0m\u001b[1;33m.\u001b[0m\u001b[0mjoin\u001b[0m\u001b[1;33m(\u001b[0m\u001b[0mos\u001b[0m\u001b[1;33m.\u001b[0m\u001b[0mpath\u001b[0m\u001b[1;33m.\u001b[0m\u001b[0mabspath\u001b[0m\u001b[1;33m(\u001b[0m\u001b[1;34m\"\"\u001b[0m\u001b[1;33m)\u001b[0m\u001b[1;33m,\u001b[0m \u001b[1;34m\"PYTHON\"\u001b[0m\u001b[1;33m,\u001b[0m \u001b[0mfile_name\u001b[0m\u001b[1;33m)\u001b[0m\u001b[1;33m\u001b[0m\u001b[1;33m\u001b[0m\u001b[0m\n\u001b[0m\u001b[0;32m      3\u001b[0m \u001b[0mdf\u001b[0m \u001b[1;33m=\u001b[0m \u001b[0mpd\u001b[0m\u001b[1;33m.\u001b[0m\u001b[0mread_csv\u001b[0m\u001b[1;33m(\u001b[0m\u001b[0mfile_name\u001b[0m\u001b[1;33m,\u001b[0m\u001b[0mdelimiter\u001b[0m\u001b[1;33m=\u001b[0m\u001b[1;34m','\u001b[0m\u001b[1;33m)\u001b[0m\u001b[1;33m\u001b[0m\u001b[1;33m\u001b[0m\u001b[0m\n\u001b[0;32m      4\u001b[0m \u001b[1;31m#df = df.drop(columns='id')\u001b[0m\u001b[1;33m\u001b[0m\u001b[1;33m\u001b[0m\u001b[1;33m\u001b[0m\u001b[0m\n\u001b[0;32m      5\u001b[0m \u001b[0mdf\u001b[0m\u001b[1;33m=\u001b[0m\u001b[0mdf\u001b[0m\u001b[1;33m.\u001b[0m\u001b[0mrename\u001b[0m\u001b[1;33m(\u001b[0m\u001b[0mcolumns\u001b[0m\u001b[1;33m=\u001b[0m\u001b[1;33m{\u001b[0m\u001b[1;34m\"ap_hi\"\u001b[0m\u001b[1;33m:\u001b[0m \u001b[1;34m\"systolic\"\u001b[0m\u001b[1;33m,\u001b[0m \u001b[1;34m\"ap_lo\"\u001b[0m\u001b[1;33m:\u001b[0m \u001b[1;34m\"diastolic\"\u001b[0m\u001b[1;33m}\u001b[0m\u001b[1;33m)\u001b[0m\u001b[1;33m\u001b[0m\u001b[1;33m\u001b[0m\u001b[0m\n",
      "\u001b[1;31mNameError\u001b[0m: name 'os' is not defined"
     ]
    }
   ],
   "source": [
    "file_name='eda_final.csv'\n",
    "file_path = os.path.join(os.path.abspath(\"\\\"), \"PYTHON\", file_name)\n",
    "df = pd.read_csv(file_name,delimiter=',')\n",
    "#df = df.drop(columns='id')\n",
    "df=df.rename(columns={\"ap_hi\": \"systolic\", \"ap_lo\": \"diastolic\"})"
   ]
  },
  {
   "cell_type": "code",
   "execution_count": null,
   "metadata": {},
   "outputs": [],
   "source": [
    "\n",
    "    \n",
    "   \n",
    "\n",
    "    df=file_name='eda_final.csv'\n",
    "    file_path = os.path.join(os.path.abspath(\"\\\"), \\\"PYTHON\\\", file_name)\n",
    "    df = pd.read_csv(file_name,delimiter=',')\n",
    "    df = df.drop(columns='Unnamed: 0')\n",
    "                                             \n",
    "\n",
    "    bmi_slider=widgets.IntSlider(min=15, max=60, step=1)\n",
    "    bmi_radio=widgets.RadioButtons(options=[\\\"underweight < 18.5\\\",\\\"Healthy: 18.5-24.9\\\", \\\"Overweight: 25.0-29.9\\\", \\\"Obese > 30.0\\\"])\n",
    "\n",
    "    bmi_button = widgets.ToggleButton\n",
    "        value=False\n",
    "        description='gender group'\n",
    "        icon='check'\n",
    "    \n",
    "    gender_drop= widgets.Dropdown(options=[(\"Female(1)\",1),(\"Male(2)\",2), (\"Both\",None)],description=\"Gender\")\n",
    "    smoke_drop=widgets.Dropdown(options=[(\"None\", None),(\"Smoking\" ,1),(\"No smoking\",0)], description=\"Smoking\")\n",
    "    disease_drop=widgets.Dropdown(options=[(\"None\", None),(\"Disease\" ,1),(\"No disease\",0)], description=\"Disease\")\n",
    "    alco_drop=widgets.Dropdown(options=[(\\\"None\", None),(\"Drinking\" ,1),(\"No drinking\",0)], description=\"Alcohol\")\n",
    "    age_slider=widgets.IntSlider(min=25, max=70, step=1)\n",
    "    age_radio=widgets.RadioButtons(options=[\"30\",\"40\",\"50\",\"60\",\"70\"])\n",
    "    active_drop=widgets.Dropdown(options=[(\"None\", None),(\"Active\" ,1),(\"No active\",0)], description=\"Active\")\n",
    "    glucose_drop=widgets.Dropdown(options=[(\"None\", None),(\"gluc 1\" ,1),(\"gluc 2\",0), ('gluc 3',3)], description=\"Glucose\")\n",
    "    cholesterol_drop=widgets.Dropdown(options=[(\"None\", None),(\"chol 1\" ,1),(\"chol 2\",0), ('chol 3',3)], description=\"Cholesterol\")\n",
    "    show_button=widgets.Button(description=\"Show statistics\", button_style='success')\n",
    "    \n",
    "    bmi_box=widgets.VBox([widgets.Label(value=\"BMI\"),bmi_slider, bmi_radio])\n",
    "    age_box=widgets.VBox([widgets.Label(value=\"Age\"),age_slider,age_radio])\n",
    "    box1=widgets.Box([bmi_button ,gender_drop,age_box])\n",
    "    box2=widgets.Box([smoke_drop, disease_drop, alco_drop, active_drop])\n",
    "    box3=widgets.Box([glucose_drop, cholesterol_drop])\n",
    "    box21=widgets.VBox([box2, box3])\n",
    "    accordition=widgets.Accordion(children=[box1,box21], label=['Based','Advanced'])\n",
    "\n",
    "    vbox=widgets.VBox([accordition, show_button])\n",
    "    out = widgets.Output()\n",
    "\n",
    "                                            \n",
    "    tab_nest = widgets.Tab()\n",
    "    tab_nest.children = [vbox]\n",
    "    tab_nest.set_title (0,'BMI')\n",
    "\n",
    "                                            \n",
    " \n",
    "    text/plain\": \"HBox(children=(VBox(children=(Dropdown(description='Gender', options=(('Female(1)', 1), ('Male(2)', 2), ('Both…\",\n",
    "    application/vnd.jupyter.widget-view+json\n",
    "                                            \n",
    "  gender_drop= widgets.Dropdown(options=[(\"Female(1)\",1),(\"Male(2)\",2), (\"Both\",None)],description=\"Gender\")\n",
    "    #funkcja do wyświetlania pierwszego wykresu\n",
    "    def print_1(b=None)\n",
    "    \n",
    "        plt.figure(figsize= (6,6))\n",
    "        sns.countplot(x= 'HTN_stage', hue= 'bmi_range', data= df)\n",
    "        plt.title('Blood Pressure Categories and Presence of Cardiovascular Disease', fontweight= 'bold', fontsize= 12)\n",
    "        plt.xlabel('Blood Pressure Category')\n",
    "        plt.ylabel('# of Patients')\n",
    "    \n",
    "    #funkcja do wyświetlania drugiego wykresu: Male i Female pokazuje to samo, dla Both wykres się zmienia\n",
    "    def plot_1(b=None):\n",
    "        gen=gender_drop.value\n",
    "        plt.figure(figsize= (5,5))\n",
    "        if gen !=None:\n",
    "            ax =sns.countplot(y= 'bmi_range',hue='gender', data= df)\n",
    "        else:\n",
    "            ax =sns.countplot(y= 'bmi_range', data= df)\n",
    "    \n",
    "        plt.title('Bmi Ranges')\n",
    "        plt.ylabel('BMI Range')\n",
    "        plt.xlabel('No of Patients')\n",
    "    \n",
    "    @show_button.on_click\n",
    "    def plot_on_click(b):\n",
    "        out.clear_output(wait=True)\n",
    "        with out:\n",
    "            print_1()\n",
    "            plot_1()\n",
    "            plt.show()\n",
    "    \n",
    "    out=widgets.Output()\n",
    "    q1=widgets.VBox([gender_drop,show_button])\n",
    "    widgets.HBox([q1,out])"
   ]
  },
  {
   "cell_type": "code",
   "execution_count": null,
   "metadata": {},
   "outputs": [],
   "source": []
  }
 ],
 "metadata": {
  "kernelspec": {
   "display_name": "Python 3",
   "language": "python",
   "name": "python3"
  },
  "language_info": {
   "codemirror_mode": {
    "name": "ipython",
    "version": 3
   },
   "file_extension": ".py",
   "mimetype": "text/x-python",
   "name": "python",
   "nbconvert_exporter": "python",
   "pygments_lexer": "ipython3",
   "version": "3.8.5"
  }
 },
 "nbformat": 4,
 "nbformat_minor": 4
}
