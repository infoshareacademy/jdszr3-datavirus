{
 "metadata": {
  "language_info": {
   "codemirror_mode": {
    "name": "ipython",
    "version": 3
   },
   "file_extension": ".py",
   "mimetype": "text/x-python",
   "name": "python",
   "nbconvert_exporter": "python",
   "pygments_lexer": "ipython3",
   "version": "3.9.0"
  },
  "orig_nbformat": 2,
  "kernelspec": {
   "name": "python390jvsc74a57bd01227d6e04bd2fe1a05dee211ed99a8f928a5806b8f9637c26870ab193700c1aa",
   "display_name": "Python 3.9.0 64-bit"
  },
  "metadata": {
   "interpreter": {
    "hash": "1227d6e04bd2fe1a05dee211ed99a8f928a5806b8f9637c26870ab193700c1aa"
   }
  }
 },
 "nbformat": 4,
 "nbformat_minor": 2,
 "cells": [
  {
   "cell_type": "code",
   "execution_count": 1,
   "metadata": {},
   "outputs": [
    {
     "output_type": "execute_result",
     "data": {
      "text/plain": [
       "<IPython.core.display.HTML object>"
      ],
      "text/html": "<script>\ncode_show=true; \nfunction code_toggle() {\n if (code_show){\n $('div.input').hide();\n } else {\n $('div.input').show();\n }\n code_show = !code_show\n} \n$( document ).ready(code_toggle);\n</script>\n<form action=\"javascript:code_toggle()\"><input type=\"submit\" value=\"Click here to show the raw code.\"></form>"
     },
     "metadata": {},
     "execution_count": 1
    }
   ],
   "source": [
    "from IPython.display import HTML\n",
    "\n",
    "HTML('''<script>\n",
    "code_show=true; \n",
    "function code_toggle() {\n",
    " if (code_show){\n",
    " $('div.input').hide();\n",
    " } else {\n",
    " $('div.input').show();\n",
    " }\n",
    " code_show = !code_show\n",
    "} \n",
    "$( document ).ready(code_toggle);\n",
    "</script>\n",
    "<form action=\"javascript:code_toggle()\"><input type=\"submit\" value=\"Click here to show the raw code.\"></form>''')"
   ]
  },
  {
   "cell_type": "code",
   "execution_count": 2,
   "metadata": {},
   "outputs": [
    {
     "output_type": "display_data",
     "data": {
      "text/plain": "<IPython.core.display.HTML object>",
      "text/html": "<style>.container { width:100% !important; }</style>"
     },
     "metadata": {}
    }
   ],
   "source": [
    "#increasing cell width with Jupyter notebook\n",
    "from IPython.core.display import display, HTML\n",
    "display(HTML(\"<style>.container { width:100% !important; }</style>\"))"
   ]
  },
  {
   "cell_type": "code",
   "execution_count": 3,
   "metadata": {},
   "outputs": [],
   "source": [
    "import ipywidgets as widgets\n",
    "from ipywidgets import interact, interactive, fixed, interact_manual\n",
    "from IPython.display import display\n",
    "import numpy as np\n",
    "import pandas as pd\n",
    "%matplotlib inline\n",
    "import matplotlib.pyplot as plt\n",
    "import seaborn as sns\n",
    "sns.set_style(\"whitegrid\")\n",
    "import bqplot as bq"
   ]
  },
  {
   "cell_type": "code",
   "execution_count": 4,
   "metadata": {},
   "outputs": [
    {
     "output_type": "execute_result",
     "data": {
      "text/plain": [
       "            age    gender    height    weight  systolic  diastolic  \\\n",
       "count  69542.00  69542.00  69542.00  69542.00  69542.00   69542.00   \n",
       "mean      53.34      1.35    164.44     74.20    127.02      81.69   \n",
       "std        6.76      0.48      7.86     14.25     17.07       9.84   \n",
       "min       29.58      1.00    125.00     35.45     70.00      52.00   \n",
       "25%       48.41      1.00    159.00     65.00    120.00      80.00   \n",
       "50%       53.98      1.00    165.00     72.00    120.00      80.00   \n",
       "75%       58.43      2.00    170.00     82.00    140.00      90.00   \n",
       "max       64.97      2.00    207.00    200.00    240.00     180.00   \n",
       "\n",
       "       cholesterol      gluc     smoke      alco   active   cardio       bmi  \n",
       "count     69542.00  69542.00  69542.00  69542.00  69542.0  69542.0  69542.00  \n",
       "mean          1.37      1.23      0.09      0.05      0.8      0.5     27.47  \n",
       "std           0.68      0.57      0.28      0.23      0.4      0.5      5.18  \n",
       "min           1.00      1.00      0.00      0.00      0.0      0.0     15.04  \n",
       "25%           1.00      1.00      0.00      0.00      1.0      0.0     23.88  \n",
       "50%           1.00      1.00      0.00      0.00      1.0      0.0     26.37  \n",
       "75%           2.00      1.00      0.00      0.00      1.0      1.0     30.12  \n",
       "max           3.00      3.00      1.00      1.00      1.0      1.0     59.52  "
      ],
      "text/html": "<div>\n<style scoped>\n    .dataframe tbody tr th:only-of-type {\n        vertical-align: middle;\n    }\n\n    .dataframe tbody tr th {\n        vertical-align: top;\n    }\n\n    .dataframe thead th {\n        text-align: right;\n    }\n</style>\n<table border=\"1\" class=\"dataframe\">\n  <thead>\n    <tr style=\"text-align: right;\">\n      <th></th>\n      <th>age</th>\n      <th>gender</th>\n      <th>height</th>\n      <th>weight</th>\n      <th>systolic</th>\n      <th>diastolic</th>\n      <th>cholesterol</th>\n      <th>gluc</th>\n      <th>smoke</th>\n      <th>alco</th>\n      <th>active</th>\n      <th>cardio</th>\n      <th>bmi</th>\n    </tr>\n  </thead>\n  <tbody>\n    <tr>\n      <th>count</th>\n      <td>69542.00</td>\n      <td>69542.00</td>\n      <td>69542.00</td>\n      <td>69542.00</td>\n      <td>69542.00</td>\n      <td>69542.00</td>\n      <td>69542.00</td>\n      <td>69542.00</td>\n      <td>69542.00</td>\n      <td>69542.00</td>\n      <td>69542.0</td>\n      <td>69542.0</td>\n      <td>69542.00</td>\n    </tr>\n    <tr>\n      <th>mean</th>\n      <td>53.34</td>\n      <td>1.35</td>\n      <td>164.44</td>\n      <td>74.20</td>\n      <td>127.02</td>\n      <td>81.69</td>\n      <td>1.37</td>\n      <td>1.23</td>\n      <td>0.09</td>\n      <td>0.05</td>\n      <td>0.8</td>\n      <td>0.5</td>\n      <td>27.47</td>\n    </tr>\n    <tr>\n      <th>std</th>\n      <td>6.76</td>\n      <td>0.48</td>\n      <td>7.86</td>\n      <td>14.25</td>\n      <td>17.07</td>\n      <td>9.84</td>\n      <td>0.68</td>\n      <td>0.57</td>\n      <td>0.28</td>\n      <td>0.23</td>\n      <td>0.4</td>\n      <td>0.5</td>\n      <td>5.18</td>\n    </tr>\n    <tr>\n      <th>min</th>\n      <td>29.58</td>\n      <td>1.00</td>\n      <td>125.00</td>\n      <td>35.45</td>\n      <td>70.00</td>\n      <td>52.00</td>\n      <td>1.00</td>\n      <td>1.00</td>\n      <td>0.00</td>\n      <td>0.00</td>\n      <td>0.0</td>\n      <td>0.0</td>\n      <td>15.04</td>\n    </tr>\n    <tr>\n      <th>25%</th>\n      <td>48.41</td>\n      <td>1.00</td>\n      <td>159.00</td>\n      <td>65.00</td>\n      <td>120.00</td>\n      <td>80.00</td>\n      <td>1.00</td>\n      <td>1.00</td>\n      <td>0.00</td>\n      <td>0.00</td>\n      <td>1.0</td>\n      <td>0.0</td>\n      <td>23.88</td>\n    </tr>\n    <tr>\n      <th>50%</th>\n      <td>53.98</td>\n      <td>1.00</td>\n      <td>165.00</td>\n      <td>72.00</td>\n      <td>120.00</td>\n      <td>80.00</td>\n      <td>1.00</td>\n      <td>1.00</td>\n      <td>0.00</td>\n      <td>0.00</td>\n      <td>1.0</td>\n      <td>0.0</td>\n      <td>26.37</td>\n    </tr>\n    <tr>\n      <th>75%</th>\n      <td>58.43</td>\n      <td>2.00</td>\n      <td>170.00</td>\n      <td>82.00</td>\n      <td>140.00</td>\n      <td>90.00</td>\n      <td>2.00</td>\n      <td>1.00</td>\n      <td>0.00</td>\n      <td>0.00</td>\n      <td>1.0</td>\n      <td>1.0</td>\n      <td>30.12</td>\n    </tr>\n    <tr>\n      <th>max</th>\n      <td>64.97</td>\n      <td>2.00</td>\n      <td>207.00</td>\n      <td>200.00</td>\n      <td>240.00</td>\n      <td>180.00</td>\n      <td>3.00</td>\n      <td>3.00</td>\n      <td>1.00</td>\n      <td>1.00</td>\n      <td>1.0</td>\n      <td>1.0</td>\n      <td>59.52</td>\n    </tr>\n  </tbody>\n</table>\n</div>"
     },
     "metadata": {},
     "execution_count": 4
    }
   ],
   "source": [
    "#read data and create dataframe\n",
    "df = pd.read_csv(\"C:\\\\Users\\Konrad\\Desktop\\DATA SCIENCE\\Projekt Python - DataVirus\\eda_final.csv\", index_col=0)\n",
    "df.describe().round(2)"
   ]
  },
  {
   "cell_type": "code",
   "execution_count": 5,
   "metadata": {},
   "outputs": [],
   "source": [
    "#create function to categorize blood pressure\n",
    "def blood_pressure_cat(diastolic):\n",
    "    if diastolic >= 120:\n",
    "        return \"Crisis\"\n",
    "    elif (90 <= diastolic < 120):\n",
    "        return \"HBP_stage2\"\n",
    "    elif (80 <= diastolic < 90):\n",
    "        return \"HBP_stage1\"\n",
    "    else:\n",
    "        return \"Elevated/Normal\""
   ]
  },
  {
   "cell_type": "code",
   "execution_count": 6,
   "metadata": {},
   "outputs": [],
   "source": [
    "#run category function on dataframe\n",
    "df['HTN_stage'] = df['diastolic'].apply(lambda x: blood_pressure_cat(x))"
   ]
  },
  {
   "cell_type": "code",
   "execution_count": 7,
   "metadata": {},
   "outputs": [],
   "source": [
    "#create function to categorize age\n",
    "def age_category(age):\n",
    "    if age < 40:\n",
    "        return \"30-39\"\n",
    "    elif (50 > age >= 40):\n",
    "        return \"40-49\"\n",
    "    elif (60 > age >= 50):\n",
    "        return \"50-59\"\n",
    "    else:\n",
    "        return \"60-69\"\n",
    "#run category function on dataframe\n",
    "df['age_range'] = df['age'].apply(lambda x: age_category(x))"
   ]
  },
  {
   "cell_type": "code",
   "execution_count": 8,
   "metadata": {},
   "outputs": [],
   "source": [
    "#creating handlers for data attibutes\n",
    "gender_drop= widgets.Dropdown(options=[(\"Yes\",1),\n",
    "                                       (\"No\",0)],description=\"Include gender:\",\n",
    "                                         style= {'description_width': 'initial'})\n",
    "run_button = widgets.Button(description=\"Show statistics\",\n",
    "                           button_style='success')"
   ]
  },
  {
   "cell_type": "code",
   "execution_count": 9,
   "metadata": {},
   "outputs": [],
   "source": [
    "#function to show first plot\n",
    "def show_plot_gender(b=None):\n",
    "    gen=gender_drop.value\n",
    "    plt.figure(figsize= (6,6))\n",
    "    if gen == 0:\n",
    "        ax =sns.countplot(y= 'HTN_stage', hue='gender', data= df, \n",
    "                          order=[\"Elevated/Normal\",\"HBP_stage1\", \"HBP_stage2\", \"Crisis\"])\n",
    "        plt.title('Diastolic Blood Pressure Stages By Gender')\n",
    "        plt.legend([\"female\", \"male\"])\n",
    "    else:\n",
    "        ax =sns.countplot(y= 'HTN_stage', data= df, \n",
    "                          order=[\"Elevated/Normal\",\"HBP_stage1\", \"HBP_stage2\", \"Crisis\"])\n",
    "        plt.title('Diastolic Blood Pressure Stages Overview')   \n",
    "    plt.ylabel('HTN stage')\n",
    "    total = len(df['age_range'])\n",
    "    for p in ax.patches:\n",
    "        percentage = '{:.1f}%'.format(100 * p.get_width()/total)\n",
    "        x = p.get_x() + p.get_width() + 0.02\n",
    "        y = p.get_y() + p.get_height()/2\n",
    "        ax.annotate(percentage, (x, y))\n",
    "\n",
    "#function to show second plot\n",
    "def show_plot_age(b=None):\n",
    "    plt.figure(figsize= (6,6))\n",
    "    sns.countplot(x= 'age_range', hue= 'HTN_stage', data= df, order=[\"30-39\",\"40-49\",\"50-59\",\"60-69\"])\n",
    "    plt.title('Diastolic Blood Pressure Categories For Age Ranges', fontweight= 'bold', fontsize= 12)\n",
    "    plt.xlabel('Age ranges')\n",
    "    plt.ylabel('Number of Patients')\n",
    "    plt.legend([\"Elevated/Normal\",\"HBP_stage1\", \"HBP_stage2\", \"Crisis\"])\n",
    "\n",
    "#function to show third plot    \n",
    "def show_plot_cardio(b=None):\n",
    "    plt.figure(figsize= (6,6))\n",
    "    sns.countplot(x= 'HTN_stage', hue= 'cardio', \n",
    "                  data= df, order=[\"Elevated/Normal\",\"HBP_stage1\", \"HBP_stage2\", \"Crisis\"],\n",
    "                 palette=\"Set1\")\n",
    "    plt.title('Diastolic Blood Pressure Categories With Cardio Disease Coexistance', fontweight= 'bold', fontsize= 12)\n",
    "    plt.xlabel('Diastolic Blood Pressure Categories')\n",
    "    plt.ylabel('Number of Patients')\n",
    "    plt.legend([\"cardio disease\", \"no cardio disease\"])"
   ]
  },
  {
   "cell_type": "code",
   "execution_count": 12,
   "metadata": {},
   "outputs": [
    {
     "output_type": "display_data",
     "data": {
      "text/plain": "Tab(children=(Text(value='Age'), Text(value='BMI'), Text(value='Blood Pressure'), Text(value='Systolic BP'), H…",
      "application/vnd.jupyter.widget-view+json": {
       "version_major": 2,
       "version_minor": 0,
       "model_id": "c49dfa3fe8e6480cb06b2c03f024f973"
      }
     },
     "metadata": {}
    }
   ],
   "source": [
    "#tabs\n",
    "@run_button.on_click\n",
    "def plot_on_click(b):\n",
    "    out.clear_output(wait=True)\n",
    "    with out:\n",
    "        show_plot_gender()\n",
    "        show_plot_age()\n",
    "        show_plot_cardio()\n",
    "        plt.show()\n",
    "\n",
    "out=widgets.Output()\n",
    "widget_box=widgets.VBox([gender_drop,run_button])\n",
    "\n",
    "tab0 = widgets.Text('Age')\n",
    "tab1 = widgets.Text('BMI')\n",
    "tab2 = widgets.Text('Blood Pressure')\n",
    "tab3 = widgets.Text('Systolic BP')\n",
    "tab4 = widgets.HBox([widget_box,out])\n",
    "\n",
    "\n",
    "tab_contents = ['Age', 'BMI', 'Blood Pressure', 'Systolic Blood Pressure', 'Diastolic Blood Pressure']\n",
    "children = [tab0, tab1, tab2, tab3, tab4]\n",
    "tab = widgets.Tab()\n",
    "tab.children = children\n",
    "for i in range(len(tab_contents)):\n",
    "    tab.set_title(i, tab_contents[i])\n",
    "tab"
   ]
  },
  {
   "cell_type": "code",
   "execution_count": null,
   "metadata": {},
   "outputs": [],
   "source": []
  }
 ]
}