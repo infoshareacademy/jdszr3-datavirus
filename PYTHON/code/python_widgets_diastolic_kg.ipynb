{
 "metadata": {
  "language_info": {
   "codemirror_mode": {
    "name": "ipython",
    "version": 3
   },
   "file_extension": ".py",
   "mimetype": "text/x-python",
   "name": "python",
   "nbconvert_exporter": "python",
   "pygments_lexer": "ipython3",
   "version": "3.8.3"
  },
  "orig_nbformat": 2,
  "kernelspec": {
   "name": "python383jvsc74a57bd00062e047125ebb5108b603169bc21de4af15d4941600a121f270f5b23dba400b",
   "display_name": "Python 3.8.3 64-bit ('base': conda)"
  },
  "metadata": {
   "interpreter": {
    "hash": "1227d6e04bd2fe1a05dee211ed99a8f928a5806b8f9637c26870ab193700c1aa"
   }
  }
 },
 "nbformat": 4,
 "nbformat_minor": 2,
 "cells": [
  {
   "cell_type": "code",
   "execution_count": 35,
   "metadata": {},
   "outputs": [
    {
     "output_type": "execute_result",
     "data": {
      "text/plain": [
       "<IPython.core.display.HTML object>"
      ],
      "text/html": "<script>\ncode_show=true; \nfunction code_toggle() {\n if (code_show){\n $('div.input').hide();\n } else {\n $('div.input').show();\n }\n code_show = !code_show\n} \n$( document ).ready(code_toggle);\n</script>\n<form action=\"javascript:code_toggle()\"><input type=\"submit\" value=\"Click here to show the raw code.\"></form>"
     },
     "metadata": {},
     "execution_count": 35
    }
   ],
   "source": [
    "from IPython.display import HTML\n",
    "\n",
    "HTML('''<script>\n",
    "code_show=true; \n",
    "function code_toggle() {\n",
    " if (code_show){\n",
    " $('div.input').hide();\n",
    " } else {\n",
    " $('div.input').show();\n",
    " }\n",
    " code_show = !code_show\n",
    "} \n",
    "$( document ).ready(code_toggle);\n",
    "</script>\n",
    "<form action=\"javascript:code_toggle()\"><input type=\"submit\" value=\"Click here to show the raw code.\"></form>''')"
   ]
  },
  {
   "cell_type": "code",
   "execution_count": 36,
   "metadata": {},
   "outputs": [
    {
     "output_type": "display_data",
     "data": {
      "text/plain": "<IPython.core.display.HTML object>",
      "text/html": "<style>.container { width:100% !important; }</style>"
     },
     "metadata": {}
    }
   ],
   "source": [
    "#increasing cell width with Jupyter notebook\n",
    "from IPython.core.display import display, HTML\n",
    "display(HTML(\"<style>.container { width:100% !important; }</style>\"))"
   ]
  },
  {
   "cell_type": "code",
   "execution_count": 37,
   "metadata": {},
   "outputs": [],
   "source": [
    "import ipywidgets as widgets\n",
    "from ipywidgets import interact, interactive, fixed, interact_manual\n",
    "from IPython.display import display\n",
    "import numpy as np\n",
    "import pandas as pd\n",
    "%matplotlib inline\n",
    "import matplotlib.pyplot as plt\n",
    "import seaborn as sns\n",
    "sns.set_style(\"whitegrid\")\n",
    "import bqplot as bq"
   ]
  },
  {
   "cell_type": "code",
   "execution_count": 38,
   "metadata": {},
   "outputs": [
    {
     "output_type": "execute_result",
     "data": {
      "text/plain": [
       "         age  gender  height  weight  systolic  diastolic  cholesterol  gluc  \\\n",
       "0  50.391781       2     168    62.0     110.0       80.0            1     1   \n",
       "1  55.419178       1     156    85.0     140.0       90.0            3     1   \n",
       "2  51.663014       1     165    64.0     130.0       70.0            3     1   \n",
       "3  48.282192       2     169    82.0     150.0      100.0            1     1   \n",
       "4  47.873973       1     156    56.0     100.0       60.0            1     1   \n",
       "\n",
       "   smoke  alco  active  cardio        bmi   HTN_stage  age_range  \n",
       "0      0     0       1       0  21.967120  HBP_stage1       50.0  \n",
       "1      0     0       1       1  34.927679  HBP_stage2       50.0  \n",
       "2      0     0       0       1  23.507805  HBP_stage1       50.0  \n",
       "3      0     0       1       1  28.710479  HBP_stage2       40.0  \n",
       "4      0     0       0       0  23.011177      Normal       40.0  "
      ],
      "text/html": "<div>\n<style scoped>\n    .dataframe tbody tr th:only-of-type {\n        vertical-align: middle;\n    }\n\n    .dataframe tbody tr th {\n        vertical-align: top;\n    }\n\n    .dataframe thead th {\n        text-align: right;\n    }\n</style>\n<table border=\"1\" class=\"dataframe\">\n  <thead>\n    <tr style=\"text-align: right;\">\n      <th></th>\n      <th>age</th>\n      <th>gender</th>\n      <th>height</th>\n      <th>weight</th>\n      <th>systolic</th>\n      <th>diastolic</th>\n      <th>cholesterol</th>\n      <th>gluc</th>\n      <th>smoke</th>\n      <th>alco</th>\n      <th>active</th>\n      <th>cardio</th>\n      <th>bmi</th>\n      <th>HTN_stage</th>\n      <th>age_range</th>\n    </tr>\n  </thead>\n  <tbody>\n    <tr>\n      <th>0</th>\n      <td>50.391781</td>\n      <td>2</td>\n      <td>168</td>\n      <td>62.0</td>\n      <td>110.0</td>\n      <td>80.0</td>\n      <td>1</td>\n      <td>1</td>\n      <td>0</td>\n      <td>0</td>\n      <td>1</td>\n      <td>0</td>\n      <td>21.967120</td>\n      <td>HBP_stage1</td>\n      <td>50.0</td>\n    </tr>\n    <tr>\n      <th>1</th>\n      <td>55.419178</td>\n      <td>1</td>\n      <td>156</td>\n      <td>85.0</td>\n      <td>140.0</td>\n      <td>90.0</td>\n      <td>3</td>\n      <td>1</td>\n      <td>0</td>\n      <td>0</td>\n      <td>1</td>\n      <td>1</td>\n      <td>34.927679</td>\n      <td>HBP_stage2</td>\n      <td>50.0</td>\n    </tr>\n    <tr>\n      <th>2</th>\n      <td>51.663014</td>\n      <td>1</td>\n      <td>165</td>\n      <td>64.0</td>\n      <td>130.0</td>\n      <td>70.0</td>\n      <td>3</td>\n      <td>1</td>\n      <td>0</td>\n      <td>0</td>\n      <td>0</td>\n      <td>1</td>\n      <td>23.507805</td>\n      <td>HBP_stage1</td>\n      <td>50.0</td>\n    </tr>\n    <tr>\n      <th>3</th>\n      <td>48.282192</td>\n      <td>2</td>\n      <td>169</td>\n      <td>82.0</td>\n      <td>150.0</td>\n      <td>100.0</td>\n      <td>1</td>\n      <td>1</td>\n      <td>0</td>\n      <td>0</td>\n      <td>1</td>\n      <td>1</td>\n      <td>28.710479</td>\n      <td>HBP_stage2</td>\n      <td>40.0</td>\n    </tr>\n    <tr>\n      <th>4</th>\n      <td>47.873973</td>\n      <td>1</td>\n      <td>156</td>\n      <td>56.0</td>\n      <td>100.0</td>\n      <td>60.0</td>\n      <td>1</td>\n      <td>1</td>\n      <td>0</td>\n      <td>0</td>\n      <td>0</td>\n      <td>0</td>\n      <td>23.011177</td>\n      <td>Normal</td>\n      <td>40.0</td>\n    </tr>\n  </tbody>\n</table>\n</div>"
     },
     "metadata": {},
     "execution_count": 38
    }
   ],
   "source": [
    "#read data and create dataframe\n",
    "df = pd.read_csv(\"eda_final.csv\", index_col=0)\n",
    "df.head()"
   ]
  },
  {
   "source": [
    "#create function to categorize blood pressure\n",
    "def blood_pressure_cat(diastolic):\n",
    "    if diastolic >= 120:\n",
    "        return \"Crisis\"\n",
    "    elif (90 <= diastolic < 120):\n",
    "        return \"HBP_stage2\"\n",
    "    elif (80 <= diastolic < 90):\n",
    "        return \"HBP_stage1\"\n",
    "    else:\n",
    "        return \"Elevated/Normal\""
   ],
   "cell_type": "code",
   "metadata": {},
   "execution_count": null,
   "outputs": []
  },
  {
   "source": [
    "#run category function on dataframe\n",
    "df['HTN_stage'] = df['diastolic'].apply(lambda x: blood_pressure_cat(x))"
   ],
   "cell_type": "code",
   "metadata": {},
   "execution_count": null,
   "outputs": []
  },
  {
   "cell_type": "code",
   "execution_count": 39,
   "metadata": {},
   "outputs": [],
   "source": [
    "#create function to categorize age\n",
    "def age_category(age):\n",
    "    if age < 40:\n",
    "        return \"30-39\"\n",
    "    elif (50 > age >= 40):\n",
    "        return \"40-49\"\n",
    "    elif (60 > age >= 50):\n",
    "        return \"50-59\"\n",
    "    else:\n",
    "        return \"60-69\"\n",
    "#run category function on dataframe\n",
    "df['age_range'] = df['age'].apply(lambda x: age_category(x))"
   ]
  },
  {
   "cell_type": "code",
   "execution_count": 40,
   "metadata": {},
   "outputs": [],
   "source": [
    "#creating handlers for data attibutes\n",
    "gender_drop= widgets.Dropdown(options=[(\"Yes\",1),\n",
    "                                       (\"No\",0)],description=\"Include gender:\",\n",
    "                                         style= {'description_width': 'initial'})\n",
    "run_button = widgets.Button(description=\"Show statistics\",\n",
    "                           button_style='success')"
   ]
  },
  {
   "cell_type": "code",
   "execution_count": 41,
   "metadata": {},
   "outputs": [],
   "source": [
    "#function to show first plot\n",
    "def show_plot_gender(b=None):\n",
    "    gen=gender_drop.value\n",
    "    plt.figure(figsize= (6,6))\n",
    "    if gen == 0:\n",
    "        ax =sns.countplot(y= 'HTN_stage', hue='gender', data= df, \n",
    "                          order=[\"Elevated/Normal\",\"HBP_stage1\", \"HBP_stage2\", \"Crisis\"])\n",
    "        plt.title('Diastolic Blood Pressure Stages By Gender')\n",
    "        plt.legend([\"female\", \"male\"])\n",
    "    else:\n",
    "        ax =sns.countplot(y= 'HTN_stage', data= df, \n",
    "                          order=[\"Elevated/Normal\",\"HBP_stage1\", \"HBP_stage2\", \"Crisis\"])\n",
    "        plt.title('Diastolic Blood Pressure Stages Overview')   \n",
    "    plt.ylabel('HTN stage')\n",
    "    total = len(df['age_range'])\n",
    "    for p in ax.patches:\n",
    "        percentage = '{:.1f}%'.format(100 * p.get_width()/total)\n",
    "        x = p.get_x() + p.get_width() + 0.02\n",
    "        y = p.get_y() + p.get_height()/2\n",
    "        ax.annotate(percentage, (x, y))\n",
    "\n",
    "#function to show second plot\n",
    "def show_plot_age(b=None):\n",
    "    plt.figure(figsize= (6,6))\n",
    "    sns.countplot(x= 'age_range', hue= 'HTN_stage', data= df, order=[\"30-39\",\"40-49\",\"50-59\",\"60-69\"])\n",
    "    plt.title('Diastolic Blood Pressure Categories For Age Ranges', fontweight= 'bold', fontsize= 12)\n",
    "    plt.xlabel('Age ranges')\n",
    "    plt.ylabel('Number of Patients')\n",
    "    plt.legend([\"Elevated/Normal\",\"HBP_stage1\", \"HBP_stage2\", \"Crisis\"])\n",
    "\n",
    "#function to show third plot    \n",
    "def show_plot_cardio(b=None):\n",
    "    plt.figure(figsize= (6,6))\n",
    "    sns.countplot(x= 'HTN_stage', hue= 'cardio', \n",
    "                  data= df, order=[\"Elevated/Normal\",\"HBP_stage1\", \"HBP_stage2\", \"Crisis\"],\n",
    "                 palette=\"Set1\")\n",
    "    plt.title('Diastolic Blood Pressure Categories With Cardio Disease Coexistance', fontweight= 'bold', fontsize= 12)\n",
    "    plt.xlabel('Diastolic Blood Pressure Categories')\n",
    "    plt.ylabel('Number of Patients')\n",
    "    plt.legend([\"cardio disease\", \"no cardio disease\"])"
   ]
  },
  {
   "cell_type": "code",
   "execution_count": 43,
   "metadata": {},
   "outputs": [
    {
     "output_type": "display_data",
     "data": {
      "text/plain": "Tab(children=(Text(value='Age'), Text(value='BMI'), Text(value='Blood Pressure'), Text(value='Systolic BP'), H…",
      "application/vnd.jupyter.widget-view+json": {
       "version_major": 2,
       "version_minor": 0,
       "model_id": "d712108df32d4f72a1dc188a2fb6e357"
      }
     },
     "metadata": {}
    }
   ],
   "source": [
    "#tabs\n",
    "\n",
    "def plot_on_click(b):\n",
    "    out.clear_output(wait=True)\n",
    "    with out:\n",
    "        show_plot_gender()\n",
    "        show_plot_age()\n",
    "        show_plot_cardio()\n",
    "        plt.show()\n",
    "\n",
    "run_button.on_click(plot_on_click)\n",
    "out=widgets.Output()\n",
    "widget_box=widgets.VBox([gender_drop,run_button])\n",
    "\n",
    "tab0 = widgets.Text('Age')\n",
    "tab1 = widgets.Text('BMI')\n",
    "tab2 = widgets.Text('Blood Pressure')\n",
    "tab3 = widgets.Text('Systolic BP')\n",
    "tab4 = widgets.HBox([widget_box,out])\n",
    "\n",
    "\n",
    "tab_contents = ['Age', 'BMI', 'Blood Pressure', 'Systolic Blood Pressure', 'Diastolic Blood Pressure']\n",
    "children = [tab0, tab1, tab2, tab3, tab4]\n",
    "tab = widgets.Tab()\n",
    "tab.children = children\n",
    "for i in range(len(tab_contents)):\n",
    "    tab.set_title(i, tab_contents[i])\n",
    "tab"
   ]
  },
  {
   "cell_type": "code",
   "execution_count": null,
   "metadata": {},
   "outputs": [],
   "source": []
  }
 ]
}