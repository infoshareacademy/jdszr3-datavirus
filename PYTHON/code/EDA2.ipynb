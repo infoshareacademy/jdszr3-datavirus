{
 "metadata": {
  "language_info": {
   "codemirror_mode": {
    "name": "ipython",
    "version": 3
   },
   "file_extension": ".py",
   "mimetype": "text/x-python",
   "name": "python",
   "nbconvert_exporter": "python",
   "pygments_lexer": "ipython3",
   "version": "3.8.3"
  },
  "orig_nbformat": 2,
  "kernelspec": {
   "name": "python383jvsc74a57bd00062e047125ebb5108b603169bc21de4af15d4941600a121f270f5b23dba400b",
   "display_name": "Python 3.8.3 64-bit ('base': conda)"
  }
 },
 "nbformat": 4,
 "nbformat_minor": 2,
 "cells": [
  {
   "source": [],
   "cell_type": "markdown",
   "metadata": {}
  },
  {
   "cell_type": "code",
   "execution_count": null,
   "metadata": {},
   "outputs": [],
   "source": [
    "import numpy as np\n",
    "import pandas as pd\n",
    "import matplotlib.pyplot as plt\n",
    "%matplotlib inline\n",
    "import seaborn as sns\n",
    "sns.set_style('whitegrid')"
   ]
  },
  {
   "cell_type": "code",
   "execution_count": null,
   "metadata": {},
   "outputs": [],
   "source": [
    "file_name='eda_updated.csv'\n",
    "file_path = os.path.join(os.path.abspath(\"\"), \"PYTHON\", file_name)\n",
    "df = pd.read_csv(file_name,delimiter=',')\n",
    "df = df.drop(columns='id')\n",
    "df=df.rename(columns={\"ap_hi\": \"systolic\", \"ap_lo\": \"diastolic\"})"
   ]
  },
  {
   "cell_type": "code",
   "execution_count": null,
   "metadata": {},
   "outputs": [],
   "source": [
    "#gender\n",
    "print(\"Females = \",df[df['gender']==1].shape[0])\n",
    "print(\"Males = \",df[df['gender']==2].shape[0])\n",
    "gender=[df[df['gender']==1].shape[0], df[df['gender']==2].shape[0]]"
   ]
  },
  {
   "cell_type": "code",
   "execution_count": null,
   "metadata": {},
   "outputs": [],
   "source": [
    "labels=['Female','Male']\n",
    "fig1, ax1 = plt.subplots()\n",
    "ax1.pie(gender,labels=labels,autopct='%1.1f%%',shadow=True, startangle=90)\n",
    "ax1.axis('equal')\n",
    "ax1.set_title('Gender') \n",
    "plt.show()"
   ]
  },
  {
   "cell_type": "code",
   "execution_count": null,
   "metadata": {},
   "outputs": [],
   "source": [
    "#smoking\n",
    "print('No smokers(0) and smokers(1): \\n', df['smoke'].value_counts())\n",
    "#smoking per gender\n",
    "females_without_smoke=np.logical_and(df['gender']==1,df['smoke']==0).sum()\n",
    "males_without_smoke=np.logical_and(df['gender']==2,df['smoke']==0).sum()\n",
    "females_with_smoke=np.logical_and(df['gender']==1,df['smoke']==1).sum()\n",
    "males_with_smoke=np.logical_and(df['gender']==2,df['smoke']==1).sum()\n",
    "print(\"Female: no smokers:\",females_without_smoke,\" and smokers:\",females_with_smoke)\n",
    "print(\"Male: no smokers:\",males_without_smoke,\" and smokers:\",males_with_smoke)\n"
   ]
  },
  {
   "cell_type": "code",
   "execution_count": null,
   "metadata": {},
   "outputs": [],
   "source": [
    "smoke_pie=[females_without_smoke,females_with_smoke,males_without_smoke,males_with_smoke]\n",
    "smoke_lab=['Females \\n not smokers', 'Females smokers','Males \\n not smokers', 'Males smokers']\n",
    "fig1, ax1 = plt.subplots()\n",
    "ax1.pie(smoke_pie,labels=smoke_lab,autopct='%1.1f%%',shadow=True, startangle=90)\n",
    "ax1.axis('equal')\n",
    "ax1.set_title('Smoking per gender')  # Equal aspect ratio ensures that pie is drawn as a circle.\n",
    "plt.show()"
   ]
  },
  {
   "cell_type": "code",
   "execution_count": null,
   "metadata": {},
   "outputs": [],
   "source": [
    "#alkohol\n",
    "print('No of not drinking(0) and drinking(1): \\n',df['alco'].value_counts())\n",
    "#alcohol per gender\n",
    "females_without_alco=np.logical_and(df['gender']==1,df['alco']==0).sum()\n",
    "males_without_alco=np.logical_and(df['gender']==2,df['alco']==0).sum()\n",
    "females_with_alco=np.logical_and(df['gender']==1,df['alco']==1).sum()\n",
    "males_with_alco=np.logical_and(df['gender']==2,df['alco']==1).sum()\n",
    "print(\"Females not drinking:\",females_without_alco,\" and drinking:\",females_with_alco)\n",
    "print(\"Males not drinking:\",males_without_alco,\" and drinking:\",males_with_alco)"
   ]
  },
  {
   "cell_type": "code",
   "execution_count": null,
   "metadata": {},
   "outputs": [],
   "source": [
    "alco_pie=[females_without_alco,females_with_alco,males_without_alco,males_with_alco]\n",
    "alco_lab=['Females \\n not drinking', 'Females drinking','Males \\n not drinking', 'Males drinking']\n",
    "fig1, ax1 = plt.subplots()\n",
    "ax1.pie(alco_pie,labels=alco_lab,autopct='%1.1f%%',shadow=True, startangle=75)\n",
    "ax1.axis('equal')\n",
    "ax1.set_title('Alcohol per gender')  # Equal aspect ratio ensures that pie is drawn as a circle.\n",
    "plt.show()"
   ]
  },
  {
   "cell_type": "code",
   "execution_count": null,
   "metadata": {},
   "outputs": [],
   "source": [
    "#pcardio disease\n",
    "print('People without cardio disease(0) and with disease(1):\\n',df['cardio'].value_counts())\n",
    "#disease per gender\n",
    "females_without_cardio=np.logical_and(df['gender']==1,df['cardio']==0).sum()\n",
    "males_without_cardio=np.logical_and(df['gender']==2,df['cardio']==0).sum()\n",
    "females_with_cardio=np.logical_and(df['gender']==1,df['cardio']==1).sum()\n",
    "males_with_cardio=np.logical_and(df['gender']==2,df['cardio']==1).sum()\n",
    "print(\"Females without cardio disease: \",females_without_cardio,\" and with disease:\",females_with_cardio)\n",
    "print(\"Males without cardio disease: \",males_without_cardio,\" and with disease:\",males_with_cardio)"
   ]
  },
  {
   "cell_type": "code",
   "execution_count": null,
   "metadata": {},
   "outputs": [],
   "source": [
    "cardio_pie=[females_without_cardio,females_with_cardio,males_without_cardio,males_with_cardio]\n",
    "cardio_lab=['Females \\n without disease', 'Females \\n with disease','Males \\n without disease', 'Males \\n with disease']\n",
    "fig1, ax1 = plt.subplots()\n",
    "ax1.pie(cardio_pie,labels=cardio_lab,autopct='%1.1f%%',shadow=True, startangle=75)\n",
    "ax1.axis('equal')\n",
    "ax1.set_title('Disease per gender')  # Equal aspect ratio ensures that pie is drawn as a circle.\n",
    "plt.show()"
   ]
  },
  {
   "cell_type": "code",
   "execution_count": null,
   "metadata": {},
   "outputs": [],
   "source": [
    "#active\n",
    "print('Physical activity: yes(0) and no(1):\\n',df['active'].value_counts())\n",
    "#active per gender\n",
    "females_without_active=np.logical_and(df['gender']==1,df['active']==0).sum()\n",
    "males_without_active=np.logical_and(df['gender']==2,df['active']==0).sum()\n",
    "females_with_active=np.logical_and(df['gender']==1,df['active']==1).sum()\n",
    "males_with_active=np.logical_and(df['gender']==2,df['active']==1).sum()\n",
    "print(\"Females with activity: \",females_without_active,\" and without:\",females_with_active)\n",
    "print(\"Males with activity: \",males_without_active,\" and without:\",males_with_active)"
   ]
  },
  {
   "cell_type": "code",
   "execution_count": null,
   "metadata": {},
   "outputs": [],
   "source": [
    "active_pie=[females_without_active,females_with_active,males_without_active,males_with_active]\n",
    "active_lab=['Females \\n without activity', 'Females \\n with activity','Males \\n without activity', 'Males \\n with activity']\n",
    "fig1, ax1 = plt.subplots()\n",
    "ax1.pie(cardio_pie,labels=cardio_lab,autopct='%1.1f%%',shadow=True, startangle=75)\n",
    "ax1.axis('equal')\n",
    "ax1.set_title('Physical activity per gender')  # Equal aspect ratio ensures that pie is drawn as a circle.\n",
    "plt.show()"
   ]
  },
  {
   "cell_type": "code",
   "execution_count": null,
   "metadata": {},
   "outputs": [],
   "source": [
    "#cholesterol - 3 categories\n",
    "df['cholesterol'].value_counts()\n",
    "# cholesterol per gender\n",
    "females_chol_1=np.logical_and(df['gender']==1,df['cholesterol']==1).sum()\n",
    "females_chol_2=np.logical_and(df['gender']==1,df['cholesterol']==2).sum()\n",
    "females_chol_3=np.logical_and(df['gender']==1,df['cholesterol']==3).sum()\n",
    "males_chol_1=np.logical_and(df['gender']==2,df['cholesterol']==1).sum()\n",
    "males_chol_2=np.logical_and(df['gender']==2,df['cholesterol']==2).sum()\n",
    "males_chol_3=np.logical_and(df['gender']==2,df['cholesterol']==3).sum()\n",
    "print(\"Cholesterol categories (1,2,3): \\n Females:\")\n",
    "print(\"cat1: \",females_chol_1,\", cat2: \",females_chol_2,\", cat3: \",females_chol_3)\n",
    "print('----------- \\n Males:')\n",
    "print(\"cat1: \",males_chol_1,\", cat2: \",males_chol_2,\", cat3: \",males_chol_3)"
   ]
  },
  {
   "cell_type": "code",
   "execution_count": null,
   "metadata": {},
   "outputs": [],
   "source": [
    "chol_pie=[females_chol_1, females_chol_2, females_chol_3, males_chol_1, males_chol_2, males_chol_3]\n",
    "chol_lab=['Females \\n cat1', 'Females \\n cat2', 'Females \\n cat3', 'Males \\n cat1', 'Males \\n cat2', 'Males \\n cat3']\n",
    "fig1, ax1 = plt.subplots()\n",
    "ax1.pie(chol_pie,labels=chol_lab,autopct='%1.1f%%',shadow=True, startangle=50)\n",
    "ax1.axis('equal')\n",
    "ax1.set_title('Cholesterol per gender')  # Equal aspect ratio ensures that pie is drawn as a circle.\n",
    "plt.show()"
   ]
  },
  {
   "cell_type": "code",
   "execution_count": null,
   "metadata": {},
   "outputs": [],
   "source": [
    "from sklearn.impute import KNNImputer\n",
    "imputer = KNNImputer(n_neighbors=3)\n",
    "x1 = imputer.fit_transform(df)\n",
    "x1 = pd.DataFrame(df, columns=df.columns)\n",
    "x1.head()"
   ]
  },
  {
   "cell_type": "code",
   "execution_count": null,
   "metadata": {},
   "outputs": [],
   "source": [
    "sns.catplot(x='gender', y='age',\n",
    "                hue='cardio',col='cholesterol',\n",
    "                data=x1, kind=\"box\",\n",
    "                height=4, aspect=.7);"
   ]
  },
  {
   "cell_type": "code",
   "execution_count": null,
   "metadata": {},
   "outputs": [],
   "source": [
    "sns.catplot(x='gender', y='age',\n",
    "                hue='cardio',col='gluc',\n",
    "                data=x1, kind=\"box\",\n",
    "                height=4, aspect=.7);"
   ]
  },
  {
   "cell_type": "code",
   "execution_count": null,
   "metadata": {},
   "outputs": [],
   "source": [
    "sns.catplot(x='gender', y='age',\n",
    "                hue='cardio',col='alco',\n",
    "                data=x1, kind=\"box\",\n",
    "                height=4, aspect=.7);"
   ]
  },
  {
   "cell_type": "code",
   "execution_count": null,
   "metadata": {},
   "outputs": [],
   "source": [
    "sns.catplot(x='gender', y='age',\n",
    "                hue='cardio',col='smoke',\n",
    "                data=x1, kind=\"box\",\n",
    "                height=4, aspect=.7);"
   ]
  },
  {
   "cell_type": "code",
   "execution_count": null,
   "metadata": {},
   "outputs": [],
   "source": [
    "\n",
    "plt.figure(figsize= (15,5))\n",
    "sns.boxplot(x = 'bmi', y= 'cardio', data= df, orient='h')\n",
    "plt.title('Body Mass Index and Cardiovascular Disease', fontsize= 20)\n",
    "plt.ylabel('Disease Presence')\n",
    "plt.xlabel('BMI')"
   ]
  },
  {
   "cell_type": "code",
   "execution_count": null,
   "metadata": {},
   "outputs": [],
   "source": [
    "sns.catplot( x ='gender',y='bmi', \n",
    "                hue='cardio',col='active',\n",
    "                data=x1, kind=\"box\",\n",
    "                height=5, aspect=.8);"
   ]
  },
  {
   "source": [
    "Clasification for the pressure\n",
    "\n",
    "![](download.png)"
   ],
   "cell_type": "markdown",
   "metadata": {}
  },
  {
   "cell_type": "code",
   "execution_count": null,
   "metadata": {},
   "outputs": [],
   "source": [
    "#function to categorize blood pressure\n",
    "def bp_categories(systolic, diastolic):\n",
    "    if systolic > 180 or diastolic > 120:\n",
    "        return 'Crisis'\n",
    "    elif (140 <= systolic < 180) or (90 <= diastolic < 120):\n",
    "        return 'HBP_stage2'\n",
    "    elif (130 <= systolic < 140) or (80 <= diastolic < 90) :\n",
    "        return 'HBP_stage1'\n",
    "    elif (120 <= systolic < 130) and diastolic < 80:\n",
    "        return 'Elevated'\n",
    "    else:\n",
    "        return 'Normal'"
   ]
  },
  {
   "cell_type": "code",
   "execution_count": null,
   "metadata": {},
   "outputs": [],
   "source": [
    "# HTN is abbreviation for hypertension\n",
    "df['HTN_stage'] = df[['systolic', 'diastolic']].apply\\\n",
    "    (lambda x: bp_categories(*x), axis= 1)"
   ]
  },
  {
   "cell_type": "code",
   "execution_count": null,
   "metadata": {},
   "outputs": [],
   "source": [
    "df.HTN_stage.value_counts()"
   ]
  },
  {
   "cell_type": "code",
   "execution_count": null,
   "metadata": {},
   "outputs": [],
   "source": [
    "plt.figure(figsize= (15,7))\n",
    "sns.countplot(x= 'bmi_range', hue= 'age_range', data= df)\n",
    "plt.title('Blood Pressure Categories and Presence of Cardiovascular Disease', \n",
    "          fontweight= 'bold', fontsize= 20)\n",
    "plt.xlabel('Blood Pressure Category')\n",
    "plt.ylabel('# of Patients')\n",
    "pass"
   ]
  },
  {
   "source": [
    "Age analysis\n"
   ],
   "cell_type": "markdown",
   "metadata": {}
  },
  {
   "cell_type": "code",
   "execution_count": null,
   "metadata": {},
   "outputs": [],
   "source": [
    "df.age.describe()"
   ]
  },
  {
   "cell_type": "code",
   "execution_count": null,
   "metadata": {},
   "outputs": [],
   "source": [
    "df[df['gender']==1]"
   ]
  },
  {
   "cell_type": "code",
   "execution_count": null,
   "metadata": {},
   "outputs": [],
   "source": [
    "df.reset_index()\n",
    "# bin ages into categories\n",
    "df.loc[(df['age'] < 40), 'age_range'] = 30\n",
    "df.loc[(df['age'] >= 40) & (df['age'] < 50), 'age_range'] = 40\n",
    "df.loc[(df['age'] >= 50) & (df['age'] < 60), 'age_range'] = 50\n",
    "df.loc[(df['age'] >= 60) & (df['age'] < 70), 'age_range'] = 60"
   ]
  },
  {
   "cell_type": "code",
   "execution_count": null,
   "metadata": {},
   "outputs": [],
   "source": [
    "df.to_csv('eda_final.csv')"
   ]
  },
  {
   "cell_type": "code",
   "execution_count": null,
   "metadata": {},
   "outputs": [],
   "source": [
    "df.reset_index()\n",
    "# bin ages into categories\n",
    "df.loc[(df['age'] < 40), 'age_range'] = 30\n",
    "df.loc[(df['age'] >= 40) & (df['age'] < 50), 'age_range'] = 40\n",
    "df.loc[(df['age'] >= 50) & (df['age'] < 60), 'age_range'] = 50\n",
    "df.loc[(df['age'] >= 60) & (df['age'] < 70), 'age_range'] = 60"
   ]
  },
  {
   "cell_type": "code",
   "execution_count": null,
   "metadata": {},
   "outputs": [],
   "source": [
    "df.reset_index()\n",
    "df.loc[(df['bmi'] < 18.5), 'bmi_range'] = 'Underweight'\n",
    "df.loc[(df['bmi'] >=18.5) & (df['bmi'] < 24.9), 'bmi_range'] = 'Healthy'\n",
    "df.loc[(df['bmi'] >=24.9) & (df['bmi'] < 29.9), 'bmi_range'] = 'Overweight'\n",
    "df.loc[(df['bmi'] >=29.9) & (df['bmi'] < 40), 'bmi_range'] = 'Obese'\n",
    "df.loc[(df['bmi'] >=40), 'bmi_range'] = 'High Obese'"
   ]
  },
  {
   "cell_type": "code",
   "execution_count": null,
   "metadata": {},
   "outputs": [],
   "source": [
    "df.bmi_range.value_counts()"
   ]
  },
  {
   "cell_type": "code",
   "execution_count": null,
   "metadata": {},
   "outputs": [],
   "source": [
    "ax =sns.countplot(y= 'age_range', data= df)\n",
    "plt.title('Bmi Ranges')\n",
    "plt.ylabel('BMI Range')\n",
    "plt.xlabel('No of Patients')\n",
    "\n",
    "total = len(df['bmi_range'])\n",
    "for p in ax.patches:\n",
    "        percentage = '{:.1f}%'.format(100 * p.get_width()/total)\n",
    "        x = p.get_x() + p.get_width() + 0.02\n",
    "        y = p.get_y() + p.get_height()/2\n",
    "        ax.annotate(percentage, (x, y))\n",
    "\n",
    "plt.show()"
   ]
  }
 ]
}