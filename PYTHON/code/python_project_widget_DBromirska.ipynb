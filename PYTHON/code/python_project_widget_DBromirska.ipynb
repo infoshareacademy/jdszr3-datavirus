{
 "cells": [
  {
   "cell_type": "code",
   "execution_count": null,
   "metadata": {},
   "outputs": [],
   "source": [
    "import ipywidgets as widgets\n",
    "from ipywidgets import interact, interactive, fixed, interact_manual\n",
    "from IPython.display import display\n",
    "import numpy as np\n",
    "import pandas as pd\n",
    "%matplotlib inline\n",
    "import matplotlib.pyplot as plt\n",
    "import seaborn as sns\n",
    "sns.set_style(\"whitegrid\")\n",
    "import bqplot as bq"
   ]
  },
  {
   "cell_type": "code",
   "execution_count": null,
   "metadata": {},
   "outputs": [],
   "source": [
    "#read clean data and create dataframe\n",
    "df = pd.read_csv(\"eda_final.csv\")\n",
    "df"
   ]
  },
  {
   "cell_type": "code",
   "execution_count": null,
   "metadata": {},
   "outputs": [],
   "source": [
    "#make sure systolic blood pressure is an integer\n",
    "df[\"systolic\"].astype(int)"
   ]
  },
  {
   "cell_type": "code",
   "execution_count": null,
   "metadata": {},
   "outputs": [],
   "source": [
    "#create function to categorize blood pressure\n",
    "def blood_pressure_cat(systolic):\n",
    "    if systolic >= 180:\n",
    "        return \"Crisis\"\n",
    "    elif (140 <= systolic < 180):\n",
    "        return \"HBP_stage2\"\n",
    "    elif (130 <= systolic < 140):\n",
    "        return \"HBP_stage1\"\n",
    "    elif (120 <= systolic < 130):\n",
    "        return \"Elevated\"\n",
    "    else:\n",
    "        return \"Normal\""
   ]
  },
  {
   "cell_type": "code",
   "execution_count": null,
   "metadata": {},
   "outputs": [],
   "source": [
    "#run category function on dataframe\n",
    "df['HTN_stage'] = df['systolic'].apply(lambda x: blood_pressure_cat(x))"
   ]
  },
  {
   "cell_type": "code",
   "execution_count": null,
   "metadata": {},
   "outputs": [],
   "source": [
    "#create function to categorize age\n",
    "def age_category(age):\n",
    "    if age < 40:\n",
    "        return \"30-39\"\n",
    "    elif (50 > age >= 40):\n",
    "        return \"40-49\"\n",
    "    elif (60 > age >= 50):\n",
    "        return \"50-59\"\n",
    "    else:\n",
    "        return \"60-69\"\n",
    "#run category function on dataframe\n",
    "df['age_range_y'] = df['age'].apply(lambda x: age_category(x))"
   ]
  },
  {
   "cell_type": "code",
   "execution_count": null,
   "metadata": {},
   "outputs": [],
   "source": [
    "#creating handlers for data attibutes\n",
    "gender_drop= widgets.Dropdown(options=[(\"Yes\",1),\n",
    "                                       (\"No\",0)],description=\"Include gender:\",\n",
    "                                         style= {'description_width': 'initial'})\n",
    "run_button = widgets.Button(description=\"Show statistics\",\n",
    "                           button_style='success')"
   ]
  },
  {
   "cell_type": "code",
   "execution_count": null,
   "metadata": {},
   "outputs": [],
   "source": [
    "#function to show first plot\n",
    "def show_plot_1(b=None):\n",
    "    gen=gender_drop.value\n",
    "    plt.figure(figsize= (6,6))\n",
    "    if gen == 0:\n",
    "        ax =sns.countplot(y= 'HTN_stage', hue='gender', data= df, \n",
    "                          order=[\"Normal\",\"Elevated\",\"HBP_stage1\", \"HBP_stage2\", \"Crisis\"])\n",
    "        plt.title('Systolic Blood Pressure Stages By Gender')\n",
    "        plt.legend([\"female\", \"male\"])\n",
    "    else:\n",
    "        ax =sns.countplot(y= 'HTN_stage', data= df, \n",
    "                          order=[\"Normal\",\"Elevated\",\"HBP_stage1\", \"HBP_stage2\", \"Crisis\"])\n",
    "        plt.title('Systolic Blood Pressure Stages Overview')   \n",
    "    plt.ylabel('HTN stage')\n",
    "    total = len(df['age_range'])\n",
    "    for p in ax.patches:\n",
    "        percentage = '{:.1f}%'.format(100 * p.get_width()/total)\n",
    "        x = p.get_x() + p.get_width() + 0.02\n",
    "        y = p.get_y() + p.get_height()/2\n",
    "        ax.annotate(percentage, (x, y))\n",
    "\n",
    "#function to show second plot\n",
    "def show_plot_2(b=None):\n",
    "    plt.figure(figsize= (6,6))\n",
    "    sns.countplot(x= 'age_range', hue= 'HTN_stage', data= df, order=[\"30-39\",\"40-49\",\"50-59\",\"60-69\"])\n",
    "    plt.title('Systolic Blood Pressure Categories For Age Ranges', fontweight= 'bold', fontsize= 12)\n",
    "    plt.xlabel('Age ranges')\n",
    "    plt.ylabel('Number of Patients')\n",
    "    plt.legend([\"Normal\",\"Elevated\",\"HBP_stage1\", \"HBP_stage2\", \"Crisis\"])\n",
    "\n",
    "#function to show third plot    \n",
    "def show_plot_3(b=None):\n",
    "    plt.figure(figsize= (6,6))\n",
    "    sns.countplot(x= 'HTN_stage', hue= 'cardio', \n",
    "                  data= df, order=[\"Normal\",\"Elevated\",\"HBP_stage1\", \"HBP_stage2\", \"Crisis\"],\n",
    "                 palette=\"Set1\")\n",
    "    plt.title('Systolic Blood Pressure Categories With Cardio Disease Coexistance', fontweight= 'bold', fontsize= 12)\n",
    "    plt.xlabel('Systolic Blood Pressure Categories')\n",
    "    plt.ylabel('Number of Patients')\n",
    "    plt.legend([\"cardio disease\", \"no cardio disease\"])"
   ]
  },
  {
   "cell_type": "code",
   "execution_count": null,
   "metadata": {},
   "outputs": [],
   "source": [
    "#tabs\n",
    "@run_button.on_click\n",
    "def plot_on_click(b):\n",
    "    out.clear_output(wait=True)\n",
    "    with out:\n",
    "        show_plot_1()\n",
    "        show_plot_2()\n",
    "        show_plot_3()\n",
    "        plt.show()\n",
    "\n",
    "out=widgets.Output()\n",
    "widget_box=widgets.VBox([gender_drop,run_button])\n",
    "\n",
    "tab0 = widgets.Text('Age')\n",
    "tab1 = widgets.Text('BMI')\n",
    "tab2 = widgets.Text('Blood Pressure')\n",
    "tab3 = widgets.HBox([widget_box,out])\n",
    "tab4 = widgets.Text('Diastolic BP')\n",
    "\n",
    "tab_contents = ['Age', 'BMI', 'Blood Pressure', 'Systolic Blood Pressure', 'Diastolic Blood Pressure']\n",
    "children = [tab0, tab1, tab2, tab3, tab4]\n",
    "tab = widgets.Tab()\n",
    "tab.children = children\n",
    "for i in range(len(tab_contents)):\n",
    "    tab.set_title(i, tab_contents[i])\n",
    "tab"
   ]
  },
  {
   "cell_type": "code",
   "execution_count": null,
   "metadata": {},
   "outputs": [],
   "source": []
  }
 ],
 "metadata": {
  "kernelspec": {
   "name": "python383jvsc74a57bd00062e047125ebb5108b603169bc21de4af15d4941600a121f270f5b23dba400b",
   "display_name": "Python 3.8.3 64-bit ('base': conda)"
  },
  "language_info": {
   "codemirror_mode": {
    "name": "ipython",
    "version": 3
   },
   "file_extension": ".py",
   "mimetype": "text/x-python",
   "name": "python",
   "nbconvert_exporter": "python",
   "pygments_lexer": "ipython3",
   "version": "3.8.3"
  }
 },
 "nbformat": 4,
 "nbformat_minor": 4
}