{
 "cells": [
  {
   "cell_type": "code",
   "execution_count": 12,
   "metadata": {},
   "outputs": [],
   "source": [
    "import ipywidgets as widgets\n",
    "from ipywidgets import interact, interactive, fixed, interact_manual\n",
    "from IPython.display import display\n",
    "import numpy as np\n",
    "import pandas as pd\n",
    "%matplotlib inline\n",
    "import matplotlib.pyplot as plt\n",
    "import seaborn as sns\n",
    "sns.set_style(\"whitegrid\")\n",
    "import bqplot as bq"
   ]
  },
  {
   "cell_type": "code",
   "execution_count": 13,
   "metadata": {},
   "outputs": [
    {
     "output_type": "execute_result",
     "data": {
      "text/plain": [
       "       Unnamed: 0        age  gender  height  weight  systolic  diastolic  \\\n",
       "0               0  50.391781       2     168    62.0     110.0       80.0   \n",
       "1               1  55.419178       1     156    85.0     140.0       90.0   \n",
       "2               2  51.663014       1     165    64.0     130.0       70.0   \n",
       "3               3  48.282192       2     169    82.0     150.0      100.0   \n",
       "4               4  47.873973       1     156    56.0     100.0       60.0   \n",
       "...           ...        ...     ...     ...     ...       ...        ...   \n",
       "69530       69530  52.712329       2     168    76.0     120.0       80.0   \n",
       "69531       69531  61.920548       1     158   126.0     140.0       90.0   \n",
       "69532       69532  52.235616       2     183   105.0     180.0       90.0   \n",
       "69533       69533  61.454795       1     163    72.0     135.0       80.0   \n",
       "69534       69534  56.273973       1     170    72.0     120.0       80.0   \n",
       "\n",
       "       cholesterol  gluc  smoke  alco  active  cardio        bmi   HTN_stage  \\\n",
       "0                1     1      0     0       1       0  21.967120  HBP_stage1   \n",
       "1                3     1      0     0       1       1  34.927679  HBP_stage2   \n",
       "2                3     1      0     0       0       1  23.507805  HBP_stage1   \n",
       "3                1     1      0     0       1       1  28.710479  HBP_stage2   \n",
       "4                1     1      0     0       0       0  23.011177      Normal   \n",
       "...            ...   ...    ...   ...     ...     ...        ...         ...   \n",
       "69530            1     1      1     0       1       0  26.927438  HBP_stage1   \n",
       "69531            2     2      0     0       1       1  50.472681  HBP_stage2   \n",
       "69532            3     1      0     1       0       1  31.353579  HBP_stage2   \n",
       "69533            1     2      0     0       0       1  27.099251  HBP_stage1   \n",
       "69534            2     1      0     0       1       0  24.913495  HBP_stage1   \n",
       "\n",
       "       age_range   bmi_range  \n",
       "0           50.0     Healthy  \n",
       "1           50.0       Obese  \n",
       "2           50.0     Healthy  \n",
       "3           40.0  Overweight  \n",
       "4           40.0     Healthy  \n",
       "...          ...         ...  \n",
       "69530       50.0  Overweight  \n",
       "69531       60.0  High Obese  \n",
       "69532       50.0       Obese  \n",
       "69533       60.0  Overweight  \n",
       "69534       50.0  Overweight  \n",
       "\n",
       "[69535 rows x 17 columns]"
      ],
      "text/html": "<div>\n<style scoped>\n    .dataframe tbody tr th:only-of-type {\n        vertical-align: middle;\n    }\n\n    .dataframe tbody tr th {\n        vertical-align: top;\n    }\n\n    .dataframe thead th {\n        text-align: right;\n    }\n</style>\n<table border=\"1\" class=\"dataframe\">\n  <thead>\n    <tr style=\"text-align: right;\">\n      <th></th>\n      <th>Unnamed: 0</th>\n      <th>age</th>\n      <th>gender</th>\n      <th>height</th>\n      <th>weight</th>\n      <th>systolic</th>\n      <th>diastolic</th>\n      <th>cholesterol</th>\n      <th>gluc</th>\n      <th>smoke</th>\n      <th>alco</th>\n      <th>active</th>\n      <th>cardio</th>\n      <th>bmi</th>\n      <th>HTN_stage</th>\n      <th>age_range</th>\n      <th>bmi_range</th>\n    </tr>\n  </thead>\n  <tbody>\n    <tr>\n      <th>0</th>\n      <td>0</td>\n      <td>50.391781</td>\n      <td>2</td>\n      <td>168</td>\n      <td>62.0</td>\n      <td>110.0</td>\n      <td>80.0</td>\n      <td>1</td>\n      <td>1</td>\n      <td>0</td>\n      <td>0</td>\n      <td>1</td>\n      <td>0</td>\n      <td>21.967120</td>\n      <td>HBP_stage1</td>\n      <td>50.0</td>\n      <td>Healthy</td>\n    </tr>\n    <tr>\n      <th>1</th>\n      <td>1</td>\n      <td>55.419178</td>\n      <td>1</td>\n      <td>156</td>\n      <td>85.0</td>\n      <td>140.0</td>\n      <td>90.0</td>\n      <td>3</td>\n      <td>1</td>\n      <td>0</td>\n      <td>0</td>\n      <td>1</td>\n      <td>1</td>\n      <td>34.927679</td>\n      <td>HBP_stage2</td>\n      <td>50.0</td>\n      <td>Obese</td>\n    </tr>\n    <tr>\n      <th>2</th>\n      <td>2</td>\n      <td>51.663014</td>\n      <td>1</td>\n      <td>165</td>\n      <td>64.0</td>\n      <td>130.0</td>\n      <td>70.0</td>\n      <td>3</td>\n      <td>1</td>\n      <td>0</td>\n      <td>0</td>\n      <td>0</td>\n      <td>1</td>\n      <td>23.507805</td>\n      <td>HBP_stage1</td>\n      <td>50.0</td>\n      <td>Healthy</td>\n    </tr>\n    <tr>\n      <th>3</th>\n      <td>3</td>\n      <td>48.282192</td>\n      <td>2</td>\n      <td>169</td>\n      <td>82.0</td>\n      <td>150.0</td>\n      <td>100.0</td>\n      <td>1</td>\n      <td>1</td>\n      <td>0</td>\n      <td>0</td>\n      <td>1</td>\n      <td>1</td>\n      <td>28.710479</td>\n      <td>HBP_stage2</td>\n      <td>40.0</td>\n      <td>Overweight</td>\n    </tr>\n    <tr>\n      <th>4</th>\n      <td>4</td>\n      <td>47.873973</td>\n      <td>1</td>\n      <td>156</td>\n      <td>56.0</td>\n      <td>100.0</td>\n      <td>60.0</td>\n      <td>1</td>\n      <td>1</td>\n      <td>0</td>\n      <td>0</td>\n      <td>0</td>\n      <td>0</td>\n      <td>23.011177</td>\n      <td>Normal</td>\n      <td>40.0</td>\n      <td>Healthy</td>\n    </tr>\n    <tr>\n      <th>...</th>\n      <td>...</td>\n      <td>...</td>\n      <td>...</td>\n      <td>...</td>\n      <td>...</td>\n      <td>...</td>\n      <td>...</td>\n      <td>...</td>\n      <td>...</td>\n      <td>...</td>\n      <td>...</td>\n      <td>...</td>\n      <td>...</td>\n      <td>...</td>\n      <td>...</td>\n      <td>...</td>\n      <td>...</td>\n    </tr>\n    <tr>\n      <th>69530</th>\n      <td>69530</td>\n      <td>52.712329</td>\n      <td>2</td>\n      <td>168</td>\n      <td>76.0</td>\n      <td>120.0</td>\n      <td>80.0</td>\n      <td>1</td>\n      <td>1</td>\n      <td>1</td>\n      <td>0</td>\n      <td>1</td>\n      <td>0</td>\n      <td>26.927438</td>\n      <td>HBP_stage1</td>\n      <td>50.0</td>\n      <td>Overweight</td>\n    </tr>\n    <tr>\n      <th>69531</th>\n      <td>69531</td>\n      <td>61.920548</td>\n      <td>1</td>\n      <td>158</td>\n      <td>126.0</td>\n      <td>140.0</td>\n      <td>90.0</td>\n      <td>2</td>\n      <td>2</td>\n      <td>0</td>\n      <td>0</td>\n      <td>1</td>\n      <td>1</td>\n      <td>50.472681</td>\n      <td>HBP_stage2</td>\n      <td>60.0</td>\n      <td>High Obese</td>\n    </tr>\n    <tr>\n      <th>69532</th>\n      <td>69532</td>\n      <td>52.235616</td>\n      <td>2</td>\n      <td>183</td>\n      <td>105.0</td>\n      <td>180.0</td>\n      <td>90.0</td>\n      <td>3</td>\n      <td>1</td>\n      <td>0</td>\n      <td>1</td>\n      <td>0</td>\n      <td>1</td>\n      <td>31.353579</td>\n      <td>HBP_stage2</td>\n      <td>50.0</td>\n      <td>Obese</td>\n    </tr>\n    <tr>\n      <th>69533</th>\n      <td>69533</td>\n      <td>61.454795</td>\n      <td>1</td>\n      <td>163</td>\n      <td>72.0</td>\n      <td>135.0</td>\n      <td>80.0</td>\n      <td>1</td>\n      <td>2</td>\n      <td>0</td>\n      <td>0</td>\n      <td>0</td>\n      <td>1</td>\n      <td>27.099251</td>\n      <td>HBP_stage1</td>\n      <td>60.0</td>\n      <td>Overweight</td>\n    </tr>\n    <tr>\n      <th>69534</th>\n      <td>69534</td>\n      <td>56.273973</td>\n      <td>1</td>\n      <td>170</td>\n      <td>72.0</td>\n      <td>120.0</td>\n      <td>80.0</td>\n      <td>2</td>\n      <td>1</td>\n      <td>0</td>\n      <td>0</td>\n      <td>1</td>\n      <td>0</td>\n      <td>24.913495</td>\n      <td>HBP_stage1</td>\n      <td>50.0</td>\n      <td>Overweight</td>\n    </tr>\n  </tbody>\n</table>\n<p>69535 rows × 17 columns</p>\n</div>"
     },
     "metadata": {},
     "execution_count": 13
    }
   ],
   "source": [
    "#read clean data and create dataframe\n",
    "df = pd.read_csv(\"eda_final.csv\")\n",
    "df"
   ]
  },
  {
   "cell_type": "code",
   "execution_count": 14,
   "metadata": {},
   "outputs": [
    {
     "output_type": "execute_result",
     "data": {
      "text/plain": [
       "0        110\n",
       "1        140\n",
       "2        130\n",
       "3        150\n",
       "4        100\n",
       "        ... \n",
       "69530    120\n",
       "69531    140\n",
       "69532    180\n",
       "69533    135\n",
       "69534    120\n",
       "Name: systolic, Length: 69535, dtype: int64"
      ]
     },
     "metadata": {},
     "execution_count": 14
    }
   ],
   "source": [
    "#make sure systolic blood pressure is an integer\n",
    "df[\"systolic\"].astype(int)"
   ]
  },
  {
   "cell_type": "code",
   "execution_count": 15,
   "metadata": {},
   "outputs": [],
   "source": [
    "#create function to categorize blood pressure\n",
    "def blood_pressure_cat(systolic):\n",
    "    if systolic >= 180:\n",
    "        return \"Crisis\"\n",
    "    elif (140 <= systolic < 180):\n",
    "        return \"HBP_stage2\"\n",
    "    elif (130 <= systolic < 140):\n",
    "        return \"HBP_stage1\"\n",
    "    elif (120 <= systolic < 130):\n",
    "        return \"Elevated\"\n",
    "    else:\n",
    "        return \"Normal\""
   ]
  },
  {
   "cell_type": "code",
   "execution_count": 16,
   "metadata": {},
   "outputs": [],
   "source": [
    "#run category function on dataframe\n",
    "df['HTN_stage'] = df['systolic'].apply(lambda x: blood_pressure_cat(x))"
   ]
  },
  {
   "cell_type": "code",
   "execution_count": 17,
   "metadata": {},
   "outputs": [],
   "source": [
    "#create function to categorize age\n",
    "def age_category(age):\n",
    "    if age < 40:\n",
    "        return \"30-39\"\n",
    "    elif (50 > age >= 40):\n",
    "        return \"40-49\"\n",
    "    elif (60 > age >= 50):\n",
    "        return \"50-59\"\n",
    "    else:\n",
    "        return \"60-69\"\n",
    "#run category function on dataframe\n",
    "df['age_range_y'] = df['age'].apply(lambda x: age_category(x))"
   ]
  },
  {
   "cell_type": "code",
   "execution_count": 18,
   "metadata": {},
   "outputs": [],
   "source": [
    "#creating handlers for data attibutes\n",
    "gender_drop= widgets.Dropdown(options=[(\"Yes\",1),\n",
    "                                       (\"No\",0)],description=\"Include gender:\",\n",
    "                                         style= {'description_width': 'initial'})\n",
    "run_button = widgets.Button(description=\"Show statistics\",\n",
    "                           button_style='success')"
   ]
  },
  {
   "cell_type": "code",
   "execution_count": 19,
   "metadata": {},
   "outputs": [],
   "source": [
    "#function to show first plot\n",
    "def show_plot_1(b=None):\n",
    "    gen=gender_drop.value\n",
    "    plt.figure(figsize= (6,6))\n",
    "    if gen == 0:\n",
    "        ax =sns.countplot(y= 'HTN_stage', hue='gender', data= df, \n",
    "                          order=[\"Normal\",\"Elevated\",\"HBP_stage1\", \"HBP_stage2\", \"Crisis\"])\n",
    "        plt.title('Systolic Blood Pressure Stages By Gender')\n",
    "        plt.legend([\"female\", \"male\"])\n",
    "    else:\n",
    "        ax =sns.countplot(y= 'HTN_stage', data= df, \n",
    "                          order=[\"Normal\",\"Elevated\",\"HBP_stage1\", \"HBP_stage2\", \"Crisis\"])\n",
    "        plt.title('Systolic Blood Pressure Stages Overview')   \n",
    "    plt.ylabel('HTN stage')\n",
    "    total = len(df['age_range'])\n",
    "    for p in ax.patches:\n",
    "        percentage = '{:.1f}%'.format(100 * p.get_width()/total)\n",
    "        x = p.get_x() + p.get_width() + 0.02\n",
    "        y = p.get_y() + p.get_height()/2\n",
    "        ax.annotate(percentage, (x, y))\n",
    "\n",
    "#function to show second plot\n",
    "def show_plot_2(b=None):\n",
    "    plt.figure(figsize= (6,6))\n",
    "    sns.countplot(x= 'age_range', hue= 'HTN_stage', data= df, order=[\"30-39\",\"40-49\",\"50-59\",\"60-69\"])\n",
    "    plt.title('Systolic Blood Pressure Categories For Age Ranges', fontweight= 'bold', fontsize= 12)\n",
    "    plt.xlabel('Age ranges')\n",
    "    plt.ylabel('Number of Patients')\n",
    "    plt.legend([\"Normal\",\"Elevated\",\"HBP_stage1\", \"HBP_stage2\", \"Crisis\"])\n",
    "\n",
    "#function to show third plot    \n",
    "def show_plot_3(b=None):\n",
    "    plt.figure(figsize= (6,6))\n",
    "    sns.countplot(x= 'HTN_stage', hue= 'cardio', \n",
    "                  data= df, order=[\"Normal\",\"Elevated\",\"HBP_stage1\", \"HBP_stage2\", \"Crisis\"],\n",
    "                 palette=\"Set1\")\n",
    "    plt.title('Systolic Blood Pressure Categories With Cardio Disease Coexistance', fontweight= 'bold', fontsize= 12)\n",
    "    plt.xlabel('Systolic Blood Pressure Categories')\n",
    "    plt.ylabel('Number of Patients')\n",
    "    plt.legend([\"cardio disease\", \"no cardio disease\"])"
   ]
  },
  {
   "cell_type": "code",
   "execution_count": 20,
   "metadata": {},
   "outputs": [
    {
     "output_type": "display_data",
     "data": {
      "text/plain": "Tab(children=(Text(value='Age'), Text(value='BMI'), Text(value='Blood Pressure'), HBox(children=(VBox(children…",
      "application/vnd.jupyter.widget-view+json": {
       "version_major": 2,
       "version_minor": 0,
       "model_id": "fe2f2dddd10746b1be4e764d0a84d8f6"
      }
     },
     "metadata": {}
    }
   ],
   "source": [
    "#tabs\n",
    "@run_button.on_click\n",
    "def plot_on_click(b):\n",
    "    out.clear_output(wait=True)\n",
    "    with out:\n",
    "        show_plot_1()\n",
    "        show_plot_2()\n",
    "        show_plot_3()\n",
    "        plt.show()\n",
    "\n",
    "out=widgets.Output()\n",
    "widget_box=widgets.VBox([gender_drop,run_button])\n",
    "\n",
    "tab0 = widgets.Text('Age')\n",
    "tab1 = widgets.Text('BMI')\n",
    "tab2 = widgets.Text('Blood Pressure')\n",
    "tab3 = widgets.HBox([widget_box,out])\n",
    "tab4 = widgets.Text('Diastolic BP')\n",
    "\n",
    "tab_contents = ['Age', 'BMI', 'Blood Pressure', 'Systolic Blood Pressure', 'Diastolic Blood Pressure']\n",
    "children = [tab0, tab1, tab2, tab3, tab4]\n",
    "tab = widgets.Tab()\n",
    "tab.children = children\n",
    "for i in range(len(tab_contents)):\n",
    "    tab.set_title(i, tab_contents[i])\n",
    "tab"
   ]
  },
  {
   "cell_type": "code",
   "execution_count": null,
   "metadata": {},
   "outputs": [],
   "source": []
  }
 ],
 "metadata": {
  "kernelspec": {
   "name": "python383jvsc74a57bd00062e047125ebb5108b603169bc21de4af15d4941600a121f270f5b23dba400b",
   "display_name": "Python 3.8.3 64-bit ('base': conda)"
  },
  "language_info": {
   "codemirror_mode": {
    "name": "ipython",
    "version": 3
   },
   "file_extension": ".py",
   "mimetype": "text/x-python",
   "name": "python",
   "nbconvert_exporter": "python",
   "pygments_lexer": "ipython3",
   "version": "3.8.3"
  }
 },
 "nbformat": 4,
 "nbformat_minor": 4
}