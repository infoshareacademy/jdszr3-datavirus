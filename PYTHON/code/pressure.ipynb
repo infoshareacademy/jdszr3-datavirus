{
 "cells": [
  {
   "cell_type": "markdown",
   "metadata": {},
   "source": []
  },
  {
   "cell_type": "code",
   "execution_count": 1,
   "metadata": {},
   "outputs": [],
   "source": [
    "import os\n",
    "import numpy as np\n",
    "import pandas as pd\n",
    "import datetime\n",
    "import plotly.graph_objects as go\n",
    "import matplotlib.pyplot as plt\n",
    "%matplotlib inline\n",
    "import seaborn as sns\n",
    "sns.set_style('whitegrid')\n",
    "from ipywidgets import widgets"
   ]
  },
  {
   "cell_type": "code",
   "execution_count": 2,
   "metadata": {},
   "outputs": [],
   "source": [
    "file_name='eda_final.csv'\n",
    "file_path = os.path.join(os.path.abspath(\"\"), \"PYTHON\", file_name)\n",
    "df = pd.read_csv(file_name,delimiter=',')"
   ]
  },
  {
   "cell_type": "code",
   "execution_count": 3,
   "metadata": {},
   "outputs": [],
   "source": [
    "df=df.rename(columns={\"ap_hi\": \"systolic\", \"ap_lo\": \"diastolic\"})\n",
    "df['gender'] = df['gender'].replace(1,'Female')\n",
    "df['gender'] = df['gender'].replace(2,'Male')\n",
    "df['age'] = df['age'].apply(np.floor)\n",
    "df[['age','gender','systolic', 'diastolic']]\n",
    "age_min = df['age'].min()\n",
    "age_max = df['age'].max()"
   ]
  },
  {
   "cell_type": "code",
   "execution_count": 4,
   "metadata": {},
   "outputs": [],
   "source": [
    "age_from = widgets.IntSlider(\n",
    "    value=age_min,\n",
    "    min=age_min,\n",
    "    max=age_max,\n",
    "    step=1.0,\n",
    "    description='Age from:',\n",
    "    continuous_update=False\n",
    ")"
   ]
  },
  {
   "cell_type": "code",
   "execution_count": 5,
   "metadata": {},
   "outputs": [],
   "source": [
    "age_to = widgets.IntSlider(\n",
    "    value=age_max,\n",
    "    min=age_min,\n",
    "    max=age_max,\n",
    "    step=1.0,\n",
    "    description='Age to:',\n",
    "    continuous_update=False\n",
    ")"
   ]
  },
  {
   "cell_type": "code",
   "execution_count": 6,
   "metadata": {},
   "outputs": [],
   "source": [
    "gender = widgets.Dropdown(\n",
    "    options=list(df['gender'].unique()),\n",
    "    value='Male',\n",
    "    description='Gender:',\n",
    ")"
   ]
  },
  {
   "cell_type": "code",
   "execution_count": 7,
   "metadata": {},
   "outputs": [],
   "source": [
    "use_gender = widgets.Checkbox(\n",
    "    value=False,\n",
    "    description='Gender',\n",
    ")"
   ]
  },
  {
   "cell_type": "code",
   "execution_count": 59,
   "metadata": {},
   "outputs": [],
   "source": []
  },
  {
   "cell_type": "code",
   "execution_count": 8,
   "metadata": {},
   "outputs": [],
   "source": [
    "systolic = go.Histogram(x=df['systolic'], opacity=0.75, name='Systolic')\n",
    "diastolic = go.Histogram(x=df['diastolic'], opacity=0.75, name='Diastolic')\n",
    "g = go.FigureWidget(data=[systolic,diastolic],\n",
    "                    layout=go.Layout(\n",
    "                        title=dict(\n",
    "                            text='BLOOD PRESSURE GRAPH'\n",
    "                        ),\n",
    "                        barmode='overlay'\n",
    "                    ))"
   ]
  },
  {
   "cell_type": "code",
   "execution_count": 9,
   "metadata": {},
   "outputs": [],
   "source": [
    " def response(change):\n",
    "    if use_gender.value:\n",
    "                filter_list = [i and j and k for i, j, k in\n",
    "                            zip(df['gender'] == gender.value, df['age'] >= age_from.value,\n",
    "                                df['age'] <= age_to.value)]\n",
    "                temp_df = df[filter_list]\n",
    "    else:\n",
    "        filter_list = [i and j for i, j in\n",
    "                    zip(df['age'] >= age_from.value, df['age'] <= age_to.value)]\n",
    "        temp_df = df[filter_list]\n",
    "    x1 = temp_df['systolic']\n",
    "    x2 = temp_df['diastolic']\n",
    "    with g.batch_update():\n",
    "        g.data[0].x = x1\n",
    "        g.data[1].x = x2\n",
    "        g.layout.barmode = 'overlay'\n",
    "        g.layout.xaxis.title = 'Person'\n",
    "        g.layout.yaxis.title = 'Pressure'\n",
    "\n",
    "age_to.observe(response, names=\"value\")\n",
    "age_from.observe(response, names=\"value\")\n",
    "gender.observe(response, names=\"value\")\n",
    "use_gender.observe(response, names=\"value\")"
   ]
  },
  {
   "cell_type": "code",
   "execution_count": 10,
   "metadata": {},
   "outputs": [],
   "source": [
    "container = widgets.HBox(children=[age_from, age_to])\n",
    "container2 = widgets.HBox(children=[use_gender, gender])"
   ]
  },
  {
   "cell_type": "code",
   "execution_count": 11,
   "metadata": {},
   "outputs": [
    {
     "output_type": "display_data",
     "data": {
      "text/plain": "VBox(children=(HBox(children=(Checkbox(value=False, description='Gender'), Dropdown(description='Gender:', opt…",
      "application/vnd.jupyter.widget-view+json": {
       "version_major": 2,
       "version_minor": 0,
       "model_id": "f2fe6ece09464b958a9ba7571f27cb9b"
      }
     },
     "metadata": {}
    }
   ],
   "source": [
    "widgets.VBox([container2, container, g])"
   ]
  },
  {
   "cell_type": "code",
   "execution_count": null,
   "metadata": {},
   "outputs": [],
   "source": []
  }
 ],
 "metadata": {
  "kernelspec": {
   "name": "python385jvsc74a57bd045f9fc0efa88a20691cd826aceb27e7d3c31a94079ae8a9cb134353d14c4e8da",
   "display_name": "Python 3.8.5 64-bit (conda)"
  },
  "language_info": {
   "codemirror_mode": {
    "name": "ipython",
    "version": 3
   },
   "file_extension": ".py",
   "mimetype": "text/x-python",
   "name": "python",
   "nbconvert_exporter": "python",
   "pygments_lexer": "ipython3",
   "version": "3.8.5"
  }
 },
 "nbformat": 4,
 "nbformat_minor": 4
}