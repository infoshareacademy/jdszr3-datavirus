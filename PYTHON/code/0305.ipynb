{
 "cells": [
  {
   "cell_type": "code",
   "execution_count": 1,
   "id": "e295c9a9",
   "metadata": {},
   "outputs": [
    {
     "data": {
      "text/html": [
       "<style>.container { width:100% !important; }</style>"
      ],
      "text/plain": [
       "<IPython.core.display.HTML object>"
      ]
     },
     "metadata": {},
     "output_type": "display_data"
    }
   ],
   "source": [
    "import ipywidgets as widgets\n",
    "from ipywidgets import interact, interactive, fixed, interact_manual\n",
    "from IPython.display import display\n",
    "import numpy as np\n",
    "import pandas as pd\n",
    "import matplotlib.pyplot as plt\n",
    "%matplotlib inline\n",
    "import seaborn as sns\n",
    "sns.set_style('whitegrid')\n",
    "import bqplot as bq\n",
    "import os\n",
    "\n",
    "#increasing cell width with Jupyter notebook\n",
    "from IPython.core.display import display, HTML\n",
    "display(HTML(\"<style>.container { width:100% !important; }</style>\"))"
   ]
  },
  {
   "cell_type": "code",
   "execution_count": 2,
   "id": "397b7b39",
   "metadata": {},
   "outputs": [
    {
     "data": {
      "text/html": [
       "<script>\n",
       "code_show=true; \n",
       "function code_toggle() {\n",
       " if (code_show){\n",
       " $('div.input').hide();\n",
       " } else {\n",
       " $('div.input').show();\n",
       " }\n",
       " code_show = !code_show\n",
       "} \n",
       "$( document ).ready(code_toggle);\n",
       "</script>\n",
       "<form action=\"javascript:code_toggle()\"><input type=\"submit\" value=\"Click here to show the raw code.\"></form>"
      ],
      "text/plain": [
       "<IPython.core.display.HTML object>"
      ]
     },
     "execution_count": 2,
     "metadata": {},
     "output_type": "execute_result"
    }
   ],
   "source": [
    "from IPython.display import HTML\n",
    "\n",
    "HTML('''<script>\n",
    "code_show=true; \n",
    "function code_toggle() {\n",
    " if (code_show){\n",
    " $('div.input').hide();\n",
    " } else {\n",
    " $('div.input').show();\n",
    " }\n",
    " code_show = !code_show\n",
    "} \n",
    "$( document ).ready(code_toggle);\n",
    "</script>\n",
    "<form action=\"javascript:code_toggle()\"><input type=\"submit\" value=\"Click here to show the raw code.\"></form>''')"
   ]
  },
  {
   "cell_type": "code",
   "execution_count": 3,
   "id": "6546e90d",
   "metadata": {},
   "outputs": [
    {
     "data": {
      "text/html": [
       "<div>\n",
       "<style scoped>\n",
       "    .dataframe tbody tr th:only-of-type {\n",
       "        vertical-align: middle;\n",
       "    }\n",
       "\n",
       "    .dataframe tbody tr th {\n",
       "        vertical-align: top;\n",
       "    }\n",
       "\n",
       "    .dataframe thead th {\n",
       "        text-align: right;\n",
       "    }\n",
       "</style>\n",
       "<table border=\"1\" class=\"dataframe\">\n",
       "  <thead>\n",
       "    <tr style=\"text-align: right;\">\n",
       "      <th></th>\n",
       "      <th>age</th>\n",
       "      <th>gender</th>\n",
       "      <th>height</th>\n",
       "      <th>weight</th>\n",
       "      <th>systolic</th>\n",
       "      <th>diastolic</th>\n",
       "      <th>cholesterol</th>\n",
       "      <th>gluc</th>\n",
       "      <th>smoke</th>\n",
       "      <th>alco</th>\n",
       "      <th>active</th>\n",
       "      <th>cardio</th>\n",
       "      <th>bmi</th>\n",
       "    </tr>\n",
       "  </thead>\n",
       "  <tbody>\n",
       "    <tr>\n",
       "      <th>count</th>\n",
       "      <td>69542.00</td>\n",
       "      <td>69542.00</td>\n",
       "      <td>69542.00</td>\n",
       "      <td>69542.00</td>\n",
       "      <td>69542.00</td>\n",
       "      <td>69542.00</td>\n",
       "      <td>69542.00</td>\n",
       "      <td>69542.00</td>\n",
       "      <td>69542.00</td>\n",
       "      <td>69542.00</td>\n",
       "      <td>69542.0</td>\n",
       "      <td>69542.0</td>\n",
       "      <td>69542.00</td>\n",
       "    </tr>\n",
       "    <tr>\n",
       "      <th>mean</th>\n",
       "      <td>53.34</td>\n",
       "      <td>1.35</td>\n",
       "      <td>164.44</td>\n",
       "      <td>74.20</td>\n",
       "      <td>127.02</td>\n",
       "      <td>81.69</td>\n",
       "      <td>1.37</td>\n",
       "      <td>1.23</td>\n",
       "      <td>0.09</td>\n",
       "      <td>0.05</td>\n",
       "      <td>0.8</td>\n",
       "      <td>0.5</td>\n",
       "      <td>27.47</td>\n",
       "    </tr>\n",
       "    <tr>\n",
       "      <th>std</th>\n",
       "      <td>6.76</td>\n",
       "      <td>0.48</td>\n",
       "      <td>7.86</td>\n",
       "      <td>14.25</td>\n",
       "      <td>17.07</td>\n",
       "      <td>9.84</td>\n",
       "      <td>0.68</td>\n",
       "      <td>0.57</td>\n",
       "      <td>0.28</td>\n",
       "      <td>0.23</td>\n",
       "      <td>0.4</td>\n",
       "      <td>0.5</td>\n",
       "      <td>5.18</td>\n",
       "    </tr>\n",
       "    <tr>\n",
       "      <th>min</th>\n",
       "      <td>29.58</td>\n",
       "      <td>1.00</td>\n",
       "      <td>125.00</td>\n",
       "      <td>35.45</td>\n",
       "      <td>70.00</td>\n",
       "      <td>52.00</td>\n",
       "      <td>1.00</td>\n",
       "      <td>1.00</td>\n",
       "      <td>0.00</td>\n",
       "      <td>0.00</td>\n",
       "      <td>0.0</td>\n",
       "      <td>0.0</td>\n",
       "      <td>15.04</td>\n",
       "    </tr>\n",
       "    <tr>\n",
       "      <th>25%</th>\n",
       "      <td>48.41</td>\n",
       "      <td>1.00</td>\n",
       "      <td>159.00</td>\n",
       "      <td>65.00</td>\n",
       "      <td>120.00</td>\n",
       "      <td>80.00</td>\n",
       "      <td>1.00</td>\n",
       "      <td>1.00</td>\n",
       "      <td>0.00</td>\n",
       "      <td>0.00</td>\n",
       "      <td>1.0</td>\n",
       "      <td>0.0</td>\n",
       "      <td>23.88</td>\n",
       "    </tr>\n",
       "    <tr>\n",
       "      <th>50%</th>\n",
       "      <td>53.98</td>\n",
       "      <td>1.00</td>\n",
       "      <td>165.00</td>\n",
       "      <td>72.00</td>\n",
       "      <td>120.00</td>\n",
       "      <td>80.00</td>\n",
       "      <td>1.00</td>\n",
       "      <td>1.00</td>\n",
       "      <td>0.00</td>\n",
       "      <td>0.00</td>\n",
       "      <td>1.0</td>\n",
       "      <td>0.0</td>\n",
       "      <td>26.37</td>\n",
       "    </tr>\n",
       "    <tr>\n",
       "      <th>75%</th>\n",
       "      <td>58.43</td>\n",
       "      <td>2.00</td>\n",
       "      <td>170.00</td>\n",
       "      <td>82.00</td>\n",
       "      <td>140.00</td>\n",
       "      <td>90.00</td>\n",
       "      <td>2.00</td>\n",
       "      <td>1.00</td>\n",
       "      <td>0.00</td>\n",
       "      <td>0.00</td>\n",
       "      <td>1.0</td>\n",
       "      <td>1.0</td>\n",
       "      <td>30.12</td>\n",
       "    </tr>\n",
       "    <tr>\n",
       "      <th>max</th>\n",
       "      <td>64.97</td>\n",
       "      <td>2.00</td>\n",
       "      <td>207.00</td>\n",
       "      <td>200.00</td>\n",
       "      <td>240.00</td>\n",
       "      <td>180.00</td>\n",
       "      <td>3.00</td>\n",
       "      <td>3.00</td>\n",
       "      <td>1.00</td>\n",
       "      <td>1.00</td>\n",
       "      <td>1.0</td>\n",
       "      <td>1.0</td>\n",
       "      <td>59.52</td>\n",
       "    </tr>\n",
       "  </tbody>\n",
       "</table>\n",
       "</div>"
      ],
      "text/plain": [
       "            age    gender    height    weight  systolic  diastolic  \\\n",
       "count  69542.00  69542.00  69542.00  69542.00  69542.00   69542.00   \n",
       "mean      53.34      1.35    164.44     74.20    127.02      81.69   \n",
       "std        6.76      0.48      7.86     14.25     17.07       9.84   \n",
       "min       29.58      1.00    125.00     35.45     70.00      52.00   \n",
       "25%       48.41      1.00    159.00     65.00    120.00      80.00   \n",
       "50%       53.98      1.00    165.00     72.00    120.00      80.00   \n",
       "75%       58.43      2.00    170.00     82.00    140.00      90.00   \n",
       "max       64.97      2.00    207.00    200.00    240.00     180.00   \n",
       "\n",
       "       cholesterol      gluc     smoke      alco   active   cardio       bmi  \n",
       "count     69542.00  69542.00  69542.00  69542.00  69542.0  69542.0  69542.00  \n",
       "mean          1.37      1.23      0.09      0.05      0.8      0.5     27.47  \n",
       "std           0.68      0.57      0.28      0.23      0.4      0.5      5.18  \n",
       "min           1.00      1.00      0.00      0.00      0.0      0.0     15.04  \n",
       "25%           1.00      1.00      0.00      0.00      1.0      0.0     23.88  \n",
       "50%           1.00      1.00      0.00      0.00      1.0      0.0     26.37  \n",
       "75%           2.00      1.00      0.00      0.00      1.0      1.0     30.12  \n",
       "max           3.00      3.00      1.00      1.00      1.0      1.0     59.52  "
      ]
     },
     "execution_count": 3,
     "metadata": {},
     "output_type": "execute_result"
    }
   ],
   "source": [
    "df = file_name='C:\\\\Users\\Konrad\\jdszr3-datavirus\\Python\\code\\eda_final.csv'\n",
    "file_path = os.path.join(os.path.abspath(\"\"), \"PYTHON\", file_name)\n",
    "\n",
    "df = pd.read_csv(file_name,delimiter=',')\n",
    "df = df.drop(columns='Unnamed: 0')\n",
    "\n",
    "df.describe().round(2)"
   ]
  },
  {
   "cell_type": "markdown",
   "id": "3d626046",
   "metadata": {},
   "source": [
    "### _Application_"
   ]
  },
  {
   "cell_type": "code",
   "execution_count": 4,
   "id": "207369bc",
   "metadata": {},
   "outputs": [],
   "source": [
    "style = {'description_width': 'initial'}\n",
    "#Systolic Blood Pressure - slider\n",
    "style = {'description_width': 'initial'}\n",
    "sys_slider = widgets.IntSlider(value = df['systolic'].mean(), \n",
    "                               min = df['systolic'].min(), \n",
    "                               max = df['systolic'].max(), \n",
    "                               step = 1, \n",
    "                               style=style, \n",
    "                               disabled=False,\n",
    "                               continuous_update=False,\n",
    "                               orientation='vertical',\n",
    "                               readout=True,\n",
    "                               description='Systolic')\n",
    "\n",
    "dias_slider = widgets.IntSlider(value = df['diastolic'].mean(), \n",
    "                                min = df['diastolic'].min(), \n",
    "                                max = df['diastolic'].max(), \n",
    "                                step = 1, \n",
    "                                style=style, \n",
    "                                orientation='vertical',\n",
    "                                description='Diastolic')\n",
    "\n",
    "# def adder(sys, dias):\n",
    "#     print(\"Selected blood pressure is\", sys_slider.value, \"/\", dias_slider.value)\n",
    "#     df['systolic'].plot()\n",
    "    \n",
    "# sys_dias_interact= interact(adder, sys=sys_slider, dias=dias_slider)\n",
    "# sys_dias_interact\n",
    "# pass\n",
    "\n",
    "#BMI - slider and radio buttons\n",
    "bmi_slider=widgets.IntSlider(min=15, max=60, step=1)\n",
    "bmi_radio=widgets.RadioButtons(options=[\"underweight < 18.5\",\n",
    "                                        \"Healthy: 18.5-24.9\", \n",
    "                                        \"Overweight: 25.0-29.9\", \n",
    "                                        \"Obese > 30.0\"])\n",
    "\n",
    "#Gender - radio buttons\n",
    "gender_radio= widgets.RadioButtons(options=[\"Female\",\"Male\", \"None\"],\n",
    "                                   description=\"Gender\")\n",
    "#Smoke - radio buttons\n",
    "smoke_choose = widgets.RadioButtons(\n",
    "    options=['Yes', 'No'],\n",
    "    description='Smoking',\n",
    "    style=style,\n",
    "    disabled=False\n",
    ")\n",
    "\n",
    "#Cardio disease presence - radio buttons\n",
    "cardio_choose = widgets.RadioButtons(\n",
    "    options=['Yes', 'No'],\n",
    "    description='Cardiovascular disease',\n",
    "    style=style,\n",
    "    disabled=False\n",
    ")\n",
    "\n",
    "#Alcohol drinking - radio buttons\n",
    "alco_choose = widgets.RadioButtons(\n",
    "    options=['Yes', 'No'],\n",
    "    description='Alcohol drinking',\n",
    "    style=style,\n",
    "    disabled=False\n",
    ")\n",
    "#Age - slider and radio buttons\n",
    "age_slider=widgets.IntSlider(min=25, max=70, step=1)\n",
    "age_radio=widgets.RadioButtons(options=[\"30\",\"40\",\"50\",\"60\",\"70\"])\n",
    "\n",
    "#Active - radio buttons\n",
    "active_choose = widgets.RadioButtons(\n",
    "    options=['active', 'inactive'],\n",
    "    style=style,\n",
    "    description='Sports activity level: ',\n",
    "    disabled=False\n",
    ")\n",
    "\n",
    "#Glucose - dropdown\n",
    "glucose_choose = widgets.ToggleButtons(\n",
    "    options=['1 - low', '2 - medium', '3 - high'],\n",
    "    style=style,\n",
    "    description='Glucose level: ',\n",
    "    disabled=False,\n",
    "    button_style='primary',\n",
    "    tooltips=['Description of slow', 'Description of regular', 'Description of fast']\n",
    ")\n",
    "\n",
    "#Cholesterol - dropdown\n",
    "cholesterol_choose = widgets.ToggleButtons(\n",
    "    options=['1 - low', '2 - medium', '3 - high'],\n",
    "    style=style,\n",
    "    description='Cholesterol level: ',\n",
    "    disabled=False,\n",
    "    button_style='info', \n",
    "    tooltips=['Description of slow', 'Description of regular', 'Description of fast'],\n",
    ")\n",
    "\n",
    "#Show button\n",
    "show_button=widgets.Button(description=\"Show statistics\", button_style='success')\n",
    "\n",
    "sys_label=widgets.Label(value=\"\")\n",
    "sys_box=widgets.VBox([sys_label, sys_slider])\n",
    "\n",
    "dias_label=widgets.Label(value=\"\")\n",
    "dias_box=widgets.VBox([dias_label, dias_slider])\n",
    "\n",
    "bmi_label=widgets.Label(value=\"BMI\")\n",
    "bmi_box=widgets.VBox([bmi_label,bmi_slider, bmi_radio])\n",
    "\n",
    "age_label=widgets.Label(value=\"Age\")\n",
    "age_box=widgets.VBox([age_label,age_slider,age_radio])\n",
    "\n",
    "# \n",
    "box0=widgets.Box([sys_box, dias_box])\n",
    "\n",
    "box1=widgets.Box([bmi_box ,gender_radio,age_box])\n",
    "box2=widgets.Box([cholesterol_choose])\n",
    "box3=widgets.Box([glucose_choose])\n",
    "box4=widgets.Box([smoke_choose])\n",
    "box5=widgets.Box([alco_choose])\n",
    "box6=widgets.Box([active_choose])\n",
    "box7=widgets.Box([cardio_choose])\n",
    "\n",
    "box21=widgets.VBox([box2, box3, box4, box5, box6, box7])\n",
    "\n",
    "accordition=widgets.Accordion(children=[box0,box1,box21], labels=('Blood Pressure','Based data','Advanced'))\n",
    "\n",
    "vbox=widgets.VBox([accordition, show_button])"
   ]
  },
  {
   "cell_type": "code",
   "execution_count": 5,
   "id": "40b03a11",
   "metadata": {},
   "outputs": [
    {
     "data": {
      "application/vnd.jupyter.widget-view+json": {
       "model_id": "58974eb00cf64e0a803677bd5173fa8a",
       "version_major": 2,
       "version_minor": 0
      },
      "text/plain": [
       "Tab(children=(VBox(children=(Accordion(children=(Box(children=(VBox(children=(Label(value=''), IntSlider(value…"
      ]
     },
     "metadata": {},
     "output_type": "display_data"
    }
   ],
   "source": [
    "tab_nest = widgets.Tab()\n",
    "tab_nest.children = [vbox]\n",
    "tab_nest.set_title (0,'Blood Pressure')\n",
    "tab_nest"
   ]
  },
  {
   "cell_type": "code",
   "execution_count": 6,
   "id": "1b5c7f0c",
   "metadata": {},
   "outputs": [],
   "source": [
    "#function for button to gather data and show plot\n",
    "def show_stat(bmi, gender, age, smoke):\n",
    "    print(bmi, gender, age, smoke)\n"
   ]
  },
  {
   "cell_type": "code",
   "execution_count": 7,
   "id": "5a53df73",
   "metadata": {},
   "outputs": [],
   "source": [
    "# show_button.on_click(show_stat(bmi_radio.value, gender_radio.value, age_radio.value, smoke_drop.value))\n"
   ]
  },
  {
   "cell_type": "code",
   "execution_count": 8,
   "id": "b1311c5a",
   "metadata": {},
   "outputs": [
    {
     "data": {
      "application/vnd.jupyter.widget-view+json": {
       "model_id": "782aedf949e14ef7b79b662265a69374",
       "version_major": 2,
       "version_minor": 0
      },
      "text/plain": [
       "interactive(children=(IntSlider(value=500, description='x', max=1500, min=-500), Output()), _dom_classes=('wid…"
      ]
     },
     "metadata": {},
     "output_type": "display_data"
    }
   ],
   "source": [
    "#interakcja ze zwykłym sliderem, definiujesz funkcję\n",
    "@widgets.interact\n",
    "def f(x=500):\n",
    "    print(x)"
   ]
  },
  {
   "cell_type": "code",
   "execution_count": 9,
   "id": "3bb14d10",
   "metadata": {},
   "outputs": [
    {
     "data": {
      "application/vnd.jupyter.widget-view+json": {
       "model_id": "fde8e36b4a3e416caca5e9f655d6393c",
       "version_major": 2,
       "version_minor": 0
      },
      "text/plain": [
       "interactive(children=(FloatSlider(value=155.0, description='x', max=240.0, min=70.0), Output()), _dom_classes=…"
      ]
     },
     "metadata": {},
     "output_type": "display_data"
    }
   ],
   "source": [
    "#alternatywnie - w nawiasie możesz podać przedziały\n",
    "@widgets.interact\n",
    "def f(x=(df['systolic'].min(),df['systolic'].max())):\n",
    "    print(\"Your blood pressure is\", x)\n"
   ]
  },
  {
   "cell_type": "code",
   "execution_count": 10,
   "id": "12861ff3",
   "metadata": {},
   "outputs": [
    {
     "data": {
      "application/vnd.jupyter.widget-view+json": {
       "model_id": "47b17efac5dc4dd5b0db72e56cc6a876",
       "version_major": 2,
       "version_minor": 0
      },
      "text/plain": [
       "interactive(children=(IntSlider(value=5, description='freq', max=15, min=-5), Dropdown(description='color', op…"
      ]
     },
     "metadata": {},
     "output_type": "display_data"
    }
   ],
   "source": [
    "#jak dajesz interact_manual to nie aktualizuje się automatycznie, trzeba kliknąć w przycisk\n",
    "@widgets.interact_manual(\n",
    "    color=['black', 'red', 'green'], lw=(1, 10))\n",
    "#jak dasz kropkę za liczbą to robi się float od razu\n",
    "def plot(freq=5, color='blue', lw=5, grid=True):\n",
    "    t = np.linspace(-10., +1., 100000)\n",
    "    fig, ax = plt.subplots(1, 1, figsize=(10, 5))\n",
    "    ax.plot(t, lw=lw, color=color)\n",
    "    ax.grid(grid)"
   ]
  },
  {
   "cell_type": "code",
   "execution_count": 11,
   "id": "4171329c",
   "metadata": {},
   "outputs": [
    {
     "data": {
      "application/vnd.jupyter.widget-view+json": {
       "model_id": "8699e36527864a8aafafcf0b770d8be6",
       "version_major": 2,
       "version_minor": 0
      },
      "text/plain": [
       "FloatSlider(value=2.0, description='Frequency:', max=10.0, min=1.0)"
      ]
     },
     "metadata": {},
     "output_type": "display_data"
    }
   ],
   "source": [
    "#zwykły slider\n",
    "freq_slider = widgets.FloatSlider(\n",
    "    value=2.,\n",
    "    min=1.,\n",
    "    max=10.0,\n",
    "    step=0.1,\n",
    "    description='Frequency:',\n",
    "    readout_format='.2f',\n",
    ")\n",
    "freq_slider"
   ]
  },
  {
   "cell_type": "code",
   "execution_count": 12,
   "id": "d0e7beb9",
   "metadata": {},
   "outputs": [
    {
     "data": {
      "application/vnd.jupyter.widget-view+json": {
       "model_id": "244096a96d944ea2a7d1bb22b64e7803",
       "version_major": 2,
       "version_minor": 0
      },
      "text/plain": [
       "FloatRangeSlider(value=(-1.0, 1.0), description='xlim:', max=5.0, min=-5.0, readout_format='.1f')"
      ]
     },
     "metadata": {},
     "output_type": "display_data"
    }
   ],
   "source": [
    "#normalny range slider\n",
    "range_slider = widgets.FloatRangeSlider(\n",
    "    value=[-1., +1.],\n",
    "    min=-5., max=+5., step=0.1,\n",
    "    description='xlim:',\n",
    "    readout_format='.1f',\n",
    ")\n",
    "range_slider"
   ]
  },
  {
   "cell_type": "code",
   "execution_count": 13,
   "id": "1125cb79",
   "metadata": {},
   "outputs": [
    {
     "data": {
      "application/vnd.jupyter.widget-view+json": {
       "model_id": "df2dbd6e10674faf9fd86655b670e71b",
       "version_major": 2,
       "version_minor": 0
      },
      "text/plain": [
       "ToggleButton(value=False, description='Kliknij!', icon='check')"
      ]
     },
     "metadata": {},
     "output_type": "display_data"
    }
   ],
   "source": [
    "grid_button = widgets.ToggleButton(\n",
    "    value=False,\n",
    "    description='Kliknij!',\n",
    "    icon='check'\n",
    ")\n",
    "grid_button"
   ]
  },
  {
   "cell_type": "code",
   "execution_count": 14,
   "id": "4173f7de",
   "metadata": {},
   "outputs": [
    {
     "data": {
      "application/vnd.jupyter.widget-view+json": {
       "model_id": "46703a713fee409b82e38ffd30c6f0c1",
       "version_major": 2,
       "version_minor": 0
      },
      "text/plain": [
       "ToggleButtons(description='Color:', options=('blue', 'red', 'green'), value='blue')"
      ]
     },
     "metadata": {},
     "output_type": "display_data"
    }
   ],
   "source": [
    "color_buttons = widgets.ToggleButtons(\n",
    "    options=['blue', 'red', 'green'],\n",
    "    description='Color:',\n",
    ")\n",
    "color_buttons"
   ]
  },
  {
   "cell_type": "code",
   "execution_count": 15,
   "id": "ac133f01",
   "metadata": {},
   "outputs": [
    {
     "data": {
      "application/vnd.jupyter.widget-view+json": {
       "model_id": "320003cc148943038a553ea7d4016094",
       "version_major": 2,
       "version_minor": 0
      },
      "text/plain": [
       "Text(value='Hello World', description='Title:')"
      ]
     },
     "metadata": {},
     "output_type": "display_data"
    }
   ],
   "source": [
    "title_textbox = widgets.Text(\n",
    "    value='Hello World',\n",
    "    description='Title:',\n",
    ")\n",
    "title_textbox"
   ]
  },
  {
   "cell_type": "code",
   "execution_count": 16,
   "id": "4ec337e0",
   "metadata": {},
   "outputs": [
    {
     "data": {
      "application/vnd.jupyter.widget-view+json": {
       "model_id": "d2e0074a7f1b427eaf85094e54d1e512",
       "version_major": 2,
       "version_minor": 0
      },
      "text/plain": [
       "ColorPicker(value='#efefef', concise=True, description='Background color:', style=DescriptionStyle(description…"
      ]
     },
     "metadata": {},
     "output_type": "display_data"
    }
   ],
   "source": [
    "color_picker = widgets.ColorPicker(\n",
    "    concise=True,\n",
    "    description='Background color:',\n",
    "    value='#efefef',\n",
    "    style=style\n",
    ")\n",
    "color_picker"
   ]
  },
  {
   "cell_type": "code",
   "execution_count": 17,
   "id": "fff55691",
   "metadata": {},
   "outputs": [],
   "source": [
    "def plot2(b=None):\n",
    "    xlim = sys_slider.value\n",
    "    freq = dias_slider.value\n",
    "    grid = grid_button.value\n",
    "    color = color_buttons.value\n",
    "    title = title_textbox.value\n",
    "    bgcolor = color_picker.value\n",
    "\n",
    "    t = plt.hist(df[['systolic','diastolic']], bins=10)\n",
    "#     f, ax = plt.subplots(2)\n",
    "#     ax.plot(color=color)\n",
    "#     ax.grid(grid)"
   ]
  },
  {
   "cell_type": "code",
   "execution_count": 18,
   "id": "1e2ea73c",
   "metadata": {},
   "outputs": [
    {
     "data": {
      "application/vnd.jupyter.widget-view+json": {
       "model_id": "387cb9fa855849d59609594682ae6db4",
       "version_major": 2,
       "version_minor": 0
      },
      "text/plain": [
       "Button(description='Plot', style=ButtonStyle())"
      ]
     },
     "metadata": {},
     "output_type": "display_data"
    }
   ],
   "source": [
    "button = widgets.Button(\n",
    "    description='Plot',\n",
    ")\n",
    "button"
   ]
  },
  {
   "cell_type": "code",
   "execution_count": 19,
   "id": "ae82a91b",
   "metadata": {},
   "outputs": [],
   "source": [
    "@button.on_click\n",
    "def plot_on_click(b):\n",
    "    out.clear_output(wait=True)\n",
    "    with out:\n",
    "        plot2()\n",
    "        plt.show()"
   ]
  },
  {
   "cell_type": "code",
   "execution_count": 20,
   "id": "c30f4e83",
   "metadata": {},
   "outputs": [],
   "source": [
    "from ipywidgets import HBox, VBox"
   ]
  },
  {
   "cell_type": "code",
   "execution_count": 21,
   "id": "73d3bc14",
   "metadata": {},
   "outputs": [],
   "source": [
    "tab1 = VBox(children=[sys_slider,\n",
    "                      dias_slider\n",
    "                      ])\n",
    "\n",
    "tab2 = VBox(children=[HBox(children=[smoke_choose,\n",
    "                                     cardio_choose,\n",
    "                                     alco_choose,\n",
    "                                    active_choose]),\n",
    "                                     ])\n",
    "\n",
    "tab3 = VBox(children=[HBox(children=[glucose_choose,\n",
    "                                    cholesterol_choose]),\n",
    "                                     ])"
   ]
  },
  {
   "cell_type": "code",
   "execution_count": null,
   "id": "002c5f77",
   "metadata": {},
   "outputs": [],
   "source": []
  },
  {
   "cell_type": "code",
   "execution_count": 22,
   "id": "6a2566e3",
   "metadata": {},
   "outputs": [
    {
     "data": {
      "application/vnd.jupyter.widget-view+json": {
       "model_id": "d62acd5f873848c4acfd1cbbba939276",
       "version_major": 2,
       "version_minor": 0
      },
      "text/plain": [
       "VBox(children=(Tab(children=(VBox(children=(IntSlider(value=127, continuous_update=False, description='Systoli…"
      ]
     },
     "metadata": {},
     "output_type": "display_data"
    }
   ],
   "source": [
    "out = widgets.Output()\n",
    "tab = widgets.Tab(children=[tab1, tab2, tab3])\n",
    "tab.set_title(0, 'Blood pressure')\n",
    "tab.set_title(1, 'Other features')\n",
    "tab.set_title(2, 'Glucose and cholesterol')\n",
    "VBox(children=[tab, button, out])"
   ]
  },
  {
   "cell_type": "code",
   "execution_count": 36,
   "id": "068dd0de",
   "metadata": {},
   "outputs": [
    {
     "data": {
      "application/vnd.jupyter.widget-view+json": {
       "model_id": "794e75f714ef45128c13d122f0fcd4ee",
       "version_major": 2,
       "version_minor": 0
      },
      "text/plain": [
       "Tab(children=(Output(), Output(), Output()), _titles={'0': 'Diastolic', '1': 'Systolic', '2': 'TestTest'})"
      ]
     },
     "metadata": {},
     "output_type": "display_data"
    }
   ],
   "source": [
    "%matplotlib inline\n",
    "out1 = widgets.Output()\n",
    "out2 = widgets.Output()\n",
    "out3 = widgets.Output()\n",
    "\n",
    "che = widgets.HBox([dias_slider, sys_slider])\n",
    "\n",
    "with out1:\n",
    "    fig1, axes1 = plt.subplots()\n",
    "    df['diastolic'].hist(ax = axes1)\n",
    "    plt.show(fig1)\n",
    "    display(sys_slider)\n",
    "    display(che)\n",
    "    \n",
    "with out2:\n",
    "    fig2, axes2 = plt.subplots(figsize=(6,4))\n",
    "    df['systolic'].hist(ax = axes2)\n",
    "    plt.show(fig2)\n",
    "\n",
    "with out3:\n",
    "    @widgets.interact(x=(0, 50, 1))\n",
    "    def foo(x):\n",
    "        print(f'Slider says: {x}')\n",
    "    \n",
    "tab = widgets.Tab(children = [out1, out2, out3])\n",
    "tab.set_title(0, 'Diastolic')\n",
    "tab.set_title(1, 'Systolic')\n",
    "tab.set_title(2, 'TestTest')\n",
    "display(tab)\n"
   ]
  },
  {
   "cell_type": "code",
   "execution_count": 24,
   "id": "924d31af",
   "metadata": {},
   "outputs": [],
   "source": [
    "#figsize=(6,4) to standard"
   ]
  },
  {
   "cell_type": "code",
   "execution_count": 25,
   "id": "28f5eb5b",
   "metadata": {},
   "outputs": [
    {
     "data": {
      "application/vnd.jupyter.widget-view+json": {
       "model_id": "c0ac28277402450db94017225bb33c1e",
       "version_major": 2,
       "version_minor": 0
      },
      "text/plain": [
       "Accordion(children=(IntSlider(value=0), Text(value='')))"
      ]
     },
     "metadata": {},
     "output_type": "display_data"
    }
   ],
   "source": [
    "accordion = widgets.Accordion(children=[widgets.IntSlider(), widgets.Text()], \n",
    "                              titles=('Slider', 'Text'))\n",
    "accordion"
   ]
  },
  {
   "cell_type": "code",
   "execution_count": null,
   "id": "a520db98",
   "metadata": {},
   "outputs": [],
   "source": []
  },
  {
   "cell_type": "code",
   "execution_count": null,
   "id": "80b6f6b4",
   "metadata": {},
   "outputs": [],
   "source": []
  },
  {
   "cell_type": "code",
   "execution_count": 26,
   "id": "afae8fab",
   "metadata": {},
   "outputs": [
    {
     "data": {
      "application/vnd.jupyter.widget-view+json": {
       "model_id": "7038ada9d20d41b8aa68ef92654c8eac",
       "version_major": 2,
       "version_minor": 0
      },
      "text/plain": [
       "interactive(children=(Dropdown(description='choose', options=(0, 1), value=0), Output()), _dom_classes=('widge…"
      ]
     },
     "metadata": {},
     "output_type": "display_data"
    }
   ],
   "source": [
    "def cardio_presence(choose):\n",
    "    print(f'Did you have cardiovascular disease? {choose}')\n",
    "     \n",
    "widgets.interact(cardio_presence, choose=df['cardio'].unique());"
   ]
  },
  {
   "cell_type": "code",
   "execution_count": 27,
   "id": "39492eb4",
   "metadata": {},
   "outputs": [
    {
     "data": {
      "application/vnd.jupyter.widget-view+json": {
       "model_id": "f0c9f4e632644f169d9b854da1c79587",
       "version_major": 2,
       "version_minor": 0
      },
      "text/plain": [
       "interactive(children=(Output(),), _dom_classes=('widget-interact',))"
      ]
     },
     "metadata": {},
     "output_type": "display_data"
    }
   ],
   "source": [
    "def plot_diastolic():\n",
    "    plt.hist(df['systolic'])\n",
    "\n",
    "widgets.interact(plot_diastolic)\n",
    "pass"
   ]
  },
  {
   "cell_type": "code",
   "execution_count": 28,
   "id": "61a35021",
   "metadata": {},
   "outputs": [
    {
     "data": {
      "application/vnd.jupyter.widget-view+json": {
       "model_id": "8bca94d729a64b7284dd53a11b36f589",
       "version_major": 2,
       "version_minor": 0
      },
      "text/plain": [
       "Textarea(value='Accordion\\nAppLayout\\nAudio\\nBoundedFloatText\\nBoundedIntText\\nBox\\nButton\\nButtonStyle\\nCallb…"
      ]
     },
     "metadata": {},
     "output_type": "display_data"
    }
   ],
   "source": [
    "#wyświetlanie listy widgetów\n",
    "widgets.Textarea(\n",
    "    '\\n'.join([w for w in dir(widgets) if not w.islower()]),\n",
    "    layout=widgets.Layout(height='100px', width='200px')\n",
    ")"
   ]
  },
  {
   "cell_type": "code",
   "execution_count": 29,
   "id": "f7bea79c",
   "metadata": {},
   "outputs": [
    {
     "data": {
      "application/vnd.jupyter.widget-view+json": {
       "model_id": "2218d77389124e80b4b46d1b6a098172",
       "version_major": 2,
       "version_minor": 0
      },
      "text/plain": [
       "HTML(value='<b>Bolded texT</b> <font color=\"green\">html</font>')"
      ]
     },
     "metadata": {},
     "output_type": "display_data"
    }
   ],
   "source": [
    "#If more formatting is required, you can use an HTML widget.\n",
    "html = widgets.HTML(\n",
    "    value='<b>Bolded texT</b> <font color=\"green\">html</font>', \n",
    "    description=''\n",
    ")\n",
    "html"
   ]
  },
  {
   "cell_type": "code",
   "execution_count": 30,
   "id": "ad57a5f8",
   "metadata": {},
   "outputs": [],
   "source": [
    "#VBox - vertical box container\n",
    "#HBox - horizontal box container"
   ]
  },
  {
   "cell_type": "code",
   "execution_count": 31,
   "id": "318bb35e",
   "metadata": {},
   "outputs": [
    {
     "data": {
      "application/vnd.jupyter.widget-view+json": {
       "model_id": "010be73d0ee74b04a9850b12c3fa08cd",
       "version_major": 2,
       "version_minor": 0
      },
      "text/plain": [
       "HBox(children=(IntSlider(value=127, continuous_update=False, description='Systolic', max=240, min=70, orientat…"
      ]
     },
     "metadata": {},
     "output_type": "display_data"
    }
   ],
   "source": [
    "widgets.HBox([sys_slider, dias_slider])"
   ]
  },
  {
   "cell_type": "code",
   "execution_count": null,
   "id": "82c3a920",
   "metadata": {},
   "outputs": [],
   "source": []
  },
  {
   "cell_type": "code",
   "execution_count": null,
   "id": "92df907f",
   "metadata": {},
   "outputs": [],
   "source": []
  },
  {
   "cell_type": "code",
   "execution_count": null,
   "id": "dc50ffa0",
   "metadata": {},
   "outputs": [],
   "source": []
  },
  {
   "cell_type": "code",
   "execution_count": null,
   "id": "5657fbbf",
   "metadata": {},
   "outputs": [],
   "source": []
  },
  {
   "cell_type": "code",
   "execution_count": null,
   "id": "8bb25b3e",
   "metadata": {},
   "outputs": [],
   "source": []
  },
  {
   "cell_type": "code",
   "execution_count": null,
   "id": "ebb17dd9",
   "metadata": {},
   "outputs": [],
   "source": []
  },
  {
   "cell_type": "code",
   "execution_count": null,
   "id": "fc5a4dcf",
   "metadata": {},
   "outputs": [],
   "source": []
  },
  {
   "cell_type": "code",
   "execution_count": null,
   "id": "6ea16400",
   "metadata": {},
   "outputs": [],
   "source": []
  },
  {
   "cell_type": "code",
   "execution_count": null,
   "id": "5cac7c6b",
   "metadata": {},
   "outputs": [],
   "source": []
  },
  {
   "cell_type": "code",
   "execution_count": null,
   "id": "196f4126",
   "metadata": {},
   "outputs": [],
   "source": []
  },
  {
   "cell_type": "code",
   "execution_count": null,
   "id": "a79fed42",
   "metadata": {},
   "outputs": [],
   "source": []
  },
  {
   "cell_type": "code",
   "execution_count": null,
   "id": "c6cfb9e3",
   "metadata": {},
   "outputs": [],
   "source": []
  },
  {
   "cell_type": "code",
   "execution_count": null,
   "id": "37e05ba5",
   "metadata": {},
   "outputs": [],
   "source": []
  },
  {
   "cell_type": "code",
   "execution_count": 32,
   "id": "ed9654a2",
   "metadata": {},
   "outputs": [
    {
     "data": {
      "application/vnd.jupyter.widget-view+json": {
       "model_id": "a974dba82a5a4fdfb3d04bb44fc11f6a",
       "version_major": 2,
       "version_minor": 0
      },
      "text/plain": [
       "Output(layout=Layout(border='solid', grid_area='footer', height='800px', width='100%'))"
      ]
     },
     "metadata": {},
     "output_type": "display_data"
    }
   ],
   "source": [
    "from ipywidgets import Button, Layout\n",
    "out = widgets.Output(layout=Layout(width='100%', height='800px', border='solid', grid_area='footer'))\n",
    "out"
   ]
  },
  {
   "cell_type": "code",
   "execution_count": 33,
   "id": "d42178d8",
   "metadata": {},
   "outputs": [
    {
     "data": {
      "image/png": "[encoded data removed]",
      "text/plain": [
       "<Figure size 432x288 with 1 Axes>"
      ]
     },
     "metadata": {
      "needs_background": "light"
     },
     "output_type": "display_data"
    }
   ],
   "source": [
    "with out:\n",
    "    plt.hist(df['diastolic'])"
   ]
  },
  {
   "cell_type": "code",
   "execution_count": null,
   "id": "3000308b",
   "metadata": {},
   "outputs": [],
   "source": []
  },
  {
   "cell_type": "code",
   "execution_count": 34,
   "id": "2690871b",
   "metadata": {},
   "outputs": [
    {
     "data": {
      "application/vnd.jupyter.widget-view+json": {
       "model_id": "0cb70883a8ad47ec8f2c81dafbb28274",
       "version_major": 2,
       "version_minor": 0
      },
      "text/plain": [
       "interactive(children=(FloatSlider(value=155.0, description='x', max=240.0, min=70.0), Output()), _dom_classes=…"
      ]
     },
     "metadata": {},
     "output_type": "display_data"
    }
   ],
   "source": [
    "@widgets.interact(x=(df['systolic'].min(), df['systolic'].max()))\n",
    "def f(x=155):\n",
    "    print(x)"
   ]
  },
  {
   "cell_type": "code",
   "execution_count": 35,
   "id": "939fd4ce",
   "metadata": {},
   "outputs": [
    {
     "data": {
      "application/vnd.jupyter.widget-view+json": {
       "model_id": "496541f4e8ad402ba1b9968a5177beff",
       "version_major": 2,
       "version_minor": 0
      },
      "text/plain": [
       "FloatRangeSlider(value=(52.0, 52.0), description='Diastolic range:', max=180.0, min=52.0, readout_format='.0f'…"
      ]
     },
     "metadata": {},
     "output_type": "display_data"
    }
   ],
   "source": [
    "range_slider = widgets.FloatRangeSlider(\n",
    "    value=[-1., +1.],\n",
    "    min=df['diastolic'].min(), \n",
    "    max=df['diastolic'].max(), \n",
    "    step=0.1,\n",
    "    description='Diastolic range:',\n",
    "    readout_format='.0f',\n",
    ")\n",
    "range_slider"
   ]
  },
  {
   "cell_type": "code",
   "execution_count": null,
   "id": "e1539609",
   "metadata": {},
   "outputs": [],
   "source": []
  },
  {
   "cell_type": "code",
   "execution_count": null,
   "id": "4413ebd1",
   "metadata": {},
   "outputs": [],
   "source": []
  }
 ],
 "metadata": {
  "kernelspec": {
   "display_name": "Python 3",
   "language": "python",
   "name": "python3"
  },
  "language_info": {
   "codemirror_mode": {
    "name": "ipython",
    "version": 3
   },
   "file_extension": ".py",
   "mimetype": "text/x-python",
   "name": "python",
   "nbconvert_exporter": "python",
   "pygments_lexer": "ipython3",
   "version": "3.7.10"
  }
 },
 "nbformat": 4,
 "nbformat_minor": 5
}
