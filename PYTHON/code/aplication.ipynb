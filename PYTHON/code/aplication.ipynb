{
 "cells": [
  {
   "cell_type": "code",
   "execution_count": 154,
   "metadata": {},
   "outputs": [],
   "source": [
    "import ipywidgets as widgets\n",
    "from ipywidgets import interact, interactive, fixed, interact_manual\n",
    "from ipywidgets import Layout\n",
    "from IPython.display import display\n",
    "import numpy as np\n",
    "import pandas as pd\n",
    "import matplotlib.pyplot as plt\n",
    "%matplotlib inline\n",
    "import seaborn as sns\n",
    "sns.set_style('whitegrid')"
   ]
  },
  {
   "cell_type": "code",
   "execution_count": 155,
   "metadata": {},
   "outputs": [],
   "source": [
    "df=file_name='eda_final.csv'\n",
    "file_path = os.path.join(os.path.abspath(\"\"), \"PYTHON\", file_name)\n",
    "df = pd.read_csv(file_name,delimiter=',')\n",
    "df = df.drop(columns='Unnamed: 0')"
   ]
  },
  {
   "cell_type": "code",
   "execution_count": 156,
   "metadata": {},
   "outputs": [],
   "source": [
    "gender_drop= widgets.Dropdown(options=[(\"No\", 0),(\"Yes\",1)],description=\"Gender\")\n",
    "age_drop= widgets.Dropdown(options=[(\"No\", 0),(\"Yes\",1)],description=\"Age\")\n",
    "disease_drop=widgets.Dropdown(options=[(\"No\", 0),(\"Yes\",1)], description=\"Diagnose\")\n",
    "show_button=widgets.Button(description=\"Show statistics\", button_style='success')\n",
    "#funkcja do wyświetlania pierwszego wykresu\n",
    "def print_1(b=None):\n",
    "    gen=gender_drop.value\n",
    "    dise=disease_drop.value\n",
    "    age=age_drop.value\n",
    "\n",
    "    plt.figure(figsize= (4,4))\n",
    "    \n",
    "    if (dise==1 and gen==1 and age==1):\n",
    "        ax=sns.countplot(y= 'bmi_range',  data= df)\n",
    "    elif gen ==1:\n",
    "        ax=sns.countplot(y= 'bmi_range', hue= 'gender', data= df)\n",
    "    elif dise==1:\n",
    "        ax=sns.countplot(y= 'bmi_range', hue= 'cardio', data= df)\n",
    "    elif age==1:\n",
    "        ax=sns.countplot(y= 'bmi_range', hue= 'age_range', data= df)\n",
    "    else:\n",
    "        ax=sns.countplot(y= 'bmi_range',  data= df)\n",
    "    \n",
    "    \n",
    "    plt.title('BMI', fontweight= 'bold', fontsize= 12)\n",
    "    plt.xlabel('No of Patients')\n",
    "    plt.ylabel('Type of BMI')\n",
    "    total = len(df['bmi_range'])\n",
    "    for p in ax.patches:\n",
    "        percentage = '{:.1f}%'.format(100 * p.get_width()/total)\n",
    "        x = p.get_x() + p.get_width() + 0.02\n",
    "        y = p.get_y() + p.get_height()/2\n",
    "        ax.annotate(percentage, (x, y))\n",
    "\n",
    "#funkcja dla ciśnienia\n",
    "def plot_1(b=None):\n",
    "    gen=gender_drop.value\n",
    "    dise=disease_drop.value\n",
    "    age=age_drop.value\n",
    "\n",
    "    plt.figure(figsize= (4,4))\n",
    "    \n",
    "    if (dise==1 and gen==1 and age==1):\n",
    "        ax=sns.countplot(y= 'HTN_stage', hue= 'bmi_range', data= df)\n",
    "    elif gen ==1:\n",
    "        ax=sns.countplot(y= 'HTN_stage', hue= 'gender', data= df)\n",
    "    elif dise==1:\n",
    "        ax=sns.countplot(y= 'HTN_stage', hue= 'cardio', data= df)\n",
    "    elif age==1:\n",
    "        ax=sns.countplot(y= 'HTN_stage', hue= 'age_range', data= df)\n",
    "    else:\n",
    "        ax=sns.countplot(y= 'HTN_stage', hue= 'bmi_range', data= df)\n",
    "    \n",
    "    plt.title('Blood Pressure Categories' , fontweight= 'bold', fontsize= 20)\n",
    "    plt.xlabel('Blood Pressure Category')\n",
    "    plt.ylabel('# of Patients')\n",
    "\n",
    "@show_button.on_click\n",
    "def plot_on_click(b):\n",
    "    out.clear_output(wait=True)\n",
    "    with out:\n",
    "        print_1()\n",
    "        plot_1()\n",
    "        plt.show()\n",
    "\n",
    "out=widgets.Output()\n",
    "q0=widgets.HBox([gender_drop,disease_drop, age_drop])\n",
    "q1=widgets.VBox([q0,show_button])\n",
    "bmi_box=widgets.VBox([q1,out])\n",
    "\n"
   ]
  },
  {
   "source": [
    "import ipywidgets as widgets\n",
    "from ipywidgets import interact, interactive, fixed, interact_manual\n",
    "from IPython.display import display\n",
    "import numpy as np\n",
    "import pandas as pd\n",
    "%matplotlib inline\n",
    "import matplotlib.pyplot as plt\n",
    "import seaborn as sns\n",
    "sns.set_style(\"whitegrid\")\n",
    "import bqplot as bq"
   ],
   "cell_type": "markdown",
   "metadata": {}
  },
  {
   "cell_type": "code",
   "execution_count": 157,
   "metadata": {},
   "outputs": [],
   "source": [
    "#read clean data and create dataframe\n",
    "#df = pd.read_csv(\"cardio_clean.csv\")\n",
    "#df"
   ]
  },
  {
   "cell_type": "code",
   "execution_count": 158,
   "metadata": {},
   "outputs": [],
   "source": [
    "#drop unuseful column\n",
    "#df = df.drop(columns=\"id\")"
   ]
  },
  {
   "cell_type": "code",
   "execution_count": 159,
   "metadata": {},
   "outputs": [
    {
     "output_type": "execute_result",
     "data": {
      "text/plain": [
       "0        110\n",
       "1        140\n",
       "2        130\n",
       "3        150\n",
       "4        100\n",
       "        ... \n",
       "69537    120\n",
       "69538    140\n",
       "69539    180\n",
       "69540    135\n",
       "69541    120\n",
       "Name: systolic, Length: 69542, dtype: int64"
      ]
     },
     "metadata": {},
     "execution_count": 159
    }
   ],
   "source": [
    "#make sure systolic blood pressure is an integer\n",
    "df[\"systolic\"].astype(int)"
   ]
  },
  {
   "cell_type": "code",
   "execution_count": 160,
   "metadata": {},
   "outputs": [],
   "source": [
    "#create function to categorize blood pressure\n",
    "def blood_pressure_cat(systolic):\n",
    "    if systolic >= 180:\n",
    "        return \"Crisis\"\n",
    "    elif (140 <= systolic < 180):\n",
    "        return \"HBP_stage2\"\n",
    "    elif (130 <= systolic < 140):\n",
    "        return \"HBP_stage1\"\n",
    "    elif (120 <= systolic < 130):\n",
    "        return \"Elevated\"\n",
    "    else:\n",
    "        return \"Normal\""
   ]
  },
  {
   "cell_type": "code",
   "execution_count": 161,
   "metadata": {},
   "outputs": [],
   "source": [
    "#run category function on dataframe\n",
    "df['HTN_stage'] = df['systolic'].apply(lambda x: blood_pressure_cat(x))"
   ]
  },
  {
   "cell_type": "code",
   "execution_count": 162,
   "metadata": {},
   "outputs": [],
   "source": [
    "#create function to categorize age\n",
    "def age_category(age):\n",
    "    if age < 40:\n",
    "        return \"30-39\"\n",
    "    elif (50 > age >= 40):\n",
    "        return \"40-49\"\n",
    "    elif (60 > age >= 50):\n",
    "        return \"50-59\"\n",
    "    else:\n",
    "        return \"60-69\"\n",
    "#run category function on dataframe\n",
    "df['age_range'] = df['age'].apply(lambda x: age_category(x))"
   ]
  },
  {
   "cell_type": "code",
   "execution_count": 163,
   "metadata": {},
   "outputs": [],
   "source": [
    "#creating handlers for data attibutes\n",
    "gender_drop= widgets.Dropdown(options=[(\"Yes\",1),\n",
    "                                       (\"No\",0)],description=\"Include gender:\",\n",
    "                                         style= {'description_width': 'initial'})\n",
    "run_button = widgets.Button(description=\"Show statistics\",\n",
    "                           button_style='success')"
   ]
  },
  {
   "cell_type": "code",
   "execution_count": 164,
   "metadata": {},
   "outputs": [],
   "source": [
    "#function to show first plot\n",
    "def show_plot_1(b=None):\n",
    "    gen=gender_drop.value\n",
    "    plt.figure(figsize= (6,6))\n",
    "    if gen == 0:\n",
    "        ax =sns.countplot(y= 'HTN_stage', hue='gender', data= df, \n",
    "                          order=[\"Normal\",\"Elevated\",\"HBP_stage1\", \"HBP_stage2\", \"Crisis\"])\n",
    "        plt.title('Systolic Blood Pressure Stages By Gender')\n",
    "        plt.legend([\"female\", \"male\"])\n",
    "    else:\n",
    "        ax =sns.countplot(y= 'HTN_stage', data= df, \n",
    "                          order=[\"Normal\",\"Elevated\",\"HBP_stage1\", \"HBP_stage2\", \"Crisis\"])\n",
    "        plt.title('Systolic Blood Pressure Stages Overview')   \n",
    "    plt.ylabel('HTN stage')\n",
    "    total = len(df['age_range'])\n",
    "    for p in ax.patches:\n",
    "        percentage = '{:.1f}%'.format(100 * p.get_width()/total)\n",
    "        x = p.get_x() + p.get_width() + 0.02\n",
    "        y = p.get_y() + p.get_height()/2\n",
    "        ax.annotate(percentage, (x, y))\n",
    "\n",
    "#function to show second plot\n",
    "def show_plot_2(b=None):\n",
    "    plt.figure(figsize= (6,6))\n",
    "    sns.countplot(x= 'age_range', hue= 'HTN_stage', data= df, order=[\"30-39\",\"40-49\",\"50-59\",\"60-69\"])\n",
    "    plt.title('Systolic Blood Pressure Categories For Age Ranges', fontweight= 'bold', fontsize= 12)\n",
    "    plt.xlabel('Age ranges')\n",
    "    plt.ylabel('Number of Patients')\n",
    "    plt.legend([\"Normal\",\"Elevated\",\"HBP_stage1\", \"HBP_stage2\", \"Crisis\"])\n",
    "\n",
    "#function to show third plot    \n",
    "def show_plot_3(b=None):\n",
    "    plt.figure(figsize= (6,6))\n",
    "    sns.countplot(x= 'HTN_stage', hue= 'cardio', \n",
    "                  data= df, order=[\"Normal\",\"Elevated\",\"HBP_stage1\", \"HBP_stage2\", \"Crisis\"],\n",
    "                 palette=\"Set1\")\n",
    "    plt.title('Systolic Blood Pressure Categories With Cardio Disease Coexistance', fontweight= 'bold', fontsize= 12)\n",
    "    plt.xlabel('Systolic Blood Pressure Categories')\n",
    "    plt.ylabel('Number of Patients')\n",
    "    plt.legend([\"cardio disease\", \"no cardio disease\"])"
   ]
  },
  {
   "cell_type": "code",
   "execution_count": 165,
   "metadata": {},
   "outputs": [],
   "source": [
    "#tabs\n",
    "@run_button.on_click\n",
    "def plot_on_click(b):\n",
    "    out.clear_output(wait=True)\n",
    "    with out:\n",
    "        show_plot_1()\n",
    "        show_plot_2()\n",
    "        show_plot_3()\n",
    "        plt.show()\n",
    "\n",
    "out=widgets.Output()\n",
    "widget_box=widgets.VBox([gender_drop,run_button])\n",
    "systolic_box = widgets.HBox([widget_box,out])\n"
   ]
  },
  {
   "cell_type": "code",
   "execution_count": null,
   "metadata": {},
   "outputs": [],
   "source": []
  },
  {
   "cell_type": "code",
   "execution_count": 166,
   "metadata": {},
   "outputs": [
    {
     "output_type": "execute_result",
     "data": {
      "text/plain": [
       "<IPython.core.display.HTML object>"
      ],
      "text/html": "<script>\ncode_show=true; \nfunction code_toggle() {\n if (code_show){\n $('div.input').hide();\n } else {\n $('div.input').show();\n }\n code_show = !code_show\n} \n$( document ).ready(code_toggle);\n</script>\n<form action=\"javascript:code_toggle()\"><input type=\"submit\" value=\"Click here to show the raw code.\"></form>"
     },
     "metadata": {},
     "execution_count": 166
    }
   ],
   "source": [
    "from IPython.display import HTML\n",
    "\n",
    "HTML('''<script>\n",
    "code_show=true; \n",
    "function code_toggle() {\n",
    " if (code_show){\n",
    " $('div.input').hide();\n",
    " } else {\n",
    " $('div.input').show();\n",
    " }\n",
    " code_show = !code_show\n",
    "} \n",
    "$( document ).ready(code_toggle);\n",
    "</script>\n",
    "<form action=\"javascript:code_toggle()\"><input type=\"submit\" value=\"Click here to show the raw code.\"></form>''')"
   ]
  },
  {
   "cell_type": "code",
   "execution_count": 167,
   "metadata": {},
   "outputs": [
    {
     "output_type": "display_data",
     "data": {
      "text/plain": "<IPython.core.display.HTML object>",
      "text/html": "<style>.container { width:100% !important; }</style>"
     },
     "metadata": {}
    }
   ],
   "source": [
    "#increasing cell width with Jupyter notebook\n",
    "from IPython.core.display import display, HTML\n",
    "display(HTML(\"<style>.container { width:100% !important; }</style>\"))"
   ]
  },
  {
   "cell_type": "code",
   "execution_count": 168,
   "metadata": {},
   "outputs": [],
   "source": [
    "import ipywidgets as widgets\n",
    "from ipywidgets import interact, interactive, fixed, interact_manual\n",
    "from IPython.display import display\n",
    "import numpy as np\n",
    "import pandas as pd\n",
    "%matplotlib inline\n",
    "import matplotlib.pyplot as plt\n",
    "import seaborn as sns\n",
    "sns.set_style(\"whitegrid\")\n",
    "import bqplot as bq"
   ]
  },
  {
   "source": [
    "#read data and create dataframe\n",
    "df = pd.read_csv(\"C:\\\\Users\\Konrad\\Desktop\\DATA SCIENCE\\Projekt Python - DataVirus\\eda_final.csv\", index_col=0)\n",
    "df.describe().round(2)"
   ],
   "cell_type": "markdown",
   "metadata": {}
  },
  {
   "cell_type": "code",
   "execution_count": 169,
   "metadata": {},
   "outputs": [],
   "source": [
    "#create function to categorize blood pressure\n",
    "def blood_pressure_cat(diastolic):\n",
    "    if diastolic >= 120:\n",
    "        return \"Crisis\"\n",
    "    elif (90 <= diastolic < 120):\n",
    "        return \"HBP_stage2\"\n",
    "    elif (80 <= diastolic < 90):\n",
    "        return \"HBP_stage1\"\n",
    "    else:\n",
    "        return \"Elevated/Normal\""
   ]
  },
  {
   "cell_type": "code",
   "execution_count": 170,
   "metadata": {},
   "outputs": [],
   "source": [
    "#run category function on dataframe\n",
    "df['HTN_stage'] = df['diastolic'].apply(lambda x: blood_pressure_cat(x))"
   ]
  },
  {
   "cell_type": "code",
   "execution_count": 171,
   "metadata": {},
   "outputs": [],
   "source": [
    "#create function to categorize age\n",
    "def age_category(age):\n",
    "    if age < 40:\n",
    "        return \"30-39\"\n",
    "    elif (50 > age >= 40):\n",
    "        return \"40-49\"\n",
    "    elif (60 > age >= 50):\n",
    "        return \"50-59\"\n",
    "    else:\n",
    "        return \"60-69\"\n",
    "#run category function on dataframe\n",
    "df['age_range'] = df['age'].apply(lambda x: age_category(x))"
   ]
  },
  {
   "cell_type": "code",
   "execution_count": 172,
   "metadata": {},
   "outputs": [],
   "source": [
    "#creating handlers for data attibutes\n",
    "gender_drop= widgets.Dropdown(options=[(\"Yes\",1),\n",
    "                                       (\"No\",0)],description=\"Include gender:\",\n",
    "                                         style= {'description_width': 'initial'})\n",
    "run_button = widgets.Button(description=\"Show statistics\",\n",
    "                           button_style='success')"
   ]
  },
  {
   "cell_type": "code",
   "execution_count": 173,
   "metadata": {},
   "outputs": [],
   "source": [
    "#function to show first plot\n",
    "def show_plot_gender(b=None):\n",
    "    gen=gender_drop.value\n",
    "    plt.figure(figsize= (6,6))\n",
    "    if gen == 0:\n",
    "        ax =sns.countplot(y= 'HTN_stage', hue='gender', data= df, \n",
    "                          order=[\"Elevated/Normal\",\"HBP_stage1\", \"HBP_stage2\", \"Crisis\"])\n",
    "        plt.title('Diastolic Blood Pressure Stages By Gender')\n",
    "        plt.legend([\"female\", \"male\"])\n",
    "    else:\n",
    "        ax =sns.countplot(y= 'HTN_stage', data= df, \n",
    "                          order=[\"Elevated/Normal\",\"HBP_stage1\", \"HBP_stage2\", \"Crisis\"])\n",
    "        plt.title('Diastolic Blood Pressure Stages Overview')   \n",
    "    plt.ylabel('HTN stage')\n",
    "    total = len(df['age_range'])\n",
    "    for p in ax.patches:\n",
    "        percentage = '{:.1f}%'.format(100 * p.get_width()/total)\n",
    "        x = p.get_x() + p.get_width() + 0.02\n",
    "        y = p.get_y() + p.get_height()/2\n",
    "        ax.annotate(percentage, (x, y))\n",
    "\n",
    "#function to show second plot\n",
    "def show_plot_age(b=None):\n",
    "    plt.figure(figsize= (6,6))\n",
    "    sns.countplot(x= 'age_range', hue= 'HTN_stage', data= df, order=[\"30-39\",\"40-49\",\"50-59\",\"60-69\"])\n",
    "    plt.title('Diastolic Blood Pressure Categories For Age Ranges', fontweight= 'bold', fontsize= 12)\n",
    "    plt.xlabel('Age ranges')\n",
    "    plt.ylabel('Number of Patients')\n",
    "    plt.legend([\"Elevated/Normal\",\"HBP_stage1\", \"HBP_stage2\", \"Crisis\"])\n",
    "\n",
    "#function to show third plot    \n",
    "def show_plot_cardio(b=None):\n",
    "    plt.figure(figsize= (6,6))\n",
    "    sns.countplot(x= 'HTN_stage', hue= 'cardio', \n",
    "                  data= df, order=[\"Elevated/Normal\",\"HBP_stage1\", \"HBP_stage2\", \"Crisis\"],\n",
    "                 palette=\"Set1\")\n",
    "    plt.title('Diastolic Blood Pressure Categories With Cardio Disease Coexistance', fontweight= 'bold', fontsize= 12)\n",
    "    plt.xlabel('Diastolic Blood Pressure Categories')\n",
    "    plt.ylabel('Number of Patients')\n",
    "    plt.legend([\"cardio disease\", \"no cardio disease\"])"
   ]
  },
  {
   "cell_type": "code",
   "execution_count": 174,
   "metadata": {},
   "outputs": [],
   "source": [
    "#tabs\n",
    "@run_button.on_click\n",
    "def plot_on_click(b):\n",
    "    out.clear_output(wait=True)\n",
    "    with out:\n",
    "        show_plot_gender()\n",
    "        show_plot_age()\n",
    "        show_plot_cardio()\n",
    "        plt.show()\n",
    "\n",
    "out=widgets.Output()\n",
    "widget_box=widgets.VBox([gender_drop,run_button])\n",
    "diastolic_box = widgets.HBox([widget_box,out])\n",
    "\n"
   ]
  },
  {
   "cell_type": "code",
   "execution_count": null,
   "metadata": {},
   "outputs": [],
   "source": []
  },
  {
   "cell_type": "markdown",
   "metadata": {},
   "source": []
  },
  {
   "cell_type": "code",
   "execution_count": 175,
   "metadata": {},
   "outputs": [],
   "source": [
    "import os\n",
    "import numpy as np\n",
    "import pandas as pd\n",
    "import datetime\n",
    "import plotly.graph_objects as go\n",
    "import matplotlib.pyplot as plt\n",
    "%matplotlib inline\n",
    "import seaborn as sns\n",
    "sns.set_style('whitegrid')\n",
    "from ipywidgets import widgets"
   ]
  },
  {
   "cell_type": "code",
   "execution_count": 176,
   "metadata": {},
   "outputs": [],
   "source": [
    "file_name='eda_final.csv'\n",
    "file_path = os.path.join(os.path.abspath(\"\"), \"PYTHON\", file_name)\n",
    "df = pd.read_csv(file_name,delimiter=',')"
   ]
  },
  {
   "cell_type": "code",
   "execution_count": 177,
   "metadata": {},
   "outputs": [],
   "source": [
    "df=df.rename(columns={\"ap_hi\": \"systolic\", \"ap_lo\": \"diastolic\"})\n",
    "df['gender'] = df['gender'].replace(1,'Female')\n",
    "df['gender'] = df['gender'].replace(2,'Male')\n",
    "df['age'] = df['age'].apply(np.floor)\n",
    "df[['age','gender','systolic', 'diastolic']]\n",
    "age_min = df['age'].min()\n",
    "age_max = df['age'].max()"
   ]
  },
  {
   "cell_type": "code",
   "execution_count": 178,
   "metadata": {},
   "outputs": [],
   "source": [
    "age_from = widgets.IntSlider(\n",
    "    value=age_min,\n",
    "    min=age_min,\n",
    "    max=age_max,\n",
    "    step=1.0,\n",
    "    description='Age from:',\n",
    "    continuous_update=False\n",
    ")"
   ]
  },
  {
   "cell_type": "code",
   "execution_count": 179,
   "metadata": {},
   "outputs": [],
   "source": [
    "age_to = widgets.IntSlider(\n",
    "    value=age_max,\n",
    "    min=age_min,\n",
    "    max=age_max,\n",
    "    step=1.0,\n",
    "    description='Age to:',\n",
    "    continuous_update=False\n",
    ")"
   ]
  },
  {
   "cell_type": "code",
   "execution_count": 180,
   "metadata": {},
   "outputs": [],
   "source": [
    "gender = widgets.Dropdown(\n",
    "    options=list(df['gender'].unique()),\n",
    "    value='Male',\n",
    "    description='Gender:',\n",
    ")"
   ]
  },
  {
   "cell_type": "code",
   "execution_count": 181,
   "metadata": {},
   "outputs": [],
   "source": [
    "use_gender = widgets.Checkbox(\n",
    "    value=False,\n",
    "    description='Gender',\n",
    ")"
   ]
  },
  {
   "cell_type": "code",
   "execution_count": 59,
   "metadata": {},
   "outputs": [],
   "source": []
  },
  {
   "cell_type": "code",
   "execution_count": 182,
   "metadata": {},
   "outputs": [],
   "source": [
    "systolic = go.Histogram(x=df['systolic'], opacity=0.75, name='Systolic')\n",
    "diastolic = go.Histogram(x=df['diastolic'], opacity=0.75, name='Diastolic')\n",
    "g = go.FigureWidget(data=[systolic,diastolic],\n",
    "                    layout=go.Layout(\n",
    "                        title=dict(\n",
    "                            text='BLOOD PRESSURE GRAPH'\n",
    "                        ),\n",
    "                        barmode='overlay'\n",
    "                    ))"
   ]
  },
  {
   "cell_type": "code",
   "execution_count": 183,
   "metadata": {},
   "outputs": [],
   "source": [
    " def response(change):\n",
    "    if use_gender.value:\n",
    "                filter_list = [i and j and k for i, j, k in\n",
    "                            zip(df['gender'] == gender.value, df['age'] >= age_from.value,\n",
    "                                df['age'] <= age_to.value)]\n",
    "                temp_df = df[filter_list]\n",
    "    else:\n",
    "        filter_list = [i and j for i, j in\n",
    "                    zip(df['age'] >= age_from.value, df['age'] <= age_to.value)]\n",
    "        temp_df = df[filter_list]\n",
    "    x1 = temp_df['systolic']\n",
    "    x2 = temp_df['diastolic']\n",
    "    with g.batch_update():\n",
    "        g.data[0].x = x1\n",
    "        g.data[1].x = x2\n",
    "        g.layout.barmode = 'overlay'\n",
    "        g.layout.xaxis.title = 'Person'\n",
    "        g.layout.yaxis.title = 'Pressure'\n",
    "\n",
    "age_to.observe(response, names=\"value\")\n",
    "age_from.observe(response, names=\"value\")\n",
    "gender.observe(response, names=\"value\")\n",
    "use_gender.observe(response, names=\"value\")"
   ]
  },
  {
   "cell_type": "code",
   "execution_count": 184,
   "metadata": {},
   "outputs": [],
   "source": [
    "container = widgets.HBox(children=[age_from, age_to])\n",
    "container2 = widgets.HBox(children=[use_gender, gender])"
   ]
  },
  {
   "cell_type": "code",
   "execution_count": 185,
   "metadata": {},
   "outputs": [],
   "source": [
    "pressure_box=widgets.VBox([container2, container, g])"
   ]
  },
  {
   "cell_type": "code",
   "execution_count": 186,
   "metadata": {},
   "outputs": [
    {
     "output_type": "display_data",
     "data": {
      "text/plain": "Tab(children=(Text(value='Age'), VBox(children=(VBox(children=(HBox(children=(Dropdown(description='Gender', o…",
      "application/vnd.jupyter.widget-view+json": {
       "version_major": 2,
       "version_minor": 0,
       "model_id": "cbb51f33ac4b41918b626a4313f69cb2"
      }
     },
     "metadata": {}
    }
   ],
   "source": [
    "tab0 = widgets.Text('Age')\n",
    "tab1 = widgets.Text('BMI')\n",
    "tab2 = widgets.Text('Blood Pressure')\n",
    "tab3 = widgets.Text('Systolic BP')\n",
    "\n",
    "\n",
    "\n",
    "tab_contents = ['Age', 'BMI', 'Blood Pressure', 'Systolic Blood Pressure', 'Diastolic Blood Pressure']\n",
    "children = [tab0,bmi_box,pressure_box, systolic_box, diastolic_box]\n",
    "tab = widgets.Tab()\n",
    "tab.children = children\n",
    "for i in range(len(tab_contents)):\n",
    "    tab.set_title(i, tab_contents[i])\n",
    "tab"
   ]
  }
 ],
 "metadata": {
  "kernelspec": {
   "name": "python383jvsc74a57bd00062e047125ebb5108b603169bc21de4af15d4941600a121f270f5b23dba400b",
   "display_name": "Python 3.8.3 64-bit ('base': conda)"
  },
  "language_info": {
   "codemirror_mode": {
    "name": "ipython",
    "version": 3
   },
   "file_extension": ".py",
   "mimetype": "text/x-python",
   "name": "python",
   "nbconvert_exporter": "python",
   "pygments_lexer": "ipython3",
   "version": "3.8.3"
  },
  "metadata": {
   "interpreter": {
    "hash": "1227d6e04bd2fe1a05dee211ed99a8f928a5806b8f9637c26870ab193700c1aa"
   }
  }
 },
 "nbformat": 4,
 "nbformat_minor": 2
}