{
 "cells": [
  {
   "cell_type": "markdown",
   "id": "31907095",
   "metadata": {},
   "source": [
    "### Dashboarding with Python Widget\n",
    "\n",
    "[YT link](https://www.youtube.com/watch?v=SDy7aBahFuQ)"
   ]
  },
  {
   "cell_type": "code",
   "execution_count": 1,
   "id": "074f51ff",
   "metadata": {},
   "outputs": [],
   "source": [
    "# #installing ipywidgets\n",
    "# !pip install ipywidgets\n",
    "# !jupyter nbextension enable --py widgetsnbextension"
   ]
  },
  {
   "cell_type": "code",
   "execution_count": 2,
   "id": "820c05ae",
   "metadata": {
    "scrolled": false
   },
   "outputs": [],
   "source": [
    "# #installing Jupyter Themes\n",
    "# !pip install jupyterthemes"
   ]
  },
  {
   "cell_type": "code",
   "execution_count": 3,
   "id": "d0f49091",
   "metadata": {},
   "outputs": [
    {
     "name": "stdout",
     "output_type": "stream",
     "text": [
      "Available Themes: \n",
      "   chesterish\n",
      "   grade3\n",
      "   gruvboxd\n",
      "   gruvboxl\n",
      "   monokai\n",
      "   oceans16\n",
      "   onedork\n",
      "   solarizedd\n",
      "   solarizedl\n"
     ]
    }
   ],
   "source": [
    "#showing available themes\n",
    "!jt -l"
   ]
  },
  {
   "cell_type": "code",
   "execution_count": 4,
   "id": "153637f8",
   "metadata": {},
   "outputs": [],
   "source": [
    "#setting new theme\n",
    "# !jt -t grade3"
   ]
  },
  {
   "cell_type": "code",
   "execution_count": 5,
   "id": "dfc3c638",
   "metadata": {},
   "outputs": [],
   "source": [
    "# #getting back to default one\n",
    "# !jt -r"
   ]
  },
  {
   "cell_type": "code",
   "execution_count": 6,
   "id": "cc051534",
   "metadata": {},
   "outputs": [],
   "source": [
    "#Importing necessary libraries\n",
    "import pandas as pd\n",
    "import os\n",
    "import ipywidgets\n",
    "from ipywidgets import interact, IntSlider, interactive, widgets, interact_manual,HBox,fixed\n",
    "from IPython.display import HTML\n",
    "import warnings\n",
    "warnings.filterwarnings('ignore')\n",
    "\n",
    "#jeśli chcesz zmienić max liczbę wyswietlanych kolumn i wierszy\n",
    "pd.set_option('display.max_rows' , 1000)\n",
    "pd.set_option('display.max_columns' , 1000)\n",
    "\n",
    "#ustawianie wielkości widgetów\n",
    "layout = widgets.Layout(width='400px', height='30px')\n",
    "#formatowanie liczb, aby dobrze wyglądały, a nie dużo liczb po przecinku\n",
    "pd.options.display.float_format = \"{:.2f}\".format\n",
    "from pandas.plotting import register_matplotlib_converters\n",
    "register_matplotlib_converters()\n",
    "%matplotlib inline"
   ]
  },
  {
   "cell_type": "markdown",
   "id": "f1820944",
   "metadata": {},
   "source": [
    "### Code that you may use every time you use ipywidgets"
   ]
  },
  {
   "cell_type": "code",
   "execution_count": 7,
   "id": "43852b87",
   "metadata": {},
   "outputs": [],
   "source": [
    "# import pandas as pd\n",
    "# import os\n",
    "# import ipywidgets\n",
    "# from ipywidgets import interact, IntSlider, interactive, widgets, interact_manual,HBox,fixed\n",
    "# from IPython.display import HTML\n",
    "# import warnings\n",
    "# warnings.filterwarnings('ignore')"
   ]
  },
  {
   "cell_type": "code",
   "execution_count": 8,
   "id": "20c07543",
   "metadata": {},
   "outputs": [
    {
     "data": {
      "text/html": [
       "<style>.container { width:100% !important; }</style>"
      ],
      "text/plain": [
       "<IPython.core.display.HTML object>"
      ]
     },
     "metadata": {},
     "output_type": "display_data"
    }
   ],
   "source": [
    "#increasing cell width with Jupyter notebook\n",
    "from IPython.core.display import display, HTML\n",
    "display(HTML(\"<style>.container { width:100% !important; }</style>\"))"
   ]
  },
  {
   "cell_type": "markdown",
   "id": "9ed3120b",
   "metadata": {},
   "source": [
    "# BARDZO UŻYTECZNE !!\n",
    "\n",
    "### jak wywołasz kod, to Jupyter Notebook nie widzi kodu, taki interfejs dla użytkownika\n",
    "\n",
    "### wygląda już jak prezentacja"
   ]
  },
  {
   "cell_type": "code",
   "execution_count": 20,
   "id": "d16571e9",
   "metadata": {},
   "outputs": [
    {
     "data": {
      "text/html": [
       "<script>\n",
       "code_show=true; \n",
       "function code_toggle() {\n",
       " if (code_show){\n",
       " $('div.input').hide();\n",
       " } else {\n",
       " $('div.input').show();\n",
       " }\n",
       " code_show = !code_show\n",
       "} \n",
       "$( document ).ready(code_toggle);\n",
       "</script>\n",
       "<form action=\"javascript:code_toggle()\"><input type=\"submit\" value=\"Click here to hide the raw code.\"></form>"
      ],
      "text/plain": [
       "<IPython.core.display.HTML object>"
      ]
     },
     "execution_count": 20,
     "metadata": {},
     "output_type": "execute_result"
    }
   ],
   "source": [
    "from IPython.display import HTML\n",
    "\n",
    "HTML('''<script>\n",
    "code_show=true; \n",
    "function code_toggle() {\n",
    " if (code_show){\n",
    " $('div.input').hide();\n",
    " } else {\n",
    " $('div.input').show();\n",
    " }\n",
    " code_show = !code_show\n",
    "} \n",
    "$( document ).ready(code_toggle);\n",
    "</script>\n",
    "<form action=\"javascript:code_toggle()\"><input type=\"submit\" value=\"Click here to hide the raw code.\"></form>''')"
   ]
  },
  {
   "cell_type": "markdown",
   "id": "a9c9fe9d",
   "metadata": {},
   "source": [
    "---\n",
    "### Some basic widgets"
   ]
  },
  {
   "cell_type": "code",
   "execution_count": 10,
   "id": "9c4bbf71",
   "metadata": {},
   "outputs": [
    {
     "data": {
      "application/vnd.jupyter.widget-view+json": {
       "model_id": "182e362d11684a1d9504fc088c563a4c",
       "version_major": 2,
       "version_minor": 0
      },
      "text/plain": [
       "IntSlider(value=0)"
      ]
     },
     "metadata": {},
     "output_type": "display_data"
    }
   ],
   "source": [
    "temp = widgets.IntSlider()\n",
    "display(temp)"
   ]
  },
  {
   "cell_type": "code",
   "execution_count": 11,
   "id": "778bfbe9",
   "metadata": {},
   "outputs": [],
   "source": [
    "selector = widgets.IntSlider(value=100,\n",
    "                             min=0,\n",
    "                             max=400,\n",
    "                             step=1,\n",
    "                             description='Name',\n",
    "                             disabled=False,\n",
    "                             continuous_update=False,\n",
    "                             orientation='horizontal',\n",
    "                             readout=True,\n",
    "                             readout_format='d'\n",
    ")"
   ]
  },
  {
   "cell_type": "code",
   "execution_count": 12,
   "id": "9afb69fc",
   "metadata": {},
   "outputs": [
    {
     "data": {
      "application/vnd.jupyter.widget-view+json": {
       "model_id": "c692bd51c04345199a04fa66e1a7e9cc",
       "version_major": 2,
       "version_minor": 0
      },
      "text/plain": [
       "IntSlider(value=100, continuous_update=False, description='Name', max=400)"
      ]
     },
     "metadata": {},
     "output_type": "display_data"
    }
   ],
   "source": [
    "display(selector)"
   ]
  },
  {
   "cell_type": "markdown",
   "id": "615797d0",
   "metadata": {},
   "source": [
    "---\n",
    "##### _Build something_"
   ]
  },
  {
   "cell_type": "code",
   "execution_count": 13,
   "id": "cbaa7779",
   "metadata": {},
   "outputs": [],
   "source": [
    "style = {'description_width': 'initial'}\n",
    "my_sys = widgets.IntSlider(value = 120,\n",
    "                           min = 50, \n",
    "                           max = 300, \n",
    "                           step = 1,\n",
    "                           style=style,\n",
    "                          description='Systolic blood pressure')\n",
    "\n",
    "my_dias = widgets.IntSlider(value = 80,\n",
    "                            min = 50, \n",
    "                            max = 200, \n",
    "                            step = 1,\n",
    "                            style=style,\n",
    "                           description='Diastolic blood pressure')"
   ]
  },
  {
   "cell_type": "code",
   "execution_count": 14,
   "id": "e8c6cf19",
   "metadata": {},
   "outputs": [
    {
     "data": {
      "application/vnd.jupyter.widget-view+json": {
       "model_id": "c80b15aa5f3a46a99ced65d0f46353e1",
       "version_major": 2,
       "version_minor": 0
      },
      "text/plain": [
       "interactive(children=(IntSlider(value=120, description='Systolic blood pressure', max=300, min=50, style=Slide…"
      ]
     },
     "metadata": {},
     "output_type": "display_data"
    }
   ],
   "source": [
    "def adder(my_sys, my_dias):\n",
    "    print(\"Your blood pressure is {}/{}\".format(my_sys, my_dias))\n",
    "\n",
    "    \n",
    "#definiujesz funkcję, a potem 1 argument i drugi argument    \n",
    "interact(adder, my_sys=my_sys, my_dias=my_dias)\n",
    "pass"
   ]
  },
  {
   "cell_type": "code",
   "execution_count": null,
   "id": "90a2a46d",
   "metadata": {},
   "outputs": [],
   "source": []
  },
  {
   "cell_type": "code",
   "execution_count": 15,
   "id": "8ecc1331",
   "metadata": {},
   "outputs": [],
   "source": [
    "# import glob\n",
    "# images = glob.glob('imgs/im*')   #folder nazywa się imgs a pliki zaczynają się na im...\n",
    "# images = [im.split('/')[1] for img in images]"
   ]
  },
  {
   "cell_type": "code",
   "execution_count": 16,
   "id": "1b455cfc",
   "metadata": {},
   "outputs": [],
   "source": [
    "from IPython.display import Image"
   ]
  },
  {
   "cell_type": "code",
   "execution_count": 17,
   "id": "459beac6",
   "metadata": {},
   "outputs": [
    {
     "data": {
      "application/vnd.jupyter.widget-view+json": {
       "model_id": "93534dbb4de646ab8864cbacb614c997",
       "version_major": 2,
       "version_minor": 0
      },
      "text/plain": [
       "DatePicker(value=None, description='Pick a Start Date', style=DescriptionStyle(description_width='initial'))"
      ]
     },
     "metadata": {},
     "output_type": "display_data"
    },
    {
     "data": {
      "application/vnd.jupyter.widget-view+json": {
       "model_id": "19bb45ac15be47bda80086adef3f10de",
       "version_major": 2,
       "version_minor": 0
      },
      "text/plain": [
       "DatePicker(value=None, description='Pick an End Date', style=DescriptionStyle(description_width='initial'))"
      ]
     },
     "metadata": {},
     "output_type": "display_data"
    }
   ],
   "source": [
    "# date picker\n",
    "layout = widgets.Layout(width='auto', height='40px')\n",
    "start_dater = widgets.DatePicker(description='Pick a Start Date', disabled=False, style = style)\n",
    "end_dater = widgets.DatePicker(description='Pick an End Date', disabled=False, style = style)\n",
    "display(start_dater)\n",
    "display(end_dater)"
   ]
  },
  {
   "cell_type": "code",
   "execution_count": 18,
   "id": "bd2e5b1b",
   "metadata": {},
   "outputs": [],
   "source": [
    "#jeśli data jest jako object (a więc string), możesz to przekształcić na datę, używając:\n",
    "#time['date'] = pd.to_datetime(time['date'])\n"
   ]
  },
  {
   "cell_type": "code",
   "execution_count": 19,
   "id": "c588e8a8",
   "metadata": {},
   "outputs": [],
   "source": [
    "#interact manual jest przypisany do tego obiektu, przycisku, który widzisz\n",
    "#interact_manual(plotter)\n",
    "#bez manual by się samo - automatycznie, dynamicznie - zmieniało"
   ]
  },
  {
   "cell_type": "code",
   "execution_count": null,
   "id": "7ccde87c",
   "metadata": {},
   "outputs": [],
   "source": [
    " "
   ]
  },
  {
   "cell_type": "code",
   "execution_count": null,
   "id": "9b9cd807",
   "metadata": {},
   "outputs": [],
   "source": []
  },
  {
   "cell_type": "code",
   "execution_count": null,
   "id": "83836049",
   "metadata": {},
   "outputs": [],
   "source": []
  },
  {
   "cell_type": "code",
   "execution_count": null,
   "id": "17a9e376",
   "metadata": {},
   "outputs": [],
   "source": []
  },
  {
   "cell_type": "code",
   "execution_count": null,
   "id": "00918b6d",
   "metadata": {},
   "outputs": [],
   "source": []
  },
  {
   "cell_type": "code",
   "execution_count": null,
   "id": "457ab92a",
   "metadata": {},
   "outputs": [],
   "source": []
  }
 ],
 "metadata": {
  "kernelspec": {
   "display_name": "Python 3",
   "language": "python",
   "name": "python3"
  },
  "language_info": {
   "codemirror_mode": {
    "name": "ipython",
    "version": 3
   },
   "file_extension": ".py",
   "mimetype": "text/x-python",
   "name": "python",
   "nbconvert_exporter": "python",
   "pygments_lexer": "ipython3",
   "version": "3.7.10"
  }
 },
 "nbformat": 4,
 "nbformat_minor": 5
}
